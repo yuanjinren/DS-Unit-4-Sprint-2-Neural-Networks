{
  "nbformat": 4,
  "nbformat_minor": 0,
  "metadata": {
    "kernelspec": {
      "display_name": "U4-S2-NNF-DS10",
      "language": "python",
      "name": "u4-s2-nnf-ds10"
    },
    "language_info": {
      "codemirror_mode": {
        "name": "ipython",
        "version": 3
      },
      "file_extension": ".py",
      "mimetype": "text/x-python",
      "name": "python",
      "nbconvert_exporter": "python",
      "pygments_lexer": "ipython3",
      "version": "3.7.6"
    },
    "nteract": {
      "version": "0.23.3"
    },
    "colab": {
      "name": "YuanjinRen_LS_DS_Unit_4_Sprint_Challenge_2.ipynb",
      "provenance": [],
      "collapsed_sections": [],
      "include_colab_link": true
    }
  },
  "cells": [
    {
      "cell_type": "markdown",
      "metadata": {
        "id": "view-in-github",
        "colab_type": "text"
      },
      "source": [
        "<a href=\"https://colab.research.google.com/github/yuanjinren/DS-Unit-4-Sprint-2-Neural-Networks/blob/main/YuanjinRen_LS_DS_Unit_4_Sprint_Challenge_2.ipynb\" target=\"_parent\"><img src=\"https://colab.research.google.com/assets/colab-badge.svg\" alt=\"Open In Colab\"/></a>"
      ]
    },
    {
      "cell_type": "markdown",
      "metadata": {
        "id": "39fVLlIQJkxS"
      },
      "source": [
        "<img align=\"left\" src=\"https://lever-client-logos.s3.amazonaws.com/864372b1-534c-480e-acd5-9711f850815c-1524247202159.png\" width=200>\n",
        "<br></br>\n",
        "<br></br>\n",
        "\n",
        "## *Data Science Unit 4 Sprint 2*\n",
        "\n",
        "# Sprint Challenge - Neural Network Foundations\n",
        "\n",
        "Table of Problems\n",
        "\n",
        "1. [Defining Neural Networks](#Q1)\n",
        "2. [Simple Perceptron](#Q2)\n",
        "    - Perceptron\n",
        "    - Multilayer Perceptron\n",
        "    - Analyze and Compare\n",
        "4. [Keras MMP](#Q3)"
      ]
    },
    {
      "cell_type": "markdown",
      "metadata": {
        "id": "M_-o1ecZJkxT"
      },
      "source": [
        "<a id=\"Q1\"></a>\n",
        "## 1. Defining Neural Networks \n",
        "\n",
        "Write *your own* definitions for the following terms:\n",
        "\n",
        "- **Neuron:**\n",
        "Neuron is the basic component of the neural network. They are highly interconnected elements which are organized in layers which process information using dynamic state responses to external inputs.\n",
        "- **Input Layer:**\n",
        "It is the starting point of the neural network, which would communicate to hidden layers. Nodes in input layer are passive since they don't change the data. Their job is receiving value and then sending to the next hidden layer. \n",
        "- **Hidden Layer:**\n",
        "Hidden layer(s) are layers between input layer and output layer. All mathematical operations are executed in hidden layers. Hidden layers make the neural networks as superior to machine learning algorithms.\n",
        "- **Output Layer:**\n",
        "Output layer is the last layer of the neural network. It produces the final output results. The output layer takes the inputs which are passed in from the layers before it, and performs the calculations through its neurons and then the output is computed.\n",
        "- **Activation Function:**\n",
        "Activation functions are a crucial component of deep learning. They are used to determine the firing of neurons in a neural network. They are different types of activation functions in different neural network, basically, can be divided into linear activation function and non-linear activation function. "
      ]
    },
    {
      "cell_type": "markdown",
      "metadata": {
        "id": "is7J8ZxOJkxU"
      },
      "source": [
        "Explain how back propagation works as if you were explaining it to a five year-old. Use your own words, but feel free to reference external materials for this question. "
      ]
    },
    {
      "cell_type": "markdown",
      "metadata": {
        "id": "PkSVM-cnPiIA"
      },
      "source": [
        "To understand back propagation, we need to know forward propagation first. In a neural network, the input data is fed in the forward direction through the network through input layer and hidden layers. There are several nodes in different layers. For each node in each layer, we need to give it a weight to help it do the calculation. Each hidden layer accepts the input data, processes it as per the weights and activation function, and then passes to the next layer. This process is called forward propagation. \n",
        "\n",
        "If we compare the result to our expected output, we will discover that our prediction is incorrect. Since we want to find the absolute best weight values that would help calculate the correct output based on any given input, we need to first calculate an error value using an error function, which should be minimized. This whole process of going back to track through the network is called back propagation. Gradient descent method is normally used to find out the minimum value of error function. This back propagation algorithm also can be treated as a training process. "
      ]
    },
    {
      "cell_type": "markdown",
      "metadata": {
        "id": "nS5HPS9LJkxa"
      },
      "source": [
        "Remember our Simple Perceptron Class from Monday. In a simple prediction describe the process of making a prediction. How do you go from inputs to predicted output."
      ]
    },
    {
      "cell_type": "markdown",
      "metadata": {
        "id": "5ikiO7-yRuQk"
      },
      "source": [
        "![image.png](data:image/png;base64,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)"
      ]
    },
    {
      "cell_type": "markdown",
      "metadata": {
        "id": "UrO6fX_MSvTm"
      },
      "source": [
        "The above picture is a simple perceptron. X1, x2, x3 are inputs, w1, w2 and w3 are weights, ![image.png](data:image/png;base64,iVBORw0KGgoAAAANSUhEUgAAAdQAAAAoCAYAAABHAAu6AAAEq0lEQVR4Ae3dX6gVRRzA8a//Lc0UwVBSVAgpUHxRyyJCQyjC/z2IVhD0IBE9iD4IPQRipEYUhH8L7EGyh9AX/+A/IlIqyKIgiiJNpBS1KLAHjeQHc7nDer1393C8nHW/A8OZ3flzZj8cGHb3zAwYFFBAAQUUUEABBRSokcAkYBvwQYoja9R3u6qAAgoooEDHCMwAVqTenAKe7pie2REFFFBAAQVqJnAf8BJwELinZn23uwoooIACCnSMwHTgDeAH4IGO6ZUdUUABBRRQoEYC44GIEfYBq1PaDwUUUEABBRSoIPAM8CWwGfgsG1wrNGFRBRRQQAEFFAiBQcAIKRRQQAEFFFBAAQUUUEABBRToN4G4Ex3SQox6BgUUUEABBRRIAh8C/6f4G9BbPJeV3aWgAgoooIACCnQLTAaupIFyVffpW6YeBS4ADqi3JDJDAQUUUKCpAovTgPpPyTmn2x1Qm/pT8boVUEABBfoSeDsNql8Dw/oo/Aiwso8yZiuggAIKKNBIgaFp7mm8T323kQJetAIKKKCAAm0SmAL8me5UF7WpTZtRQAEFFFCgkQJL0oB6GZjYSAEvWgEFFFBAgTYJvJMG1Vh20PmmbUK1GQUUUECB5gnE+9Sv0qC6oXmX7xUroIACCijQPoGpwF/Af8C8ks2+DnyRHhXPAWJz8tgGLg+vAseyO98dwGzgLmAvsDEvbFoBBRRQQIE7QWBZuks9WeJiJgDLgUNpUPwceBG4u1A33svGP4nHAaOBa8DzqcwR4JVCeQ8VUEABBRSovcAYIP6c9FqFK1kD/A1My+qMBR5PxwOB68CDwFrgV2AdEGUiHXeqEfI66ZQfCiiggAIK1FPgE+A4EINg2bAFOFso/ASwPjt3HlgIfJoG67eAncBzWZlinSzLpAIKKKCAAvUReBm4WGFz8XiUuwLYCvwLxBrBDwP3p0fAM7JLjz88/QIsSI+FfwIOZPk91cmyTSqggAIKKFAPgZnAVeCpCt09DZxIyxbuB34Glqb63wIPZW1F/kfpOL7jEhDvYPNQrJPnmVZAAQUUUKDjBUYCPwKbK/Z0FDAg1Ym5q8NTOj5jd5quvDh9b7ZecOzFGsd56KlOnm9aAQUUUECBjhfYnaa+xEDXjjAXONzDv317a7uVOr21Z54CCiiggAL9KvBCmnsaa/q2KzwGnAE2VWiwlToVmreoAgoooIACt08gprnEfqjPlviKeCzcNXe0RHFGlClUKNNKnUITHiqggAIKKNC/AvHO8htgW8mvfTLddZYsbjEFFFBAAQWaIfAe8F22qEJvVx3vVvcAsRG5QQEFFFBAAQWSQExtiaUAfwdi6ktf8Y9U/qiCCiiggAIKKNAtEKsaxYBaNX7c3YQpBRRQQAEFFIit2lqJg6VTQAEFFFBAgZsFXIz+ZhPPKKCAAgooUFmg7GL0seXam8Csyt9gBQUUUEABBe5wgbKL0cd6u7Eh+PdATJ0xKKCAAgoooEBBoGsx+lilKDYUz+PeQtl9wPzCOQ8VUEABBRRovEC+GH382SgWus9jcdUiB9TG/2QEUEABBRToSSBfjD72MD1UiO8XKsWA6iPfAoqHCtRF4AYQ8KIbsW49gwAAAABJRU5ErkJggg==)is computation occurs in neuron, and y is the final output. "
      ]
    },
    {
      "cell_type": "markdown",
      "metadata": {
        "id": "0UQnlcIITw92"
      },
      "source": [
        "First, take the inputs from the input layer, and use the value of each node times each weight. Secondly, these input-weight products are summed and then the sum is passed through a node’s so-called activation function, to determine whether and to what extent that signal should progress further through the network. The result we get after activation function calculation is the final output y.  "
      ]
    },
    {
      "cell_type": "markdown",
      "metadata": {
        "id": "fL0XumFYJkxd"
      },
      "source": [
        "<a id=\"Q2\"></a>\n",
        "## 2. Simple Perceptron\n",
        "\n",
        "In this question, you will build two neural networks using Tensorflow Keras. After you build these two models, compare the results of the model."
      ]
    },
    {
      "cell_type": "code",
      "metadata": {
        "id": "hjswX8diJkxe"
      },
      "source": [
        "\"\"\"\n",
        "Our Dataset\n",
        "\"\"\"\n",
        "import numpy as np\n",
        "\n",
        "xx, yy = np.meshgrid(np.linspace(-3, 3, 50),\n",
        "                     np.linspace(-3, 3, 50))\n",
        "rng = np.random.RandomState(0)\n",
        "\n",
        "\"Use this X & y in the following 2 models\"\n",
        "X = rng.randn(300, 2)\n",
        "y = np.array(np.logical_xor(X[:, 0] > 0, X[:, 1] > 0), \n",
        "             dtype=int)"
      ],
      "execution_count": 24,
      "outputs": []
    },
    {
      "cell_type": "code",
      "metadata": {
        "id": "JZvOG3qpXE6_",
        "outputId": "12324d9f-e176-4b4e-90bf-7c37696f286f",
        "colab": {
          "base_uri": "https://localhost:8080/",
          "height": 34
        }
      },
      "source": [
        "X.shape, y.shape"
      ],
      "execution_count": 9,
      "outputs": [
        {
          "output_type": "execute_result",
          "data": {
            "text/plain": [
              "((300, 2), (300,))"
            ]
          },
          "metadata": {
            "tags": []
          },
          "execution_count": 9
        }
      ]
    },
    {
      "cell_type": "markdown",
      "metadata": {
        "id": "0G6-YD8mJkxh"
      },
      "source": [
        "### Simple Perceptron\n",
        "Construct a simple perceptron using Keras. You model should have 1 dense layer with a single neuron and a sigmoid activation function. Your model should be called `model1` and make sure to save the results of your fit statement to a variable called `h1`. "
      ]
    },
    {
      "cell_type": "code",
      "metadata": {
        "id": "4Fzn9tI-Jkxh",
        "outputId": "79237e89-d4f3-407d-eb56-14e6b648421c",
        "colab": {
          "base_uri": "https://localhost:8080/",
          "height": 1000
        }
      },
      "source": [
        "from tensorflow.keras.models import Sequential\n",
        "from tensorflow.keras.layers import Dense\n",
        "import pandas as pd\n",
        "import numpy as np\n",
        "\n",
        "\n",
        "# Instantiating Model\n",
        "model1 = Sequential([\n",
        "    Dense(3, activation=\"sigmoid\", input_dim=2),\n",
        "    Dense(1, activation=\"sigmoid\")\n",
        "])\n",
        "\n",
        "# Compile\n",
        "model1.compile(optimizer=\"sgd\", loss=\"binary_crossentropy\", metrics=[\"accuracy\"])\n",
        "\n",
        "# Fitting and Results\n",
        "h1 = model1.fit(X, y, epochs=100, batch_size=10)\n",
        "\n",
        "# Scores\n",
        "scores = model1.evaluate(X, y)\n",
        "print(f\"{model1.metrics_names[1]}: {scores[1]}\")"
      ],
      "execution_count": 10,
      "outputs": [
        {
          "output_type": "stream",
          "text": [
            "Epoch 1/100\n",
            "30/30 [==============================] - 0s 964us/step - loss: 0.7447 - accuracy: 0.4733\n",
            "Epoch 2/100\n",
            "30/30 [==============================] - 0s 917us/step - loss: 0.7338 - accuracy: 0.4733\n",
            "Epoch 3/100\n",
            "30/30 [==============================] - 0s 951us/step - loss: 0.7254 - accuracy: 0.4733\n",
            "Epoch 4/100\n",
            "30/30 [==============================] - 0s 1ms/step - loss: 0.7188 - accuracy: 0.4733\n",
            "Epoch 5/100\n",
            "30/30 [==============================] - 0s 985us/step - loss: 0.7138 - accuracy: 0.4600\n",
            "Epoch 6/100\n",
            "30/30 [==============================] - 0s 1ms/step - loss: 0.7098 - accuracy: 0.4533\n",
            "Epoch 7/100\n",
            "30/30 [==============================] - 0s 944us/step - loss: 0.7067 - accuracy: 0.4200\n",
            "Epoch 8/100\n",
            "30/30 [==============================] - 0s 967us/step - loss: 0.7044 - accuracy: 0.4033\n",
            "Epoch 9/100\n",
            "30/30 [==============================] - 0s 941us/step - loss: 0.7026 - accuracy: 0.4000\n",
            "Epoch 10/100\n",
            "30/30 [==============================] - 0s 976us/step - loss: 0.7010 - accuracy: 0.3900\n",
            "Epoch 11/100\n",
            "30/30 [==============================] - 0s 921us/step - loss: 0.7001 - accuracy: 0.4033\n",
            "Epoch 12/100\n",
            "30/30 [==============================] - 0s 921us/step - loss: 0.6990 - accuracy: 0.4367\n",
            "Epoch 13/100\n",
            "30/30 [==============================] - 0s 863us/step - loss: 0.6983 - accuracy: 0.4567\n",
            "Epoch 14/100\n",
            "30/30 [==============================] - 0s 981us/step - loss: 0.6978 - accuracy: 0.4967\n",
            "Epoch 15/100\n",
            "30/30 [==============================] - 0s 977us/step - loss: 0.6973 - accuracy: 0.5233\n",
            "Epoch 16/100\n",
            "30/30 [==============================] - 0s 994us/step - loss: 0.6970 - accuracy: 0.5467\n",
            "Epoch 17/100\n",
            "30/30 [==============================] - 0s 1ms/step - loss: 0.6967 - accuracy: 0.5533\n",
            "Epoch 18/100\n",
            "30/30 [==============================] - 0s 1ms/step - loss: 0.6965 - accuracy: 0.5667\n",
            "Epoch 19/100\n",
            "30/30 [==============================] - 0s 1ms/step - loss: 0.6963 - accuracy: 0.5733\n",
            "Epoch 20/100\n",
            "30/30 [==============================] - 0s 1ms/step - loss: 0.6960 - accuracy: 0.5633\n",
            "Epoch 21/100\n",
            "30/30 [==============================] - 0s 1ms/step - loss: 0.6960 - accuracy: 0.5600\n",
            "Epoch 22/100\n",
            "30/30 [==============================] - 0s 1ms/step - loss: 0.6957 - accuracy: 0.5767\n",
            "Epoch 23/100\n",
            "30/30 [==============================] - 0s 953us/step - loss: 0.6956 - accuracy: 0.5767\n",
            "Epoch 24/100\n",
            "30/30 [==============================] - 0s 923us/step - loss: 0.6955 - accuracy: 0.5633\n",
            "Epoch 25/100\n",
            "30/30 [==============================] - 0s 1ms/step - loss: 0.6953 - accuracy: 0.5500\n",
            "Epoch 26/100\n",
            "30/30 [==============================] - 0s 981us/step - loss: 0.6953 - accuracy: 0.5567\n",
            "Epoch 27/100\n",
            "30/30 [==============================] - 0s 1ms/step - loss: 0.6953 - accuracy: 0.5467\n",
            "Epoch 28/100\n",
            "30/30 [==============================] - 0s 963us/step - loss: 0.6951 - accuracy: 0.5367\n",
            "Epoch 29/100\n",
            "30/30 [==============================] - 0s 1ms/step - loss: 0.6951 - accuracy: 0.5300\n",
            "Epoch 30/100\n",
            "30/30 [==============================] - 0s 1ms/step - loss: 0.6951 - accuracy: 0.5367\n",
            "Epoch 31/100\n",
            "30/30 [==============================] - 0s 981us/step - loss: 0.6950 - accuracy: 0.5300\n",
            "Epoch 32/100\n",
            "30/30 [==============================] - 0s 1ms/step - loss: 0.6948 - accuracy: 0.5300\n",
            "Epoch 33/100\n",
            "30/30 [==============================] - 0s 1ms/step - loss: 0.6948 - accuracy: 0.5300\n",
            "Epoch 34/100\n",
            "30/30 [==============================] - 0s 1ms/step - loss: 0.6947 - accuracy: 0.5233\n",
            "Epoch 35/100\n",
            "30/30 [==============================] - 0s 907us/step - loss: 0.6947 - accuracy: 0.5300\n",
            "Epoch 36/100\n",
            "30/30 [==============================] - 0s 986us/step - loss: 0.6945 - accuracy: 0.5267\n",
            "Epoch 37/100\n",
            "30/30 [==============================] - 0s 951us/step - loss: 0.6946 - accuracy: 0.5267\n",
            "Epoch 38/100\n",
            "30/30 [==============================] - 0s 993us/step - loss: 0.6946 - accuracy: 0.5267\n",
            "Epoch 39/100\n",
            "30/30 [==============================] - 0s 998us/step - loss: 0.6944 - accuracy: 0.5267\n",
            "Epoch 40/100\n",
            "30/30 [==============================] - 0s 913us/step - loss: 0.6944 - accuracy: 0.5267\n",
            "Epoch 41/100\n",
            "30/30 [==============================] - 0s 1ms/step - loss: 0.6943 - accuracy: 0.5333\n",
            "Epoch 42/100\n",
            "30/30 [==============================] - 0s 986us/step - loss: 0.6943 - accuracy: 0.5200\n",
            "Epoch 43/100\n",
            "30/30 [==============================] - 0s 921us/step - loss: 0.6942 - accuracy: 0.5267\n",
            "Epoch 44/100\n",
            "30/30 [==============================] - 0s 960us/step - loss: 0.6941 - accuracy: 0.5300\n",
            "Epoch 45/100\n",
            "30/30 [==============================] - 0s 840us/step - loss: 0.6941 - accuracy: 0.5300\n",
            "Epoch 46/100\n",
            "30/30 [==============================] - 0s 1ms/step - loss: 0.6940 - accuracy: 0.5300\n",
            "Epoch 47/100\n",
            "30/30 [==============================] - 0s 927us/step - loss: 0.6940 - accuracy: 0.5233\n",
            "Epoch 48/100\n",
            "30/30 [==============================] - 0s 936us/step - loss: 0.6939 - accuracy: 0.5233\n",
            "Epoch 49/100\n",
            "30/30 [==============================] - 0s 908us/step - loss: 0.6938 - accuracy: 0.5267\n",
            "Epoch 50/100\n",
            "30/30 [==============================] - 0s 948us/step - loss: 0.6938 - accuracy: 0.5233\n",
            "Epoch 51/100\n",
            "30/30 [==============================] - 0s 955us/step - loss: 0.6937 - accuracy: 0.5300\n",
            "Epoch 52/100\n",
            "30/30 [==============================] - 0s 1ms/step - loss: 0.6938 - accuracy: 0.5267\n",
            "Epoch 53/100\n",
            "30/30 [==============================] - 0s 958us/step - loss: 0.6936 - accuracy: 0.5200\n",
            "Epoch 54/100\n",
            "30/30 [==============================] - 0s 929us/step - loss: 0.6937 - accuracy: 0.5233\n",
            "Epoch 55/100\n",
            "30/30 [==============================] - 0s 920us/step - loss: 0.6935 - accuracy: 0.5233\n",
            "Epoch 56/100\n",
            "30/30 [==============================] - 0s 885us/step - loss: 0.6935 - accuracy: 0.5233\n",
            "Epoch 57/100\n",
            "30/30 [==============================] - 0s 935us/step - loss: 0.6935 - accuracy: 0.5200\n",
            "Epoch 58/100\n",
            "30/30 [==============================] - 0s 855us/step - loss: 0.6934 - accuracy: 0.5267\n",
            "Epoch 59/100\n",
            "30/30 [==============================] - 0s 923us/step - loss: 0.6933 - accuracy: 0.5233\n",
            "Epoch 60/100\n",
            "30/30 [==============================] - 0s 1ms/step - loss: 0.6932 - accuracy: 0.5233\n",
            "Epoch 61/100\n",
            "30/30 [==============================] - 0s 998us/step - loss: 0.6931 - accuracy: 0.5267\n",
            "Epoch 62/100\n",
            "30/30 [==============================] - 0s 1ms/step - loss: 0.6931 - accuracy: 0.5233\n",
            "Epoch 63/100\n",
            "30/30 [==============================] - 0s 959us/step - loss: 0.6931 - accuracy: 0.5267\n",
            "Epoch 64/100\n",
            "30/30 [==============================] - 0s 1ms/step - loss: 0.6931 - accuracy: 0.5300\n",
            "Epoch 65/100\n",
            "30/30 [==============================] - 0s 968us/step - loss: 0.6931 - accuracy: 0.5267\n",
            "Epoch 66/100\n",
            "30/30 [==============================] - 0s 894us/step - loss: 0.6930 - accuracy: 0.5267\n",
            "Epoch 67/100\n",
            "30/30 [==============================] - 0s 953us/step - loss: 0.6930 - accuracy: 0.5267\n",
            "Epoch 68/100\n",
            "30/30 [==============================] - 0s 930us/step - loss: 0.6929 - accuracy: 0.5267\n",
            "Epoch 69/100\n",
            "30/30 [==============================] - 0s 927us/step - loss: 0.6930 - accuracy: 0.5267\n",
            "Epoch 70/100\n",
            "30/30 [==============================] - 0s 978us/step - loss: 0.6929 - accuracy: 0.5233\n",
            "Epoch 71/100\n",
            "30/30 [==============================] - 0s 983us/step - loss: 0.6928 - accuracy: 0.5267\n",
            "Epoch 72/100\n",
            "30/30 [==============================] - 0s 1ms/step - loss: 0.6927 - accuracy: 0.5267\n",
            "Epoch 73/100\n",
            "30/30 [==============================] - 0s 904us/step - loss: 0.6927 - accuracy: 0.5267\n",
            "Epoch 74/100\n",
            "30/30 [==============================] - 0s 974us/step - loss: 0.6927 - accuracy: 0.5267\n",
            "Epoch 75/100\n",
            "30/30 [==============================] - 0s 950us/step - loss: 0.6927 - accuracy: 0.5267\n",
            "Epoch 76/100\n",
            "30/30 [==============================] - 0s 853us/step - loss: 0.6925 - accuracy: 0.5267\n",
            "Epoch 77/100\n",
            "30/30 [==============================] - 0s 978us/step - loss: 0.6925 - accuracy: 0.5267\n",
            "Epoch 78/100\n",
            "30/30 [==============================] - 0s 974us/step - loss: 0.6926 - accuracy: 0.5267\n",
            "Epoch 79/100\n",
            "30/30 [==============================] - 0s 987us/step - loss: 0.6924 - accuracy: 0.5267\n",
            "Epoch 80/100\n",
            "30/30 [==============================] - 0s 933us/step - loss: 0.6924 - accuracy: 0.5267\n",
            "Epoch 81/100\n",
            "30/30 [==============================] - 0s 979us/step - loss: 0.6924 - accuracy: 0.5267\n",
            "Epoch 82/100\n",
            "30/30 [==============================] - 0s 898us/step - loss: 0.6923 - accuracy: 0.5267\n",
            "Epoch 83/100\n",
            "30/30 [==============================] - 0s 975us/step - loss: 0.6923 - accuracy: 0.5267\n",
            "Epoch 84/100\n",
            "30/30 [==============================] - 0s 983us/step - loss: 0.6923 - accuracy: 0.5267\n",
            "Epoch 85/100\n",
            "30/30 [==============================] - 0s 1ms/step - loss: 0.6922 - accuracy: 0.5267\n",
            "Epoch 86/100\n",
            "30/30 [==============================] - 0s 920us/step - loss: 0.6921 - accuracy: 0.5267\n",
            "Epoch 87/100\n",
            "30/30 [==============================] - 0s 923us/step - loss: 0.6921 - accuracy: 0.5267\n",
            "Epoch 88/100\n",
            "30/30 [==============================] - 0s 888us/step - loss: 0.6923 - accuracy: 0.5267\n",
            "Epoch 89/100\n",
            "30/30 [==============================] - 0s 946us/step - loss: 0.6920 - accuracy: 0.5267\n",
            "Epoch 90/100\n",
            "30/30 [==============================] - 0s 912us/step - loss: 0.6920 - accuracy: 0.5267\n",
            "Epoch 91/100\n",
            "30/30 [==============================] - 0s 932us/step - loss: 0.6920 - accuracy: 0.5267\n",
            "Epoch 92/100\n",
            "30/30 [==============================] - 0s 1ms/step - loss: 0.6919 - accuracy: 0.5267\n",
            "Epoch 93/100\n",
            "30/30 [==============================] - 0s 899us/step - loss: 0.6920 - accuracy: 0.5267\n",
            "Epoch 94/100\n",
            "30/30 [==============================] - 0s 871us/step - loss: 0.6919 - accuracy: 0.5267\n",
            "Epoch 95/100\n",
            "30/30 [==============================] - 0s 941us/step - loss: 0.6918 - accuracy: 0.5267\n",
            "Epoch 96/100\n",
            "30/30 [==============================] - 0s 859us/step - loss: 0.6918 - accuracy: 0.5267\n",
            "Epoch 97/100\n",
            "30/30 [==============================] - 0s 866us/step - loss: 0.6917 - accuracy: 0.5267\n",
            "Epoch 98/100\n",
            "30/30 [==============================] - 0s 816us/step - loss: 0.6917 - accuracy: 0.5267\n",
            "Epoch 99/100\n",
            "30/30 [==============================] - 0s 952us/step - loss: 0.6917 - accuracy: 0.5267\n",
            "Epoch 100/100\n",
            "30/30 [==============================] - 0s 1ms/step - loss: 0.6917 - accuracy: 0.5267\n",
            "10/10 [==============================] - 0s 1ms/step - loss: 0.6914 - accuracy: 0.5267\n",
            "accuracy: 0.5266666412353516\n"
          ],
          "name": "stdout"
        }
      ]
    },
    {
      "cell_type": "markdown",
      "metadata": {
        "id": "gvrCXEPBJkxk"
      },
      "source": [
        "### Multi-Layer Perceptron\n",
        "Now construct a multi-layer perceptron using. Here are some architecture suggestions: \n",
        "- 2 Hidden Layers\n",
        "- 5-32 Neurons in the Hidden Layers\n",
        "- Your pick of activation function and optimizer\n",
        "- Incorporate the Callback function below into your model\n",
        "\n",
        "Your model should be called `model2` and make sure to save the results of your fit statement to a variable called `h2`. "
      ]
    },
    {
      "cell_type": "code",
      "metadata": {
        "id": "kH6zgASmZkMb"
      },
      "source": [
        "from keras.optimizers import Adam, SGD"
      ],
      "execution_count": 13,
      "outputs": []
    },
    {
      "cell_type": "code",
      "metadata": {
        "id": "atU_1rRRJkxk"
      },
      "source": [
        "import tensorflow as tf\n",
        "\n",
        "class myCallback(tf.keras.callbacks.Callback): \n",
        "    def on_epoch_end(self, epoch, logs={}): \n",
        "        if(logs.get('accuracy') > .99999):   \n",
        "            self.model.stop_training = True"
      ],
      "execution_count": 25,
      "outputs": []
    },
    {
      "cell_type": "code",
      "metadata": {
        "id": "hAwR8R2PJkxn",
        "outputId": "495f305b-e73a-4bf5-9e99-f1bafd66535f",
        "colab": {
          "base_uri": "https://localhost:8080/",
          "height": 867
        }
      },
      "source": [
        "mycallback = myCallback()\n",
        "model2 = Sequential([\n",
        "    Dense(32, activation=\"relu\", input_dim=2),\n",
        "    Dense(32, activation='relu'),\n",
        "    Dense(1, activation=\"sigmoid\")\n",
        "])\n",
        "opt = Adam(learning_rate=0.001)\n",
        "# Compile\n",
        "model2.compile(optimizer=opt, \n",
        "               loss=\"binary_crossentropy\", \n",
        "               metrics=[\"accuracy\"]\n",
        "               )\n",
        "\n",
        "# Fitting and Results\n",
        "h2 = model2.fit(X, y, epochs=100, batch_size=10, callbacks=[mycallback])\n",
        "scores = model2.evaluate(X, y)\n",
        "print(f\"{model2.metrics_names[1]}: {scores[1]}\")"
      ],
      "execution_count": 36,
      "outputs": [
        {
          "output_type": "stream",
          "text": [
            "Epoch 1/100\n",
            "30/30 [==============================] - 0s 1ms/step - loss: 0.6598 - accuracy: 0.6733\n",
            "Epoch 2/100\n",
            "30/30 [==============================] - 0s 1ms/step - loss: 0.6016 - accuracy: 0.7900\n",
            "Epoch 3/100\n",
            "30/30 [==============================] - 0s 1ms/step - loss: 0.5543 - accuracy: 0.8200\n",
            "Epoch 4/100\n",
            "30/30 [==============================] - 0s 1ms/step - loss: 0.5053 - accuracy: 0.8567\n",
            "Epoch 5/100\n",
            "30/30 [==============================] - 0s 1ms/step - loss: 0.4532 - accuracy: 0.8967\n",
            "Epoch 6/100\n",
            "30/30 [==============================] - 0s 1ms/step - loss: 0.4010 - accuracy: 0.9400\n",
            "Epoch 7/100\n",
            "30/30 [==============================] - 0s 1ms/step - loss: 0.3494 - accuracy: 0.9600\n",
            "Epoch 8/100\n",
            "30/30 [==============================] - 0s 1ms/step - loss: 0.3059 - accuracy: 0.9700\n",
            "Epoch 9/100\n",
            "30/30 [==============================] - 0s 1ms/step - loss: 0.2701 - accuracy: 0.9767\n",
            "Epoch 10/100\n",
            "30/30 [==============================] - 0s 1ms/step - loss: 0.2386 - accuracy: 0.9800\n",
            "Epoch 11/100\n",
            "30/30 [==============================] - 0s 1ms/step - loss: 0.2175 - accuracy: 0.9800\n",
            "Epoch 12/100\n",
            "30/30 [==============================] - 0s 1ms/step - loss: 0.1958 - accuracy: 0.9667\n",
            "Epoch 13/100\n",
            "30/30 [==============================] - 0s 1ms/step - loss: 0.1788 - accuracy: 0.9767\n",
            "Epoch 14/100\n",
            "30/30 [==============================] - 0s 1ms/step - loss: 0.1656 - accuracy: 0.9767\n",
            "Epoch 15/100\n",
            "30/30 [==============================] - 0s 1ms/step - loss: 0.1543 - accuracy: 0.9767\n",
            "Epoch 16/100\n",
            "30/30 [==============================] - 0s 1ms/step - loss: 0.1433 - accuracy: 0.9833\n",
            "Epoch 17/100\n",
            "30/30 [==============================] - 0s 1ms/step - loss: 0.1344 - accuracy: 0.9833\n",
            "Epoch 18/100\n",
            "30/30 [==============================] - 0s 1ms/step - loss: 0.1281 - accuracy: 0.9833\n",
            "Epoch 19/100\n",
            "30/30 [==============================] - 0s 1ms/step - loss: 0.1198 - accuracy: 0.9833\n",
            "Epoch 20/100\n",
            "30/30 [==============================] - 0s 1ms/step - loss: 0.1152 - accuracy: 0.9900\n",
            "Epoch 21/100\n",
            "30/30 [==============================] - 0s 1ms/step - loss: 0.1108 - accuracy: 0.9900\n",
            "Epoch 22/100\n",
            "30/30 [==============================] - 0s 1ms/step - loss: 0.1056 - accuracy: 0.9933\n",
            "Epoch 23/100\n",
            "30/30 [==============================] - 0s 1ms/step - loss: 0.1003 - accuracy: 0.9833\n",
            "Epoch 24/100\n",
            "30/30 [==============================] - 0s 1ms/step - loss: 0.0968 - accuracy: 1.0000\n",
            "10/10 [==============================] - 0s 1ms/step - loss: 0.0917 - accuracy: 0.9933\n",
            "accuracy: 0.9933333396911621\n"
          ],
          "name": "stdout"
        }
      ]
    },
    {
      "cell_type": "markdown",
      "metadata": {
        "id": "VtNbhpQ2Jkxq"
      },
      "source": [
        "### Analyze and Compare\n",
        "\n",
        "**Before you Start**: You will need to install an additional library for this next segment. Install the package `mlxtend` into the environment you are using for the sprint challenge.\n",
        "\n",
        "\n",
        "The cells below generate decision boundary plots of your models (`model1` & `model2`). Review the plots."
      ]
    },
    {
      "cell_type": "code",
      "metadata": {
        "id": "sPH3uDStdEWD",
        "outputId": "c20d86fb-b7c3-4785-ccd5-eddef1e6bbe9",
        "colab": {
          "base_uri": "https://localhost:8080/",
          "height": 275
        }
      },
      "source": [
        "!pip install mlxtend"
      ],
      "execution_count": 32,
      "outputs": [
        {
          "output_type": "stream",
          "text": [
            "Requirement already satisfied: mlxtend in /usr/local/lib/python3.6/dist-packages (0.14.0)\n",
            "Requirement already satisfied: pandas>=0.17.1 in /usr/local/lib/python3.6/dist-packages (from mlxtend) (1.0.5)\n",
            "Requirement already satisfied: matplotlib>=1.5.1 in /usr/local/lib/python3.6/dist-packages (from mlxtend) (3.2.2)\n",
            "Requirement already satisfied: setuptools in /usr/local/lib/python3.6/dist-packages (from mlxtend) (50.3.0)\n",
            "Requirement already satisfied: scipy>=0.17 in /usr/local/lib/python3.6/dist-packages (from mlxtend) (1.4.1)\n",
            "Requirement already satisfied: scikit-learn>=0.18 in /usr/local/lib/python3.6/dist-packages (from mlxtend) (0.22.2.post1)\n",
            "Requirement already satisfied: numpy>=1.10.4 in /usr/local/lib/python3.6/dist-packages (from mlxtend) (1.18.5)\n",
            "Requirement already satisfied: python-dateutil>=2.6.1 in /usr/local/lib/python3.6/dist-packages (from pandas>=0.17.1->mlxtend) (2.8.1)\n",
            "Requirement already satisfied: pytz>=2017.2 in /usr/local/lib/python3.6/dist-packages (from pandas>=0.17.1->mlxtend) (2018.9)\n",
            "Requirement already satisfied: pyparsing!=2.0.4,!=2.1.2,!=2.1.6,>=2.0.1 in /usr/local/lib/python3.6/dist-packages (from matplotlib>=1.5.1->mlxtend) (2.4.7)\n",
            "Requirement already satisfied: kiwisolver>=1.0.1 in /usr/local/lib/python3.6/dist-packages (from matplotlib>=1.5.1->mlxtend) (1.2.0)\n",
            "Requirement already satisfied: cycler>=0.10 in /usr/local/lib/python3.6/dist-packages (from matplotlib>=1.5.1->mlxtend) (0.10.0)\n",
            "Requirement already satisfied: joblib>=0.11 in /usr/local/lib/python3.6/dist-packages (from scikit-learn>=0.18->mlxtend) (0.16.0)\n",
            "Requirement already satisfied: six>=1.5 in /usr/local/lib/python3.6/dist-packages (from python-dateutil>=2.6.1->pandas>=0.17.1->mlxtend) (1.15.0)\n"
          ],
          "name": "stdout"
        }
      ]
    },
    {
      "cell_type": "code",
      "metadata": {
        "id": "Aj3jvLWIJkxr",
        "outputId": "fd8b29f0-0f28-4933-fddf-bd983e9644f1",
        "colab": {
          "base_uri": "https://localhost:8080/",
          "height": 444
        }
      },
      "source": [
        "# Do Not change anything in this cell\n",
        "\n",
        "import matplotlib.pyplot as plt\n",
        "from mlxtend.plotting import plot_decision_regions\n",
        "\n",
        "h = .02  # step size in the mesh\n",
        "\n",
        "# create a mesh to plot in\n",
        "x_min, x_max = X[:, 0].min() - .2, X[:, 0].max() + .2\n",
        "y_min, y_max = X[:, 1].min() - .2, X[:, 1].max() + .2\n",
        "xx, yy = np.meshgrid(np.arange(x_min, x_max, h),\n",
        "                     np.arange(y_min, y_max, h))\n",
        "\n",
        "fig = plt.figure(figsize=(12,6))\n",
        "\n",
        "\n",
        "for clf, hist, name, grd in zip([model1,model2], [h1, h2],['Perceptron', 'Multi-Layer Perceptron'],[1,2]):\n",
        "\n",
        "    ax = plt.subplot(1,2, grd)\n",
        "    fig = plot_decision_regions(X=X, y=y, clf=clf, legend=2)\n",
        "    title = f\"{name} with {hist.history['accuracy'][-1]:,.2f} Accuracy\"\n",
        "    plt.title(title)\n",
        "\n",
        "plt.show();"
      ],
      "execution_count": 38,
      "outputs": [
        {
          "output_type": "stream",
          "text": [
            "/usr/local/lib/python3.6/dist-packages/mlxtend/plotting/decision_regions.py:244: MatplotlibDeprecationWarning: Passing unsupported keyword arguments to axis() will raise a TypeError in 3.3.\n",
            "  ax.axis(xmin=xx.min(), xmax=xx.max(), y_min=yy.min(), y_max=yy.max())\n"
          ],
          "name": "stderr"
        },
        {
          "output_type": "display_data",
          "data": {
            "image/png": "[encoded data removed]",
            "text/plain": [
              "<Figure size 864x432 with 2 Axes>"
            ]
          },
          "metadata": {
            "tags": [],
            "needs_background": "light"
          }
        }
      ]
    },
    {
      "cell_type": "markdown",
      "metadata": {
        "id": "zLYzOgBUJkxu"
      },
      "source": [
        "Why does the Perceptron (`model1`) only achieve ~70% accuracy? What is the architectural property of the Multi-Layer Perceptron that allows it more accurately learn the relationship between X and y? \n",
        "\n",
        "Why might this property be useful in more complex data such as images?"
      ]
    },
    {
      "cell_type": "markdown",
      "metadata": {
        "id": "4gj3f5yVeC02"
      },
      "source": [
        "The added layers, and the ability to \"backpropagate\" account for why the score is so dramatically improved. A perceptron is limited to a feed-forward process, so it can't go back to implement back propagation (i.e. making adjustments on the error and the weights). The multilayer has better performance because it can \"learn\" from this error, which allows us to get these high accuracy scores in our predictions."
      ]
    },
    {
      "cell_type": "markdown",
      "metadata": {
        "id": "o3EYX_UzJkxw"
      },
      "source": [
        "## 3. Keras MMP <a id=\"Q3\"></a>\n",
        "\n",
        "Implement a Multilayer Perceptron architecture of your choosing using the Keras library. Train your model and report its baseline accuracy. Then hyperparameter tune at least two parameters and report your model's accuracy.\n",
        "Use the Heart Disease Dataset (binary classification)\n",
        "Use an appropriate loss function for a binary classification task\n",
        "Use an appropriate activation function on the final layer of your network.\n",
        "Train your model using verbose output for ease of grading.\n",
        "Use GridSearchCV or RandomSearchCV to hyperparameter tune your model. (for at least two hyperparameters)\n",
        "When hyperparameter tuning, show you work by adding code cells for each new experiment.\n",
        "Report the accuracy for each combination of hyperparameters as you test them so that we can easily see which resulted in the highest accuracy.\n",
        "You must hyperparameter tune at least 3 parameters in order to get a 3 on this section."
      ]
    },
    {
      "cell_type": "code",
      "metadata": {
        "inputHidden": false,
        "jupyter": {
          "outputs_hidden": false
        },
        "outputHidden": false,
        "id": "fURbttd1Jkxx",
        "outputId": "76169965-8a91-4938-9da5-e3637e890aae",
        "colab": {
          "base_uri": "https://localhost:8080/",
          "height": 221
        }
      },
      "source": [
        "import pandas as pd\n",
        "from sklearn.preprocessing import StandardScaler\n",
        "\n",
        "df = pd.read_csv('https://raw.githubusercontent.com/ryanleeallred/datasets/master/heart.csv')\n",
        "df = df.sample(frac=1)\n",
        "print(df.shape)\n",
        "df.head()"
      ],
      "execution_count": 39,
      "outputs": [
        {
          "output_type": "stream",
          "text": [
            "(303, 14)\n"
          ],
          "name": "stdout"
        },
        {
          "output_type": "execute_result",
          "data": {
            "text/html": [
              "<div>\n",
              "<style scoped>\n",
              "    .dataframe tbody tr th:only-of-type {\n",
              "        vertical-align: middle;\n",
              "    }\n",
              "\n",
              "    .dataframe tbody tr th {\n",
              "        vertical-align: top;\n",
              "    }\n",
              "\n",
              "    .dataframe thead th {\n",
              "        text-align: right;\n",
              "    }\n",
              "</style>\n",
              "<table border=\"1\" class=\"dataframe\">\n",
              "  <thead>\n",
              "    <tr style=\"text-align: right;\">\n",
              "      <th></th>\n",
              "      <th>age</th>\n",
              "      <th>sex</th>\n",
              "      <th>cp</th>\n",
              "      <th>trestbps</th>\n",
              "      <th>chol</th>\n",
              "      <th>fbs</th>\n",
              "      <th>restecg</th>\n",
              "      <th>thalach</th>\n",
              "      <th>exang</th>\n",
              "      <th>oldpeak</th>\n",
              "      <th>slope</th>\n",
              "      <th>ca</th>\n",
              "      <th>thal</th>\n",
              "      <th>target</th>\n",
              "    </tr>\n",
              "  </thead>\n",
              "  <tbody>\n",
              "    <tr>\n",
              "      <th>1</th>\n",
              "      <td>37</td>\n",
              "      <td>1</td>\n",
              "      <td>2</td>\n",
              "      <td>130</td>\n",
              "      <td>250</td>\n",
              "      <td>0</td>\n",
              "      <td>1</td>\n",
              "      <td>187</td>\n",
              "      <td>0</td>\n",
              "      <td>3.5</td>\n",
              "      <td>0</td>\n",
              "      <td>0</td>\n",
              "      <td>2</td>\n",
              "      <td>1</td>\n",
              "    </tr>\n",
              "    <tr>\n",
              "      <th>291</th>\n",
              "      <td>58</td>\n",
              "      <td>1</td>\n",
              "      <td>0</td>\n",
              "      <td>114</td>\n",
              "      <td>318</td>\n",
              "      <td>0</td>\n",
              "      <td>2</td>\n",
              "      <td>140</td>\n",
              "      <td>0</td>\n",
              "      <td>4.4</td>\n",
              "      <td>0</td>\n",
              "      <td>3</td>\n",
              "      <td>1</td>\n",
              "      <td>0</td>\n",
              "    </tr>\n",
              "    <tr>\n",
              "      <th>129</th>\n",
              "      <td>74</td>\n",
              "      <td>0</td>\n",
              "      <td>1</td>\n",
              "      <td>120</td>\n",
              "      <td>269</td>\n",
              "      <td>0</td>\n",
              "      <td>0</td>\n",
              "      <td>121</td>\n",
              "      <td>1</td>\n",
              "      <td>0.2</td>\n",
              "      <td>2</td>\n",
              "      <td>1</td>\n",
              "      <td>2</td>\n",
              "      <td>1</td>\n",
              "    </tr>\n",
              "    <tr>\n",
              "      <th>16</th>\n",
              "      <td>58</td>\n",
              "      <td>0</td>\n",
              "      <td>2</td>\n",
              "      <td>120</td>\n",
              "      <td>340</td>\n",
              "      <td>0</td>\n",
              "      <td>1</td>\n",
              "      <td>172</td>\n",
              "      <td>0</td>\n",
              "      <td>0.0</td>\n",
              "      <td>2</td>\n",
              "      <td>0</td>\n",
              "      <td>2</td>\n",
              "      <td>1</td>\n",
              "    </tr>\n",
              "    <tr>\n",
              "      <th>197</th>\n",
              "      <td>67</td>\n",
              "      <td>1</td>\n",
              "      <td>0</td>\n",
              "      <td>125</td>\n",
              "      <td>254</td>\n",
              "      <td>1</td>\n",
              "      <td>1</td>\n",
              "      <td>163</td>\n",
              "      <td>0</td>\n",
              "      <td>0.2</td>\n",
              "      <td>1</td>\n",
              "      <td>2</td>\n",
              "      <td>3</td>\n",
              "      <td>0</td>\n",
              "    </tr>\n",
              "  </tbody>\n",
              "</table>\n",
              "</div>"
            ],
            "text/plain": [
              "     age  sex  cp  trestbps  chol  fbs  ...  exang  oldpeak  slope  ca  thal  target\n",
              "1     37    1   2       130   250    0  ...      0      3.5      0   0     2       1\n",
              "291   58    1   0       114   318    0  ...      0      4.4      0   3     1       0\n",
              "129   74    0   1       120   269    0  ...      1      0.2      2   1     2       1\n",
              "16    58    0   2       120   340    0  ...      0      0.0      2   0     2       1\n",
              "197   67    1   0       125   254    1  ...      0      0.2      1   2     3       0\n",
              "\n",
              "[5 rows x 14 columns]"
            ]
          },
          "metadata": {
            "tags": []
          },
          "execution_count": 39
        }
      ]
    },
    {
      "cell_type": "markdown",
      "metadata": {
        "id": "spC4FENZe6Y7"
      },
      "source": [
        "# import packages"
      ]
    },
    {
      "cell_type": "code",
      "metadata": {
        "id": "k3B8FW2XJkx0"
      },
      "source": [
        "from sklearn.preprocessing import MinMaxScaler, Normalizer, OrdinalEncoder\n",
        "from sklearn.model_selection import train_test_split\n",
        "from sklearn.model_selection import RandomizedSearchCV, GridSearchCV\n",
        "from tensorflow.keras.wrappers.scikit_learn import KerasClassifier"
      ],
      "execution_count": 40,
      "outputs": []
    },
    {
      "cell_type": "markdown",
      "metadata": {
        "id": "owmQ6Skpe-Hm"
      },
      "source": [
        "# baseline model"
      ]
    },
    {
      "cell_type": "code",
      "metadata": {
        "id": "kPfhX33ofDuC"
      },
      "source": [
        "scaler = MinMaxScaler()\n",
        "df_transform = scaler.fit_transform(df)"
      ],
      "execution_count": 41,
      "outputs": []
    },
    {
      "cell_type": "code",
      "metadata": {
        "id": "Ijsp9Yb7hRvH",
        "outputId": "29c93d1d-7692-4622-82df-2e06b6508727",
        "colab": {
          "base_uri": "https://localhost:8080/",
          "height": 34
        }
      },
      "source": [
        "X_train, X_test, y_train, y_test = train_test_split(df_transform[:, :-1], df_transform[:, -1], \n",
        "test_size=0.20, random_state=42)\n",
        "\n",
        "print(X_train.shape, X_test.shape, y_train.shape, y_test.shape)"
      ],
      "execution_count": 44,
      "outputs": [
        {
          "output_type": "stream",
          "text": [
            "(242, 13) (61, 13) (242,) (61,)\n"
          ],
          "name": "stdout"
        }
      ]
    },
    {
      "cell_type": "code",
      "metadata": {
        "id": "bbASjqNMjlOf"
      },
      "source": [
        "def create_model():\n",
        "  opt = Adam(learning_rate=0.01)\n",
        "  model = Sequential([\n",
        "                      Dense(32, input_dim=13, activation='relu'),\n",
        "                      Dense(20, activation='relu'),\n",
        "                      Dense(1, activation='sigmoid')               \n",
        "  ])\n",
        "  model.compile(optimizer=opt,\n",
        "                loss='binary_crossentropy',\n",
        "                metrics=['accuracy'])\n",
        "  print(model.summary())\n",
        "  return model"
      ],
      "execution_count": 47,
      "outputs": []
    },
    {
      "cell_type": "code",
      "metadata": {
        "id": "D1jPEwkDkEyr",
        "outputId": "e91b14a5-360b-4e14-e2a6-ec50d6862faa",
        "colab": {
          "base_uri": "https://localhost:8080/",
          "height": 1000
        }
      },
      "source": [
        "baseline = create_model()\n",
        "baseline.fit(X_train, y_train, epochs=100, \n",
        "             batch_size=15,\n",
        "             validation_data=(X_test, y_test),\n",
        "             verbose=1,\n",
        "             callbacks = [mycallback])"
      ],
      "execution_count": 49,
      "outputs": [
        {
          "output_type": "stream",
          "text": [
            "Model: \"sequential_21\"\n",
            "_________________________________________________________________\n",
            "Layer (type)                 Output Shape              Param #   \n",
            "=================================================================\n",
            "dense_58 (Dense)             (None, 32)                448       \n",
            "_________________________________________________________________\n",
            "dense_59 (Dense)             (None, 20)                660       \n",
            "_________________________________________________________________\n",
            "dense_60 (Dense)             (None, 1)                 21        \n",
            "=================================================================\n",
            "Total params: 1,129\n",
            "Trainable params: 1,129\n",
            "Non-trainable params: 0\n",
            "_________________________________________________________________\n",
            "None\n",
            "Epoch 1/100\n",
            "17/17 [==============================] - 0s 9ms/step - loss: 0.6028 - accuracy: 0.7025 - val_loss: 0.5120 - val_accuracy: 0.7377\n",
            "Epoch 2/100\n",
            "17/17 [==============================] - 0s 2ms/step - loss: 0.4172 - accuracy: 0.8264 - val_loss: 0.4715 - val_accuracy: 0.7869\n",
            "Epoch 3/100\n",
            "17/17 [==============================] - 0s 2ms/step - loss: 0.3674 - accuracy: 0.8388 - val_loss: 0.4526 - val_accuracy: 0.8197\n",
            "Epoch 4/100\n",
            "17/17 [==============================] - 0s 2ms/step - loss: 0.3608 - accuracy: 0.8347 - val_loss: 0.5234 - val_accuracy: 0.7869\n",
            "Epoch 5/100\n",
            "17/17 [==============================] - 0s 2ms/step - loss: 0.3696 - accuracy: 0.8636 - val_loss: 0.5182 - val_accuracy: 0.7869\n",
            "Epoch 6/100\n",
            "17/17 [==============================] - 0s 2ms/step - loss: 0.3349 - accuracy: 0.8512 - val_loss: 0.4648 - val_accuracy: 0.8197\n",
            "Epoch 7/100\n",
            "17/17 [==============================] - 0s 2ms/step - loss: 0.3124 - accuracy: 0.8843 - val_loss: 0.4801 - val_accuracy: 0.8197\n",
            "Epoch 8/100\n",
            "17/17 [==============================] - 0s 2ms/step - loss: 0.3291 - accuracy: 0.8554 - val_loss: 0.4584 - val_accuracy: 0.8033\n",
            "Epoch 9/100\n",
            "17/17 [==============================] - 0s 3ms/step - loss: 0.3234 - accuracy: 0.8430 - val_loss: 0.4923 - val_accuracy: 0.8197\n",
            "Epoch 10/100\n",
            "17/17 [==============================] - 0s 2ms/step - loss: 0.2950 - accuracy: 0.8843 - val_loss: 0.5048 - val_accuracy: 0.8033\n",
            "Epoch 11/100\n",
            "17/17 [==============================] - 0s 3ms/step - loss: 0.3096 - accuracy: 0.8595 - val_loss: 0.5300 - val_accuracy: 0.7705\n",
            "Epoch 12/100\n",
            "17/17 [==============================] - 0s 3ms/step - loss: 0.3146 - accuracy: 0.8554 - val_loss: 0.5657 - val_accuracy: 0.7213\n",
            "Epoch 13/100\n",
            "17/17 [==============================] - 0s 3ms/step - loss: 0.2904 - accuracy: 0.8843 - val_loss: 0.4962 - val_accuracy: 0.7869\n",
            "Epoch 14/100\n",
            "17/17 [==============================] - 0s 2ms/step - loss: 0.2813 - accuracy: 0.8926 - val_loss: 0.4745 - val_accuracy: 0.8689\n",
            "Epoch 15/100\n",
            "17/17 [==============================] - 0s 2ms/step - loss: 0.2746 - accuracy: 0.8843 - val_loss: 0.5229 - val_accuracy: 0.7705\n",
            "Epoch 16/100\n",
            "17/17 [==============================] - 0s 3ms/step - loss: 0.2543 - accuracy: 0.8802 - val_loss: 0.4872 - val_accuracy: 0.8361\n",
            "Epoch 17/100\n",
            "17/17 [==============================] - 0s 3ms/step - loss: 0.2578 - accuracy: 0.8843 - val_loss: 0.5051 - val_accuracy: 0.8197\n",
            "Epoch 18/100\n",
            "17/17 [==============================] - 0s 3ms/step - loss: 0.2593 - accuracy: 0.8926 - val_loss: 0.5396 - val_accuracy: 0.8033\n",
            "Epoch 19/100\n",
            "17/17 [==============================] - 0s 3ms/step - loss: 0.2453 - accuracy: 0.8884 - val_loss: 0.5448 - val_accuracy: 0.7869\n",
            "Epoch 20/100\n",
            "17/17 [==============================] - 0s 2ms/step - loss: 0.2314 - accuracy: 0.9008 - val_loss: 0.5225 - val_accuracy: 0.8361\n",
            "Epoch 21/100\n",
            "17/17 [==============================] - 0s 3ms/step - loss: 0.3178 - accuracy: 0.8430 - val_loss: 0.5352 - val_accuracy: 0.7869\n",
            "Epoch 22/100\n",
            "17/17 [==============================] - 0s 3ms/step - loss: 0.2630 - accuracy: 0.8926 - val_loss: 0.5422 - val_accuracy: 0.7541\n",
            "Epoch 23/100\n",
            "17/17 [==============================] - 0s 3ms/step - loss: 0.2142 - accuracy: 0.9091 - val_loss: 0.5774 - val_accuracy: 0.7705\n",
            "Epoch 24/100\n",
            "17/17 [==============================] - 0s 2ms/step - loss: 0.2268 - accuracy: 0.8884 - val_loss: 0.6338 - val_accuracy: 0.7541\n",
            "Epoch 25/100\n",
            "17/17 [==============================] - 0s 2ms/step - loss: 0.2503 - accuracy: 0.8926 - val_loss: 0.5343 - val_accuracy: 0.7705\n",
            "Epoch 26/100\n",
            "17/17 [==============================] - 0s 2ms/step - loss: 0.2207 - accuracy: 0.9256 - val_loss: 0.5746 - val_accuracy: 0.7541\n",
            "Epoch 27/100\n",
            "17/17 [==============================] - 0s 2ms/step - loss: 0.2285 - accuracy: 0.9132 - val_loss: 0.5805 - val_accuracy: 0.7377\n",
            "Epoch 28/100\n",
            "17/17 [==============================] - 0s 3ms/step - loss: 0.2150 - accuracy: 0.9215 - val_loss: 0.5218 - val_accuracy: 0.8197\n",
            "Epoch 29/100\n",
            "17/17 [==============================] - 0s 2ms/step - loss: 0.1951 - accuracy: 0.9256 - val_loss: 0.5560 - val_accuracy: 0.8361\n",
            "Epoch 30/100\n",
            "17/17 [==============================] - 0s 2ms/step - loss: 0.1753 - accuracy: 0.9298 - val_loss: 0.7167 - val_accuracy: 0.7541\n",
            "Epoch 31/100\n",
            "17/17 [==============================] - 0s 3ms/step - loss: 0.2096 - accuracy: 0.9256 - val_loss: 0.5648 - val_accuracy: 0.7869\n",
            "Epoch 32/100\n",
            "17/17 [==============================] - 0s 3ms/step - loss: 0.1715 - accuracy: 0.9380 - val_loss: 0.6019 - val_accuracy: 0.7705\n",
            "Epoch 33/100\n",
            "17/17 [==============================] - 0s 3ms/step - loss: 0.1679 - accuracy: 0.9380 - val_loss: 0.6158 - val_accuracy: 0.7705\n",
            "Epoch 34/100\n",
            "17/17 [==============================] - 0s 3ms/step - loss: 0.2268 - accuracy: 0.8967 - val_loss: 0.7297 - val_accuracy: 0.7377\n",
            "Epoch 35/100\n",
            "17/17 [==============================] - 0s 2ms/step - loss: 0.1951 - accuracy: 0.9256 - val_loss: 0.7040 - val_accuracy: 0.7541\n",
            "Epoch 36/100\n",
            "17/17 [==============================] - 0s 2ms/step - loss: 0.1735 - accuracy: 0.9256 - val_loss: 0.7408 - val_accuracy: 0.7377\n",
            "Epoch 37/100\n",
            "17/17 [==============================] - 0s 3ms/step - loss: 0.1652 - accuracy: 0.9339 - val_loss: 0.7027 - val_accuracy: 0.7541\n",
            "Epoch 38/100\n",
            "17/17 [==============================] - 0s 2ms/step - loss: 0.1642 - accuracy: 0.9380 - val_loss: 0.7075 - val_accuracy: 0.7377\n",
            "Epoch 39/100\n",
            "17/17 [==============================] - 0s 2ms/step - loss: 0.1754 - accuracy: 0.9380 - val_loss: 0.7199 - val_accuracy: 0.8033\n",
            "Epoch 40/100\n",
            "17/17 [==============================] - 0s 2ms/step - loss: 0.1521 - accuracy: 0.9463 - val_loss: 0.7981 - val_accuracy: 0.7541\n",
            "Epoch 41/100\n",
            "17/17 [==============================] - 0s 3ms/step - loss: 0.1284 - accuracy: 0.9587 - val_loss: 0.7720 - val_accuracy: 0.7705\n",
            "Epoch 42/100\n",
            "17/17 [==============================] - 0s 2ms/step - loss: 0.1327 - accuracy: 0.9463 - val_loss: 0.7370 - val_accuracy: 0.7705\n",
            "Epoch 43/100\n",
            "17/17 [==============================] - 0s 2ms/step - loss: 0.1382 - accuracy: 0.9545 - val_loss: 0.8734 - val_accuracy: 0.7705\n",
            "Epoch 44/100\n",
            "17/17 [==============================] - 0s 3ms/step - loss: 0.1232 - accuracy: 0.9545 - val_loss: 0.9935 - val_accuracy: 0.7705\n",
            "Epoch 45/100\n",
            "17/17 [==============================] - 0s 2ms/step - loss: 0.1154 - accuracy: 0.9587 - val_loss: 0.8622 - val_accuracy: 0.7869\n",
            "Epoch 46/100\n",
            "17/17 [==============================] - 0s 2ms/step - loss: 0.1035 - accuracy: 0.9669 - val_loss: 1.0295 - val_accuracy: 0.7705\n",
            "Epoch 47/100\n",
            "17/17 [==============================] - 0s 2ms/step - loss: 0.1144 - accuracy: 0.9628 - val_loss: 0.9044 - val_accuracy: 0.7705\n",
            "Epoch 48/100\n",
            "17/17 [==============================] - 0s 2ms/step - loss: 0.1066 - accuracy: 0.9669 - val_loss: 1.0404 - val_accuracy: 0.7869\n",
            "Epoch 49/100\n",
            "17/17 [==============================] - 0s 3ms/step - loss: 0.0988 - accuracy: 0.9711 - val_loss: 0.9937 - val_accuracy: 0.7869\n",
            "Epoch 50/100\n",
            "17/17 [==============================] - 0s 3ms/step - loss: 0.1071 - accuracy: 0.9587 - val_loss: 1.1610 - val_accuracy: 0.7541\n",
            "Epoch 51/100\n",
            "17/17 [==============================] - 0s 2ms/step - loss: 0.1080 - accuracy: 0.9587 - val_loss: 0.9115 - val_accuracy: 0.7705\n",
            "Epoch 52/100\n",
            "17/17 [==============================] - 0s 2ms/step - loss: 0.0990 - accuracy: 0.9711 - val_loss: 0.8965 - val_accuracy: 0.7541\n",
            "Epoch 53/100\n",
            "17/17 [==============================] - 0s 2ms/step - loss: 0.1073 - accuracy: 0.9545 - val_loss: 1.0425 - val_accuracy: 0.7541\n",
            "Epoch 54/100\n",
            "17/17 [==============================] - 0s 2ms/step - loss: 0.1778 - accuracy: 0.9339 - val_loss: 0.9452 - val_accuracy: 0.7705\n",
            "Epoch 55/100\n",
            "17/17 [==============================] - 0s 2ms/step - loss: 0.1770 - accuracy: 0.9256 - val_loss: 0.8874 - val_accuracy: 0.7705\n",
            "Epoch 56/100\n",
            "17/17 [==============================] - 0s 2ms/step - loss: 0.1286 - accuracy: 0.9421 - val_loss: 1.0473 - val_accuracy: 0.7377\n",
            "Epoch 57/100\n",
            "17/17 [==============================] - 0s 2ms/step - loss: 0.1104 - accuracy: 0.9463 - val_loss: 1.0304 - val_accuracy: 0.7377\n",
            "Epoch 58/100\n",
            "17/17 [==============================] - 0s 2ms/step - loss: 0.1287 - accuracy: 0.9545 - val_loss: 1.0074 - val_accuracy: 0.7377\n",
            "Epoch 59/100\n",
            "17/17 [==============================] - 0s 2ms/step - loss: 0.0906 - accuracy: 0.9669 - val_loss: 1.2357 - val_accuracy: 0.7377\n",
            "Epoch 60/100\n",
            "17/17 [==============================] - 0s 2ms/step - loss: 0.0755 - accuracy: 0.9752 - val_loss: 1.1958 - val_accuracy: 0.7213\n",
            "Epoch 61/100\n",
            "17/17 [==============================] - 0s 3ms/step - loss: 0.0648 - accuracy: 0.9793 - val_loss: 1.2542 - val_accuracy: 0.7377\n",
            "Epoch 62/100\n",
            "17/17 [==============================] - 0s 3ms/step - loss: 0.0708 - accuracy: 0.9752 - val_loss: 1.1872 - val_accuracy: 0.7541\n",
            "Epoch 63/100\n",
            "17/17 [==============================] - 0s 3ms/step - loss: 0.0818 - accuracy: 0.9711 - val_loss: 1.3264 - val_accuracy: 0.7049\n",
            "Epoch 64/100\n",
            "17/17 [==============================] - 0s 3ms/step - loss: 0.0688 - accuracy: 0.9793 - val_loss: 1.3034 - val_accuracy: 0.7213\n",
            "Epoch 65/100\n",
            "17/17 [==============================] - 0s 3ms/step - loss: 0.0572 - accuracy: 0.9793 - val_loss: 1.3018 - val_accuracy: 0.7377\n",
            "Epoch 66/100\n",
            "17/17 [==============================] - 0s 2ms/step - loss: 0.0521 - accuracy: 0.9793 - val_loss: 1.4877 - val_accuracy: 0.7049\n",
            "Epoch 67/100\n",
            "17/17 [==============================] - 0s 2ms/step - loss: 0.1430 - accuracy: 0.9380 - val_loss: 1.0691 - val_accuracy: 0.7377\n",
            "Epoch 68/100\n",
            "17/17 [==============================] - 0s 3ms/step - loss: 0.1102 - accuracy: 0.9628 - val_loss: 1.1920 - val_accuracy: 0.7541\n",
            "Epoch 69/100\n",
            "17/17 [==============================] - 0s 2ms/step - loss: 0.1217 - accuracy: 0.9463 - val_loss: 1.3807 - val_accuracy: 0.7049\n",
            "Epoch 70/100\n",
            "17/17 [==============================] - 0s 3ms/step - loss: 0.0993 - accuracy: 0.9669 - val_loss: 1.3253 - val_accuracy: 0.7541\n",
            "Epoch 71/100\n",
            "17/17 [==============================] - 0s 2ms/step - loss: 0.0626 - accuracy: 0.9752 - val_loss: 1.2434 - val_accuracy: 0.7377\n",
            "Epoch 72/100\n",
            "17/17 [==============================] - 0s 3ms/step - loss: 0.0711 - accuracy: 0.9669 - val_loss: 1.3218 - val_accuracy: 0.7213\n",
            "Epoch 73/100\n",
            "17/17 [==============================] - 0s 3ms/step - loss: 0.0600 - accuracy: 0.9793 - val_loss: 1.4776 - val_accuracy: 0.7213\n",
            "Epoch 74/100\n",
            "17/17 [==============================] - 0s 3ms/step - loss: 0.0568 - accuracy: 0.9752 - val_loss: 1.7312 - val_accuracy: 0.7377\n",
            "Epoch 75/100\n",
            "17/17 [==============================] - 0s 3ms/step - loss: 0.0713 - accuracy: 0.9711 - val_loss: 1.5441 - val_accuracy: 0.7049\n",
            "Epoch 76/100\n",
            "17/17 [==============================] - 0s 3ms/step - loss: 0.0848 - accuracy: 0.9545 - val_loss: 1.5983 - val_accuracy: 0.7049\n",
            "Epoch 77/100\n",
            "17/17 [==============================] - 0s 3ms/step - loss: 0.0800 - accuracy: 0.9628 - val_loss: 1.3811 - val_accuracy: 0.7541\n",
            "Epoch 78/100\n",
            "17/17 [==============================] - 0s 2ms/step - loss: 0.0688 - accuracy: 0.9835 - val_loss: 1.3267 - val_accuracy: 0.7377\n",
            "Epoch 79/100\n",
            "17/17 [==============================] - 0s 3ms/step - loss: 0.0701 - accuracy: 0.9752 - val_loss: 1.4312 - val_accuracy: 0.7377\n",
            "Epoch 80/100\n",
            "17/17 [==============================] - 0s 3ms/step - loss: 0.0474 - accuracy: 0.9876 - val_loss: 1.6106 - val_accuracy: 0.7213\n",
            "Epoch 81/100\n",
            "17/17 [==============================] - 0s 3ms/step - loss: 0.0500 - accuracy: 0.9752 - val_loss: 1.5705 - val_accuracy: 0.7049\n",
            "Epoch 82/100\n",
            "17/17 [==============================] - 0s 3ms/step - loss: 0.0366 - accuracy: 0.9876 - val_loss: 1.6324 - val_accuracy: 0.7541\n",
            "Epoch 83/100\n",
            "17/17 [==============================] - 0s 3ms/step - loss: 0.0484 - accuracy: 0.9835 - val_loss: 2.0823 - val_accuracy: 0.7049\n",
            "Epoch 84/100\n",
            "17/17 [==============================] - 0s 3ms/step - loss: 0.0916 - accuracy: 0.9669 - val_loss: 1.6745 - val_accuracy: 0.7541\n",
            "Epoch 85/100\n",
            "17/17 [==============================] - 0s 2ms/step - loss: 0.1534 - accuracy: 0.9339 - val_loss: 1.5887 - val_accuracy: 0.7213\n",
            "Epoch 86/100\n",
            "17/17 [==============================] - 0s 2ms/step - loss: 0.0981 - accuracy: 0.9504 - val_loss: 1.6432 - val_accuracy: 0.7049\n",
            "Epoch 87/100\n",
            "17/17 [==============================] - 0s 3ms/step - loss: 0.0643 - accuracy: 0.9752 - val_loss: 1.5322 - val_accuracy: 0.7377\n",
            "Epoch 88/100\n",
            "17/17 [==============================] - 0s 3ms/step - loss: 0.0501 - accuracy: 0.9793 - val_loss: 1.4970 - val_accuracy: 0.7213\n",
            "Epoch 89/100\n",
            "17/17 [==============================] - 0s 3ms/step - loss: 0.0458 - accuracy: 0.9876 - val_loss: 1.7170 - val_accuracy: 0.7049\n",
            "Epoch 90/100\n",
            "17/17 [==============================] - 0s 2ms/step - loss: 0.0507 - accuracy: 0.9793 - val_loss: 1.6313 - val_accuracy: 0.7213\n",
            "Epoch 91/100\n",
            "17/17 [==============================] - 0s 2ms/step - loss: 0.0477 - accuracy: 0.9793 - val_loss: 1.5542 - val_accuracy: 0.7541\n",
            "Epoch 92/100\n",
            "17/17 [==============================] - 0s 2ms/step - loss: 0.0404 - accuracy: 0.9876 - val_loss: 1.7422 - val_accuracy: 0.7049\n",
            "Epoch 93/100\n",
            "17/17 [==============================] - 0s 2ms/step - loss: 0.0338 - accuracy: 0.9876 - val_loss: 1.7065 - val_accuracy: 0.7377\n",
            "Epoch 94/100\n",
            "17/17 [==============================] - 0s 3ms/step - loss: 0.0255 - accuracy: 0.9959 - val_loss: 1.8312 - val_accuracy: 0.7213\n",
            "Epoch 95/100\n",
            "17/17 [==============================] - 0s 3ms/step - loss: 0.0278 - accuracy: 0.9876 - val_loss: 1.8216 - val_accuracy: 0.7377\n",
            "Epoch 96/100\n",
            "17/17 [==============================] - 0s 3ms/step - loss: 0.0276 - accuracy: 0.9917 - val_loss: 1.8309 - val_accuracy: 0.7213\n",
            "Epoch 97/100\n",
            "17/17 [==============================] - 0s 3ms/step - loss: 0.0254 - accuracy: 0.9917 - val_loss: 1.7976 - val_accuracy: 0.7377\n",
            "Epoch 98/100\n",
            "17/17 [==============================] - 0s 3ms/step - loss: 0.0246 - accuracy: 0.9876 - val_loss: 1.8612 - val_accuracy: 0.7377\n",
            "Epoch 99/100\n",
            "17/17 [==============================] - 0s 2ms/step - loss: 0.0214 - accuracy: 0.9959 - val_loss: 1.8713 - val_accuracy: 0.7377\n",
            "Epoch 100/100\n",
            "17/17 [==============================] - 0s 3ms/step - loss: 0.0220 - accuracy: 0.9959 - val_loss: 1.9288 - val_accuracy: 0.6885\n"
          ],
          "name": "stdout"
        },
        {
          "output_type": "execute_result",
          "data": {
            "text/plain": [
              "<tensorflow.python.keras.callbacks.History at 0x7f7e2b06f978>"
            ]
          },
          "metadata": {
            "tags": []
          },
          "execution_count": 49
        }
      ]
    },
    {
      "cell_type": "code",
      "metadata": {
        "id": "T1ukw-8AlJJC",
        "outputId": "2e130b2a-0861-4683-f52f-2ade2f811e72",
        "colab": {
          "base_uri": "https://localhost:8080/",
          "height": 51
        }
      },
      "source": [
        "baseline_scores = baseline.evaluate(X_test, y_test)\n",
        "print(f\"{baseline.metrics_names[1]}: {baseline_scores[1]}\")"
      ],
      "execution_count": 50,
      "outputs": [
        {
          "output_type": "stream",
          "text": [
            "2/2 [==============================] - 0s 3ms/step - loss: 1.9288 - accuracy: 0.6885\n",
            "accuracy: 0.688524603843689\n"
          ],
          "name": "stdout"
        }
      ]
    },
    {
      "cell_type": "markdown",
      "metadata": {
        "id": "f9Mmj6tTfJAa"
      },
      "source": [
        "# hyperparameter tuning"
      ]
    },
    {
      "cell_type": "markdown",
      "metadata": {
        "id": "yNP2Gn4woh_e"
      },
      "source": [
        "Since the baseline model is overfitting, accuracy rate of testing dataset is not good. Next I will do some tuning to reduce overfitting and improve accuracy of validation data.  "
      ]
    },
    {
      "cell_type": "code",
      "metadata": {
        "id": "IX7csC8PnUsj"
      },
      "source": [
        "from tensorflow.keras.layers import Dropout\n",
        "from tensorflow.keras import regularizers"
      ],
      "execution_count": 55,
      "outputs": []
    },
    {
      "cell_type": "code",
      "metadata": {
        "id": "wIrP-eAonS9g"
      },
      "source": [
        "def create_model2():\n",
        "  opt = Adam(learning_rate=0.01)\n",
        "  wd = 0.001\n",
        "  model = Sequential([\n",
        "                      Dense(32, input_dim=13, activation='relu', kernel_regularizer=regularizers.l2(wd)),\n",
        "                      Dropout(0.3),\n",
        "                      Dense(20, activation='relu',kernel_regularizer=regularizers.l1(wd)),\n",
        "                      Dropout(0.3),\n",
        "                      Dense(1, activation='sigmoid')               \n",
        "  ])\n",
        "  model.compile(optimizer=opt,\n",
        "                loss='binary_crossentropy',\n",
        "                metrics=['accuracy'])\n",
        "  print(model.summary())\n",
        "  return model"
      ],
      "execution_count": 65,
      "outputs": []
    },
    {
      "cell_type": "code",
      "metadata": {
        "id": "5aSfhf7InkbA",
        "outputId": "8ec9e007-d3f2-4e11-b5b8-efcb64eea00d",
        "colab": {
          "base_uri": "https://localhost:8080/",
          "height": 1000
        }
      },
      "source": [
        "model2 = create_model2()\n",
        "model2.fit(X_train, y_train, epochs=100, \n",
        "             batch_size=15,\n",
        "             validation_data=(X_test, y_test),\n",
        "             verbose=1)"
      ],
      "execution_count": 66,
      "outputs": [
        {
          "output_type": "stream",
          "text": [
            "Model: \"sequential_26\"\n",
            "_________________________________________________________________\n",
            "Layer (type)                 Output Shape              Param #   \n",
            "=================================================================\n",
            "dense_73 (Dense)             (None, 32)                448       \n",
            "_________________________________________________________________\n",
            "dropout_8 (Dropout)          (None, 32)                0         \n",
            "_________________________________________________________________\n",
            "dense_74 (Dense)             (None, 20)                660       \n",
            "_________________________________________________________________\n",
            "dropout_9 (Dropout)          (None, 20)                0         \n",
            "_________________________________________________________________\n",
            "dense_75 (Dense)             (None, 1)                 21        \n",
            "=================================================================\n",
            "Total params: 1,129\n",
            "Trainable params: 1,129\n",
            "Non-trainable params: 0\n",
            "_________________________________________________________________\n",
            "None\n",
            "Epoch 1/100\n",
            "17/17 [==============================] - 0s 9ms/step - loss: 0.7198 - accuracy: 0.6818 - val_loss: 0.6198 - val_accuracy: 0.7541\n",
            "Epoch 2/100\n",
            "17/17 [==============================] - 0s 3ms/step - loss: 0.6016 - accuracy: 0.7686 - val_loss: 0.5987 - val_accuracy: 0.7213\n",
            "Epoch 3/100\n",
            "17/17 [==============================] - 0s 3ms/step - loss: 0.5842 - accuracy: 0.7479 - val_loss: 0.5152 - val_accuracy: 0.8197\n",
            "Epoch 4/100\n",
            "17/17 [==============================] - 0s 3ms/step - loss: 0.5179 - accuracy: 0.7810 - val_loss: 0.4876 - val_accuracy: 0.8197\n",
            "Epoch 5/100\n",
            "17/17 [==============================] - 0s 2ms/step - loss: 0.4941 - accuracy: 0.8099 - val_loss: 0.5122 - val_accuracy: 0.7541\n",
            "Epoch 6/100\n",
            "17/17 [==============================] - 0s 2ms/step - loss: 0.5034 - accuracy: 0.7851 - val_loss: 0.5342 - val_accuracy: 0.7869\n",
            "Epoch 7/100\n",
            "17/17 [==============================] - 0s 3ms/step - loss: 0.4756 - accuracy: 0.8140 - val_loss: 0.4967 - val_accuracy: 0.7869\n",
            "Epoch 8/100\n",
            "17/17 [==============================] - 0s 3ms/step - loss: 0.4456 - accuracy: 0.8306 - val_loss: 0.5004 - val_accuracy: 0.7869\n",
            "Epoch 9/100\n",
            "17/17 [==============================] - 0s 3ms/step - loss: 0.4657 - accuracy: 0.8347 - val_loss: 0.5162 - val_accuracy: 0.8033\n",
            "Epoch 10/100\n",
            "17/17 [==============================] - 0s 2ms/step - loss: 0.4366 - accuracy: 0.8182 - val_loss: 0.5004 - val_accuracy: 0.8033\n",
            "Epoch 11/100\n",
            "17/17 [==============================] - 0s 2ms/step - loss: 0.4635 - accuracy: 0.8223 - val_loss: 0.4796 - val_accuracy: 0.8033\n",
            "Epoch 12/100\n",
            "17/17 [==============================] - 0s 3ms/step - loss: 0.4355 - accuracy: 0.8140 - val_loss: 0.4737 - val_accuracy: 0.8033\n",
            "Epoch 13/100\n",
            "17/17 [==============================] - 0s 3ms/step - loss: 0.4147 - accuracy: 0.8595 - val_loss: 0.4711 - val_accuracy: 0.8033\n",
            "Epoch 14/100\n",
            "17/17 [==============================] - 0s 3ms/step - loss: 0.4199 - accuracy: 0.8388 - val_loss: 0.4681 - val_accuracy: 0.8197\n",
            "Epoch 15/100\n",
            "17/17 [==============================] - 0s 2ms/step - loss: 0.4404 - accuracy: 0.8017 - val_loss: 0.4808 - val_accuracy: 0.8033\n",
            "Epoch 16/100\n",
            "17/17 [==============================] - 0s 2ms/step - loss: 0.4121 - accuracy: 0.8347 - val_loss: 0.4802 - val_accuracy: 0.8197\n",
            "Epoch 17/100\n",
            "17/17 [==============================] - 0s 3ms/step - loss: 0.4378 - accuracy: 0.8347 - val_loss: 0.4752 - val_accuracy: 0.8033\n",
            "Epoch 18/100\n",
            "17/17 [==============================] - 0s 3ms/step - loss: 0.4266 - accuracy: 0.8264 - val_loss: 0.4866 - val_accuracy: 0.8361\n",
            "Epoch 19/100\n",
            "17/17 [==============================] - 0s 2ms/step - loss: 0.4260 - accuracy: 0.8223 - val_loss: 0.4923 - val_accuracy: 0.8033\n",
            "Epoch 20/100\n",
            "17/17 [==============================] - 0s 2ms/step - loss: 0.3905 - accuracy: 0.8471 - val_loss: 0.4945 - val_accuracy: 0.8033\n",
            "Epoch 21/100\n",
            "17/17 [==============================] - 0s 3ms/step - loss: 0.4198 - accuracy: 0.8099 - val_loss: 0.5141 - val_accuracy: 0.8033\n",
            "Epoch 22/100\n",
            "17/17 [==============================] - 0s 2ms/step - loss: 0.4124 - accuracy: 0.8306 - val_loss: 0.5054 - val_accuracy: 0.8033\n",
            "Epoch 23/100\n",
            "17/17 [==============================] - 0s 3ms/step - loss: 0.3885 - accuracy: 0.8678 - val_loss: 0.5139 - val_accuracy: 0.8033\n",
            "Epoch 24/100\n",
            "17/17 [==============================] - 0s 2ms/step - loss: 0.4036 - accuracy: 0.8430 - val_loss: 0.5102 - val_accuracy: 0.8033\n",
            "Epoch 25/100\n",
            "17/17 [==============================] - 0s 3ms/step - loss: 0.4387 - accuracy: 0.8347 - val_loss: 0.5216 - val_accuracy: 0.7705\n",
            "Epoch 26/100\n",
            "17/17 [==============================] - 0s 3ms/step - loss: 0.4021 - accuracy: 0.8347 - val_loss: 0.5540 - val_accuracy: 0.7705\n",
            "Epoch 27/100\n",
            "17/17 [==============================] - 0s 3ms/step - loss: 0.3899 - accuracy: 0.8636 - val_loss: 0.5476 - val_accuracy: 0.7869\n",
            "Epoch 28/100\n",
            "17/17 [==============================] - 0s 2ms/step - loss: 0.3807 - accuracy: 0.8719 - val_loss: 0.5492 - val_accuracy: 0.7541\n",
            "Epoch 29/100\n",
            "17/17 [==============================] - 0s 3ms/step - loss: 0.3716 - accuracy: 0.8678 - val_loss: 0.5566 - val_accuracy: 0.8033\n",
            "Epoch 30/100\n",
            "17/17 [==============================] - 0s 2ms/step - loss: 0.3813 - accuracy: 0.8512 - val_loss: 0.5640 - val_accuracy: 0.7869\n",
            "Epoch 31/100\n",
            "17/17 [==============================] - 0s 3ms/step - loss: 0.4000 - accuracy: 0.8595 - val_loss: 0.5305 - val_accuracy: 0.7869\n",
            "Epoch 32/100\n",
            "17/17 [==============================] - 0s 2ms/step - loss: 0.3639 - accuracy: 0.8719 - val_loss: 0.5640 - val_accuracy: 0.7869\n",
            "Epoch 33/100\n",
            "17/17 [==============================] - 0s 3ms/step - loss: 0.3399 - accuracy: 0.8760 - val_loss: 0.6065 - val_accuracy: 0.8197\n",
            "Epoch 34/100\n",
            "17/17 [==============================] - 0s 3ms/step - loss: 0.3661 - accuracy: 0.8636 - val_loss: 0.5772 - val_accuracy: 0.8033\n",
            "Epoch 35/100\n",
            "17/17 [==============================] - 0s 3ms/step - loss: 0.4063 - accuracy: 0.8595 - val_loss: 0.5812 - val_accuracy: 0.7869\n",
            "Epoch 36/100\n",
            "17/17 [==============================] - 0s 3ms/step - loss: 0.3598 - accuracy: 0.8802 - val_loss: 0.5595 - val_accuracy: 0.7705\n",
            "Epoch 37/100\n",
            "17/17 [==============================] - 0s 3ms/step - loss: 0.3578 - accuracy: 0.9008 - val_loss: 0.5767 - val_accuracy: 0.7705\n",
            "Epoch 38/100\n",
            "17/17 [==============================] - 0s 3ms/step - loss: 0.4122 - accuracy: 0.8430 - val_loss: 0.5558 - val_accuracy: 0.7541\n",
            "Epoch 39/100\n",
            "17/17 [==============================] - 0s 3ms/step - loss: 0.3653 - accuracy: 0.8802 - val_loss: 0.5385 - val_accuracy: 0.8197\n",
            "Epoch 40/100\n",
            "17/17 [==============================] - 0s 3ms/step - loss: 0.3868 - accuracy: 0.8636 - val_loss: 0.5241 - val_accuracy: 0.8033\n",
            "Epoch 41/100\n",
            "17/17 [==============================] - 0s 3ms/step - loss: 0.3649 - accuracy: 0.8512 - val_loss: 0.5330 - val_accuracy: 0.8197\n",
            "Epoch 42/100\n",
            "17/17 [==============================] - 0s 3ms/step - loss: 0.3502 - accuracy: 0.8760 - val_loss: 0.5836 - val_accuracy: 0.7541\n",
            "Epoch 43/100\n",
            "17/17 [==============================] - 0s 3ms/step - loss: 0.3738 - accuracy: 0.8843 - val_loss: 0.5724 - val_accuracy: 0.7705\n",
            "Epoch 44/100\n",
            "17/17 [==============================] - 0s 3ms/step - loss: 0.3856 - accuracy: 0.8595 - val_loss: 0.5883 - val_accuracy: 0.7541\n",
            "Epoch 45/100\n",
            "17/17 [==============================] - 0s 2ms/step - loss: 0.3679 - accuracy: 0.8636 - val_loss: 0.6406 - val_accuracy: 0.7377\n",
            "Epoch 46/100\n",
            "17/17 [==============================] - 0s 2ms/step - loss: 0.3917 - accuracy: 0.8554 - val_loss: 0.6029 - val_accuracy: 0.7377\n",
            "Epoch 47/100\n",
            "17/17 [==============================] - 0s 3ms/step - loss: 0.3476 - accuracy: 0.8926 - val_loss: 0.5689 - val_accuracy: 0.8033\n",
            "Epoch 48/100\n",
            "17/17 [==============================] - 0s 2ms/step - loss: 0.3585 - accuracy: 0.8926 - val_loss: 0.5809 - val_accuracy: 0.8033\n",
            "Epoch 49/100\n",
            "17/17 [==============================] - 0s 3ms/step - loss: 0.3877 - accuracy: 0.8802 - val_loss: 0.5583 - val_accuracy: 0.8197\n",
            "Epoch 50/100\n",
            "17/17 [==============================] - 0s 2ms/step - loss: 0.3479 - accuracy: 0.8760 - val_loss: 0.5856 - val_accuracy: 0.8033\n",
            "Epoch 51/100\n",
            "17/17 [==============================] - 0s 3ms/step - loss: 0.3348 - accuracy: 0.8843 - val_loss: 0.5822 - val_accuracy: 0.8033\n",
            "Epoch 52/100\n",
            "17/17 [==============================] - 0s 3ms/step - loss: 0.3504 - accuracy: 0.8719 - val_loss: 0.5910 - val_accuracy: 0.7705\n",
            "Epoch 53/100\n",
            "17/17 [==============================] - 0s 3ms/step - loss: 0.3475 - accuracy: 0.8802 - val_loss: 0.6375 - val_accuracy: 0.7705\n",
            "Epoch 54/100\n",
            "17/17 [==============================] - 0s 3ms/step - loss: 0.3916 - accuracy: 0.8802 - val_loss: 0.5873 - val_accuracy: 0.8033\n",
            "Epoch 55/100\n",
            "17/17 [==============================] - 0s 2ms/step - loss: 0.3645 - accuracy: 0.8802 - val_loss: 0.5680 - val_accuracy: 0.7869\n",
            "Epoch 56/100\n",
            "17/17 [==============================] - 0s 2ms/step - loss: 0.3421 - accuracy: 0.8926 - val_loss: 0.5709 - val_accuracy: 0.8033\n",
            "Epoch 57/100\n",
            "17/17 [==============================] - 0s 2ms/step - loss: 0.3603 - accuracy: 0.8843 - val_loss: 0.5815 - val_accuracy: 0.7705\n",
            "Epoch 58/100\n",
            "17/17 [==============================] - 0s 3ms/step - loss: 0.3580 - accuracy: 0.8595 - val_loss: 0.5186 - val_accuracy: 0.8033\n",
            "Epoch 59/100\n",
            "17/17 [==============================] - 0s 3ms/step - loss: 0.4237 - accuracy: 0.8140 - val_loss: 0.6991 - val_accuracy: 0.7213\n",
            "Epoch 60/100\n",
            "17/17 [==============================] - 0s 3ms/step - loss: 0.3624 - accuracy: 0.8512 - val_loss: 0.5483 - val_accuracy: 0.7705\n",
            "Epoch 61/100\n",
            "17/17 [==============================] - 0s 2ms/step - loss: 0.3790 - accuracy: 0.8554 - val_loss: 0.5577 - val_accuracy: 0.7377\n",
            "Epoch 62/100\n",
            "17/17 [==============================] - 0s 3ms/step - loss: 0.4296 - accuracy: 0.8306 - val_loss: 0.5532 - val_accuracy: 0.7869\n",
            "Epoch 63/100\n",
            "17/17 [==============================] - 0s 3ms/step - loss: 0.4003 - accuracy: 0.8471 - val_loss: 0.5432 - val_accuracy: 0.8361\n",
            "Epoch 64/100\n",
            "17/17 [==============================] - 0s 3ms/step - loss: 0.3906 - accuracy: 0.8595 - val_loss: 0.5695 - val_accuracy: 0.8033\n",
            "Epoch 65/100\n",
            "17/17 [==============================] - 0s 3ms/step - loss: 0.3665 - accuracy: 0.8678 - val_loss: 0.5570 - val_accuracy: 0.8033\n",
            "Epoch 66/100\n",
            "17/17 [==============================] - 0s 2ms/step - loss: 0.3575 - accuracy: 0.8719 - val_loss: 0.5794 - val_accuracy: 0.7705\n",
            "Epoch 67/100\n",
            "17/17 [==============================] - 0s 3ms/step - loss: 0.3710 - accuracy: 0.8760 - val_loss: 0.5653 - val_accuracy: 0.8033\n",
            "Epoch 68/100\n",
            "17/17 [==============================] - 0s 3ms/step - loss: 0.4006 - accuracy: 0.8595 - val_loss: 0.5340 - val_accuracy: 0.8197\n",
            "Epoch 69/100\n",
            "17/17 [==============================] - 0s 2ms/step - loss: 0.3480 - accuracy: 0.8843 - val_loss: 0.5821 - val_accuracy: 0.8033\n",
            "Epoch 70/100\n",
            "17/17 [==============================] - 0s 2ms/step - loss: 0.3844 - accuracy: 0.8802 - val_loss: 0.5716 - val_accuracy: 0.8197\n",
            "Epoch 71/100\n",
            "17/17 [==============================] - 0s 2ms/step - loss: 0.3409 - accuracy: 0.8595 - val_loss: 0.5887 - val_accuracy: 0.8033\n",
            "Epoch 72/100\n",
            "17/17 [==============================] - 0s 3ms/step - loss: 0.3439 - accuracy: 0.8926 - val_loss: 0.6160 - val_accuracy: 0.7869\n",
            "Epoch 73/100\n",
            "17/17 [==============================] - 0s 3ms/step - loss: 0.3533 - accuracy: 0.8843 - val_loss: 0.6108 - val_accuracy: 0.7869\n",
            "Epoch 74/100\n",
            "17/17 [==============================] - 0s 2ms/step - loss: 0.3685 - accuracy: 0.8636 - val_loss: 0.5917 - val_accuracy: 0.7705\n",
            "Epoch 75/100\n",
            "17/17 [==============================] - 0s 3ms/step - loss: 0.3323 - accuracy: 0.9050 - val_loss: 0.6333 - val_accuracy: 0.8033\n",
            "Epoch 76/100\n",
            "17/17 [==============================] - 0s 4ms/step - loss: 0.3660 - accuracy: 0.8678 - val_loss: 0.6407 - val_accuracy: 0.8033\n",
            "Epoch 77/100\n",
            "17/17 [==============================] - 0s 3ms/step - loss: 0.3465 - accuracy: 0.8760 - val_loss: 0.6028 - val_accuracy: 0.8197\n",
            "Epoch 78/100\n",
            "17/17 [==============================] - 0s 3ms/step - loss: 0.3594 - accuracy: 0.8554 - val_loss: 0.6192 - val_accuracy: 0.8033\n",
            "Epoch 79/100\n",
            "17/17 [==============================] - 0s 3ms/step - loss: 0.3958 - accuracy: 0.8802 - val_loss: 0.5914 - val_accuracy: 0.7869\n",
            "Epoch 80/100\n",
            "17/17 [==============================] - 0s 3ms/step - loss: 0.3640 - accuracy: 0.8926 - val_loss: 0.5706 - val_accuracy: 0.8033\n",
            "Epoch 81/100\n",
            "17/17 [==============================] - 0s 3ms/step - loss: 0.3724 - accuracy: 0.8719 - val_loss: 0.6017 - val_accuracy: 0.8033\n",
            "Epoch 82/100\n",
            "17/17 [==============================] - 0s 3ms/step - loss: 0.3780 - accuracy: 0.8678 - val_loss: 0.6351 - val_accuracy: 0.7705\n",
            "Epoch 83/100\n",
            "17/17 [==============================] - 0s 3ms/step - loss: 0.3791 - accuracy: 0.8760 - val_loss: 0.5835 - val_accuracy: 0.7869\n",
            "Epoch 84/100\n",
            "17/17 [==============================] - 0s 2ms/step - loss: 0.3566 - accuracy: 0.8843 - val_loss: 0.6149 - val_accuracy: 0.7869\n",
            "Epoch 85/100\n",
            "17/17 [==============================] - 0s 3ms/step - loss: 0.3712 - accuracy: 0.8802 - val_loss: 0.5926 - val_accuracy: 0.7869\n",
            "Epoch 86/100\n",
            "17/17 [==============================] - 0s 3ms/step - loss: 0.3799 - accuracy: 0.8843 - val_loss: 0.6019 - val_accuracy: 0.7705\n",
            "Epoch 87/100\n",
            "17/17 [==============================] - 0s 3ms/step - loss: 0.3852 - accuracy: 0.8636 - val_loss: 0.6061 - val_accuracy: 0.8033\n",
            "Epoch 88/100\n",
            "17/17 [==============================] - 0s 3ms/step - loss: 0.3591 - accuracy: 0.8636 - val_loss: 0.6413 - val_accuracy: 0.7705\n",
            "Epoch 89/100\n",
            "17/17 [==============================] - 0s 3ms/step - loss: 0.3402 - accuracy: 0.8802 - val_loss: 0.6532 - val_accuracy: 0.8197\n",
            "Epoch 90/100\n",
            "17/17 [==============================] - 0s 3ms/step - loss: 0.3582 - accuracy: 0.8843 - val_loss: 0.6471 - val_accuracy: 0.7869\n",
            "Epoch 91/100\n",
            "17/17 [==============================] - 0s 3ms/step - loss: 0.4054 - accuracy: 0.8471 - val_loss: 0.6641 - val_accuracy: 0.7541\n",
            "Epoch 92/100\n",
            "17/17 [==============================] - 0s 3ms/step - loss: 0.3547 - accuracy: 0.8802 - val_loss: 0.6499 - val_accuracy: 0.7869\n",
            "Epoch 93/100\n",
            "17/17 [==============================] - 0s 3ms/step - loss: 0.3602 - accuracy: 0.8760 - val_loss: 0.6644 - val_accuracy: 0.7541\n",
            "Epoch 94/100\n",
            "17/17 [==============================] - 0s 2ms/step - loss: 0.3495 - accuracy: 0.8595 - val_loss: 0.6783 - val_accuracy: 0.7869\n",
            "Epoch 95/100\n",
            "17/17 [==============================] - 0s 3ms/step - loss: 0.3898 - accuracy: 0.8678 - val_loss: 0.6359 - val_accuracy: 0.8033\n",
            "Epoch 96/100\n",
            "17/17 [==============================] - 0s 3ms/step - loss: 0.3351 - accuracy: 0.9008 - val_loss: 0.6729 - val_accuracy: 0.8033\n",
            "Epoch 97/100\n",
            "17/17 [==============================] - 0s 3ms/step - loss: 0.3536 - accuracy: 0.8802 - val_loss: 0.6510 - val_accuracy: 0.7705\n",
            "Epoch 98/100\n",
            "17/17 [==============================] - 0s 3ms/step - loss: 0.3319 - accuracy: 0.9091 - val_loss: 0.6391 - val_accuracy: 0.7869\n",
            "Epoch 99/100\n",
            "17/17 [==============================] - 0s 3ms/step - loss: 0.3569 - accuracy: 0.8554 - val_loss: 0.7071 - val_accuracy: 0.7705\n",
            "Epoch 100/100\n",
            "17/17 [==============================] - 0s 2ms/step - loss: 0.3567 - accuracy: 0.8802 - val_loss: 0.6788 - val_accuracy: 0.7705\n"
          ],
          "name": "stdout"
        },
        {
          "output_type": "execute_result",
          "data": {
            "text/plain": [
              "<tensorflow.python.keras.callbacks.History at 0x7f7e203ef630>"
            ]
          },
          "metadata": {
            "tags": []
          },
          "execution_count": 66
        }
      ]
    },
    {
      "cell_type": "code",
      "metadata": {
        "id": "1rvEnXvvn4vE",
        "outputId": "694e16fa-15ef-4679-ff71-d9fefc321482",
        "colab": {
          "base_uri": "https://localhost:8080/",
          "height": 51
        }
      },
      "source": [
        "model2_scores = model2.evaluate(X_test, y_test)\n",
        "print(f\"{model2.metrics_names[1]}: {model2_scores[1]}\")"
      ],
      "execution_count": 67,
      "outputs": [
        {
          "output_type": "stream",
          "text": [
            "2/2 [==============================] - 0s 2ms/step - loss: 0.6788 - accuracy: 0.7705\n",
            "accuracy: 0.7704917788505554\n"
          ],
          "name": "stdout"
        }
      ]
    },
    {
      "cell_type": "markdown",
      "metadata": {
        "id": "PSCflyDhpCcP"
      },
      "source": [
        "Build another model for grid search parameter tuning purpose. "
      ]
    },
    {
      "cell_type": "code",
      "metadata": {
        "id": "vpD7xyYqpsOF"
      },
      "source": [
        "def gridsearch_create_model(lr=0.01):\n",
        "  # create model\n",
        "  model = Sequential()\n",
        "  model.add(Dense(10, input_dim=13, activation='relu'))\n",
        "  model.add(Dense(5, activation='relu'))\n",
        "  model.add(Dense(1, activation='sigmoid'))\n",
        "\n",
        "  # compile model\n",
        "  sgd = SGD(learning_rate=lr)\n",
        "  model.compile(loss='binary_crossentropy', optimizer=sgd, metrics=['accuracy'])\n",
        "\n",
        "  return model\n",
        "  "
      ],
      "execution_count": 69,
      "outputs": []
    },
    {
      "cell_type": "code",
      "metadata": {
        "id": "iCEhYjSyqr9n",
        "outputId": "7caa4a36-bac3-4ddd-99cf-ec45a67df0d2",
        "colab": {
          "base_uri": "https://localhost:8080/",
          "height": 1000
        }
      },
      "source": [
        "baseline_grid_model = gridsearch_create_model()\n",
        "baseline_grid_model.fit(X_train, y_train, epochs=100, \n",
        "             batch_size=15,\n",
        "             validation_data=(X_test, y_test),\n",
        "             verbose=1)"
      ],
      "execution_count": 70,
      "outputs": [
        {
          "output_type": "stream",
          "text": [
            "Epoch 1/100\n",
            "17/17 [==============================] - 0s 8ms/step - loss: 0.7508 - accuracy: 0.5372 - val_loss: 0.7232 - val_accuracy: 0.5738\n",
            "Epoch 2/100\n",
            "17/17 [==============================] - 0s 2ms/step - loss: 0.7357 - accuracy: 0.5372 - val_loss: 0.7142 - val_accuracy: 0.5738\n",
            "Epoch 3/100\n",
            "17/17 [==============================] - 0s 2ms/step - loss: 0.7241 - accuracy: 0.5372 - val_loss: 0.7094 - val_accuracy: 0.5738\n",
            "Epoch 4/100\n",
            "17/17 [==============================] - 0s 3ms/step - loss: 0.7177 - accuracy: 0.5372 - val_loss: 0.7061 - val_accuracy: 0.5738\n",
            "Epoch 5/100\n",
            "17/17 [==============================] - 0s 2ms/step - loss: 0.7135 - accuracy: 0.5372 - val_loss: 0.7026 - val_accuracy: 0.5738\n",
            "Epoch 6/100\n",
            "17/17 [==============================] - 0s 2ms/step - loss: 0.7084 - accuracy: 0.5372 - val_loss: 0.7002 - val_accuracy: 0.5902\n",
            "Epoch 7/100\n",
            "17/17 [==============================] - 0s 2ms/step - loss: 0.7046 - accuracy: 0.5372 - val_loss: 0.6986 - val_accuracy: 0.5902\n",
            "Epoch 8/100\n",
            "17/17 [==============================] - 0s 2ms/step - loss: 0.7026 - accuracy: 0.5372 - val_loss: 0.6972 - val_accuracy: 0.5902\n",
            "Epoch 9/100\n",
            "17/17 [==============================] - 0s 2ms/step - loss: 0.7006 - accuracy: 0.5413 - val_loss: 0.6958 - val_accuracy: 0.5902\n",
            "Epoch 10/100\n",
            "17/17 [==============================] - 0s 3ms/step - loss: 0.6987 - accuracy: 0.5413 - val_loss: 0.6948 - val_accuracy: 0.5902\n",
            "Epoch 11/100\n",
            "17/17 [==============================] - 0s 2ms/step - loss: 0.6969 - accuracy: 0.5413 - val_loss: 0.6938 - val_accuracy: 0.5902\n",
            "Epoch 12/100\n",
            "17/17 [==============================] - 0s 2ms/step - loss: 0.6954 - accuracy: 0.5413 - val_loss: 0.6927 - val_accuracy: 0.5902\n",
            "Epoch 13/100\n",
            "17/17 [==============================] - 0s 2ms/step - loss: 0.6941 - accuracy: 0.5455 - val_loss: 0.6918 - val_accuracy: 0.5902\n",
            "Epoch 14/100\n",
            "17/17 [==============================] - 0s 2ms/step - loss: 0.6928 - accuracy: 0.5455 - val_loss: 0.6908 - val_accuracy: 0.5902\n",
            "Epoch 15/100\n",
            "17/17 [==============================] - 0s 2ms/step - loss: 0.6917 - accuracy: 0.5455 - val_loss: 0.6897 - val_accuracy: 0.5902\n",
            "Epoch 16/100\n",
            "17/17 [==============================] - 0s 2ms/step - loss: 0.6907 - accuracy: 0.5455 - val_loss: 0.6889 - val_accuracy: 0.5902\n",
            "Epoch 17/100\n",
            "17/17 [==============================] - 0s 3ms/step - loss: 0.6893 - accuracy: 0.5496 - val_loss: 0.6880 - val_accuracy: 0.5902\n",
            "Epoch 18/100\n",
            "17/17 [==============================] - 0s 2ms/step - loss: 0.6883 - accuracy: 0.5537 - val_loss: 0.6870 - val_accuracy: 0.5902\n",
            "Epoch 19/100\n",
            "17/17 [==============================] - 0s 2ms/step - loss: 0.6872 - accuracy: 0.5537 - val_loss: 0.6861 - val_accuracy: 0.5902\n",
            "Epoch 20/100\n",
            "17/17 [==============================] - 0s 2ms/step - loss: 0.6862 - accuracy: 0.5537 - val_loss: 0.6851 - val_accuracy: 0.6230\n",
            "Epoch 21/100\n",
            "17/17 [==============================] - 0s 2ms/step - loss: 0.6853 - accuracy: 0.5537 - val_loss: 0.6842 - val_accuracy: 0.6230\n",
            "Epoch 22/100\n",
            "17/17 [==============================] - 0s 2ms/step - loss: 0.6843 - accuracy: 0.5537 - val_loss: 0.6828 - val_accuracy: 0.6230\n",
            "Epoch 23/100\n",
            "17/17 [==============================] - 0s 2ms/step - loss: 0.6833 - accuracy: 0.5537 - val_loss: 0.6822 - val_accuracy: 0.6230\n",
            "Epoch 24/100\n",
            "17/17 [==============================] - 0s 2ms/step - loss: 0.6822 - accuracy: 0.5579 - val_loss: 0.6811 - val_accuracy: 0.6230\n",
            "Epoch 25/100\n",
            "17/17 [==============================] - 0s 3ms/step - loss: 0.6811 - accuracy: 0.5579 - val_loss: 0.6796 - val_accuracy: 0.6230\n",
            "Epoch 26/100\n",
            "17/17 [==============================] - 0s 2ms/step - loss: 0.6797 - accuracy: 0.5579 - val_loss: 0.6788 - val_accuracy: 0.6393\n",
            "Epoch 27/100\n",
            "17/17 [==============================] - 0s 2ms/step - loss: 0.6786 - accuracy: 0.5702 - val_loss: 0.6774 - val_accuracy: 0.6393\n",
            "Epoch 28/100\n",
            "17/17 [==============================] - 0s 2ms/step - loss: 0.6772 - accuracy: 0.5702 - val_loss: 0.6763 - val_accuracy: 0.6393\n",
            "Epoch 29/100\n",
            "17/17 [==============================] - 0s 2ms/step - loss: 0.6758 - accuracy: 0.5702 - val_loss: 0.6748 - val_accuracy: 0.6393\n",
            "Epoch 30/100\n",
            "17/17 [==============================] - 0s 2ms/step - loss: 0.6744 - accuracy: 0.5785 - val_loss: 0.6730 - val_accuracy: 0.6393\n",
            "Epoch 31/100\n",
            "17/17 [==============================] - 0s 2ms/step - loss: 0.6726 - accuracy: 0.5826 - val_loss: 0.6714 - val_accuracy: 0.6393\n",
            "Epoch 32/100\n",
            "17/17 [==============================] - 0s 2ms/step - loss: 0.6708 - accuracy: 0.5909 - val_loss: 0.6696 - val_accuracy: 0.6393\n",
            "Epoch 33/100\n",
            "17/17 [==============================] - 0s 2ms/step - loss: 0.6688 - accuracy: 0.5909 - val_loss: 0.6675 - val_accuracy: 0.6393\n",
            "Epoch 34/100\n",
            "17/17 [==============================] - 0s 2ms/step - loss: 0.6668 - accuracy: 0.5950 - val_loss: 0.6662 - val_accuracy: 0.6557\n",
            "Epoch 35/100\n",
            "17/17 [==============================] - 0s 2ms/step - loss: 0.6648 - accuracy: 0.5950 - val_loss: 0.6641 - val_accuracy: 0.6557\n",
            "Epoch 36/100\n",
            "17/17 [==============================] - 0s 3ms/step - loss: 0.6624 - accuracy: 0.6033 - val_loss: 0.6619 - val_accuracy: 0.6557\n",
            "Epoch 37/100\n",
            "17/17 [==============================] - 0s 2ms/step - loss: 0.6600 - accuracy: 0.6074 - val_loss: 0.6599 - val_accuracy: 0.6557\n",
            "Epoch 38/100\n",
            "17/17 [==============================] - 0s 2ms/step - loss: 0.6577 - accuracy: 0.6074 - val_loss: 0.6579 - val_accuracy: 0.6721\n",
            "Epoch 39/100\n",
            "17/17 [==============================] - 0s 2ms/step - loss: 0.6548 - accuracy: 0.6281 - val_loss: 0.6553 - val_accuracy: 0.6721\n",
            "Epoch 40/100\n",
            "17/17 [==============================] - 0s 2ms/step - loss: 0.6516 - accuracy: 0.6364 - val_loss: 0.6520 - val_accuracy: 0.6885\n",
            "Epoch 41/100\n",
            "17/17 [==============================] - 0s 2ms/step - loss: 0.6472 - accuracy: 0.6529 - val_loss: 0.6479 - val_accuracy: 0.7049\n",
            "Epoch 42/100\n",
            "17/17 [==============================] - 0s 2ms/step - loss: 0.6409 - accuracy: 0.6777 - val_loss: 0.6428 - val_accuracy: 0.7049\n",
            "Epoch 43/100\n",
            "17/17 [==============================] - 0s 2ms/step - loss: 0.6331 - accuracy: 0.6983 - val_loss: 0.6376 - val_accuracy: 0.7213\n",
            "Epoch 44/100\n",
            "17/17 [==============================] - 0s 2ms/step - loss: 0.6255 - accuracy: 0.7190 - val_loss: 0.6314 - val_accuracy: 0.7213\n",
            "Epoch 45/100\n",
            "17/17 [==============================] - 0s 2ms/step - loss: 0.6175 - accuracy: 0.7273 - val_loss: 0.6252 - val_accuracy: 0.7377\n",
            "Epoch 46/100\n",
            "17/17 [==============================] - 0s 2ms/step - loss: 0.6091 - accuracy: 0.7231 - val_loss: 0.6192 - val_accuracy: 0.7377\n",
            "Epoch 47/100\n",
            "17/17 [==============================] - 0s 3ms/step - loss: 0.6011 - accuracy: 0.7438 - val_loss: 0.6125 - val_accuracy: 0.7377\n",
            "Epoch 48/100\n",
            "17/17 [==============================] - 0s 2ms/step - loss: 0.5915 - accuracy: 0.7562 - val_loss: 0.6072 - val_accuracy: 0.7705\n",
            "Epoch 49/100\n",
            "17/17 [==============================] - 0s 2ms/step - loss: 0.5833 - accuracy: 0.7727 - val_loss: 0.6018 - val_accuracy: 0.7869\n",
            "Epoch 50/100\n",
            "17/17 [==============================] - 0s 2ms/step - loss: 0.5745 - accuracy: 0.7727 - val_loss: 0.5955 - val_accuracy: 0.7705\n",
            "Epoch 51/100\n",
            "17/17 [==============================] - 0s 2ms/step - loss: 0.5656 - accuracy: 0.7810 - val_loss: 0.5891 - val_accuracy: 0.7705\n",
            "Epoch 52/100\n",
            "17/17 [==============================] - 0s 2ms/step - loss: 0.5577 - accuracy: 0.7810 - val_loss: 0.5832 - val_accuracy: 0.7705\n",
            "Epoch 53/100\n",
            "17/17 [==============================] - 0s 2ms/step - loss: 0.5504 - accuracy: 0.7769 - val_loss: 0.5777 - val_accuracy: 0.7869\n",
            "Epoch 54/100\n",
            "17/17 [==============================] - 0s 2ms/step - loss: 0.5433 - accuracy: 0.7893 - val_loss: 0.5716 - val_accuracy: 0.7705\n",
            "Epoch 55/100\n",
            "17/17 [==============================] - 0s 2ms/step - loss: 0.5351 - accuracy: 0.7934 - val_loss: 0.5658 - val_accuracy: 0.7705\n",
            "Epoch 56/100\n",
            "17/17 [==============================] - 0s 3ms/step - loss: 0.5276 - accuracy: 0.7934 - val_loss: 0.5602 - val_accuracy: 0.7869\n",
            "Epoch 57/100\n",
            "17/17 [==============================] - 0s 2ms/step - loss: 0.5204 - accuracy: 0.8017 - val_loss: 0.5556 - val_accuracy: 0.7869\n",
            "Epoch 58/100\n",
            "17/17 [==============================] - 0s 2ms/step - loss: 0.5133 - accuracy: 0.8017 - val_loss: 0.5503 - val_accuracy: 0.7869\n",
            "Epoch 59/100\n",
            "17/17 [==============================] - 0s 2ms/step - loss: 0.5061 - accuracy: 0.8017 - val_loss: 0.5447 - val_accuracy: 0.7869\n",
            "Epoch 60/100\n",
            "17/17 [==============================] - 0s 2ms/step - loss: 0.4989 - accuracy: 0.7975 - val_loss: 0.5385 - val_accuracy: 0.7869\n",
            "Epoch 61/100\n",
            "17/17 [==============================] - 0s 3ms/step - loss: 0.4914 - accuracy: 0.8058 - val_loss: 0.5333 - val_accuracy: 0.8033\n",
            "Epoch 62/100\n",
            "17/17 [==============================] - 0s 2ms/step - loss: 0.4847 - accuracy: 0.8140 - val_loss: 0.5285 - val_accuracy: 0.8033\n",
            "Epoch 63/100\n",
            "17/17 [==============================] - 0s 3ms/step - loss: 0.4787 - accuracy: 0.8140 - val_loss: 0.5250 - val_accuracy: 0.8033\n",
            "Epoch 64/100\n",
            "17/17 [==============================] - 0s 2ms/step - loss: 0.4725 - accuracy: 0.8058 - val_loss: 0.5209 - val_accuracy: 0.8033\n",
            "Epoch 65/100\n",
            "17/17 [==============================] - 0s 2ms/step - loss: 0.4669 - accuracy: 0.8182 - val_loss: 0.5179 - val_accuracy: 0.8033\n",
            "Epoch 66/100\n",
            "17/17 [==============================] - 0s 3ms/step - loss: 0.4614 - accuracy: 0.8058 - val_loss: 0.5132 - val_accuracy: 0.8033\n",
            "Epoch 67/100\n",
            "17/17 [==============================] - 0s 2ms/step - loss: 0.4560 - accuracy: 0.8182 - val_loss: 0.5106 - val_accuracy: 0.8033\n",
            "Epoch 68/100\n",
            "17/17 [==============================] - 0s 2ms/step - loss: 0.4512 - accuracy: 0.8058 - val_loss: 0.5078 - val_accuracy: 0.8033\n",
            "Epoch 69/100\n",
            "17/17 [==============================] - 0s 3ms/step - loss: 0.4463 - accuracy: 0.8140 - val_loss: 0.5039 - val_accuracy: 0.8033\n",
            "Epoch 70/100\n",
            "17/17 [==============================] - 0s 2ms/step - loss: 0.4415 - accuracy: 0.8182 - val_loss: 0.4999 - val_accuracy: 0.8033\n",
            "Epoch 71/100\n",
            "17/17 [==============================] - 0s 3ms/step - loss: 0.4374 - accuracy: 0.8182 - val_loss: 0.4973 - val_accuracy: 0.8033\n",
            "Epoch 72/100\n",
            "17/17 [==============================] - 0s 3ms/step - loss: 0.4334 - accuracy: 0.8140 - val_loss: 0.4961 - val_accuracy: 0.8033\n",
            "Epoch 73/100\n",
            "17/17 [==============================] - 0s 2ms/step - loss: 0.4301 - accuracy: 0.8182 - val_loss: 0.4944 - val_accuracy: 0.8033\n",
            "Epoch 74/100\n",
            "17/17 [==============================] - 0s 3ms/step - loss: 0.4265 - accuracy: 0.8140 - val_loss: 0.4934 - val_accuracy: 0.8033\n",
            "Epoch 75/100\n",
            "17/17 [==============================] - 0s 2ms/step - loss: 0.4234 - accuracy: 0.8182 - val_loss: 0.4902 - val_accuracy: 0.8033\n",
            "Epoch 76/100\n",
            "17/17 [==============================] - 0s 2ms/step - loss: 0.4223 - accuracy: 0.8182 - val_loss: 0.4884 - val_accuracy: 0.8033\n",
            "Epoch 77/100\n",
            "17/17 [==============================] - 0s 2ms/step - loss: 0.4171 - accuracy: 0.8182 - val_loss: 0.4873 - val_accuracy: 0.8033\n",
            "Epoch 78/100\n",
            "17/17 [==============================] - 0s 2ms/step - loss: 0.4134 - accuracy: 0.8182 - val_loss: 0.4898 - val_accuracy: 0.8033\n",
            "Epoch 79/100\n",
            "17/17 [==============================] - 0s 2ms/step - loss: 0.4119 - accuracy: 0.8182 - val_loss: 0.4867 - val_accuracy: 0.7869\n",
            "Epoch 80/100\n",
            "17/17 [==============================] - 0s 3ms/step - loss: 0.4088 - accuracy: 0.8182 - val_loss: 0.4832 - val_accuracy: 0.8033\n",
            "Epoch 81/100\n",
            "17/17 [==============================] - 0s 3ms/step - loss: 0.4073 - accuracy: 0.8182 - val_loss: 0.4822 - val_accuracy: 0.8033\n",
            "Epoch 82/100\n",
            "17/17 [==============================] - 0s 3ms/step - loss: 0.4033 - accuracy: 0.8182 - val_loss: 0.4822 - val_accuracy: 0.8033\n",
            "Epoch 83/100\n",
            "17/17 [==============================] - 0s 3ms/step - loss: 0.4001 - accuracy: 0.8223 - val_loss: 0.4811 - val_accuracy: 0.8197\n",
            "Epoch 84/100\n",
            "17/17 [==============================] - 0s 3ms/step - loss: 0.3977 - accuracy: 0.8140 - val_loss: 0.4806 - val_accuracy: 0.8033\n",
            "Epoch 85/100\n",
            "17/17 [==============================] - 0s 2ms/step - loss: 0.3952 - accuracy: 0.8264 - val_loss: 0.4789 - val_accuracy: 0.7869\n",
            "Epoch 86/100\n",
            "17/17 [==============================] - 0s 3ms/step - loss: 0.3924 - accuracy: 0.8223 - val_loss: 0.4792 - val_accuracy: 0.7869\n",
            "Epoch 87/100\n",
            "17/17 [==============================] - 0s 2ms/step - loss: 0.3897 - accuracy: 0.8223 - val_loss: 0.4783 - val_accuracy: 0.7869\n",
            "Epoch 88/100\n",
            "17/17 [==============================] - 0s 2ms/step - loss: 0.3884 - accuracy: 0.8223 - val_loss: 0.4789 - val_accuracy: 0.7869\n",
            "Epoch 89/100\n",
            "17/17 [==============================] - 0s 2ms/step - loss: 0.3864 - accuracy: 0.8264 - val_loss: 0.4780 - val_accuracy: 0.7705\n",
            "Epoch 90/100\n",
            "17/17 [==============================] - 0s 3ms/step - loss: 0.3843 - accuracy: 0.8223 - val_loss: 0.4774 - val_accuracy: 0.7705\n",
            "Epoch 91/100\n",
            "17/17 [==============================] - 0s 2ms/step - loss: 0.3832 - accuracy: 0.8182 - val_loss: 0.4781 - val_accuracy: 0.7705\n",
            "Epoch 92/100\n",
            "17/17 [==============================] - 0s 3ms/step - loss: 0.3806 - accuracy: 0.8264 - val_loss: 0.4787 - val_accuracy: 0.7705\n",
            "Epoch 93/100\n",
            "17/17 [==============================] - 0s 2ms/step - loss: 0.3787 - accuracy: 0.8182 - val_loss: 0.4788 - val_accuracy: 0.7705\n",
            "Epoch 94/100\n",
            "17/17 [==============================] - 0s 2ms/step - loss: 0.3778 - accuracy: 0.8306 - val_loss: 0.4786 - val_accuracy: 0.7541\n",
            "Epoch 95/100\n",
            "17/17 [==============================] - 0s 2ms/step - loss: 0.3756 - accuracy: 0.8306 - val_loss: 0.4797 - val_accuracy: 0.7705\n",
            "Epoch 96/100\n",
            "17/17 [==============================] - 0s 2ms/step - loss: 0.3758 - accuracy: 0.8388 - val_loss: 0.4780 - val_accuracy: 0.7541\n",
            "Epoch 97/100\n",
            "17/17 [==============================] - 0s 2ms/step - loss: 0.3730 - accuracy: 0.8264 - val_loss: 0.4783 - val_accuracy: 0.7705\n",
            "Epoch 98/100\n",
            "17/17 [==============================] - 0s 3ms/step - loss: 0.3726 - accuracy: 0.8347 - val_loss: 0.4791 - val_accuracy: 0.7541\n",
            "Epoch 99/100\n",
            "17/17 [==============================] - 0s 3ms/step - loss: 0.3699 - accuracy: 0.8306 - val_loss: 0.4816 - val_accuracy: 0.7869\n",
            "Epoch 100/100\n",
            "17/17 [==============================] - 0s 3ms/step - loss: 0.3717 - accuracy: 0.8347 - val_loss: 0.4827 - val_accuracy: 0.7869\n"
          ],
          "name": "stdout"
        },
        {
          "output_type": "execute_result",
          "data": {
            "text/plain": [
              "<tensorflow.python.keras.callbacks.History at 0x7f7e14c36da0>"
            ]
          },
          "metadata": {
            "tags": []
          },
          "execution_count": 70
        }
      ]
    },
    {
      "cell_type": "code",
      "metadata": {
        "id": "steoPUl8tm1I",
        "outputId": "a38b17e3-e642-4bad-e1d5-39c000e4210b",
        "colab": {
          "base_uri": "https://localhost:8080/",
          "height": 51
        }
      },
      "source": [
        "baselinegrid_scores = baseline_grid_model.evaluate(X_test, y_test)\n",
        "print(f\"{baseline_grid_model.metrics_names[1]}: {baselinegrid_scores[1]}\")"
      ],
      "execution_count": 77,
      "outputs": [
        {
          "output_type": "stream",
          "text": [
            "2/2 [==============================] - 0s 2ms/step - loss: 0.4827 - accuracy: 0.7869\n",
            "accuracy: 0.7868852615356445\n"
          ],
          "name": "stdout"
        }
      ]
    },
    {
      "cell_type": "code",
      "metadata": {
        "id": "SJX9PB2liESk",
        "outputId": "c6e03503-b4d0-4af3-ead4-be7d486f7510",
        "colab": {
          "base_uri": "https://localhost:8080/",
          "height": 1000
        }
      },
      "source": [
        "# create model\n",
        "gridsearch_model = KerasClassifier(build_fn=gridsearch_create_model, verbose=1)\n",
        "\n",
        "# define the grid search parameters\n",
        "param_grid = {\n",
        "    'epochs': [50,100],\n",
        "    'batch_size': [32, 64, 128],\n",
        "    'lr': [0.001, 0.01, 0.1]\n",
        "}\n",
        "\n",
        "# Create Grid Search\n",
        "grid = GridSearchCV(estimator=gridsearch_model, param_grid=param_grid, cv=3, n_jobs=-1)\n",
        "grid_result = grid.fit(X_train, y_train)"
      ],
      "execution_count": 71,
      "outputs": [
        {
          "output_type": "stream",
          "text": [
            "Epoch 1/100\n",
            "8/8 [==============================] - 0s 2ms/step - loss: 0.7033 - accuracy: 0.5372\n",
            "Epoch 2/100\n",
            "8/8 [==============================] - 0s 2ms/step - loss: 0.6822 - accuracy: 0.5455\n",
            "Epoch 3/100\n",
            "8/8 [==============================] - 0s 2ms/step - loss: 0.6752 - accuracy: 0.5620\n",
            "Epoch 4/100\n",
            "8/8 [==============================] - 0s 1ms/step - loss: 0.6691 - accuracy: 0.5785\n",
            "Epoch 5/100\n",
            "8/8 [==============================] - 0s 1ms/step - loss: 0.6622 - accuracy: 0.6653\n",
            "Epoch 6/100\n",
            "8/8 [==============================] - 0s 2ms/step - loss: 0.6551 - accuracy: 0.7025\n",
            "Epoch 7/100\n",
            "8/8 [==============================] - 0s 2ms/step - loss: 0.6477 - accuracy: 0.7107\n",
            "Epoch 8/100\n",
            "8/8 [==============================] - 0s 2ms/step - loss: 0.6399 - accuracy: 0.7231\n",
            "Epoch 9/100\n",
            "8/8 [==============================] - 0s 2ms/step - loss: 0.6311 - accuracy: 0.7438\n",
            "Epoch 10/100\n",
            "8/8 [==============================] - 0s 1ms/step - loss: 0.6221 - accuracy: 0.7355\n",
            "Epoch 11/100\n",
            "8/8 [==============================] - 0s 1ms/step - loss: 0.6134 - accuracy: 0.7438\n",
            "Epoch 12/100\n",
            "8/8 [==============================] - 0s 1ms/step - loss: 0.6043 - accuracy: 0.7521\n",
            "Epoch 13/100\n",
            "8/8 [==============================] - 0s 2ms/step - loss: 0.5943 - accuracy: 0.7603\n",
            "Epoch 14/100\n",
            "8/8 [==============================] - 0s 2ms/step - loss: 0.5820 - accuracy: 0.7645\n",
            "Epoch 15/100\n",
            "8/8 [==============================] - 0s 2ms/step - loss: 0.5685 - accuracy: 0.7686\n",
            "Epoch 16/100\n",
            "8/8 [==============================] - 0s 1ms/step - loss: 0.5444 - accuracy: 0.7769\n",
            "Epoch 17/100\n",
            "8/8 [==============================] - 0s 1ms/step - loss: 0.5151 - accuracy: 0.7769\n",
            "Epoch 18/100\n",
            "8/8 [==============================] - 0s 2ms/step - loss: 0.4889 - accuracy: 0.7934\n",
            "Epoch 19/100\n",
            "8/8 [==============================] - 0s 2ms/step - loss: 0.4723 - accuracy: 0.7810\n",
            "Epoch 20/100\n",
            "8/8 [==============================] - 0s 2ms/step - loss: 0.4575 - accuracy: 0.8017\n",
            "Epoch 21/100\n",
            "8/8 [==============================] - 0s 2ms/step - loss: 0.4459 - accuracy: 0.8017\n",
            "Epoch 22/100\n",
            "8/8 [==============================] - 0s 1ms/step - loss: 0.4308 - accuracy: 0.8140\n",
            "Epoch 23/100\n",
            "8/8 [==============================] - 0s 2ms/step - loss: 0.4201 - accuracy: 0.8058\n",
            "Epoch 24/100\n",
            "8/8 [==============================] - 0s 2ms/step - loss: 0.4133 - accuracy: 0.8388\n",
            "Epoch 25/100\n",
            "8/8 [==============================] - 0s 2ms/step - loss: 0.4263 - accuracy: 0.8140\n",
            "Epoch 26/100\n",
            "8/8 [==============================] - 0s 2ms/step - loss: 0.3985 - accuracy: 0.8264\n",
            "Epoch 27/100\n",
            "8/8 [==============================] - 0s 1ms/step - loss: 0.3857 - accuracy: 0.8347\n",
            "Epoch 28/100\n",
            "8/8 [==============================] - 0s 1ms/step - loss: 0.3803 - accuracy: 0.8223\n",
            "Epoch 29/100\n",
            "8/8 [==============================] - 0s 2ms/step - loss: 0.3698 - accuracy: 0.8388\n",
            "Epoch 30/100\n",
            "8/8 [==============================] - 0s 2ms/step - loss: 0.3718 - accuracy: 0.8595\n",
            "Epoch 31/100\n",
            "8/8 [==============================] - 0s 2ms/step - loss: 0.3624 - accuracy: 0.8388\n",
            "Epoch 32/100\n",
            "8/8 [==============================] - 0s 2ms/step - loss: 0.3620 - accuracy: 0.8554\n",
            "Epoch 33/100\n",
            "8/8 [==============================] - 0s 2ms/step - loss: 0.3493 - accuracy: 0.8512\n",
            "Epoch 34/100\n",
            "8/8 [==============================] - 0s 2ms/step - loss: 0.3702 - accuracy: 0.8595\n",
            "Epoch 35/100\n",
            "8/8 [==============================] - 0s 2ms/step - loss: 0.3811 - accuracy: 0.8512\n",
            "Epoch 36/100\n",
            "8/8 [==============================] - 0s 2ms/step - loss: 0.3656 - accuracy: 0.8595\n",
            "Epoch 37/100\n",
            "8/8 [==============================] - 0s 2ms/step - loss: 0.3727 - accuracy: 0.8430\n",
            "Epoch 38/100\n",
            "8/8 [==============================] - 0s 2ms/step - loss: 0.3614 - accuracy: 0.8388\n",
            "Epoch 39/100\n",
            "8/8 [==============================] - 0s 2ms/step - loss: 0.3428 - accuracy: 0.8388\n",
            "Epoch 40/100\n",
            "8/8 [==============================] - 0s 2ms/step - loss: 0.3496 - accuracy: 0.8678\n",
            "Epoch 41/100\n",
            "8/8 [==============================] - 0s 2ms/step - loss: 0.3423 - accuracy: 0.8554\n",
            "Epoch 42/100\n",
            "8/8 [==============================] - 0s 2ms/step - loss: 0.3436 - accuracy: 0.8388\n",
            "Epoch 43/100\n",
            "8/8 [==============================] - 0s 2ms/step - loss: 0.3379 - accuracy: 0.8471\n",
            "Epoch 44/100\n",
            "8/8 [==============================] - 0s 2ms/step - loss: 0.3393 - accuracy: 0.8430\n",
            "Epoch 45/100\n",
            "8/8 [==============================] - 0s 2ms/step - loss: 0.3456 - accuracy: 0.8471\n",
            "Epoch 46/100\n",
            "8/8 [==============================] - 0s 2ms/step - loss: 0.3465 - accuracy: 0.8347\n",
            "Epoch 47/100\n",
            "8/8 [==============================] - 0s 1ms/step - loss: 0.3416 - accuracy: 0.8595\n",
            "Epoch 48/100\n",
            "8/8 [==============================] - 0s 2ms/step - loss: 0.3379 - accuracy: 0.8430\n",
            "Epoch 49/100\n",
            "8/8 [==============================] - 0s 2ms/step - loss: 0.3291 - accuracy: 0.8636\n",
            "Epoch 50/100\n",
            "8/8 [==============================] - 0s 1ms/step - loss: 0.3347 - accuracy: 0.8636\n",
            "Epoch 51/100\n",
            "8/8 [==============================] - 0s 2ms/step - loss: 0.3371 - accuracy: 0.8554\n",
            "Epoch 52/100\n",
            "8/8 [==============================] - 0s 2ms/step - loss: 0.3402 - accuracy: 0.8430\n",
            "Epoch 53/100\n",
            "8/8 [==============================] - 0s 2ms/step - loss: 0.3230 - accuracy: 0.8678\n",
            "Epoch 54/100\n",
            "8/8 [==============================] - 0s 1ms/step - loss: 0.3361 - accuracy: 0.8636\n",
            "Epoch 55/100\n",
            "8/8 [==============================] - 0s 2ms/step - loss: 0.3323 - accuracy: 0.8430\n",
            "Epoch 56/100\n",
            "8/8 [==============================] - 0s 1ms/step - loss: 0.3387 - accuracy: 0.8554\n",
            "Epoch 57/100\n",
            "8/8 [==============================] - 0s 2ms/step - loss: 0.3229 - accuracy: 0.8512\n",
            "Epoch 58/100\n",
            "8/8 [==============================] - 0s 2ms/step - loss: 0.3295 - accuracy: 0.8678\n",
            "Epoch 59/100\n",
            "8/8 [==============================] - 0s 2ms/step - loss: 0.3317 - accuracy: 0.8678\n",
            "Epoch 60/100\n",
            "8/8 [==============================] - 0s 1ms/step - loss: 0.3208 - accuracy: 0.8719\n",
            "Epoch 61/100\n",
            "8/8 [==============================] - 0s 2ms/step - loss: 0.3200 - accuracy: 0.8430\n",
            "Epoch 62/100\n",
            "8/8 [==============================] - 0s 1ms/step - loss: 0.3313 - accuracy: 0.8554\n",
            "Epoch 63/100\n",
            "8/8 [==============================] - 0s 2ms/step - loss: 0.3145 - accuracy: 0.8595\n",
            "Epoch 64/100\n",
            "8/8 [==============================] - 0s 1ms/step - loss: 0.3084 - accuracy: 0.8595\n",
            "Epoch 65/100\n",
            "8/8 [==============================] - 0s 1ms/step - loss: 0.3091 - accuracy: 0.8636\n",
            "Epoch 66/100\n",
            "8/8 [==============================] - 0s 2ms/step - loss: 0.3182 - accuracy: 0.8636\n",
            "Epoch 67/100\n",
            "8/8 [==============================] - 0s 2ms/step - loss: 0.3251 - accuracy: 0.8636\n",
            "Epoch 68/100\n",
            "8/8 [==============================] - 0s 2ms/step - loss: 0.3086 - accuracy: 0.8843\n",
            "Epoch 69/100\n",
            "8/8 [==============================] - 0s 1ms/step - loss: 0.3183 - accuracy: 0.8719\n",
            "Epoch 70/100\n",
            "8/8 [==============================] - 0s 1ms/step - loss: 0.3119 - accuracy: 0.8678\n",
            "Epoch 71/100\n",
            "8/8 [==============================] - 0s 1ms/step - loss: 0.3165 - accuracy: 0.8802\n",
            "Epoch 72/100\n",
            "8/8 [==============================] - 0s 2ms/step - loss: 0.3049 - accuracy: 0.8843\n",
            "Epoch 73/100\n",
            "8/8 [==============================] - 0s 2ms/step - loss: 0.3296 - accuracy: 0.8471\n",
            "Epoch 74/100\n",
            "8/8 [==============================] - 0s 2ms/step - loss: 0.3229 - accuracy: 0.8678\n",
            "Epoch 75/100\n",
            "8/8 [==============================] - 0s 2ms/step - loss: 0.3188 - accuracy: 0.8884\n",
            "Epoch 76/100\n",
            "8/8 [==============================] - 0s 2ms/step - loss: 0.3142 - accuracy: 0.8760\n",
            "Epoch 77/100\n",
            "8/8 [==============================] - 0s 2ms/step - loss: 0.3055 - accuracy: 0.8926\n",
            "Epoch 78/100\n",
            "8/8 [==============================] - 0s 2ms/step - loss: 0.3082 - accuracy: 0.8843\n",
            "Epoch 79/100\n",
            "8/8 [==============================] - 0s 1ms/step - loss: 0.3148 - accuracy: 0.8843\n",
            "Epoch 80/100\n",
            "8/8 [==============================] - 0s 2ms/step - loss: 0.3058 - accuracy: 0.8843\n",
            "Epoch 81/100\n",
            "8/8 [==============================] - 0s 2ms/step - loss: 0.3107 - accuracy: 0.8719\n",
            "Epoch 82/100\n",
            "8/8 [==============================] - 0s 2ms/step - loss: 0.3035 - accuracy: 0.8802\n",
            "Epoch 83/100\n",
            "8/8 [==============================] - 0s 2ms/step - loss: 0.3054 - accuracy: 0.8802\n",
            "Epoch 84/100\n",
            "8/8 [==============================] - 0s 1ms/step - loss: 0.3079 - accuracy: 0.8719\n",
            "Epoch 85/100\n",
            "8/8 [==============================] - 0s 1ms/step - loss: 0.3279 - accuracy: 0.8843\n",
            "Epoch 86/100\n",
            "8/8 [==============================] - 0s 2ms/step - loss: 0.3296 - accuracy: 0.8471\n",
            "Epoch 87/100\n",
            "8/8 [==============================] - 0s 2ms/step - loss: 0.3257 - accuracy: 0.8678\n",
            "Epoch 88/100\n",
            "8/8 [==============================] - 0s 2ms/step - loss: 0.3306 - accuracy: 0.8554\n",
            "Epoch 89/100\n",
            "8/8 [==============================] - 0s 2ms/step - loss: 0.3425 - accuracy: 0.8512\n",
            "Epoch 90/100\n",
            "8/8 [==============================] - 0s 1ms/step - loss: 0.2981 - accuracy: 0.8802\n",
            "Epoch 91/100\n",
            "8/8 [==============================] - 0s 2ms/step - loss: 0.3039 - accuracy: 0.8884\n",
            "Epoch 92/100\n",
            "8/8 [==============================] - 0s 3ms/step - loss: 0.3336 - accuracy: 0.8471\n",
            "Epoch 93/100\n",
            "8/8 [==============================] - 0s 2ms/step - loss: 0.3099 - accuracy: 0.8678\n",
            "Epoch 94/100\n",
            "8/8 [==============================] - 0s 2ms/step - loss: 0.3217 - accuracy: 0.8719\n",
            "Epoch 95/100\n",
            "8/8 [==============================] - 0s 2ms/step - loss: 0.3175 - accuracy: 0.8636\n",
            "Epoch 96/100\n",
            "8/8 [==============================] - 0s 1ms/step - loss: 0.3349 - accuracy: 0.8595\n",
            "Epoch 97/100\n",
            "8/8 [==============================] - 0s 2ms/step - loss: 0.3190 - accuracy: 0.8471\n",
            "Epoch 98/100\n",
            "8/8 [==============================] - 0s 2ms/step - loss: 0.3030 - accuracy: 0.8760\n",
            "Epoch 99/100\n",
            "8/8 [==============================] - 0s 1ms/step - loss: 0.2990 - accuracy: 0.8884\n",
            "Epoch 100/100\n",
            "8/8 [==============================] - 0s 2ms/step - loss: 0.2991 - accuracy: 0.8719\n"
          ],
          "name": "stdout"
        }
      ]
    },
    {
      "cell_type": "code",
      "metadata": {
        "id": "28NEl6LgiwHM",
        "outputId": "52169786-a2b7-4a7a-aa87-c9e8d4186b6b",
        "colab": {
          "base_uri": "https://localhost:8080/",
          "height": 394
        }
      },
      "source": [
        "# Report Results\n",
        "print(f\"Best: {grid_result.best_score_} using {grid_result.best_params_}\")\n",
        "print(\"\\n\")\n",
        "means = grid_result.cv_results_['mean_test_score']\n",
        "stds = grid_result.cv_results_['std_test_score']\n",
        "params = grid_result.cv_results_['params']\n",
        "for mean, stdev, param in zip(means, stds, params):\n",
        "  print(f\"Means: {mean}, Stdev: {stdev} with: {params}\")"
      ],
      "execution_count": 73,
      "outputs": [
        {
          "output_type": "stream",
          "text": [
            "Best: 0.8511316776275635 using {'batch_size': 32, 'epochs': 100, 'lr': 0.1}\n",
            "\n",
            "\n",
            "Means: 0.632253090540568, Stdev: 0.04049115237585761 with: [{'batch_size': 32, 'epochs': 50, 'lr': 0.001}, {'batch_size': 32, 'epochs': 50, 'lr': 0.01}, {'batch_size': 32, 'epochs': 50, 'lr': 0.1}, {'batch_size': 32, 'epochs': 100, 'lr': 0.001}, {'batch_size': 32, 'epochs': 100, 'lr': 0.01}, {'batch_size': 32, 'epochs': 100, 'lr': 0.1}, {'batch_size': 64, 'epochs': 50, 'lr': 0.001}, {'batch_size': 64, 'epochs': 50, 'lr': 0.01}, {'batch_size': 64, 'epochs': 50, 'lr': 0.1}, {'batch_size': 64, 'epochs': 100, 'lr': 0.001}, {'batch_size': 64, 'epochs': 100, 'lr': 0.01}, {'batch_size': 64, 'epochs': 100, 'lr': 0.1}, {'batch_size': 128, 'epochs': 50, 'lr': 0.001}, {'batch_size': 128, 'epochs': 50, 'lr': 0.01}, {'batch_size': 128, 'epochs': 50, 'lr': 0.1}, {'batch_size': 128, 'epochs': 100, 'lr': 0.001}, {'batch_size': 128, 'epochs': 100, 'lr': 0.01}, {'batch_size': 128, 'epochs': 100, 'lr': 0.1}]\n",
            "Means: 0.7190329233805338, Stdev: 0.020597202888826667 with: [{'batch_size': 32, 'epochs': 50, 'lr': 0.001}, {'batch_size': 32, 'epochs': 50, 'lr': 0.01}, {'batch_size': 32, 'epochs': 50, 'lr': 0.1}, {'batch_size': 32, 'epochs': 100, 'lr': 0.001}, {'batch_size': 32, 'epochs': 100, 'lr': 0.01}, {'batch_size': 32, 'epochs': 100, 'lr': 0.1}, {'batch_size': 64, 'epochs': 50, 'lr': 0.001}, {'batch_size': 64, 'epochs': 50, 'lr': 0.01}, {'batch_size': 64, 'epochs': 50, 'lr': 0.1}, {'batch_size': 64, 'epochs': 100, 'lr': 0.001}, {'batch_size': 64, 'epochs': 100, 'lr': 0.01}, {'batch_size': 64, 'epochs': 100, 'lr': 0.1}, {'batch_size': 128, 'epochs': 50, 'lr': 0.001}, {'batch_size': 128, 'epochs': 50, 'lr': 0.01}, {'batch_size': 128, 'epochs': 50, 'lr': 0.1}, {'batch_size': 128, 'epochs': 100, 'lr': 0.001}, {'batch_size': 128, 'epochs': 100, 'lr': 0.01}, {'batch_size': 128, 'epochs': 100, 'lr': 0.1}]\n",
            "Means: 0.8428498109181722, Stdev: 0.022044457643924015 with: [{'batch_size': 32, 'epochs': 50, 'lr': 0.001}, {'batch_size': 32, 'epochs': 50, 'lr': 0.01}, {'batch_size': 32, 'epochs': 50, 'lr': 0.1}, {'batch_size': 32, 'epochs': 100, 'lr': 0.001}, {'batch_size': 32, 'epochs': 100, 'lr': 0.01}, {'batch_size': 32, 'epochs': 100, 'lr': 0.1}, {'batch_size': 64, 'epochs': 50, 'lr': 0.001}, {'batch_size': 64, 'epochs': 50, 'lr': 0.01}, {'batch_size': 64, 'epochs': 50, 'lr': 0.1}, {'batch_size': 64, 'epochs': 100, 'lr': 0.001}, {'batch_size': 64, 'epochs': 100, 'lr': 0.01}, {'batch_size': 64, 'epochs': 100, 'lr': 0.1}, {'batch_size': 128, 'epochs': 50, 'lr': 0.001}, {'batch_size': 128, 'epochs': 50, 'lr': 0.01}, {'batch_size': 128, 'epochs': 50, 'lr': 0.1}, {'batch_size': 128, 'epochs': 100, 'lr': 0.001}, {'batch_size': 128, 'epochs': 100, 'lr': 0.01}, {'batch_size': 128, 'epochs': 100, 'lr': 0.1}]\n",
            "Means: 0.5905864238739014, Stdev: 0.06295427587370292 with: [{'batch_size': 32, 'epochs': 50, 'lr': 0.001}, {'batch_size': 32, 'epochs': 50, 'lr': 0.01}, {'batch_size': 32, 'epochs': 50, 'lr': 0.1}, {'batch_size': 32, 'epochs': 100, 'lr': 0.001}, {'batch_size': 32, 'epochs': 100, 'lr': 0.01}, {'batch_size': 32, 'epochs': 100, 'lr': 0.1}, {'batch_size': 64, 'epochs': 50, 'lr': 0.001}, {'batch_size': 64, 'epochs': 50, 'lr': 0.01}, {'batch_size': 64, 'epochs': 50, 'lr': 0.1}, {'batch_size': 64, 'epochs': 100, 'lr': 0.001}, {'batch_size': 64, 'epochs': 100, 'lr': 0.01}, {'batch_size': 64, 'epochs': 100, 'lr': 0.1}, {'batch_size': 128, 'epochs': 50, 'lr': 0.001}, {'batch_size': 128, 'epochs': 50, 'lr': 0.01}, {'batch_size': 128, 'epochs': 50, 'lr': 0.1}, {'batch_size': 128, 'epochs': 100, 'lr': 0.001}, {'batch_size': 128, 'epochs': 100, 'lr': 0.01}, {'batch_size': 128, 'epochs': 100, 'lr': 0.1}]\n",
            "Means: 0.7435699502627054, Stdev: 0.0530721098913964 with: [{'batch_size': 32, 'epochs': 50, 'lr': 0.001}, {'batch_size': 32, 'epochs': 50, 'lr': 0.01}, {'batch_size': 32, 'epochs': 50, 'lr': 0.1}, {'batch_size': 32, 'epochs': 100, 'lr': 0.001}, {'batch_size': 32, 'epochs': 100, 'lr': 0.01}, {'batch_size': 32, 'epochs': 100, 'lr': 0.1}, {'batch_size': 64, 'epochs': 50, 'lr': 0.001}, {'batch_size': 64, 'epochs': 50, 'lr': 0.01}, {'batch_size': 64, 'epochs': 50, 'lr': 0.1}, {'batch_size': 64, 'epochs': 100, 'lr': 0.001}, {'batch_size': 64, 'epochs': 100, 'lr': 0.01}, {'batch_size': 64, 'epochs': 100, 'lr': 0.1}, {'batch_size': 128, 'epochs': 50, 'lr': 0.001}, {'batch_size': 128, 'epochs': 50, 'lr': 0.01}, {'batch_size': 128, 'epochs': 50, 'lr': 0.1}, {'batch_size': 128, 'epochs': 100, 'lr': 0.001}, {'batch_size': 128, 'epochs': 100, 'lr': 0.01}, {'batch_size': 128, 'epochs': 100, 'lr': 0.1}]\n",
            "Means: 0.8511316776275635, Stdev: 0.02734730705867655 with: [{'batch_size': 32, 'epochs': 50, 'lr': 0.001}, {'batch_size': 32, 'epochs': 50, 'lr': 0.01}, {'batch_size': 32, 'epochs': 50, 'lr': 0.1}, {'batch_size': 32, 'epochs': 100, 'lr': 0.001}, {'batch_size': 32, 'epochs': 100, 'lr': 0.01}, {'batch_size': 32, 'epochs': 100, 'lr': 0.1}, {'batch_size': 64, 'epochs': 50, 'lr': 0.001}, {'batch_size': 64, 'epochs': 50, 'lr': 0.01}, {'batch_size': 64, 'epochs': 50, 'lr': 0.1}, {'batch_size': 64, 'epochs': 100, 'lr': 0.001}, {'batch_size': 64, 'epochs': 100, 'lr': 0.01}, {'batch_size': 64, 'epochs': 100, 'lr': 0.1}, {'batch_size': 128, 'epochs': 50, 'lr': 0.001}, {'batch_size': 128, 'epochs': 50, 'lr': 0.01}, {'batch_size': 128, 'epochs': 50, 'lr': 0.1}, {'batch_size': 128, 'epochs': 100, 'lr': 0.001}, {'batch_size': 128, 'epochs': 100, 'lr': 0.01}, {'batch_size': 128, 'epochs': 100, 'lr': 0.1}]\n",
            "Means: 0.467283954222997, Stdev: 0.08782947981948605 with: [{'batch_size': 32, 'epochs': 50, 'lr': 0.001}, {'batch_size': 32, 'epochs': 50, 'lr': 0.01}, {'batch_size': 32, 'epochs': 50, 'lr': 0.1}, {'batch_size': 32, 'epochs': 100, 'lr': 0.001}, {'batch_size': 32, 'epochs': 100, 'lr': 0.01}, {'batch_size': 32, 'epochs': 100, 'lr': 0.1}, {'batch_size': 64, 'epochs': 50, 'lr': 0.001}, {'batch_size': 64, 'epochs': 50, 'lr': 0.01}, {'batch_size': 64, 'epochs': 50, 'lr': 0.1}, {'batch_size': 64, 'epochs': 100, 'lr': 0.001}, {'batch_size': 64, 'epochs': 100, 'lr': 0.01}, {'batch_size': 64, 'epochs': 100, 'lr': 0.1}, {'batch_size': 128, 'epochs': 50, 'lr': 0.001}, {'batch_size': 128, 'epochs': 50, 'lr': 0.01}, {'batch_size': 128, 'epochs': 50, 'lr': 0.1}, {'batch_size': 128, 'epochs': 100, 'lr': 0.001}, {'batch_size': 128, 'epochs': 100, 'lr': 0.01}, {'batch_size': 128, 'epochs': 100, 'lr': 0.1}]\n",
            "Means: 0.586831271648407, Stdev: 0.04138207910438291 with: [{'batch_size': 32, 'epochs': 50, 'lr': 0.001}, {'batch_size': 32, 'epochs': 50, 'lr': 0.01}, {'batch_size': 32, 'epochs': 50, 'lr': 0.1}, {'batch_size': 32, 'epochs': 100, 'lr': 0.001}, {'batch_size': 32, 'epochs': 100, 'lr': 0.01}, {'batch_size': 32, 'epochs': 100, 'lr': 0.1}, {'batch_size': 64, 'epochs': 50, 'lr': 0.001}, {'batch_size': 64, 'epochs': 50, 'lr': 0.01}, {'batch_size': 64, 'epochs': 50, 'lr': 0.1}, {'batch_size': 64, 'epochs': 100, 'lr': 0.001}, {'batch_size': 64, 'epochs': 100, 'lr': 0.01}, {'batch_size': 64, 'epochs': 100, 'lr': 0.1}, {'batch_size': 128, 'epochs': 50, 'lr': 0.001}, {'batch_size': 128, 'epochs': 50, 'lr': 0.01}, {'batch_size': 128, 'epochs': 50, 'lr': 0.1}, {'batch_size': 128, 'epochs': 100, 'lr': 0.001}, {'batch_size': 128, 'epochs': 100, 'lr': 0.01}, {'batch_size': 128, 'epochs': 100, 'lr': 0.1}]\n",
            "Means: 0.834567924340566, Stdev: 0.02444320528338803 with: [{'batch_size': 32, 'epochs': 50, 'lr': 0.001}, {'batch_size': 32, 'epochs': 50, 'lr': 0.01}, {'batch_size': 32, 'epochs': 50, 'lr': 0.1}, {'batch_size': 32, 'epochs': 100, 'lr': 0.001}, {'batch_size': 32, 'epochs': 100, 'lr': 0.01}, {'batch_size': 32, 'epochs': 100, 'lr': 0.1}, {'batch_size': 64, 'epochs': 50, 'lr': 0.001}, {'batch_size': 64, 'epochs': 50, 'lr': 0.01}, {'batch_size': 64, 'epochs': 50, 'lr': 0.1}, {'batch_size': 64, 'epochs': 100, 'lr': 0.001}, {'batch_size': 64, 'epochs': 100, 'lr': 0.01}, {'batch_size': 64, 'epochs': 100, 'lr': 0.1}, {'batch_size': 128, 'epochs': 50, 'lr': 0.001}, {'batch_size': 128, 'epochs': 50, 'lr': 0.01}, {'batch_size': 128, 'epochs': 50, 'lr': 0.1}, {'batch_size': 128, 'epochs': 100, 'lr': 0.001}, {'batch_size': 128, 'epochs': 100, 'lr': 0.01}, {'batch_size': 128, 'epochs': 100, 'lr': 0.1}]\n",
            "Means: 0.5668209890524546, Stdev: 0.17087298664430775 with: [{'batch_size': 32, 'epochs': 50, 'lr': 0.001}, {'batch_size': 32, 'epochs': 50, 'lr': 0.01}, {'batch_size': 32, 'epochs': 50, 'lr': 0.1}, {'batch_size': 32, 'epochs': 100, 'lr': 0.001}, {'batch_size': 32, 'epochs': 100, 'lr': 0.01}, {'batch_size': 32, 'epochs': 100, 'lr': 0.1}, {'batch_size': 64, 'epochs': 50, 'lr': 0.001}, {'batch_size': 64, 'epochs': 50, 'lr': 0.01}, {'batch_size': 64, 'epochs': 50, 'lr': 0.1}, {'batch_size': 64, 'epochs': 100, 'lr': 0.001}, {'batch_size': 64, 'epochs': 100, 'lr': 0.01}, {'batch_size': 64, 'epochs': 100, 'lr': 0.1}, {'batch_size': 128, 'epochs': 50, 'lr': 0.001}, {'batch_size': 128, 'epochs': 50, 'lr': 0.01}, {'batch_size': 128, 'epochs': 50, 'lr': 0.1}, {'batch_size': 128, 'epochs': 100, 'lr': 0.001}, {'batch_size': 128, 'epochs': 100, 'lr': 0.01}, {'batch_size': 128, 'epochs': 100, 'lr': 0.1}]\n",
            "Means: 0.6652777791023254, Stdev: 0.06051310198257165 with: [{'batch_size': 32, 'epochs': 50, 'lr': 0.001}, {'batch_size': 32, 'epochs': 50, 'lr': 0.01}, {'batch_size': 32, 'epochs': 50, 'lr': 0.1}, {'batch_size': 32, 'epochs': 100, 'lr': 0.001}, {'batch_size': 32, 'epochs': 100, 'lr': 0.01}, {'batch_size': 32, 'epochs': 100, 'lr': 0.1}, {'batch_size': 64, 'epochs': 50, 'lr': 0.001}, {'batch_size': 64, 'epochs': 50, 'lr': 0.01}, {'batch_size': 64, 'epochs': 50, 'lr': 0.1}, {'batch_size': 64, 'epochs': 100, 'lr': 0.001}, {'batch_size': 64, 'epochs': 100, 'lr': 0.01}, {'batch_size': 64, 'epochs': 100, 'lr': 0.1}, {'batch_size': 128, 'epochs': 50, 'lr': 0.001}, {'batch_size': 128, 'epochs': 50, 'lr': 0.01}, {'batch_size': 128, 'epochs': 50, 'lr': 0.1}, {'batch_size': 128, 'epochs': 100, 'lr': 0.001}, {'batch_size': 128, 'epochs': 100, 'lr': 0.01}, {'batch_size': 128, 'epochs': 100, 'lr': 0.1}]\n",
            "Means: 0.8388374447822571, Stdev: 0.020182591884899025 with: [{'batch_size': 32, 'epochs': 50, 'lr': 0.001}, {'batch_size': 32, 'epochs': 50, 'lr': 0.01}, {'batch_size': 32, 'epochs': 50, 'lr': 0.1}, {'batch_size': 32, 'epochs': 100, 'lr': 0.001}, {'batch_size': 32, 'epochs': 100, 'lr': 0.01}, {'batch_size': 32, 'epochs': 100, 'lr': 0.1}, {'batch_size': 64, 'epochs': 50, 'lr': 0.001}, {'batch_size': 64, 'epochs': 50, 'lr': 0.01}, {'batch_size': 64, 'epochs': 50, 'lr': 0.1}, {'batch_size': 64, 'epochs': 100, 'lr': 0.001}, {'batch_size': 64, 'epochs': 100, 'lr': 0.01}, {'batch_size': 64, 'epochs': 100, 'lr': 0.1}, {'batch_size': 128, 'epochs': 50, 'lr': 0.001}, {'batch_size': 128, 'epochs': 50, 'lr': 0.01}, {'batch_size': 128, 'epochs': 50, 'lr': 0.1}, {'batch_size': 128, 'epochs': 100, 'lr': 0.001}, {'batch_size': 128, 'epochs': 100, 'lr': 0.01}, {'batch_size': 128, 'epochs': 100, 'lr': 0.1}]\n",
            "Means: 0.4917181134223938, Stdev: 0.002982648175418949 with: [{'batch_size': 32, 'epochs': 50, 'lr': 0.001}, {'batch_size': 32, 'epochs': 50, 'lr': 0.01}, {'batch_size': 32, 'epochs': 50, 'lr': 0.1}, {'batch_size': 32, 'epochs': 100, 'lr': 0.001}, {'batch_size': 32, 'epochs': 100, 'lr': 0.01}, {'batch_size': 32, 'epochs': 100, 'lr': 0.1}, {'batch_size': 64, 'epochs': 50, 'lr': 0.001}, {'batch_size': 64, 'epochs': 50, 'lr': 0.01}, {'batch_size': 64, 'epochs': 50, 'lr': 0.1}, {'batch_size': 64, 'epochs': 100, 'lr': 0.001}, {'batch_size': 64, 'epochs': 100, 'lr': 0.01}, {'batch_size': 64, 'epochs': 100, 'lr': 0.1}, {'batch_size': 128, 'epochs': 50, 'lr': 0.001}, {'batch_size': 128, 'epochs': 50, 'lr': 0.01}, {'batch_size': 128, 'epochs': 50, 'lr': 0.1}, {'batch_size': 128, 'epochs': 100, 'lr': 0.001}, {'batch_size': 128, 'epochs': 100, 'lr': 0.01}, {'batch_size': 128, 'epochs': 100, 'lr': 0.1}]\n",
            "Means: 0.6446502010027567, Stdev: 0.010766658878293093 with: [{'batch_size': 32, 'epochs': 50, 'lr': 0.001}, {'batch_size': 32, 'epochs': 50, 'lr': 0.01}, {'batch_size': 32, 'epochs': 50, 'lr': 0.1}, {'batch_size': 32, 'epochs': 100, 'lr': 0.001}, {'batch_size': 32, 'epochs': 100, 'lr': 0.01}, {'batch_size': 32, 'epochs': 100, 'lr': 0.1}, {'batch_size': 64, 'epochs': 50, 'lr': 0.001}, {'batch_size': 64, 'epochs': 50, 'lr': 0.01}, {'batch_size': 64, 'epochs': 50, 'lr': 0.1}, {'batch_size': 64, 'epochs': 100, 'lr': 0.001}, {'batch_size': 64, 'epochs': 100, 'lr': 0.01}, {'batch_size': 64, 'epochs': 100, 'lr': 0.1}, {'batch_size': 128, 'epochs': 50, 'lr': 0.001}, {'batch_size': 128, 'epochs': 50, 'lr': 0.01}, {'batch_size': 128, 'epochs': 50, 'lr': 0.1}, {'batch_size': 128, 'epochs': 100, 'lr': 0.001}, {'batch_size': 128, 'epochs': 100, 'lr': 0.01}, {'batch_size': 128, 'epochs': 100, 'lr': 0.1}]\n",
            "Means: 0.7727880676587423, Stdev: 0.02268619473157857 with: [{'batch_size': 32, 'epochs': 50, 'lr': 0.001}, {'batch_size': 32, 'epochs': 50, 'lr': 0.01}, {'batch_size': 32, 'epochs': 50, 'lr': 0.1}, {'batch_size': 32, 'epochs': 100, 'lr': 0.001}, {'batch_size': 32, 'epochs': 100, 'lr': 0.01}, {'batch_size': 32, 'epochs': 100, 'lr': 0.1}, {'batch_size': 64, 'epochs': 50, 'lr': 0.001}, {'batch_size': 64, 'epochs': 50, 'lr': 0.01}, {'batch_size': 64, 'epochs': 50, 'lr': 0.1}, {'batch_size': 64, 'epochs': 100, 'lr': 0.001}, {'batch_size': 64, 'epochs': 100, 'lr': 0.01}, {'batch_size': 64, 'epochs': 100, 'lr': 0.1}, {'batch_size': 128, 'epochs': 50, 'lr': 0.001}, {'batch_size': 128, 'epochs': 50, 'lr': 0.01}, {'batch_size': 128, 'epochs': 50, 'lr': 0.1}, {'batch_size': 128, 'epochs': 100, 'lr': 0.001}, {'batch_size': 128, 'epochs': 100, 'lr': 0.01}, {'batch_size': 128, 'epochs': 100, 'lr': 0.1}]\n",
            "Means: 0.5576131741205851, Stdev: 0.04345414052766029 with: [{'batch_size': 32, 'epochs': 50, 'lr': 0.001}, {'batch_size': 32, 'epochs': 50, 'lr': 0.01}, {'batch_size': 32, 'epochs': 50, 'lr': 0.1}, {'batch_size': 32, 'epochs': 100, 'lr': 0.001}, {'batch_size': 32, 'epochs': 100, 'lr': 0.01}, {'batch_size': 32, 'epochs': 100, 'lr': 0.1}, {'batch_size': 64, 'epochs': 50, 'lr': 0.001}, {'batch_size': 64, 'epochs': 50, 'lr': 0.01}, {'batch_size': 64, 'epochs': 50, 'lr': 0.1}, {'batch_size': 64, 'epochs': 100, 'lr': 0.001}, {'batch_size': 64, 'epochs': 100, 'lr': 0.01}, {'batch_size': 64, 'epochs': 100, 'lr': 0.1}, {'batch_size': 128, 'epochs': 50, 'lr': 0.001}, {'batch_size': 128, 'epochs': 50, 'lr': 0.01}, {'batch_size': 128, 'epochs': 50, 'lr': 0.1}, {'batch_size': 128, 'epochs': 100, 'lr': 0.001}, {'batch_size': 128, 'epochs': 100, 'lr': 0.01}, {'batch_size': 128, 'epochs': 100, 'lr': 0.1}]\n",
            "Means: 0.5658436218897501, Stdev: 0.06500235690186759 with: [{'batch_size': 32, 'epochs': 50, 'lr': 0.001}, {'batch_size': 32, 'epochs': 50, 'lr': 0.01}, {'batch_size': 32, 'epochs': 50, 'lr': 0.1}, {'batch_size': 32, 'epochs': 100, 'lr': 0.001}, {'batch_size': 32, 'epochs': 100, 'lr': 0.01}, {'batch_size': 32, 'epochs': 100, 'lr': 0.1}, {'batch_size': 64, 'epochs': 50, 'lr': 0.001}, {'batch_size': 64, 'epochs': 50, 'lr': 0.01}, {'batch_size': 64, 'epochs': 50, 'lr': 0.1}, {'batch_size': 64, 'epochs': 100, 'lr': 0.001}, {'batch_size': 64, 'epochs': 100, 'lr': 0.01}, {'batch_size': 64, 'epochs': 100, 'lr': 0.1}, {'batch_size': 128, 'epochs': 50, 'lr': 0.001}, {'batch_size': 128, 'epochs': 50, 'lr': 0.01}, {'batch_size': 128, 'epochs': 50, 'lr': 0.1}, {'batch_size': 128, 'epochs': 100, 'lr': 0.001}, {'batch_size': 128, 'epochs': 100, 'lr': 0.01}, {'batch_size': 128, 'epochs': 100, 'lr': 0.1}]\n",
            "Means: 0.8346193432807922, Stdev: 0.016432757538044913 with: [{'batch_size': 32, 'epochs': 50, 'lr': 0.001}, {'batch_size': 32, 'epochs': 50, 'lr': 0.01}, {'batch_size': 32, 'epochs': 50, 'lr': 0.1}, {'batch_size': 32, 'epochs': 100, 'lr': 0.001}, {'batch_size': 32, 'epochs': 100, 'lr': 0.01}, {'batch_size': 32, 'epochs': 100, 'lr': 0.1}, {'batch_size': 64, 'epochs': 50, 'lr': 0.001}, {'batch_size': 64, 'epochs': 50, 'lr': 0.01}, {'batch_size': 64, 'epochs': 50, 'lr': 0.1}, {'batch_size': 64, 'epochs': 100, 'lr': 0.001}, {'batch_size': 64, 'epochs': 100, 'lr': 0.01}, {'batch_size': 64, 'epochs': 100, 'lr': 0.1}, {'batch_size': 128, 'epochs': 50, 'lr': 0.001}, {'batch_size': 128, 'epochs': 50, 'lr': 0.01}, {'batch_size': 128, 'epochs': 50, 'lr': 0.1}, {'batch_size': 128, 'epochs': 100, 'lr': 0.001}, {'batch_size': 128, 'epochs': 100, 'lr': 0.01}, {'batch_size': 128, 'epochs': 100, 'lr': 0.1}]\n"
          ],
          "name": "stdout"
        }
      ]
    },
    {
      "cell_type": "markdown",
      "metadata": {
        "id": "SVtwZHRBubz1"
      },
      "source": [
        "# Summary\n",
        "\n",
        "**No Grid Search:**\n",
        "\n",
        "1st overfitting model(learning rate: 0.01, epochs=100, batchsize=15, two dense layers, one is 32 units, the other is 20): \n",
        "\n",
        "    accuracy rate for training dataset: 1, \n",
        "    accuracy rate for testing dataset: 0.6885\n",
        "\n",
        "with dropout layer and L2 regularizer(dropout: 0.3, l2):\n",
        "\n",
        "    accuracy rate for training dataset: 0.8802, \n",
        "    accuracy rate for testing dataset: 0.77\n",
        "\n",
        "**With Grid Search:**\n",
        "\n",
        "baseline model(learning rate: 0.01, epochs=100, batchsize=15, two dense layers, one is 10 units, the other is 5):\n",
        "\n",
        "    accuracy rate for training dataset: 0.8347, \n",
        "    accuracy rate for testing dataset: 0.7868\n",
        "\n",
        "after grid search tuning (batchsize: 32, epochs: 100, learning rate: 0.1):\n",
        "\n",
        "    accuracy rate for training dataset: 0.8719, \n",
        "    accuracy rate for testing dataset: 0.8511\n"
      ]
    }
  ]
}