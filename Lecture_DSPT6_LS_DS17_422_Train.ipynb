{
  "nbformat": 4,
  "nbformat_minor": 0,
  "metadata": {
    "colab": {
      "name": "DSPT6_LS_DS17_422_Train.ipynb",
      "provenance": [],
      "collapsed_sections": [],
      "include_colab_link": true
    },
    "kernelspec": {
      "display_name": "Python 3",
      "language": "python",
      "name": "python3"
    },
    "language_info": {
      "codemirror_mode": {
        "name": "ipython",
        "version": 3
      },
      "file_extension": ".py",
      "mimetype": "text/x-python",
      "name": "python",
      "nbconvert_exporter": "python",
      "pygments_lexer": "ipython3",
      "version": "3.7.7"
    },
    "accelerator": "GPU"
  },
  "cells": [
    {
      "cell_type": "markdown",
      "metadata": {
        "id": "view-in-github",
        "colab_type": "text"
      },
      "source": [
        "<a href=\"https://colab.research.google.com/github/yuanjinren/DS-Unit-4-Sprint-2-Neural-Networks/blob/main/Lecture_DSPT6_LS_DS17_422_Train.ipynb\" target=\"_parent\"><img src=\"https://colab.research.google.com/assets/colab-badge.svg\" alt=\"Open In Colab\"/></a>"
      ]
    },
    {
      "cell_type": "markdown",
      "metadata": {
        "colab_type": "text",
        "id": "aS4GZ37Wgcjr"
      },
      "source": [
        "Lambda School Data Science\n",
        "\n",
        "*Unit 4, Sprint 2, Module 2*\n",
        "\n",
        "---"
      ]
    },
    {
      "cell_type": "markdown",
      "metadata": {
        "colab_type": "text",
        "id": "etFf1WLWgcjt",
        "toc-hr-collapsed": false
      },
      "source": [
        "# Train (Prepare)\n",
        "__*Neural Network Foundations*__"
      ]
    },
    {
      "cell_type": "markdown",
      "metadata": {
        "colab_type": "text",
        "id": "hXB80QOhgcju"
      },
      "source": [
        "## Learning Objectives\n",
        "* <a href=\"#p1\">Part 1</a>: Student should be able to explain the intuition behind backpropagation and gradient descent\n",
        "* <a href=\"#p2\">Part 2</a>: Student should be able to discuss the importance of batch size\n",
        "* <a href=\"#p3\">Part 3</a>: Student should be able to discuss the importance of learning rate"
      ]
    },
    {
      "cell_type": "markdown",
      "metadata": {
        "colab_type": "text",
        "id": "8YuQu2lfgcju"
      },
      "source": [
        "## Summary of Yesterday\n",
        "\n",
        "Yesterday, we learned about some of the principal components of Neural Networks: Neurons, Weights, Activation Functions, and layers (input, output, & hidden). Today, we will reinforce our understanding of those components and introduce the mechanics of training a neural network. Feed-forward neural networks, such as multi-layer perceptrons (MLPs), are almost always trained using some variation of gradient descent where the gradient has been calculated by backpropagation.\n",
        "\n",
        "  <center><img src=\"https://raw.githubusercontent.com/LambdaSchool/DS-Unit-4-Sprint-2-Neural-Networks/main/module1-Architect/IMG_0167.jpeg\" width=400></center>\n",
        "\n",
        "- There are three kinds of layers: input, hidden, and output layers.\n",
        "- Each layer is made up of **n** individual neurons (aka activation units) which have a corresponding weight and bias.\n",
        "- Signal is passed from layer to layer through a network by:\n",
        " - Taking in inputs from the training data (or previous layer)\n",
        " - Multiplying each input by its corresponding weight (think arrow/connecting line)\n",
        " - Adding a bias to this weighted some of inputs and weights\n",
        " - Activating this weighted sum + bias by squishifying it with sigmoid or some other activation function. With a single perceptron with three inputs, calculating the output from the node is done like so:\n",
        "\\begin{align}\n",
        " y = sigmoid(\\sum(weight_{1}input_{1} + weight_{2}input_{2} + weight_{3}input_{3}) + bias)\n",
        "\\end{align}\n",
        " - this final activated value is the signal that gets passed onto the next layer of the network.\n",
        " "
      ]
    },
    {
      "cell_type": "markdown",
      "metadata": {
        "colab_type": "text",
        "id": "bpi4R03rgcjv"
      },
      "source": [
        "## Training a Neural Network: *Formal Summary*\n",
        "\n",
        "0. Pick a network architecture\n",
        "   - No. of input units = No. of features\n",
        "   - No. of output units = Number of Classes (or expected targets)\n",
        "   - Select the number of hidden layers and number of neurons within each hidden layer\n",
        "1. Randomly initialize weights\n",
        "2. Implement forward propagation to get $h_{\\theta}(x^{(i)})$ for any $x^{(i)}$\n",
        "3. Implement code to compute a cost function $J(\\theta)$\n",
        "4. Implement backpropagation to compute partial derivatives $\\frac{\\delta}{\\delta\\theta_{jk}^{l}}{J(\\theta)}$\n",
        "5. Use gradient descent (or other advanced optimizer) with backpropagation to minimize $J(\\theta)$ as a function of parameters $\\theta\\$\n",
        "6. Repeat steps 2 - 5 until cost function is 'minimized' or some other stopping criteria is met. One pass over steps 2 - 5 is called an iteration or epoch."
      ]
    },
    {
      "cell_type": "markdown",
      "metadata": {
        "colab_type": "text",
        "id": "aM4CK1IarId4",
        "toc-hr-collapsed": false
      },
      "source": [
        "# Backpropagation & Gradient Descent (Learn)\n",
        "<a id=\"p1\"></a>"
      ]
    },
    {
      "cell_type": "markdown",
      "metadata": {
        "colab_type": "text",
        "id": "Ktm8Fmoagcjy",
        "toc-hr-collapsed": true
      },
      "source": [
        "## Overview\n",
        "\n",
        "Backpropagation is short for [\"Backwards Propagation of errors\"](https://en.wikipedia.org/wiki/Backpropagation) and refers to a specific (rather calculus intensive) algorithm for how weights in a neural network are updated in reverse order at the end of each training epoch. Our purpose today is to demonstrate the backpropagation algorithm on a simple Feedforward Neural Network and in so doing help you get a grasp on the main process. If you want to understand all of the underlying calculus of how the gradients are calculated then you'll need to dive into it yourself, [3Blue1Brown's video is a great starting place](https://www.youtube.com/watch?v=tIeHLnjs5U8). I also highly recommend this Welch Labs series [Neural Networks Demystified](https://www.youtube.com/watch?v=bxe2T-V8XRs) if you want a rapid yet orderly walk through of the main intuitions and math behind the backpropagation algorithm. "
      ]
    },
    {
      "cell_type": "markdown",
      "metadata": {
        "colab_type": "text",
        "id": "NXI2tEO9gcjy"
      },
      "source": [
        "### What is a Gradient?\n",
        "\n",
        "> In vector calculus, the gradient is a multi-variable generalization of the derivative. \n",
        "\n",
        "The gradients that we will deal with today will be vector representations of the derivative of the activation function. "
      ]
    },
    {
      "cell_type": "markdown",
      "metadata": {
        "colab_type": "text",
        "id": "UZY66kiUgcjz",
        "toc-hr-collapsed": true
      },
      "source": [
        "## Follow Along\n",
        "\n",
        "In this section, we will again a simple neural network using base TensorFlow. We'll focus on using a __Feed Forward Neural Network__ to predict test scores. "
      ]
    },
    {
      "cell_type": "markdown",
      "metadata": {
        "colab_type": "text",
        "id": "Dm2HPETcrgy6",
        "toc-hr-collapsed": true
      },
      "source": [
        "<center><img src=\"https://raw.githubusercontent.com/LambdaSchool/DS-Unit-4-Sprint-2-Neural-Networks/main/module1-Architect/IMG_99C94113202D-1.jpeg\"width=500></center>"
      ]
    },
    {
      "cell_type": "markdown",
      "metadata": {
        "colab_type": "text",
        "id": "4d4tzpwO6B47"
      },
      "source": [
        "### Generate some Fake Data"
      ]
    },
    {
      "cell_type": "code",
      "metadata": {
        "colab_type": "code",
        "id": "ERyVgeO_IWyV",
        "colab": {}
      },
      "source": [
        "import tensorflow as tf\n",
        "\n",
        "# Imagine that our data is drawn from a linear function\n",
        "# y = 3.5*hours_studying + 50\n",
        "\n",
        "TRUE_W = 3.5\n",
        "TRUE_b = 50.0\n",
        "NUM_EXAMPLES = 1000\n",
        "\n",
        "inputs = tf.random.normal(shape=[NUM_EXAMPLES])\n",
        "noise = tf.random.normal(shape=[NUM_EXAMPLES])\n",
        "\n",
        "outputs = inputs * TRUE_W + TRUE_b + noise"
      ],
      "execution_count": null,
      "outputs": []
    },
    {
      "cell_type": "code",
      "metadata": {
        "id": "W6RI8ix6vijF",
        "colab_type": "code",
        "colab": {
          "base_uri": "https://localhost:8080/",
          "height": 282
        },
        "outputId": "e6fb63b9-73da-496d-d032-a175ac97c0a0"
      },
      "source": [
        "import matplotlib.pyplot as plt\n",
        "plt.scatter(inputs, outputs, c='b')"
      ],
      "execution_count": null,
      "outputs": [
        {
          "output_type": "execute_result",
          "data": {
            "text/plain": [
              "<matplotlib.collections.PathCollection at 0x7f90902b8fd0>"
            ]
          },
          "metadata": {
            "tags": []
          },
          "execution_count": 2
        },
        {
          "output_type": "display_data",
          "data": {
            "image/png": "[encoded data removed]",
            "text/plain": [
              "<Figure size 432x288 with 1 Axes>"
            ]
          },
          "metadata": {
            "tags": [],
            "needs_background": "light"
          }
        }
      ]
    },
    {
      "cell_type": "markdown",
      "metadata": {
        "colab_type": "text",
        "id": "bCJesGEUgcj4"
      },
      "source": [
        "### Loss Function\n",
        "Here we will use Mean Squared Error (MSE), because this is a regression problem. We are trying to predict a continuous target."
      ]
    },
    {
      "cell_type": "code",
      "metadata": {
        "colab_type": "code",
        "id": "cDeUBW6k4Ri4",
        "colab": {}
      },
      "source": [
        "def loss(target_y, predicted_y):\n",
        "  \"MSE\"\n",
        "  return tf.reduce_mean(tf.square(target_y - predicted_y))"
      ],
      "execution_count": null,
      "outputs": []
    },
    {
      "cell_type": "markdown",
      "metadata": {
        "colab_type": "text",
        "id": "bgTf6vTS69Sw"
      },
      "source": [
        "### Neural Network Architecture\n",
        "Lets create a Neural Network class called \"Model\" to contain this functionality. Note: This is essentially a linear regression whose coefficients are trained by gradient descent. In practice, gradient descent works on much more complex function like the multi-layer networks we constructed yesterday."
      ]
    },
    {
      "cell_type": "code",
      "metadata": {
        "colab_type": "code",
        "id": "RUI8VSR5zyBv",
        "colab": {}
      },
      "source": [
        "class Model(object):\n",
        "  def __init__(self):\n",
        "    self.W = tf.Variable(8.0)\n",
        "    self.b = tf.Variable(40.0)\n",
        "\n",
        "  def __call__(self, x):\n",
        "    return self.W * x + self.b\n",
        "\n",
        "model = Model()\n",
        "\n",
        "assert model(3.0).numpy() == 64.0"
      ],
      "execution_count": null,
      "outputs": []
    },
    {
      "cell_type": "markdown",
      "metadata": {
        "colab_type": "text",
        "id": "gbyT_FJ88IlK"
      },
      "source": [
        "### Initial Weights\n",
        "The initial weights in our model were arbitrary. In practice, weights are initialized randomly. "
      ]
    },
    {
      "cell_type": "code",
      "metadata": {
        "colab_type": "code",
        "id": "IreIDe6P8H0H",
        "colab": {
          "base_uri": "https://localhost:8080/",
          "height": 282
        },
        "outputId": "1abcf24c-4e67-4259-cc40-fbd68ab5cf65"
      },
      "source": [
        "plt.scatter(inputs, outputs, c='b')\n",
        "plt.scatter(inputs, model(inputs), c='r')\n",
        "plt.show()\n",
        "\n",
        "print('Current loss: %1.6f' % loss(model(inputs), outputs).numpy())"
      ],
      "execution_count": null,
      "outputs": [
        {
          "output_type": "display_data",
          "data": {
            "image/png": "[encoded data removed]",
            "text/plain": [
              "<Figure size 432x288 with 1 Axes>"
            ]
          },
          "metadata": {
            "tags": [],
            "needs_background": "light"
          }
        },
        {
          "output_type": "stream",
          "text": [
            "Current loss: 116.513779\n"
          ],
          "name": "stdout"
        }
      ]
    },
    {
      "cell_type": "markdown",
      "metadata": {
        "colab_type": "text",
        "id": "16Ujj6vNYQyX",
        "toc-hr-collapsed": true
      },
      "source": [
        "### Update Weights Based on Gradient\n",
        "\n",
        "> *Assigning blame for bad predictions and delivering justice - repeatedly and a little bit at a time*\n",
        "\n",
        "You should also know that with neural networks it is common to have gradients that are not convex (like what we saw when we applied gradient descent to linear regression). \n",
        "\n",
        "Due to the high complexity of these models and their nonlinearity, it is common for gradient descent to get stuck in a local minimum, but there are ways to combat this:\n",
        "\n",
        "1) Stochastic Gradient Descent\n",
        "\n",
        "2) More advanced Gradient-Descent-based \"Optimizers\" - See Stretch Goals on assignment."
      ]
    },
    {
      "cell_type": "code",
      "metadata": {
        "colab_type": "code",
        "id": "ZgaGD6YlHoid",
        "colab": {}
      },
      "source": [
        "def train(model, inputs, outputs, learning_rate):\n",
        "  with tf.GradientTape() as t: \n",
        "      current_loss = loss(outputs, model(inputs))\n",
        "  dW, db = t.gradient(current_loss, [model.W, model.b])\n",
        "  model.W.assign_sub(learning_rate * dW)\n",
        "  model.b.assign_sub(learning_rate * db)"
      ],
      "execution_count": null,
      "outputs": []
    },
    {
      "cell_type": "markdown",
      "metadata": {
        "colab_type": "text",
        "id": "7iziWWURgck8"
      },
      "source": [
        "### Train the Network"
      ]
    },
    {
      "cell_type": "code",
      "metadata": {
        "colab_type": "code",
        "id": "4zn_HgFuHhTr",
        "colab": {
          "base_uri": "https://localhost:8080/",
          "height": 363
        },
        "outputId": "f14b07bf-a54a-4f3d-8751-223bc84d3a50"
      },
      "source": [
        "model = Model()\n",
        "\n",
        "# Store Some history of weights\n",
        "Ws, bs = [], []\n",
        "epochs = range(20)\n",
        "for epoch in epochs:\n",
        "  Ws.append(model.W.numpy())\n",
        "  bs.append(model.b.numpy())\n",
        "  current_loss = loss(outputs, model(inputs))\n",
        "  train(model, inputs, outputs, learning_rate=0.2)\n",
        "  print('Epoch %2d: W=%1.2f b=%1.2f loss=%2.5f' % (epoch, Ws[-1], bs[-1], current_loss))"
      ],
      "execution_count": null,
      "outputs": [
        {
          "output_type": "stream",
          "text": [
            "Epoch  0: W=8.00 b=40.00 loss=116.51378\n",
            "Epoch  1: W=6.40 b=43.92 loss=44.32188\n",
            "Epoch  2: W=5.37 b=46.29 loss=17.27069\n",
            "Epoch  3: W=4.70 b=47.73 loss=7.11049\n",
            "Epoch  4: W=4.27 b=48.61 loss=3.28580\n",
            "Epoch  5: W=3.99 b=49.14 loss=1.84292\n",
            "Epoch  6: W=3.81 b=49.46 loss=1.29747\n",
            "Epoch  7: W=3.70 b=49.65 loss=1.09087\n",
            "Epoch  8: W=3.63 b=49.77 loss=1.01248\n",
            "Epoch  9: W=3.58 b=49.85 loss=0.98268\n",
            "Epoch 10: W=3.55 b=49.89 loss=0.97133\n",
            "Epoch 11: W=3.53 b=49.92 loss=0.96700\n",
            "Epoch 12: W=3.52 b=49.93 loss=0.96535\n",
            "Epoch 13: W=3.51 b=49.94 loss=0.96472\n",
            "Epoch 14: W=3.51 b=49.95 loss=0.96448\n",
            "Epoch 15: W=3.51 b=49.95 loss=0.96438\n",
            "Epoch 16: W=3.50 b=49.95 loss=0.96435\n",
            "Epoch 17: W=3.50 b=49.96 loss=0.96434\n",
            "Epoch 18: W=3.50 b=49.96 loss=0.96433\n",
            "Epoch 19: W=3.50 b=49.96 loss=0.96433\n"
          ],
          "name": "stdout"
        }
      ]
    },
    {
      "cell_type": "code",
      "metadata": {
        "colab_type": "code",
        "id": "FSEt07wdHvi2",
        "colab": {
          "base_uri": "https://localhost:8080/",
          "height": 265
        },
        "outputId": "83910c35-c09a-46e4-9dcf-ccf5081e51b1"
      },
      "source": [
        "import matplotlib.pyplot as plt\n",
        "\n",
        "plt.plot(epochs, Ws, 'r', epochs, bs, 'b')\n",
        "plt.plot([TRUE_W] * len(epochs), 'r--',\n",
        "         [TRUE_b] * len(epochs), 'b--')\n",
        "plt.legend(['W', 'b', 'True W', 'True b'])\n",
        "plt.show()"
      ],
      "execution_count": null,
      "outputs": [
        {
          "output_type": "display_data",
          "data": {
            "image/png": "[encoded data removed]",
            "text/plain": [
              "<Figure size 432x288 with 1 Axes>"
            ]
          },
          "metadata": {
            "tags": [],
            "needs_background": "light"
          }
        }
      ]
    },
    {
      "cell_type": "markdown",
      "metadata": {
        "colab_type": "text",
        "id": "iKUVGoRxgck_"
      },
      "source": [
        "## Challenge\n",
        "\n",
        "In the module project, you will be asked to explain the logic of backpropagation and gradient descent."
      ]
    },
    {
      "cell_type": "markdown",
      "metadata": {
        "id": "4rs30xmNjsJd",
        "colab_type": "text"
      },
      "source": [
        "### In the following two sections we'll look at batch size and learning rate hyperparameters in isolation. \n",
        "However, it's important to know that recent research found some interesting relationships between batch sizes and learning rates. The best available suggestion today is to scale batch size proportionally to a learning rate:\n",
        "- https://openreview.net/pdf?id=B1Yy1BxCZ\n",
        "- https://papers.nips.cc/paper/8398-control-batch-size-and-learning-rate-to-generalize-well-theoretical-and-empirical-evidence.pdf"
      ]
    },
    {
      "cell_type": "markdown",
      "metadata": {
        "colab_type": "text",
        "id": "vTqZg-6igclA",
        "toc-hr-collapsed": true
      },
      "source": [
        "# Batch Size (Learn)"
      ]
    },
    {
      "cell_type": "markdown",
      "metadata": {
        "colab_type": "text",
        "id": "0nrm-racgclA"
      },
      "source": [
        "## Overview\n",
        "\n",
        "The What - Stochastic Gradient Descent calculates an approximation of the gradient over the entire dataset by reviewing the predictions of a random sample. \n",
        "\n",
        "The Why - *Speed*. Calculating the gradient over the entire dataset is extremely expensive computationally. \n",
        "\n",
        "### Batch Size\n",
        "Batches are the number of observations our model is shown to make predictions and update the weights. Batches are selected randomly during epoch. All observations are considered when passing thru an epoch at some point."
      ]
    },
    {
      "cell_type": "markdown",
      "metadata": {
        "colab_type": "text",
        "id": "oNQ2ZCi7I4i6"
      },
      "source": [
        "### Baseline Model"
      ]
    },
    {
      "cell_type": "code",
      "metadata": {
        "colab_type": "code",
        "id": "mZjW2lYVI9Q2",
        "colab": {
          "base_uri": "https://localhost:8080/",
          "height": 51
        },
        "outputId": "8c180671-6746-4345-df18-6e16a400ec0a"
      },
      "source": [
        "from tensorflow.keras.datasets import mnist\n",
        "\n",
        "(X_train, y_train), (X_test, y_test) = mnist.load_data()\n",
        "\n",
        "X_train = X_train / 255.\n",
        "X_test = X_test / 255.\n",
        "\n",
        "X_train = X_train.reshape((60000, 784))\n",
        "X_test = X_test.reshape((10000, 784))"
      ],
      "execution_count": null,
      "outputs": [
        {
          "output_type": "stream",
          "text": [
            "Downloading data from https://storage.googleapis.com/tensorflow/tf-keras-datasets/mnist.npz\n",
            "11493376/11490434 [==============================] - 0s 0us/step\n"
          ],
          "name": "stdout"
        }
      ]
    },
    {
      "cell_type": "code",
      "metadata": {
        "colab_type": "code",
        "id": "o7x17kDKJSy5",
        "colab": {}
      },
      "source": [
        "# Our Model\n",
        "\n",
        "from tensorflow.keras import Sequential\n",
        "from tensorflow.keras.layers import Dense\n",
        "from tensorflow.keras.optimizers import SGD\n",
        "\n",
        "def create_model(lr=0.01):\n",
        "  opt = SGD(learning_rate=lr)\n",
        "  model = Sequential([\n",
        "                      Dense(32, activation='relu', input_dim=784),\n",
        "                      Dense(32, activation='relu'),\n",
        "                      Dense(10, activation='softmax')\n",
        "  ])\n",
        "  model.compile(optimizer=opt,\n",
        "                loss='sparse_categorical_crossentropy',\n",
        "                metrics=['accuracy'])\n",
        "  return model"
      ],
      "execution_count": null,
      "outputs": []
    },
    {
      "cell_type": "code",
      "metadata": {
        "id": "9nMxqNt3DGP8",
        "colab_type": "code",
        "colab": {
          "base_uri": "https://localhost:8080/",
          "height": 259
        },
        "outputId": "c53e995b-8677-4533-9e16-400abbf8d4c4"
      },
      "source": [
        "model = create_model()\n",
        "model.summary()"
      ],
      "execution_count": null,
      "outputs": [
        {
          "output_type": "stream",
          "text": [
            "Model: \"sequential\"\n",
            "_________________________________________________________________\n",
            "Layer (type)                 Output Shape              Param #   \n",
            "=================================================================\n",
            "dense (Dense)                (None, 32)                25120     \n",
            "_________________________________________________________________\n",
            "dense_1 (Dense)              (None, 32)                1056      \n",
            "_________________________________________________________________\n",
            "dense_2 (Dense)              (None, 10)                330       \n",
            "=================================================================\n",
            "Total params: 26,506\n",
            "Trainable params: 26,506\n",
            "Non-trainable params: 0\n",
            "_________________________________________________________________\n"
          ],
          "name": "stdout"
        }
      ]
    },
    {
      "cell_type": "markdown",
      "metadata": {
        "colab_type": "text",
        "id": "ZF7UE-KluPsX"
      },
      "source": [
        "## Follow Along\n",
        "Let's run a series of experiments for a default, small, and large batch size."
      ]
    },
    {
      "cell_type": "markdown",
      "metadata": {
        "colab_type": "text",
        "id": "VhpDaVFRJl3U"
      },
      "source": [
        "### Default\n",
        "Batch Size is 32"
      ]
    },
    {
      "cell_type": "code",
      "metadata": {
        "id": "hJWuAOqIGXSQ",
        "colab_type": "code",
        "colab": {
          "base_uri": "https://localhost:8080/",
          "height": 34
        },
        "outputId": "639aff8b-e5b9-4eb3-a9ac-6ec6e8c6651d"
      },
      "source": [
        "1875*32"
      ],
      "execution_count": null,
      "outputs": [
        {
          "output_type": "execute_result",
          "data": {
            "text/plain": [
              "60000"
            ]
          },
          "metadata": {
            "tags": []
          },
          "execution_count": 19
        }
      ]
    },
    {
      "cell_type": "code",
      "metadata": {
        "id": "5mRKJO5TGZKB",
        "colab_type": "code",
        "colab": {
          "base_uri": "https://localhost:8080/",
          "height": 34
        },
        "outputId": "451f3b08-9c66-4659-fa80-0bd6620759f9"
      },
      "source": [
        "X_train.shape"
      ],
      "execution_count": null,
      "outputs": [
        {
          "output_type": "execute_result",
          "data": {
            "text/plain": [
              "(60000, 784)"
            ]
          },
          "metadata": {
            "tags": []
          },
          "execution_count": 20
        }
      ]
    },
    {
      "cell_type": "code",
      "metadata": {
        "colab_type": "code",
        "id": "P-ChVGikgclD",
        "colab": {
          "base_uri": "https://localhost:8080/",
          "height": 883
        },
        "outputId": "4eb2e1fc-9192-4e55-acca-5d1e37364b4e"
      },
      "source": [
        "model = create_model()\n",
        "\n",
        "bt_default = model.fit(X_train, \n",
        "                       y_train,\n",
        "                       epochs=25,\n",
        "                       batch_size=32,\n",
        "                       validation_data=(X_test, y_test)\n",
        ")"
      ],
      "execution_count": null,
      "outputs": [
        {
          "output_type": "stream",
          "text": [
            "Epoch 1/25\n",
            "1875/1875 [==============================] - 4s 2ms/step - loss: 0.7213 - accuracy: 0.7996 - val_loss: 0.3493 - val_accuracy: 0.9031\n",
            "Epoch 2/25\n",
            "1875/1875 [==============================] - 4s 2ms/step - loss: 0.3257 - accuracy: 0.9063 - val_loss: 0.2783 - val_accuracy: 0.9219\n",
            "Epoch 3/25\n",
            "1875/1875 [==============================] - 4s 2ms/step - loss: 0.2748 - accuracy: 0.9212 - val_loss: 0.2588 - val_accuracy: 0.9233\n",
            "Epoch 4/25\n",
            "1875/1875 [==============================] - 4s 2ms/step - loss: 0.2446 - accuracy: 0.9290 - val_loss: 0.2287 - val_accuracy: 0.9352\n",
            "Epoch 5/25\n",
            "1875/1875 [==============================] - 4s 2ms/step - loss: 0.2211 - accuracy: 0.9363 - val_loss: 0.2107 - val_accuracy: 0.9380\n",
            "Epoch 6/25\n",
            "1875/1875 [==============================] - 4s 2ms/step - loss: 0.2032 - accuracy: 0.9413 - val_loss: 0.1921 - val_accuracy: 0.9420\n",
            "Epoch 7/25\n",
            "1875/1875 [==============================] - 4s 2ms/step - loss: 0.1886 - accuracy: 0.9454 - val_loss: 0.1891 - val_accuracy: 0.9446\n",
            "Epoch 8/25\n",
            "1875/1875 [==============================] - 4s 2ms/step - loss: 0.1762 - accuracy: 0.9483 - val_loss: 0.1761 - val_accuracy: 0.9480\n",
            "Epoch 9/25\n",
            "1875/1875 [==============================] - 4s 2ms/step - loss: 0.1650 - accuracy: 0.9518 - val_loss: 0.1624 - val_accuracy: 0.9531\n",
            "Epoch 10/25\n",
            "1875/1875 [==============================] - 4s 2ms/step - loss: 0.1556 - accuracy: 0.9543 - val_loss: 0.1570 - val_accuracy: 0.9528\n",
            "Epoch 11/25\n",
            "1875/1875 [==============================] - 3s 2ms/step - loss: 0.1473 - accuracy: 0.9567 - val_loss: 0.1538 - val_accuracy: 0.9557\n",
            "Epoch 12/25\n",
            "1875/1875 [==============================] - 4s 2ms/step - loss: 0.1401 - accuracy: 0.9595 - val_loss: 0.1422 - val_accuracy: 0.9566\n",
            "Epoch 13/25\n",
            "1875/1875 [==============================] - 3s 2ms/step - loss: 0.1333 - accuracy: 0.9611 - val_loss: 0.1429 - val_accuracy: 0.9582\n",
            "Epoch 14/25\n",
            "1875/1875 [==============================] - 4s 2ms/step - loss: 0.1271 - accuracy: 0.9625 - val_loss: 0.1344 - val_accuracy: 0.9582\n",
            "Epoch 15/25\n",
            "1875/1875 [==============================] - 4s 2ms/step - loss: 0.1219 - accuracy: 0.9644 - val_loss: 0.1324 - val_accuracy: 0.9597\n",
            "Epoch 16/25\n",
            "1875/1875 [==============================] - 4s 2ms/step - loss: 0.1166 - accuracy: 0.9658 - val_loss: 0.1277 - val_accuracy: 0.9611\n",
            "Epoch 17/25\n",
            "1875/1875 [==============================] - 4s 2ms/step - loss: 0.1125 - accuracy: 0.9671 - val_loss: 0.1254 - val_accuracy: 0.9619\n",
            "Epoch 18/25\n",
            "1875/1875 [==============================] - 3s 2ms/step - loss: 0.1084 - accuracy: 0.9681 - val_loss: 0.1246 - val_accuracy: 0.9627\n",
            "Epoch 19/25\n",
            "1875/1875 [==============================] - 4s 2ms/step - loss: 0.1041 - accuracy: 0.9699 - val_loss: 0.1219 - val_accuracy: 0.9624\n",
            "Epoch 20/25\n",
            "1875/1875 [==============================] - 4s 2ms/step - loss: 0.1006 - accuracy: 0.9706 - val_loss: 0.1207 - val_accuracy: 0.9622\n",
            "Epoch 21/25\n",
            "1875/1875 [==============================] - 3s 2ms/step - loss: 0.0976 - accuracy: 0.9714 - val_loss: 0.1177 - val_accuracy: 0.9636\n",
            "Epoch 22/25\n",
            "1875/1875 [==============================] - 3s 2ms/step - loss: 0.0943 - accuracy: 0.9723 - val_loss: 0.1134 - val_accuracy: 0.9652\n",
            "Epoch 23/25\n",
            "1875/1875 [==============================] - 3s 2ms/step - loss: 0.0913 - accuracy: 0.9730 - val_loss: 0.1169 - val_accuracy: 0.9651\n",
            "Epoch 24/25\n",
            "1875/1875 [==============================] - 3s 2ms/step - loss: 0.0888 - accuracy: 0.9742 - val_loss: 0.1109 - val_accuracy: 0.9668\n",
            "Epoch 25/25\n",
            "1875/1875 [==============================] - 3s 2ms/step - loss: 0.0860 - accuracy: 0.9749 - val_loss: 0.1094 - val_accuracy: 0.9670\n"
          ],
          "name": "stdout"
        }
      ]
    },
    {
      "cell_type": "code",
      "metadata": {
        "id": "2K2Gk9OsHjWo",
        "colab_type": "code",
        "colab": {}
      },
      "source": [
        ""
      ],
      "execution_count": null,
      "outputs": []
    },
    {
      "cell_type": "markdown",
      "metadata": {
        "colab_type": "text",
        "id": "KvsbOFnDJuG0"
      },
      "source": [
        "### Small Batch Size\n",
        "Batch Size is 8"
      ]
    },
    {
      "cell_type": "code",
      "metadata": {
        "colab_type": "code",
        "id": "diDzvb-UJ1je",
        "colab": {
          "base_uri": "https://localhost:8080/",
          "height": 883
        },
        "outputId": "cdd764a0-1991-42c5-b86c-49c6f20296e6"
      },
      "source": [
        "model = create_model()\n",
        "\n",
        "bt_small = model.fit(X_train, \n",
        "                       y_train,\n",
        "                       epochs=25,\n",
        "                       batch_size=8,\n",
        "                       validation_data=(X_test, y_test)\n",
        ")"
      ],
      "execution_count": null,
      "outputs": [
        {
          "output_type": "stream",
          "text": [
            "Epoch 1/25\n",
            "7500/7500 [==============================] - 14s 2ms/step - loss: 0.4043 - accuracy: 0.8830 - val_loss: 0.2281 - val_accuracy: 0.9317\n",
            "Epoch 2/25\n",
            "7500/7500 [==============================] - 14s 2ms/step - loss: 0.2061 - accuracy: 0.9398 - val_loss: 0.1754 - val_accuracy: 0.9458\n",
            "Epoch 3/25\n",
            "7500/7500 [==============================] - 14s 2ms/step - loss: 0.1641 - accuracy: 0.9517 - val_loss: 0.1489 - val_accuracy: 0.9544\n",
            "Epoch 4/25\n",
            "7500/7500 [==============================] - 14s 2ms/step - loss: 0.1388 - accuracy: 0.9595 - val_loss: 0.1386 - val_accuracy: 0.9599\n",
            "Epoch 5/25\n",
            "7500/7500 [==============================] - 13s 2ms/step - loss: 0.1212 - accuracy: 0.9639 - val_loss: 0.1240 - val_accuracy: 0.9621\n",
            "Epoch 6/25\n",
            "7500/7500 [==============================] - 13s 2ms/step - loss: 0.1093 - accuracy: 0.9679 - val_loss: 0.1269 - val_accuracy: 0.9595\n",
            "Epoch 7/25\n",
            "7500/7500 [==============================] - 13s 2ms/step - loss: 0.0988 - accuracy: 0.9707 - val_loss: 0.1181 - val_accuracy: 0.9645\n",
            "Epoch 8/25\n",
            "7500/7500 [==============================] - 13s 2ms/step - loss: 0.0903 - accuracy: 0.9725 - val_loss: 0.1166 - val_accuracy: 0.9645\n",
            "Epoch 9/25\n",
            "7500/7500 [==============================] - 13s 2ms/step - loss: 0.0837 - accuracy: 0.9750 - val_loss: 0.1142 - val_accuracy: 0.9650\n",
            "Epoch 10/25\n",
            "7500/7500 [==============================] - 13s 2ms/step - loss: 0.0779 - accuracy: 0.9767 - val_loss: 0.1124 - val_accuracy: 0.9655\n",
            "Epoch 11/25\n",
            "7500/7500 [==============================] - 14s 2ms/step - loss: 0.0744 - accuracy: 0.9772 - val_loss: 0.1052 - val_accuracy: 0.9691\n",
            "Epoch 12/25\n",
            "7500/7500 [==============================] - 13s 2ms/step - loss: 0.0696 - accuracy: 0.9789 - val_loss: 0.1116 - val_accuracy: 0.9652\n",
            "Epoch 13/25\n",
            "7500/7500 [==============================] - 13s 2ms/step - loss: 0.0647 - accuracy: 0.9808 - val_loss: 0.1023 - val_accuracy: 0.9686\n",
            "Epoch 14/25\n",
            "7500/7500 [==============================] - 13s 2ms/step - loss: 0.0624 - accuracy: 0.9808 - val_loss: 0.1078 - val_accuracy: 0.9691\n",
            "Epoch 15/25\n",
            "7500/7500 [==============================] - 13s 2ms/step - loss: 0.0587 - accuracy: 0.9822 - val_loss: 0.1056 - val_accuracy: 0.9690\n",
            "Epoch 16/25\n",
            "7500/7500 [==============================] - 13s 2ms/step - loss: 0.0552 - accuracy: 0.9838 - val_loss: 0.1171 - val_accuracy: 0.9659\n",
            "Epoch 17/25\n",
            "7500/7500 [==============================] - 13s 2ms/step - loss: 0.0522 - accuracy: 0.9837 - val_loss: 0.1007 - val_accuracy: 0.9710\n",
            "Epoch 18/25\n",
            "7500/7500 [==============================] - 13s 2ms/step - loss: 0.0504 - accuracy: 0.9843 - val_loss: 0.1219 - val_accuracy: 0.9634\n",
            "Epoch 19/25\n",
            "7500/7500 [==============================] - 13s 2ms/step - loss: 0.0484 - accuracy: 0.9852 - val_loss: 0.1147 - val_accuracy: 0.9675\n",
            "Epoch 20/25\n",
            "7500/7500 [==============================] - 13s 2ms/step - loss: 0.0444 - accuracy: 0.9867 - val_loss: 0.1090 - val_accuracy: 0.9691\n",
            "Epoch 21/25\n",
            "7500/7500 [==============================] - 13s 2ms/step - loss: 0.0432 - accuracy: 0.9866 - val_loss: 0.1030 - val_accuracy: 0.9699\n",
            "Epoch 22/25\n",
            "7500/7500 [==============================] - 14s 2ms/step - loss: 0.0416 - accuracy: 0.9869 - val_loss: 0.1023 - val_accuracy: 0.9712\n",
            "Epoch 23/25\n",
            "7500/7500 [==============================] - 13s 2ms/step - loss: 0.0403 - accuracy: 0.9876 - val_loss: 0.1159 - val_accuracy: 0.9687\n",
            "Epoch 24/25\n",
            "7500/7500 [==============================] - 13s 2ms/step - loss: 0.0388 - accuracy: 0.9881 - val_loss: 0.1084 - val_accuracy: 0.9701\n",
            "Epoch 25/25\n",
            "7500/7500 [==============================] - 13s 2ms/step - loss: 0.0352 - accuracy: 0.9887 - val_loss: 0.1219 - val_accuracy: 0.9672\n"
          ],
          "name": "stdout"
        }
      ]
    },
    {
      "cell_type": "markdown",
      "metadata": {
        "colab_type": "text",
        "id": "_iPvvvt5J2Xl"
      },
      "source": [
        "### Large Batch Size\n",
        "Batch Size is 512"
      ]
    },
    {
      "cell_type": "code",
      "metadata": {
        "colab_type": "code",
        "id": "7h8Z5293KABT",
        "colab": {
          "base_uri": "https://localhost:8080/",
          "height": 883
        },
        "outputId": "9a4ad5a2-5379-4a96-ea12-2faff36caa59"
      },
      "source": [
        "model = create_model()\n",
        "\n",
        "bt_large = model.fit(X_train, \n",
        "                       y_train,\n",
        "                       epochs=25,\n",
        "                       batch_size=512,\n",
        "                       validation_data=(X_test, y_test)\n",
        ")"
      ],
      "execution_count": null,
      "outputs": [
        {
          "output_type": "stream",
          "text": [
            "Epoch 1/25\n",
            "118/118 [==============================] - 0s 4ms/step - loss: 2.1524 - accuracy: 0.2770 - val_loss: 1.9633 - val_accuracy: 0.3822\n",
            "Epoch 2/25\n",
            "118/118 [==============================] - 0s 3ms/step - loss: 1.7808 - accuracy: 0.4767 - val_loss: 1.5458 - val_accuracy: 0.6018\n",
            "Epoch 3/25\n",
            "118/118 [==============================] - 0s 3ms/step - loss: 1.3677 - accuracy: 0.6656 - val_loss: 1.1442 - val_accuracy: 0.7369\n",
            "Epoch 4/25\n",
            "118/118 [==============================] - 0s 3ms/step - loss: 1.0285 - accuracy: 0.7530 - val_loss: 0.8707 - val_accuracy: 0.7932\n",
            "Epoch 5/25\n",
            "118/118 [==============================] - 0s 3ms/step - loss: 0.8148 - accuracy: 0.7958 - val_loss: 0.7103 - val_accuracy: 0.8179\n",
            "Epoch 6/25\n",
            "118/118 [==============================] - 0s 3ms/step - loss: 0.6875 - accuracy: 0.8189 - val_loss: 0.6121 - val_accuracy: 0.8382\n",
            "Epoch 7/25\n",
            "118/118 [==============================] - 0s 3ms/step - loss: 0.6049 - accuracy: 0.8378 - val_loss: 0.5462 - val_accuracy: 0.8507\n",
            "Epoch 8/25\n",
            "118/118 [==============================] - 0s 3ms/step - loss: 0.5466 - accuracy: 0.8520 - val_loss: 0.4976 - val_accuracy: 0.8649\n",
            "Epoch 9/25\n",
            "118/118 [==============================] - 0s 3ms/step - loss: 0.5033 - accuracy: 0.8624 - val_loss: 0.4613 - val_accuracy: 0.8740\n",
            "Epoch 10/25\n",
            "118/118 [==============================] - 0s 3ms/step - loss: 0.4700 - accuracy: 0.8710 - val_loss: 0.4341 - val_accuracy: 0.8825\n",
            "Epoch 11/25\n",
            "118/118 [==============================] - 0s 3ms/step - loss: 0.4437 - accuracy: 0.8780 - val_loss: 0.4104 - val_accuracy: 0.8873\n",
            "Epoch 12/25\n",
            "118/118 [==============================] - 0s 3ms/step - loss: 0.4226 - accuracy: 0.8832 - val_loss: 0.3928 - val_accuracy: 0.8926\n",
            "Epoch 13/25\n",
            "118/118 [==============================] - 0s 3ms/step - loss: 0.4051 - accuracy: 0.8878 - val_loss: 0.3775 - val_accuracy: 0.8949\n",
            "Epoch 14/25\n",
            "118/118 [==============================] - 0s 3ms/step - loss: 0.3903 - accuracy: 0.8914 - val_loss: 0.3646 - val_accuracy: 0.8984\n",
            "Epoch 15/25\n",
            "118/118 [==============================] - 0s 3ms/step - loss: 0.3777 - accuracy: 0.8942 - val_loss: 0.3528 - val_accuracy: 0.9017\n",
            "Epoch 16/25\n",
            "118/118 [==============================] - 0s 3ms/step - loss: 0.3670 - accuracy: 0.8966 - val_loss: 0.3431 - val_accuracy: 0.9034\n",
            "Epoch 17/25\n",
            "118/118 [==============================] - 0s 3ms/step - loss: 0.3573 - accuracy: 0.8991 - val_loss: 0.3341 - val_accuracy: 0.9054\n",
            "Epoch 18/25\n",
            "118/118 [==============================] - 0s 3ms/step - loss: 0.3488 - accuracy: 0.9014 - val_loss: 0.3270 - val_accuracy: 0.9067\n",
            "Epoch 19/25\n",
            "118/118 [==============================] - 0s 3ms/step - loss: 0.3411 - accuracy: 0.9032 - val_loss: 0.3208 - val_accuracy: 0.9082\n",
            "Epoch 20/25\n",
            "118/118 [==============================] - 0s 3ms/step - loss: 0.3343 - accuracy: 0.9050 - val_loss: 0.3149 - val_accuracy: 0.9092\n",
            "Epoch 21/25\n",
            "118/118 [==============================] - 0s 3ms/step - loss: 0.3279 - accuracy: 0.9069 - val_loss: 0.3098 - val_accuracy: 0.9114\n",
            "Epoch 22/25\n",
            "118/118 [==============================] - 0s 3ms/step - loss: 0.3223 - accuracy: 0.9083 - val_loss: 0.3037 - val_accuracy: 0.9121\n",
            "Epoch 23/25\n",
            "118/118 [==============================] - 0s 3ms/step - loss: 0.3168 - accuracy: 0.9101 - val_loss: 0.2984 - val_accuracy: 0.9141\n",
            "Epoch 24/25\n",
            "118/118 [==============================] - 0s 3ms/step - loss: 0.3120 - accuracy: 0.9118 - val_loss: 0.2949 - val_accuracy: 0.9154\n",
            "Epoch 25/25\n",
            "118/118 [==============================] - 0s 3ms/step - loss: 0.3074 - accuracy: 0.9129 - val_loss: 0.2903 - val_accuracy: 0.9163\n"
          ],
          "name": "stdout"
        }
      ]
    },
    {
      "cell_type": "markdown",
      "metadata": {
        "colab_type": "text",
        "id": "B0ujUz6BKUGz"
      },
      "source": [
        "### Visualization of Results"
      ]
    },
    {
      "cell_type": "code",
      "metadata": {
        "colab_type": "code",
        "id": "o-5DOZNMKYt-",
        "colab": {
          "base_uri": "https://localhost:8080/",
          "height": 260
        },
        "outputId": "7e44ee07-1c1c-4f33-9ff9-6fb1cd707865"
      },
      "source": [
        "import seaborn as sns\n",
        "import pandas as pd\n",
        "\n",
        "batch_sizes = []\n",
        "\n",
        "for exp, result in zip([bt_default, bt_small, bt_large], [\"32_\", \"8_\", \"512_\"]):\n",
        "    df = pd.DataFrame.from_dict(exp.history)\n",
        "    df['epoch'] = df.index.values\n",
        "    df['Batch Size'] = result\n",
        "    batch_sizes.append(df)\n",
        "\n",
        "df = pd.concat(batch_sizes)\n",
        "df['Batch Size'] = df['Batch Size'].astype('str')\n",
        "df.head()"
      ],
      "execution_count": null,
      "outputs": [
        {
          "output_type": "stream",
          "text": [
            "/usr/local/lib/python3.6/dist-packages/statsmodels/tools/_testing.py:19: FutureWarning: pandas.util.testing is deprecated. Use the functions in the public API at pandas.testing instead.\n",
            "  import pandas.util.testing as tm\n"
          ],
          "name": "stderr"
        },
        {
          "output_type": "execute_result",
          "data": {
            "text/html": [
              "<div>\n",
              "<style scoped>\n",
              "    .dataframe tbody tr th:only-of-type {\n",
              "        vertical-align: middle;\n",
              "    }\n",
              "\n",
              "    .dataframe tbody tr th {\n",
              "        vertical-align: top;\n",
              "    }\n",
              "\n",
              "    .dataframe thead th {\n",
              "        text-align: right;\n",
              "    }\n",
              "</style>\n",
              "<table border=\"1\" class=\"dataframe\">\n",
              "  <thead>\n",
              "    <tr style=\"text-align: right;\">\n",
              "      <th></th>\n",
              "      <th>loss</th>\n",
              "      <th>accuracy</th>\n",
              "      <th>val_loss</th>\n",
              "      <th>val_accuracy</th>\n",
              "      <th>epoch</th>\n",
              "      <th>Batch Size</th>\n",
              "    </tr>\n",
              "  </thead>\n",
              "  <tbody>\n",
              "    <tr>\n",
              "      <th>0</th>\n",
              "      <td>0.721251</td>\n",
              "      <td>0.799617</td>\n",
              "      <td>0.349316</td>\n",
              "      <td>0.9031</td>\n",
              "      <td>0</td>\n",
              "      <td>32_</td>\n",
              "    </tr>\n",
              "    <tr>\n",
              "      <th>1</th>\n",
              "      <td>0.325690</td>\n",
              "      <td>0.906300</td>\n",
              "      <td>0.278257</td>\n",
              "      <td>0.9219</td>\n",
              "      <td>1</td>\n",
              "      <td>32_</td>\n",
              "    </tr>\n",
              "    <tr>\n",
              "      <th>2</th>\n",
              "      <td>0.274834</td>\n",
              "      <td>0.921183</td>\n",
              "      <td>0.258761</td>\n",
              "      <td>0.9233</td>\n",
              "      <td>2</td>\n",
              "      <td>32_</td>\n",
              "    </tr>\n",
              "    <tr>\n",
              "      <th>3</th>\n",
              "      <td>0.244590</td>\n",
              "      <td>0.929017</td>\n",
              "      <td>0.228687</td>\n",
              "      <td>0.9352</td>\n",
              "      <td>3</td>\n",
              "      <td>32_</td>\n",
              "    </tr>\n",
              "    <tr>\n",
              "      <th>4</th>\n",
              "      <td>0.221097</td>\n",
              "      <td>0.936317</td>\n",
              "      <td>0.210668</td>\n",
              "      <td>0.9380</td>\n",
              "      <td>4</td>\n",
              "      <td>32_</td>\n",
              "    </tr>\n",
              "  </tbody>\n",
              "</table>\n",
              "</div>"
            ],
            "text/plain": [
              "       loss  accuracy  val_loss  val_accuracy  epoch Batch Size\n",
              "0  0.721251  0.799617  0.349316        0.9031      0        32_\n",
              "1  0.325690  0.906300  0.278257        0.9219      1        32_\n",
              "2  0.274834  0.921183  0.258761        0.9233      2        32_\n",
              "3  0.244590  0.929017  0.228687        0.9352      3        32_\n",
              "4  0.221097  0.936317  0.210668        0.9380      4        32_"
            ]
          },
          "metadata": {
            "tags": []
          },
          "execution_count": 23
        }
      ]
    },
    {
      "cell_type": "code",
      "metadata": {
        "id": "SRYOvc4jIqDo",
        "colab_type": "code",
        "colab": {
          "base_uri": "https://localhost:8080/",
          "height": 283
        },
        "outputId": "5b83b4f7-4483-492d-f1db-00491ca65aa3"
      },
      "source": [
        "sns.lineplot(x='epoch', y='val_accuracy', hue='Batch Size', data=df);"
      ],
      "execution_count": null,
      "outputs": [
        {
          "output_type": "display_data",
          "data": {
            "image/png": "[encoded data removed]",
            "text/plain": [
              "<Figure size 432x288 with 1 Axes>"
            ]
          },
          "metadata": {
            "tags": [],
            "needs_background": "light"
          }
        }
      ]
    },
    {
      "cell_type": "markdown",
      "metadata": {
        "colab_type": "text",
        "id": "4kZ2vUYYgclS"
      },
      "source": [
        "## Challenge\n",
        "\n",
        "You will be expected to experiment with batch size on today's assignment."
      ]
    },
    {
      "cell_type": "markdown",
      "metadata": {
        "colab_type": "text",
        "id": "46cP9Pm_gclS"
      },
      "source": [
        "# Learning Rate (Learn)"
      ]
    },
    {
      "cell_type": "markdown",
      "metadata": {
        "colab_type": "text",
        "id": "Bna67ADZgclT",
        "toc-hr-collapsed": true
      },
      "source": [
        "## Overview\n",
        "\n",
        "Learning Rate controls the size of the update to our weights that the optimization algorithm makes. VERY IMPORTANT hyperparameter.\n",
        "\n",
        "* Too high of a learning rate causes unstable results\n",
        "* Too Low of a learning rate the model will underfit\n",
        "* Goldy Locks parameters - it needs be \"just right\"\n",
        "* Scale of 0-1"
      ]
    },
    {
      "cell_type": "markdown",
      "metadata": {
        "colab_type": "text",
        "id": "gsVYOn7bgcle",
        "toc-hr-collapsed": true
      },
      "source": [
        "## Follow Along\n",
        "\n",
        "Same experiment with Batch but different learning rates:\n",
        "* High Learning = .75\n",
        "* Default Learning = .01\n",
        "* Low Learning Rate = .0001"
      ]
    },
    {
      "cell_type": "markdown",
      "metadata": {
        "colab_type": "text",
        "id": "CI_H8Em1NOii"
      },
      "source": [
        "### Default Learning Rate"
      ]
    },
    {
      "cell_type": "code",
      "metadata": {
        "colab_type": "code",
        "id": "Se8cb_ZUNVtL",
        "colab": {
          "base_uri": "https://localhost:8080/",
          "height": 883
        },
        "outputId": "f56b4cc1-2e41-41c3-b294-797f4a1589ea"
      },
      "source": [
        "model = create_model(lr=0.01)\n",
        "\n",
        "lr_default = model.fit(X_train, \n",
        "                       y_train,\n",
        "                       epochs=25,\n",
        "                       batch_size=32,\n",
        "                       validation_data=(X_test, y_test)\n",
        ")"
      ],
      "execution_count": null,
      "outputs": [
        {
          "output_type": "stream",
          "text": [
            "Epoch 1/25\n",
            "1875/1875 [==============================] - 4s 2ms/step - loss: 0.7170 - accuracy: 0.8022 - val_loss: 0.3494 - val_accuracy: 0.9006\n",
            "Epoch 2/25\n",
            "1875/1875 [==============================] - 4s 2ms/step - loss: 0.3304 - accuracy: 0.9064 - val_loss: 0.2897 - val_accuracy: 0.9176\n",
            "Epoch 3/25\n",
            "1875/1875 [==============================] - 4s 2ms/step - loss: 0.2822 - accuracy: 0.9194 - val_loss: 0.2549 - val_accuracy: 0.9267\n",
            "Epoch 4/25\n",
            "1875/1875 [==============================] - 4s 2ms/step - loss: 0.2515 - accuracy: 0.9283 - val_loss: 0.2299 - val_accuracy: 0.9347\n",
            "Epoch 5/25\n",
            "1875/1875 [==============================] - 4s 2ms/step - loss: 0.2284 - accuracy: 0.9355 - val_loss: 0.2156 - val_accuracy: 0.9385\n",
            "Epoch 6/25\n",
            "1875/1875 [==============================] - 4s 2ms/step - loss: 0.2096 - accuracy: 0.9413 - val_loss: 0.1956 - val_accuracy: 0.9432\n",
            "Epoch 7/25\n",
            "1875/1875 [==============================] - 4s 2ms/step - loss: 0.1942 - accuracy: 0.9447 - val_loss: 0.1851 - val_accuracy: 0.9474\n",
            "Epoch 8/25\n",
            "1875/1875 [==============================] - 4s 2ms/step - loss: 0.1815 - accuracy: 0.9488 - val_loss: 0.1740 - val_accuracy: 0.9505\n",
            "Epoch 9/25\n",
            "1875/1875 [==============================] - 4s 2ms/step - loss: 0.1708 - accuracy: 0.9519 - val_loss: 0.1648 - val_accuracy: 0.9541\n",
            "Epoch 10/25\n",
            "1875/1875 [==============================] - 4s 2ms/step - loss: 0.1614 - accuracy: 0.9540 - val_loss: 0.1650 - val_accuracy: 0.9518\n",
            "Epoch 11/25\n",
            "1875/1875 [==============================] - 4s 2ms/step - loss: 0.1535 - accuracy: 0.9563 - val_loss: 0.1532 - val_accuracy: 0.9563\n",
            "Epoch 12/25\n",
            "1875/1875 [==============================] - 4s 2ms/step - loss: 0.1460 - accuracy: 0.9587 - val_loss: 0.1515 - val_accuracy: 0.9576\n",
            "Epoch 13/25\n",
            "1875/1875 [==============================] - 4s 2ms/step - loss: 0.1393 - accuracy: 0.9606 - val_loss: 0.1480 - val_accuracy: 0.9575\n",
            "Epoch 14/25\n",
            "1875/1875 [==============================] - 4s 2ms/step - loss: 0.1331 - accuracy: 0.9628 - val_loss: 0.1408 - val_accuracy: 0.9595\n",
            "Epoch 15/25\n",
            "1875/1875 [==============================] - 4s 2ms/step - loss: 0.1283 - accuracy: 0.9636 - val_loss: 0.1385 - val_accuracy: 0.9602\n",
            "Epoch 16/25\n",
            "1875/1875 [==============================] - 4s 2ms/step - loss: 0.1230 - accuracy: 0.9649 - val_loss: 0.1351 - val_accuracy: 0.9604\n",
            "Epoch 17/25\n",
            "1875/1875 [==============================] - 4s 2ms/step - loss: 0.1184 - accuracy: 0.9667 - val_loss: 0.1285 - val_accuracy: 0.9632\n",
            "Epoch 18/25\n",
            "1875/1875 [==============================] - 4s 2ms/step - loss: 0.1140 - accuracy: 0.9682 - val_loss: 0.1281 - val_accuracy: 0.9629\n",
            "Epoch 19/25\n",
            "1875/1875 [==============================] - 4s 2ms/step - loss: 0.1102 - accuracy: 0.9688 - val_loss: 0.1260 - val_accuracy: 0.9650\n",
            "Epoch 20/25\n",
            "1875/1875 [==============================] - 3s 2ms/step - loss: 0.1067 - accuracy: 0.9701 - val_loss: 0.1246 - val_accuracy: 0.9635\n",
            "Epoch 21/25\n",
            "1875/1875 [==============================] - 4s 2ms/step - loss: 0.1032 - accuracy: 0.9703 - val_loss: 0.1239 - val_accuracy: 0.9647\n",
            "Epoch 22/25\n",
            "1875/1875 [==============================] - 4s 2ms/step - loss: 0.1002 - accuracy: 0.9716 - val_loss: 0.1210 - val_accuracy: 0.9656\n",
            "Epoch 23/25\n",
            "1875/1875 [==============================] - 3s 2ms/step - loss: 0.0968 - accuracy: 0.9727 - val_loss: 0.1210 - val_accuracy: 0.9645\n",
            "Epoch 24/25\n",
            "1875/1875 [==============================] - 4s 2ms/step - loss: 0.0943 - accuracy: 0.9731 - val_loss: 0.1237 - val_accuracy: 0.9634\n",
            "Epoch 25/25\n",
            "1875/1875 [==============================] - 4s 2ms/step - loss: 0.0914 - accuracy: 0.9735 - val_loss: 0.1163 - val_accuracy: 0.9665\n"
          ],
          "name": "stdout"
        }
      ]
    },
    {
      "cell_type": "markdown",
      "metadata": {
        "colab_type": "text",
        "id": "IQZ4SZdKNMRO"
      },
      "source": [
        "### High Learning Rate"
      ]
    },
    {
      "cell_type": "code",
      "metadata": {
        "colab_type": "code",
        "id": "Ny72mU_dNWMR",
        "colab": {
          "base_uri": "https://localhost:8080/",
          "height": 883
        },
        "outputId": "628fdedd-6c1f-42e6-cdb3-d1a43f9cdf0f"
      },
      "source": [
        "model = create_model(lr=0.75)\n",
        "\n",
        "lr_high = model.fit(X_train, \n",
        "                       y_train,\n",
        "                       epochs=25,\n",
        "                       batch_size=32,\n",
        "                       validation_data=(X_test, y_test)\n",
        ")"
      ],
      "execution_count": null,
      "outputs": [
        {
          "output_type": "stream",
          "text": [
            "Epoch 1/25\n",
            "1875/1875 [==============================] - 4s 2ms/step - loss: 0.7853 - accuracy: 0.7347 - val_loss: 0.4739 - val_accuracy: 0.8766\n",
            "Epoch 2/25\n",
            "1875/1875 [==============================] - 3s 2ms/step - loss: 0.4035 - accuracy: 0.8942 - val_loss: 0.3623 - val_accuracy: 0.9041\n",
            "Epoch 3/25\n",
            "1875/1875 [==============================] - 3s 2ms/step - loss: 0.5593 - accuracy: 0.8671 - val_loss: 0.5028 - val_accuracy: 0.8685\n",
            "Epoch 4/25\n",
            "1875/1875 [==============================] - 4s 2ms/step - loss: 0.7326 - accuracy: 0.7958 - val_loss: 0.6182 - val_accuracy: 0.8026\n",
            "Epoch 5/25\n",
            "1875/1875 [==============================] - 4s 2ms/step - loss: 0.6834 - accuracy: 0.7688 - val_loss: 0.6161 - val_accuracy: 0.7928\n",
            "Epoch 6/25\n",
            "1875/1875 [==============================] - 4s 2ms/step - loss: 0.4907 - accuracy: 0.8777 - val_loss: 0.4428 - val_accuracy: 0.8981\n",
            "Epoch 7/25\n",
            "1875/1875 [==============================] - 3s 2ms/step - loss: 0.5986 - accuracy: 0.8190 - val_loss: 0.7473 - val_accuracy: 0.6955\n",
            "Epoch 8/25\n",
            "1875/1875 [==============================] - 4s 2ms/step - loss: 0.9266 - accuracy: 0.6712 - val_loss: 1.1699 - val_accuracy: 0.5907\n",
            "Epoch 9/25\n",
            "1875/1875 [==============================] - 4s 2ms/step - loss: 1.0776 - accuracy: 0.5909 - val_loss: 0.9545 - val_accuracy: 0.6164\n",
            "Epoch 10/25\n",
            "1875/1875 [==============================] - 4s 2ms/step - loss: 1.1583 - accuracy: 0.5368 - val_loss: 1.2505 - val_accuracy: 0.4719\n",
            "Epoch 11/25\n",
            "1875/1875 [==============================] - 4s 2ms/step - loss: 1.4210 - accuracy: 0.3992 - val_loss: 1.5168 - val_accuracy: 0.3483\n",
            "Epoch 12/25\n",
            "1875/1875 [==============================] - 4s 2ms/step - loss: 1.5585 - accuracy: 0.3329 - val_loss: 1.7080 - val_accuracy: 0.3008\n",
            "Epoch 13/25\n",
            "1875/1875 [==============================] - 4s 2ms/step - loss: 1.7929 - accuracy: 0.2604 - val_loss: 1.7743 - val_accuracy: 0.2710\n",
            "Epoch 14/25\n",
            "1875/1875 [==============================] - 4s 2ms/step - loss: 1.7480 - accuracy: 0.2562 - val_loss: 1.8302 - val_accuracy: 0.1931\n",
            "Epoch 15/25\n",
            "1875/1875 [==============================] - 3s 2ms/step - loss: 1.7680 - accuracy: 0.2511 - val_loss: 1.8477 - val_accuracy: 0.2052\n",
            "Epoch 16/25\n",
            "1875/1875 [==============================] - 3s 2ms/step - loss: 1.7885 - accuracy: 0.2403 - val_loss: 1.8246 - val_accuracy: 0.2059\n",
            "Epoch 17/25\n",
            "1875/1875 [==============================] - 3s 2ms/step - loss: 1.8656 - accuracy: 0.1981 - val_loss: 1.8836 - val_accuracy: 0.1931\n",
            "Epoch 18/25\n",
            "1875/1875 [==============================] - 3s 2ms/step - loss: 1.8533 - accuracy: 0.2003 - val_loss: 1.8620 - val_accuracy: 0.1913\n",
            "Epoch 19/25\n",
            "1875/1875 [==============================] - 3s 2ms/step - loss: 1.8591 - accuracy: 0.1969 - val_loss: 1.8322 - val_accuracy: 0.2099\n",
            "Epoch 20/25\n",
            "1875/1875 [==============================] - 3s 2ms/step - loss: 1.8764 - accuracy: 0.1979 - val_loss: 1.9103 - val_accuracy: 0.2010\n",
            "Epoch 21/25\n",
            "1875/1875 [==============================] - 4s 2ms/step - loss: 1.8724 - accuracy: 0.1971 - val_loss: 1.8452 - val_accuracy: 0.2058\n",
            "Epoch 22/25\n",
            "1875/1875 [==============================] - 4s 2ms/step - loss: 1.9124 - accuracy: 0.2001 - val_loss: 1.9131 - val_accuracy: 0.2062\n",
            "Epoch 23/25\n",
            "1875/1875 [==============================] - 4s 2ms/step - loss: 1.9374 - accuracy: 0.2029 - val_loss: 1.8950 - val_accuracy: 0.2050\n",
            "Epoch 24/25\n",
            "1875/1875 [==============================] - 4s 2ms/step - loss: 1.9304 - accuracy: 0.2034 - val_loss: 1.9045 - val_accuracy: 0.2089\n",
            "Epoch 25/25\n",
            "1875/1875 [==============================] - 4s 2ms/step - loss: 1.9271 - accuracy: 0.2024 - val_loss: 1.8975 - val_accuracy: 0.2032\n"
          ],
          "name": "stdout"
        }
      ]
    },
    {
      "cell_type": "markdown",
      "metadata": {
        "colab_type": "text",
        "id": "kAqDmTVBNSMR"
      },
      "source": [
        "### Low Learning Rate"
      ]
    },
    {
      "cell_type": "code",
      "metadata": {
        "colab_type": "code",
        "id": "Ech1ER64NXBn",
        "colab": {
          "base_uri": "https://localhost:8080/",
          "height": 883
        },
        "outputId": "4cf6a0fa-1a7e-4e22-a751-c62d58867ace"
      },
      "source": [
        "model = create_model(lr=0.0001)\n",
        "\n",
        "lr_low = model.fit(X_train, \n",
        "                       y_train,\n",
        "                       epochs=25,\n",
        "                       batch_size=32,\n",
        "                       validation_data=(X_test, y_test)\n",
        ")"
      ],
      "execution_count": null,
      "outputs": [
        {
          "output_type": "stream",
          "text": [
            "Epoch 1/25\n",
            "1875/1875 [==============================] - 4s 2ms/step - loss: 2.3355 - accuracy: 0.1257 - val_loss: 2.3056 - val_accuracy: 0.1337\n",
            "Epoch 2/25\n",
            "1875/1875 [==============================] - 4s 2ms/step - loss: 2.2764 - accuracy: 0.1581 - val_loss: 2.2556 - val_accuracy: 0.1707\n",
            "Epoch 3/25\n",
            "1875/1875 [==============================] - 4s 2ms/step - loss: 2.2336 - accuracy: 0.1929 - val_loss: 2.2131 - val_accuracy: 0.2065\n",
            "Epoch 4/25\n",
            "1875/1875 [==============================] - 4s 2ms/step - loss: 2.1930 - accuracy: 0.2278 - val_loss: 2.1697 - val_accuracy: 0.2435\n",
            "Epoch 5/25\n",
            "1875/1875 [==============================] - 4s 2ms/step - loss: 2.1495 - accuracy: 0.2651 - val_loss: 2.1222 - val_accuracy: 0.2909\n",
            "Epoch 6/25\n",
            "1875/1875 [==============================] - 4s 2ms/step - loss: 2.1016 - accuracy: 0.3104 - val_loss: 2.0697 - val_accuracy: 0.3413\n",
            "Epoch 7/25\n",
            "1875/1875 [==============================] - 4s 2ms/step - loss: 2.0485 - accuracy: 0.3562 - val_loss: 2.0120 - val_accuracy: 0.3930\n",
            "Epoch 8/25\n",
            "1875/1875 [==============================] - 3s 2ms/step - loss: 1.9905 - accuracy: 0.4033 - val_loss: 1.9496 - val_accuracy: 0.4376\n",
            "Epoch 9/25\n",
            "1875/1875 [==============================] - 4s 2ms/step - loss: 1.9277 - accuracy: 0.4446 - val_loss: 1.8828 - val_accuracy: 0.4765\n",
            "Epoch 10/25\n",
            "1875/1875 [==============================] - 4s 2ms/step - loss: 1.8606 - accuracy: 0.4772 - val_loss: 1.8117 - val_accuracy: 0.5044\n",
            "Epoch 11/25\n",
            "1875/1875 [==============================] - 4s 2ms/step - loss: 1.7889 - accuracy: 0.5060 - val_loss: 1.7362 - val_accuracy: 0.5351\n",
            "Epoch 12/25\n",
            "1875/1875 [==============================] - 4s 2ms/step - loss: 1.7127 - accuracy: 0.5371 - val_loss: 1.6564 - val_accuracy: 0.5728\n",
            "Epoch 13/25\n",
            "1875/1875 [==============================] - 4s 2ms/step - loss: 1.6323 - accuracy: 0.5796 - val_loss: 1.5727 - val_accuracy: 0.6156\n",
            "Epoch 14/25\n",
            "1875/1875 [==============================] - 4s 2ms/step - loss: 1.5492 - accuracy: 0.6199 - val_loss: 1.4878 - val_accuracy: 0.6499\n",
            "Epoch 15/25\n",
            "1875/1875 [==============================] - 4s 2ms/step - loss: 1.4667 - accuracy: 0.6496 - val_loss: 1.4050 - val_accuracy: 0.6759\n",
            "Epoch 16/25\n",
            "1875/1875 [==============================] - 4s 2ms/step - loss: 1.3872 - accuracy: 0.6720 - val_loss: 1.3262 - val_accuracy: 0.6983\n",
            "Epoch 17/25\n",
            "1875/1875 [==============================] - 4s 2ms/step - loss: 1.3125 - accuracy: 0.6923 - val_loss: 1.2528 - val_accuracy: 0.7170\n",
            "Epoch 18/25\n",
            "1875/1875 [==============================] - 4s 2ms/step - loss: 1.2434 - accuracy: 0.7103 - val_loss: 1.1855 - val_accuracy: 0.7317\n",
            "Epoch 19/25\n",
            "1875/1875 [==============================] - 4s 2ms/step - loss: 1.1801 - accuracy: 0.7256 - val_loss: 1.1239 - val_accuracy: 0.7476\n",
            "Epoch 20/25\n",
            "1875/1875 [==============================] - 4s 2ms/step - loss: 1.1223 - accuracy: 0.7382 - val_loss: 1.0679 - val_accuracy: 0.7617\n",
            "Epoch 21/25\n",
            "1875/1875 [==============================] - 4s 2ms/step - loss: 1.0697 - accuracy: 0.7502 - val_loss: 1.0171 - val_accuracy: 0.7695\n",
            "Epoch 22/25\n",
            "1875/1875 [==============================] - 4s 2ms/step - loss: 1.0219 - accuracy: 0.7605 - val_loss: 0.9711 - val_accuracy: 0.7774\n",
            "Epoch 23/25\n",
            "1875/1875 [==============================] - 4s 2ms/step - loss: 0.9784 - accuracy: 0.7694 - val_loss: 0.9292 - val_accuracy: 0.7860\n",
            "Epoch 24/25\n",
            "1875/1875 [==============================] - 3s 2ms/step - loss: 0.9387 - accuracy: 0.7767 - val_loss: 0.8911 - val_accuracy: 0.7931\n",
            "Epoch 25/25\n",
            "1875/1875 [==============================] - 3s 2ms/step - loss: 0.9023 - accuracy: 0.7841 - val_loss: 0.8562 - val_accuracy: 0.7999\n"
          ],
          "name": "stdout"
        }
      ]
    },
    {
      "cell_type": "markdown",
      "metadata": {
        "colab_type": "text",
        "id": "sZe6DyhANXdU"
      },
      "source": [
        "### Visualization of Results"
      ]
    },
    {
      "cell_type": "code",
      "metadata": {
        "colab_type": "code",
        "id": "Bn-BdFdMNph-",
        "colab": {
          "base_uri": "https://localhost:8080/",
          "height": 206
        },
        "outputId": "d79d2586-039b-4151-a26f-a05be6da022c"
      },
      "source": [
        "import seaborn as sns\n",
        "import pandas as pd\n",
        "\n",
        "batch_sizes = []\n",
        "\n",
        "for exp, result in zip([lr_default, lr_low, lr_high], [\".01_\", \".0001_\", \".75_\"]):\n",
        "    df = pd.DataFrame.from_dict(exp.history)\n",
        "    df['epoch'] = df.index.values\n",
        "    df['Learning Rate'] = result\n",
        "    batch_sizes.append(df)\n",
        "\n",
        "df = pd.concat(batch_sizes)\n",
        "df['Learning Rate'] = df['Learning Rate'].astype('str')\n",
        "df.head()\n"
      ],
      "execution_count": null,
      "outputs": [
        {
          "output_type": "execute_result",
          "data": {
            "text/html": [
              "<div>\n",
              "<style scoped>\n",
              "    .dataframe tbody tr th:only-of-type {\n",
              "        vertical-align: middle;\n",
              "    }\n",
              "\n",
              "    .dataframe tbody tr th {\n",
              "        vertical-align: top;\n",
              "    }\n",
              "\n",
              "    .dataframe thead th {\n",
              "        text-align: right;\n",
              "    }\n",
              "</style>\n",
              "<table border=\"1\" class=\"dataframe\">\n",
              "  <thead>\n",
              "    <tr style=\"text-align: right;\">\n",
              "      <th></th>\n",
              "      <th>loss</th>\n",
              "      <th>accuracy</th>\n",
              "      <th>val_loss</th>\n",
              "      <th>val_accuracy</th>\n",
              "      <th>epoch</th>\n",
              "      <th>Learning Rate</th>\n",
              "    </tr>\n",
              "  </thead>\n",
              "  <tbody>\n",
              "    <tr>\n",
              "      <th>0</th>\n",
              "      <td>0.717007</td>\n",
              "      <td>0.80220</td>\n",
              "      <td>0.349409</td>\n",
              "      <td>0.9006</td>\n",
              "      <td>0</td>\n",
              "      <td>.01_</td>\n",
              "    </tr>\n",
              "    <tr>\n",
              "      <th>1</th>\n",
              "      <td>0.330387</td>\n",
              "      <td>0.90640</td>\n",
              "      <td>0.289702</td>\n",
              "      <td>0.9176</td>\n",
              "      <td>1</td>\n",
              "      <td>.01_</td>\n",
              "    </tr>\n",
              "    <tr>\n",
              "      <th>2</th>\n",
              "      <td>0.282172</td>\n",
              "      <td>0.91940</td>\n",
              "      <td>0.254853</td>\n",
              "      <td>0.9267</td>\n",
              "      <td>2</td>\n",
              "      <td>.01_</td>\n",
              "    </tr>\n",
              "    <tr>\n",
              "      <th>3</th>\n",
              "      <td>0.251477</td>\n",
              "      <td>0.92825</td>\n",
              "      <td>0.229861</td>\n",
              "      <td>0.9347</td>\n",
              "      <td>3</td>\n",
              "      <td>.01_</td>\n",
              "    </tr>\n",
              "    <tr>\n",
              "      <th>4</th>\n",
              "      <td>0.228382</td>\n",
              "      <td>0.93545</td>\n",
              "      <td>0.215550</td>\n",
              "      <td>0.9385</td>\n",
              "      <td>4</td>\n",
              "      <td>.01_</td>\n",
              "    </tr>\n",
              "  </tbody>\n",
              "</table>\n",
              "</div>"
            ],
            "text/plain": [
              "       loss  accuracy  val_loss  val_accuracy  epoch Learning Rate\n",
              "0  0.717007   0.80220  0.349409        0.9006      0          .01_\n",
              "1  0.330387   0.90640  0.289702        0.9176      1          .01_\n",
              "2  0.282172   0.91940  0.254853        0.9267      2          .01_\n",
              "3  0.251477   0.92825  0.229861        0.9347      3          .01_\n",
              "4  0.228382   0.93545  0.215550        0.9385      4          .01_"
            ]
          },
          "metadata": {
            "tags": []
          },
          "execution_count": 28
        }
      ]
    },
    {
      "cell_type": "code",
      "metadata": {
        "id": "fz7NcEi-KxR5",
        "colab_type": "code",
        "colab": {
          "base_uri": "https://localhost:8080/",
          "height": 281
        },
        "outputId": "7dc2d74c-a3da-4dab-c746-b7dba1706e37"
      },
      "source": [
        "sns.lineplot(x='epoch', y='val_accuracy', hue='Learning Rate', data=df);"
      ],
      "execution_count": null,
      "outputs": [
        {
          "output_type": "display_data",
          "data": {
            "image/png": "[encoded data removed]",
            "text/plain": [
              "<Figure size 432x288 with 1 Axes>"
            ]
          },
          "metadata": {
            "tags": [],
            "needs_background": "light"
          }
        }
      ]
    },
    {
      "cell_type": "code",
      "metadata": {
        "id": "I1rhb29DLhA5",
        "colab_type": "code",
        "colab": {
          "base_uri": "https://localhost:8080/",
          "height": 34
        },
        "outputId": "4c19ad9b-007d-4afc-982b-83ac113295bc"
      },
      "source": [
        "32/0.01"
      ],
      "execution_count": null,
      "outputs": [
        {
          "output_type": "execute_result",
          "data": {
            "text/plain": [
              "3200.0"
            ]
          },
          "metadata": {
            "tags": []
          },
          "execution_count": 30
        }
      ]
    },
    {
      "cell_type": "code",
      "metadata": {
        "id": "uLMfcIHrM0Ny",
        "colab_type": "code",
        "colab": {
          "base_uri": "https://localhost:8080/",
          "height": 34
        },
        "outputId": "1f18046f-e08a-4dd0-98ed-e4452859c23e"
      },
      "source": [
        "512/3200.0"
      ],
      "execution_count": null,
      "outputs": [
        {
          "output_type": "execute_result",
          "data": {
            "text/plain": [
              "0.16"
            ]
          },
          "metadata": {
            "tags": []
          },
          "execution_count": 32
        }
      ]
    },
    {
      "cell_type": "code",
      "metadata": {
        "id": "jeGNlK-WNEBm",
        "colab_type": "code",
        "colab": {
          "base_uri": "https://localhost:8080/",
          "height": 34
        },
        "outputId": "52b1d2dd-eb1f-47f5-975f-9b1558673a81"
      },
      "source": [
        "512/0.16"
      ],
      "execution_count": null,
      "outputs": [
        {
          "output_type": "execute_result",
          "data": {
            "text/plain": [
              "3200.0"
            ]
          },
          "metadata": {
            "tags": []
          },
          "execution_count": 34
        }
      ]
    },
    {
      "cell_type": "code",
      "metadata": {
        "id": "LIvJa-i8LhDf",
        "colab_type": "code",
        "colab": {
          "base_uri": "https://localhost:8080/",
          "height": 901
        },
        "outputId": "32475a99-36b7-4187-918c-5bd2d7434664"
      },
      "source": [
        "model = create_model(lr=0.16)\n",
        "model.fit(X_train, \n",
        "          y_train,\n",
        "          epochs=25,\n",
        "          batch_size=512,\n",
        "          validation_data=(X_test, y_test)\n",
        ")"
      ],
      "execution_count": null,
      "outputs": [
        {
          "output_type": "stream",
          "text": [
            "Epoch 1/25\n",
            "118/118 [==============================] - 0s 4ms/step - loss: 0.7943 - accuracy: 0.7656 - val_loss: 0.4048 - val_accuracy: 0.8793\n",
            "Epoch 2/25\n",
            "118/118 [==============================] - 0s 3ms/step - loss: 0.3344 - accuracy: 0.9026 - val_loss: 0.3056 - val_accuracy: 0.9126\n",
            "Epoch 3/25\n",
            "118/118 [==============================] - 0s 3ms/step - loss: 0.2790 - accuracy: 0.9194 - val_loss: 0.2573 - val_accuracy: 0.9227\n",
            "Epoch 4/25\n",
            "118/118 [==============================] - 0s 3ms/step - loss: 0.2496 - accuracy: 0.9283 - val_loss: 0.2441 - val_accuracy: 0.9283\n",
            "Epoch 5/25\n",
            "118/118 [==============================] - 0s 3ms/step - loss: 0.2273 - accuracy: 0.9348 - val_loss: 0.3326 - val_accuracy: 0.9019\n",
            "Epoch 6/25\n",
            "118/118 [==============================] - 0s 3ms/step - loss: 0.2097 - accuracy: 0.9395 - val_loss: 0.2121 - val_accuracy: 0.9357\n",
            "Epoch 7/25\n",
            "118/118 [==============================] - 0s 3ms/step - loss: 0.1926 - accuracy: 0.9448 - val_loss: 0.2084 - val_accuracy: 0.9394\n",
            "Epoch 8/25\n",
            "118/118 [==============================] - 0s 3ms/step - loss: 0.1786 - accuracy: 0.9483 - val_loss: 0.2478 - val_accuracy: 0.9210\n",
            "Epoch 9/25\n",
            "118/118 [==============================] - 0s 3ms/step - loss: 0.1681 - accuracy: 0.9518 - val_loss: 0.1974 - val_accuracy: 0.9385\n",
            "Epoch 10/25\n",
            "118/118 [==============================] - 0s 3ms/step - loss: 0.1576 - accuracy: 0.9551 - val_loss: 0.1643 - val_accuracy: 0.9517\n",
            "Epoch 11/25\n",
            "118/118 [==============================] - 0s 3ms/step - loss: 0.1476 - accuracy: 0.9574 - val_loss: 0.2619 - val_accuracy: 0.9206\n",
            "Epoch 12/25\n",
            "118/118 [==============================] - 0s 3ms/step - loss: 0.1420 - accuracy: 0.9592 - val_loss: 0.1915 - val_accuracy: 0.9430\n",
            "Epoch 13/25\n",
            "118/118 [==============================] - 0s 3ms/step - loss: 0.1342 - accuracy: 0.9612 - val_loss: 0.1487 - val_accuracy: 0.9573\n",
            "Epoch 14/25\n",
            "118/118 [==============================] - 0s 3ms/step - loss: 0.1260 - accuracy: 0.9633 - val_loss: 0.1467 - val_accuracy: 0.9569\n",
            "Epoch 15/25\n",
            "118/118 [==============================] - 0s 3ms/step - loss: 0.1212 - accuracy: 0.9651 - val_loss: 0.1535 - val_accuracy: 0.9541\n",
            "Epoch 16/25\n",
            "118/118 [==============================] - 0s 3ms/step - loss: 0.1171 - accuracy: 0.9661 - val_loss: 0.2325 - val_accuracy: 0.9313\n",
            "Epoch 17/25\n",
            "118/118 [==============================] - 0s 3ms/step - loss: 0.1142 - accuracy: 0.9669 - val_loss: 0.1380 - val_accuracy: 0.9601\n",
            "Epoch 18/25\n",
            "118/118 [==============================] - 0s 3ms/step - loss: 0.1076 - accuracy: 0.9686 - val_loss: 0.1492 - val_accuracy: 0.9570\n",
            "Epoch 19/25\n",
            "118/118 [==============================] - 0s 3ms/step - loss: 0.1050 - accuracy: 0.9693 - val_loss: 0.1474 - val_accuracy: 0.9525\n",
            "Epoch 20/25\n",
            "118/118 [==============================] - 0s 3ms/step - loss: 0.1015 - accuracy: 0.9700 - val_loss: 0.1284 - val_accuracy: 0.9613\n",
            "Epoch 21/25\n",
            "118/118 [==============================] - 0s 3ms/step - loss: 0.0978 - accuracy: 0.9715 - val_loss: 0.1528 - val_accuracy: 0.9551\n",
            "Epoch 22/25\n",
            "118/118 [==============================] - 0s 3ms/step - loss: 0.0946 - accuracy: 0.9721 - val_loss: 0.1539 - val_accuracy: 0.9560\n",
            "Epoch 23/25\n",
            "118/118 [==============================] - 0s 3ms/step - loss: 0.0930 - accuracy: 0.9725 - val_loss: 0.1233 - val_accuracy: 0.9616\n",
            "Epoch 24/25\n",
            "118/118 [==============================] - 0s 3ms/step - loss: 0.0898 - accuracy: 0.9735 - val_loss: 0.1345 - val_accuracy: 0.9587\n",
            "Epoch 25/25\n",
            "118/118 [==============================] - 0s 3ms/step - loss: 0.0869 - accuracy: 0.9751 - val_loss: 0.1238 - val_accuracy: 0.9638\n"
          ],
          "name": "stdout"
        },
        {
          "output_type": "execute_result",
          "data": {
            "text/plain": [
              "<tensorflow.python.keras.callbacks.History at 0x7f9026a0ef28>"
            ]
          },
          "metadata": {
            "tags": []
          },
          "execution_count": 33
        }
      ]
    },
    {
      "cell_type": "markdown",
      "metadata": {
        "colab_type": "text",
        "id": "Kb2aiw_Sgcl7"
      },
      "source": [
        "## Challenge\n",
        "\n",
        "You will be expected to experiment with different learning rates today.\n",
        "\n",
        "---"
      ]
    }
  ]
}