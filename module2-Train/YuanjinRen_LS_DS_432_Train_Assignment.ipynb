{
  "nbformat": 4,
  "nbformat_minor": 0,
  "metadata": {
    "colab": {
      "name": "YuanjinRen_LS_DS_432_Train_Assignment.ipynb",
      "provenance": [],
      "collapsed_sections": [],
      "include_colab_link": true
    },
    "kernelspec": {
      "display_name": "Python 3",
      "language": "python",
      "name": "python3"
    },
    "language_info": {
      "codemirror_mode": {
        "name": "ipython",
        "version": 3
      },
      "file_extension": ".py",
      "mimetype": "text/x-python",
      "name": "python",
      "nbconvert_exporter": "python",
      "pygments_lexer": "ipython3",
      "version": "3.7.3"
    },
    "nteract": {
      "version": "0.22.4"
    },
    "accelerator": "GPU"
  },
  "cells": [
    {
      "cell_type": "markdown",
      "metadata": {
        "id": "view-in-github",
        "colab_type": "text"
      },
      "source": [
        "<a href=\"https://colab.research.google.com/github/yuanjinren/DS-Unit-4-Sprint-2-Neural-Networks/blob/main/module2-Train/YuanjinRen_LS_DS_432_Train_Assignment.ipynb\" target=\"_parent\"><img src=\"https://colab.research.google.com/assets/colab-badge.svg\" alt=\"Open In Colab\"/></a>"
      ]
    },
    {
      "cell_type": "markdown",
      "metadata": {
        "colab_type": "text",
        "id": "NGGrt9EYlCqY"
      },
      "source": [
        "<img align=\"left\" src=\"https://lever-client-logos.s3.amazonaws.com/864372b1-534c-480e-acd5-9711f850815c-1524247202159.png\" width=200>\n",
        "<br></br>\n",
        "<br></br>\n",
        "\n",
        "# Train Practice\n",
        "\n",
        "## *Data Science Unit 4 Sprint 2 Assignment 2*\n",
        "\n",
        "Continue to use TensorFlow Keras & a sample of the [Quickdraw dataset](https://github.com/googlecreativelab/quickdraw-dataset) to build a sketch classification model. The dataset has been sampled to only 10 classes and 10000 observations per class. Please build a baseline classification model then run a few experiments with different optimizers and learning rates. \n",
        "\n",
        "*Don't forgot to switch to GPU on Colab!*"
      ]
    },
    {
      "cell_type": "markdown",
      "metadata": {
        "id": "ptJ2b3wk62Ud",
        "colab_type": "text"
      },
      "source": [
        "### Write a function to load your data\n",
        "\n",
        "Wrap yesterday's preprocessing steps into a function that returns four items:\n",
        "* X_train\n",
        "* y_train\n",
        "* X_test\n",
        "* y_test\n",
        "\n",
        "Your function should accept a `path` to the data as a argument."
      ]
    },
    {
      "cell_type": "code",
      "metadata": {
        "id": "N1OztRoraAGi",
        "colab_type": "code",
        "colab": {
          "base_uri": "https://localhost:8080/",
          "height": 51
        },
        "outputId": "f05e68b5-3436-4611-b103-dfe508a3cf6d"
      },
      "source": [
        "import numpy as np\n",
        "import tensorflow as tf \n",
        "\n",
        "DATA_URL = 'https://github.com/yuanjinren/DS-Unit-4-Sprint-2-Neural-Networks/blob/main/quickdraw10.npz?raw=true'\n",
        "path = tf.keras.utils.get_file('quickdraw10.npz', DATA_URL)"
      ],
      "execution_count": 3,
      "outputs": [
        {
          "output_type": "stream",
          "text": [
            "Downloading data from https://github.com/yuanjinren/DS-Unit-4-Sprint-2-Neural-Networks/blob/main/quickdraw10.npz?raw=true\n",
            "25427968/25421363 [==============================] - 0s 0us/step\n"
          ],
          "name": "stdout"
        }
      ]
    },
    {
      "cell_type": "code",
      "metadata": {
        "id": "SqBP7InuaYil",
        "colab_type": "code",
        "colab": {}
      },
      "source": [
        "from sklearn.model_selection import train_test_split\n",
        "import numpy as np"
      ],
      "execution_count": 4,
      "outputs": []
    },
    {
      "cell_type": "code",
      "metadata": {
        "id": "nJsIsrvp7O3e",
        "colab_type": "code",
        "colab": {}
      },
      "source": [
        "def load_quickdraw10(path):\n",
        "  with np.load(path) as data:\n",
        "    X = data['arr_0']\n",
        "    y = data['arr_1']\n",
        "  X_train, X_test, y_train, y_test = train_test_split(X, y, test_size=0.2, shuffle= True)\n",
        "  return X_train, y_train, X_test, y_test"
      ],
      "execution_count": 5,
      "outputs": []
    },
    {
      "cell_type": "code",
      "metadata": {
        "id": "fzk_KZZRahub",
        "colab_type": "code",
        "colab": {}
      },
      "source": [
        "X_train, y_train, X_test, y_test = load_quickdraw10(path)"
      ],
      "execution_count": 6,
      "outputs": []
    },
    {
      "cell_type": "code",
      "metadata": {
        "id": "eSQ_YyfHaKaQ",
        "colab_type": "code",
        "colab": {
          "base_uri": "https://localhost:8080/",
          "height": 34
        },
        "outputId": "d83894c4-4276-4a4b-a1bc-48cf57ebf4f3"
      },
      "source": [
        "X_train.shape, y_train.shape, X_test.shape, y_test.shape"
      ],
      "execution_count": 7,
      "outputs": [
        {
          "output_type": "execute_result",
          "data": {
            "text/plain": [
              "((80000, 784), (80000,), (20000, 784), (20000,))"
            ]
          },
          "metadata": {
            "tags": []
          },
          "execution_count": 7
        }
      ]
    },
    {
      "cell_type": "markdown",
      "metadata": {
        "id": "l-6PxI6H5__2",
        "colab_type": "text"
      },
      "source": [
        "### Write a Model Function\n",
        "Using your model from yesterday, write a function called `create_model` which returns a compiled TensorFlow Keras Sequential Model suitable for classifying the QuickDraw-10 dataset. Include parameters for the following: \n",
        "* Learning Rate\n",
        "* Optimizer"
      ]
    },
    {
      "cell_type": "code",
      "metadata": {
        "id": "jvhP5amAcPqQ",
        "colab_type": "code",
        "colab": {}
      },
      "source": [
        "from tensorflow.keras import Sequential\n",
        "from tensorflow.keras.layers import Dense\n",
        "from tensorflow.keras.optimizers import SGD"
      ],
      "execution_count": 8,
      "outputs": []
    },
    {
      "cell_type": "code",
      "metadata": {
        "colab_type": "code",
        "id": "nEREYT-3wI1f",
        "colab": {}
      },
      "source": [
        "##### Your Code Here #####\n",
        "\n",
        "def create_model():\n",
        "  opt = SGD()\n",
        "  model = Sequential([\n",
        "                      Dense(units=32, activation='relu',input_dim=784),\n",
        "                      Dense(units=20, activation='relu'),\n",
        "                      Dense(units=10, activation='softmax')\n",
        "  ])\n",
        "  model.compile(optimizer=opt,\n",
        "                loss='sparse_categorical_crossentropy',\n",
        "                metrics=['accuracy'])\n",
        "  return model\n",
        "\n"
      ],
      "execution_count": 9,
      "outputs": []
    },
    {
      "cell_type": "code",
      "metadata": {
        "id": "4tqWNi1wc_Lc",
        "colab_type": "code",
        "colab": {
          "base_uri": "https://localhost:8080/",
          "height": 1000
        },
        "outputId": "855f20e6-478e-4377-ad88-312eb1d707eb"
      },
      "source": [
        "model = create_model()\n",
        "bt_default = model.fit(X_train,\n",
        "          y_train,\n",
        "          epochs=30,\n",
        "          batch_size=32,\n",
        "          validation_data=(X_test, y_test))"
      ],
      "execution_count": 10,
      "outputs": [
        {
          "output_type": "stream",
          "text": [
            "Epoch 1/30\n",
            "2500/2500 [==============================] - 5s 2ms/step - loss: 2.9727 - accuracy: 0.0995 - val_loss: 2.3052 - val_accuracy: 0.0966\n",
            "Epoch 2/30\n",
            "2500/2500 [==============================] - 5s 2ms/step - loss: 2.3039 - accuracy: 0.0999 - val_loss: 2.3028 - val_accuracy: 0.0991\n",
            "Epoch 3/30\n",
            "2500/2500 [==============================] - 5s 2ms/step - loss: 2.3026 - accuracy: 0.0991 - val_loss: 2.3028 - val_accuracy: 0.0985\n",
            "Epoch 4/30\n",
            "2500/2500 [==============================] - 5s 2ms/step - loss: 2.3027 - accuracy: 0.1004 - val_loss: 2.3028 - val_accuracy: 0.1009\n",
            "Epoch 5/30\n",
            "2500/2500 [==============================] - 5s 2ms/step - loss: 2.3027 - accuracy: 0.0988 - val_loss: 2.3028 - val_accuracy: 0.0966\n",
            "Epoch 6/30\n",
            "2500/2500 [==============================] - 5s 2ms/step - loss: 2.3027 - accuracy: 0.1006 - val_loss: 2.3028 - val_accuracy: 0.0985\n",
            "Epoch 7/30\n",
            "2500/2500 [==============================] - 5s 2ms/step - loss: 2.3027 - accuracy: 0.0980 - val_loss: 2.3028 - val_accuracy: 0.0984\n",
            "Epoch 8/30\n",
            "2500/2500 [==============================] - 5s 2ms/step - loss: 2.3026 - accuracy: 0.1003 - val_loss: 2.3028 - val_accuracy: 0.0978\n",
            "Epoch 9/30\n",
            "2500/2500 [==============================] - 5s 2ms/step - loss: 2.3026 - accuracy: 0.0990 - val_loss: 2.3029 - val_accuracy: 0.0966\n",
            "Epoch 10/30\n",
            "2500/2500 [==============================] - 6s 2ms/step - loss: 2.3027 - accuracy: 0.1005 - val_loss: 2.3028 - val_accuracy: 0.0978\n",
            "Epoch 11/30\n",
            "2500/2500 [==============================] - 5s 2ms/step - loss: 2.3027 - accuracy: 0.0979 - val_loss: 2.3028 - val_accuracy: 0.0978\n",
            "Epoch 12/30\n",
            "2500/2500 [==============================] - 5s 2ms/step - loss: 2.3026 - accuracy: 0.0990 - val_loss: 2.3028 - val_accuracy: 0.0966\n",
            "Epoch 13/30\n",
            "2500/2500 [==============================] - 5s 2ms/step - loss: 2.3027 - accuracy: 0.0988 - val_loss: 2.3028 - val_accuracy: 0.0985\n",
            "Epoch 14/30\n",
            "2500/2500 [==============================] - 5s 2ms/step - loss: 2.3027 - accuracy: 0.0996 - val_loss: 2.3029 - val_accuracy: 0.0978\n",
            "Epoch 15/30\n",
            "2500/2500 [==============================] - 5s 2ms/step - loss: 2.3027 - accuracy: 0.0982 - val_loss: 2.3028 - val_accuracy: 0.0966\n",
            "Epoch 16/30\n",
            "2500/2500 [==============================] - 5s 2ms/step - loss: 2.3027 - accuracy: 0.0989 - val_loss: 2.3028 - val_accuracy: 0.0966\n",
            "Epoch 17/30\n",
            "2500/2500 [==============================] - 5s 2ms/step - loss: 2.3027 - accuracy: 0.0993 - val_loss: 2.3028 - val_accuracy: 0.0966\n",
            "Epoch 18/30\n",
            "2500/2500 [==============================] - 5s 2ms/step - loss: 2.3027 - accuracy: 0.0992 - val_loss: 2.3028 - val_accuracy: 0.0966\n",
            "Epoch 19/30\n",
            "2500/2500 [==============================] - 5s 2ms/step - loss: 2.3027 - accuracy: 0.0992 - val_loss: 2.3027 - val_accuracy: 0.0985\n",
            "Epoch 20/30\n",
            "2500/2500 [==============================] - 5s 2ms/step - loss: 2.3027 - accuracy: 0.0977 - val_loss: 2.3028 - val_accuracy: 0.0984\n",
            "Epoch 21/30\n",
            "2500/2500 [==============================] - 5s 2ms/step - loss: 2.3027 - accuracy: 0.0995 - val_loss: 2.3027 - val_accuracy: 0.0984\n",
            "Epoch 22/30\n",
            "2500/2500 [==============================] - 5s 2ms/step - loss: 2.3026 - accuracy: 0.1015 - val_loss: 2.3028 - val_accuracy: 0.0984\n",
            "Epoch 23/30\n",
            "2500/2500 [==============================] - 5s 2ms/step - loss: 2.3027 - accuracy: 0.1009 - val_loss: 2.3028 - val_accuracy: 0.0966\n",
            "Epoch 24/30\n",
            "2500/2500 [==============================] - 5s 2ms/step - loss: 2.3026 - accuracy: 0.0983 - val_loss: 2.3027 - val_accuracy: 0.0976\n",
            "Epoch 25/30\n",
            "2500/2500 [==============================] - 5s 2ms/step - loss: 2.3026 - accuracy: 0.0973 - val_loss: 2.3026 - val_accuracy: 0.0976\n",
            "Epoch 26/30\n",
            "2500/2500 [==============================] - 5s 2ms/step - loss: 2.3026 - accuracy: 0.0987 - val_loss: 2.3026 - val_accuracy: 0.0966\n",
            "Epoch 27/30\n",
            "2500/2500 [==============================] - 5s 2ms/step - loss: 2.3025 - accuracy: 0.0973 - val_loss: 2.3024 - val_accuracy: 0.1025\n",
            "Epoch 28/30\n",
            "2500/2500 [==============================] - 5s 2ms/step - loss: 2.3024 - accuracy: 0.0985 - val_loss: 2.3025 - val_accuracy: 0.0852\n",
            "Epoch 29/30\n",
            "2500/2500 [==============================] - 6s 2ms/step - loss: 2.3014 - accuracy: 0.1004 - val_loss: 2.2988 - val_accuracy: 0.1443\n",
            "Epoch 30/30\n",
            "2500/2500 [==============================] - 6s 2ms/step - loss: 2.2768 - accuracy: 0.1512 - val_loss: 2.2316 - val_accuracy: 0.1703\n"
          ],
          "name": "stdout"
        }
      ]
    },
    {
      "cell_type": "code",
      "metadata": {
        "id": "WeMzvaYFfFOo",
        "colab_type": "code",
        "colab": {
          "base_uri": "https://localhost:8080/",
          "height": 51
        },
        "outputId": "13b9e536-dd71-4ad0-9b1a-d1ab24cffd3a"
      },
      "source": [
        "model.evaluate(X_test, y_test)"
      ],
      "execution_count": 11,
      "outputs": [
        {
          "output_type": "stream",
          "text": [
            "625/625 [==============================] - 1s 1ms/step - loss: 2.2316 - accuracy: 0.1703\n"
          ],
          "name": "stdout"
        },
        {
          "output_type": "execute_result",
          "data": {
            "text/plain": [
              "[2.231595754623413, 0.17030000686645508]"
            ]
          },
          "metadata": {
            "tags": []
          },
          "execution_count": 11
        }
      ]
    },
    {
      "cell_type": "markdown",
      "metadata": {
        "id": "f0pCkh8C7eGL",
        "colab_type": "text"
      },
      "source": [
        "### Experiment with Batch Size\n",
        "* Run 5 experiments with various batch sizes of your choice. \n",
        "* Visualize the results\n",
        "* Write up an analysis of the experiments and select the \"best\" performing model among your experiments. Make sure to compare against your model's performance yesterday. "
      ]
    },
    {
      "cell_type": "code",
      "metadata": {
        "id": "USXjs7Hk71Hy",
        "colab_type": "code",
        "colab": {
          "base_uri": "https://localhost:8080/",
          "height": 1000
        },
        "outputId": "2fb787ec-94a3-4ae4-a55e-ab9018e4e710"
      },
      "source": [
        "model = create_model()\n",
        "bt_small = model.fit(X_train,\n",
        "          y_train,\n",
        "          epochs=30,\n",
        "          batch_size=8,\n",
        "          validation_data=(X_test, y_test))"
      ],
      "execution_count": 12,
      "outputs": [
        {
          "output_type": "stream",
          "text": [
            "Epoch 1/30\n",
            "10000/10000 [==============================] - 19s 2ms/step - loss: 4.9419 - accuracy: 0.0993 - val_loss: 2.3028 - val_accuracy: 0.0967\n",
            "Epoch 2/30\n",
            "10000/10000 [==============================] - 19s 2ms/step - loss: 2.3480 - accuracy: 0.1000 - val_loss: 2.3024 - val_accuracy: 0.0967\n",
            "Epoch 3/30\n",
            "10000/10000 [==============================] - 19s 2ms/step - loss: 2.3097 - accuracy: 0.1001 - val_loss: 2.3026 - val_accuracy: 0.0985\n",
            "Epoch 4/30\n",
            "10000/10000 [==============================] - 19s 2ms/step - loss: 2.3026 - accuracy: 0.0997 - val_loss: 2.3027 - val_accuracy: 0.0979\n",
            "Epoch 5/30\n",
            "10000/10000 [==============================] - 19s 2ms/step - loss: 2.3026 - accuracy: 0.0994 - val_loss: 2.3025 - val_accuracy: 0.0979\n",
            "Epoch 6/30\n",
            "10000/10000 [==============================] - 20s 2ms/step - loss: 2.3026 - accuracy: 0.0992 - val_loss: 2.3024 - val_accuracy: 0.0985\n",
            "Epoch 7/30\n",
            "10000/10000 [==============================] - 19s 2ms/step - loss: 2.3026 - accuracy: 0.0988 - val_loss: 2.3024 - val_accuracy: 0.1032\n",
            "Epoch 8/30\n",
            "10000/10000 [==============================] - 19s 2ms/step - loss: 2.3026 - accuracy: 0.0983 - val_loss: 2.3024 - val_accuracy: 0.1016\n",
            "Epoch 9/30\n",
            "10000/10000 [==============================] - 18s 2ms/step - loss: 2.3025 - accuracy: 0.1023 - val_loss: 2.3023 - val_accuracy: 0.1010\n",
            "Epoch 10/30\n",
            "10000/10000 [==============================] - 18s 2ms/step - loss: 2.3026 - accuracy: 0.1009 - val_loss: 2.3025 - val_accuracy: 0.0979\n",
            "Epoch 11/30\n",
            "10000/10000 [==============================] - 19s 2ms/step - loss: 2.3026 - accuracy: 0.0996 - val_loss: 2.3027 - val_accuracy: 0.0987\n",
            "Epoch 12/30\n",
            "10000/10000 [==============================] - 19s 2ms/step - loss: 2.3026 - accuracy: 0.0987 - val_loss: 2.3025 - val_accuracy: 0.1016\n",
            "Epoch 13/30\n",
            "10000/10000 [==============================] - 19s 2ms/step - loss: 2.3026 - accuracy: 0.0981 - val_loss: 2.3026 - val_accuracy: 0.1028\n",
            "Epoch 14/30\n",
            "10000/10000 [==============================] - 18s 2ms/step - loss: 2.3026 - accuracy: 0.0988 - val_loss: 2.3032 - val_accuracy: 0.0987\n",
            "Epoch 15/30\n",
            "10000/10000 [==============================] - 19s 2ms/step - loss: 2.3026 - accuracy: 0.1024 - val_loss: 2.3029 - val_accuracy: 0.0987\n",
            "Epoch 16/30\n",
            "10000/10000 [==============================] - 19s 2ms/step - loss: 2.3026 - accuracy: 0.0982 - val_loss: 2.3025 - val_accuracy: 0.0967\n",
            "Epoch 17/30\n",
            "10000/10000 [==============================] - 19s 2ms/step - loss: 2.3026 - accuracy: 0.0985 - val_loss: 2.3025 - val_accuracy: 0.0979\n",
            "Epoch 18/30\n",
            "10000/10000 [==============================] - 19s 2ms/step - loss: 2.3026 - accuracy: 0.0990 - val_loss: 2.3028 - val_accuracy: 0.0979\n",
            "Epoch 19/30\n",
            "10000/10000 [==============================] - 19s 2ms/step - loss: 2.3026 - accuracy: 0.0996 - val_loss: 2.3030 - val_accuracy: 0.0985\n",
            "Epoch 20/30\n",
            "10000/10000 [==============================] - 19s 2ms/step - loss: 2.3026 - accuracy: 0.0994 - val_loss: 2.3031 - val_accuracy: 0.0985\n",
            "Epoch 21/30\n",
            "10000/10000 [==============================] - 18s 2ms/step - loss: 2.3026 - accuracy: 0.1004 - val_loss: 2.3025 - val_accuracy: 0.1010\n",
            "Epoch 22/30\n",
            "10000/10000 [==============================] - 18s 2ms/step - loss: 2.3026 - accuracy: 0.1011 - val_loss: 2.3024 - val_accuracy: 0.1016\n",
            "Epoch 23/30\n",
            "10000/10000 [==============================] - 19s 2ms/step - loss: 2.3027 - accuracy: 0.0986 - val_loss: 2.3025 - val_accuracy: 0.0993\n",
            "Epoch 24/30\n",
            "10000/10000 [==============================] - 19s 2ms/step - loss: 2.3026 - accuracy: 0.0996 - val_loss: 2.3023 - val_accuracy: 0.0979\n",
            "Epoch 25/30\n",
            "10000/10000 [==============================] - 18s 2ms/step - loss: 2.3026 - accuracy: 0.0998 - val_loss: 2.3031 - val_accuracy: 0.0993\n",
            "Epoch 26/30\n",
            "10000/10000 [==============================] - 18s 2ms/step - loss: 2.3026 - accuracy: 0.1000 - val_loss: 2.3027 - val_accuracy: 0.0979\n",
            "Epoch 27/30\n",
            "10000/10000 [==============================] - 19s 2ms/step - loss: 2.3026 - accuracy: 0.1009 - val_loss: 2.3025 - val_accuracy: 0.0985\n",
            "Epoch 28/30\n",
            "10000/10000 [==============================] - 20s 2ms/step - loss: 2.3025 - accuracy: 0.1019 - val_loss: 2.3029 - val_accuracy: 0.0985\n",
            "Epoch 29/30\n",
            "10000/10000 [==============================] - 18s 2ms/step - loss: 2.3026 - accuracy: 0.1004 - val_loss: 2.3024 - val_accuracy: 0.1032\n",
            "Epoch 30/30\n",
            "10000/10000 [==============================] - 19s 2ms/step - loss: 2.3026 - accuracy: 0.0990 - val_loss: 2.3025 - val_accuracy: 0.0979\n"
          ],
          "name": "stdout"
        }
      ]
    },
    {
      "cell_type": "code",
      "metadata": {
        "id": "Dmoi6DJ6onzf",
        "colab_type": "code",
        "colab": {
          "base_uri": "https://localhost:8080/",
          "height": 1000
        },
        "outputId": "20c2ee17-260f-4450-9d75-5a929739ec29"
      },
      "source": [
        "model = create_model()\n",
        "bt_large = model.fit(X_train,\n",
        "          y_train,\n",
        "          epochs=30,\n",
        "          batch_size=500,\n",
        "          validation_data=(X_test, y_test))"
      ],
      "execution_count": 13,
      "outputs": [
        {
          "output_type": "stream",
          "text": [
            "Epoch 1/30\n",
            "160/160 [==============================] - 0s 3ms/step - loss: 29.1063 - accuracy: 0.1102 - val_loss: 2.2905 - val_accuracy: 0.1132\n",
            "Epoch 2/30\n",
            "160/160 [==============================] - 0s 2ms/step - loss: 2.2757 - accuracy: 0.1171 - val_loss: 2.3044 - val_accuracy: 0.1175\n",
            "Epoch 3/30\n",
            "160/160 [==============================] - 0s 2ms/step - loss: 2.2659 - accuracy: 0.1210 - val_loss: 2.3016 - val_accuracy: 0.1200\n",
            "Epoch 4/30\n",
            "160/160 [==============================] - 0s 3ms/step - loss: 2.2615 - accuracy: 0.1217 - val_loss: 2.2960 - val_accuracy: 0.1235\n",
            "Epoch 5/30\n",
            "160/160 [==============================] - 0s 2ms/step - loss: 2.2548 - accuracy: 0.1241 - val_loss: 2.3022 - val_accuracy: 0.1256\n",
            "Epoch 6/30\n",
            "160/160 [==============================] - 0s 2ms/step - loss: 2.2478 - accuracy: 0.1262 - val_loss: 2.2915 - val_accuracy: 0.1253\n",
            "Epoch 7/30\n",
            "160/160 [==============================] - 0s 2ms/step - loss: 2.2485 - accuracy: 0.1265 - val_loss: 2.2856 - val_accuracy: 0.1253\n",
            "Epoch 8/30\n",
            "160/160 [==============================] - 0s 2ms/step - loss: 2.2401 - accuracy: 0.1310 - val_loss: 2.2914 - val_accuracy: 0.1278\n",
            "Epoch 9/30\n",
            "160/160 [==============================] - 0s 2ms/step - loss: 2.2359 - accuracy: 0.1327 - val_loss: 2.2845 - val_accuracy: 0.1265\n",
            "Epoch 10/30\n",
            "160/160 [==============================] - 0s 3ms/step - loss: 2.2305 - accuracy: 0.1341 - val_loss: 2.2720 - val_accuracy: 0.1303\n",
            "Epoch 11/30\n",
            "160/160 [==============================] - 0s 2ms/step - loss: 2.2330 - accuracy: 0.1336 - val_loss: 2.2653 - val_accuracy: 0.1275\n",
            "Epoch 12/30\n",
            "160/160 [==============================] - 0s 2ms/step - loss: 2.2248 - accuracy: 0.1378 - val_loss: 2.2696 - val_accuracy: 0.1329\n",
            "Epoch 13/30\n",
            "160/160 [==============================] - 0s 2ms/step - loss: 2.2214 - accuracy: 0.1388 - val_loss: 2.2584 - val_accuracy: 0.1341\n",
            "Epoch 14/30\n",
            "160/160 [==============================] - 0s 2ms/step - loss: 2.2183 - accuracy: 0.1403 - val_loss: 2.2586 - val_accuracy: 0.1346\n",
            "Epoch 15/30\n",
            "160/160 [==============================] - 0s 3ms/step - loss: 2.2145 - accuracy: 0.1421 - val_loss: 2.2507 - val_accuracy: 0.1371\n",
            "Epoch 16/30\n",
            "160/160 [==============================] - 0s 2ms/step - loss: 2.2117 - accuracy: 0.1434 - val_loss: 2.2304 - val_accuracy: 0.1373\n",
            "Epoch 17/30\n",
            "160/160 [==============================] - 0s 2ms/step - loss: 2.2103 - accuracy: 0.1445 - val_loss: 2.2309 - val_accuracy: 0.1364\n",
            "Epoch 18/30\n",
            "160/160 [==============================] - 0s 2ms/step - loss: 2.2033 - accuracy: 0.1466 - val_loss: 2.2292 - val_accuracy: 0.1404\n",
            "Epoch 19/30\n",
            "160/160 [==============================] - 0s 2ms/step - loss: 2.2017 - accuracy: 0.1467 - val_loss: 2.2332 - val_accuracy: 0.1405\n",
            "Epoch 20/30\n",
            "160/160 [==============================] - 0s 2ms/step - loss: 2.2015 - accuracy: 0.1465 - val_loss: 2.2275 - val_accuracy: 0.1412\n",
            "Epoch 21/30\n",
            "160/160 [==============================] - 0s 2ms/step - loss: 2.1973 - accuracy: 0.1492 - val_loss: 2.2230 - val_accuracy: 0.1453\n",
            "Epoch 22/30\n",
            "160/160 [==============================] - 0s 2ms/step - loss: 2.1960 - accuracy: 0.1495 - val_loss: 2.2187 - val_accuracy: 0.1461\n",
            "Epoch 23/30\n",
            "160/160 [==============================] - 0s 2ms/step - loss: 2.1946 - accuracy: 0.1504 - val_loss: 2.2179 - val_accuracy: 0.1424\n",
            "Epoch 24/30\n",
            "160/160 [==============================] - 0s 2ms/step - loss: 2.1926 - accuracy: 0.1505 - val_loss: 2.2180 - val_accuracy: 0.1468\n",
            "Epoch 25/30\n",
            "160/160 [==============================] - 0s 2ms/step - loss: 2.1880 - accuracy: 0.1531 - val_loss: 2.2077 - val_accuracy: 0.1465\n",
            "Epoch 26/30\n",
            "160/160 [==============================] - 0s 2ms/step - loss: 2.1870 - accuracy: 0.1531 - val_loss: 2.2090 - val_accuracy: 0.1460\n",
            "Epoch 27/30\n",
            "160/160 [==============================] - 0s 2ms/step - loss: 2.1838 - accuracy: 0.1552 - val_loss: 2.2007 - val_accuracy: 0.1488\n",
            "Epoch 28/30\n",
            "160/160 [==============================] - 0s 2ms/step - loss: 2.1844 - accuracy: 0.1549 - val_loss: 2.2021 - val_accuracy: 0.1488\n",
            "Epoch 29/30\n",
            "160/160 [==============================] - 0s 2ms/step - loss: 2.1808 - accuracy: 0.1556 - val_loss: 2.2024 - val_accuracy: 0.1480\n",
            "Epoch 30/30\n",
            "160/160 [==============================] - 0s 2ms/step - loss: 2.1785 - accuracy: 0.1564 - val_loss: 2.2084 - val_accuracy: 0.1526\n"
          ],
          "name": "stdout"
        }
      ]
    },
    {
      "cell_type": "code",
      "metadata": {
        "id": "QAVWrm5roytE",
        "colab_type": "code",
        "colab": {
          "base_uri": "https://localhost:8080/",
          "height": 1000
        },
        "outputId": "34e42447-1ffe-47f5-e728-0df8faf7062a"
      },
      "source": [
        "model = create_model()\n",
        "bt_medium = model.fit(X_train,\n",
        "          y_train,\n",
        "          epochs=30,\n",
        "          batch_size=250,\n",
        "          validation_data=(X_test, y_test))"
      ],
      "execution_count": 14,
      "outputs": [
        {
          "output_type": "stream",
          "text": [
            "Epoch 1/30\n",
            "320/320 [==============================] - 1s 3ms/step - loss: 135.7528 - accuracy: 0.1004 - val_loss: 2.3042 - val_accuracy: 0.0978\n",
            "Epoch 2/30\n",
            "320/320 [==============================] - 1s 2ms/step - loss: 2.3162 - accuracy: 0.0996 - val_loss: 2.3043 - val_accuracy: 0.0978\n",
            "Epoch 3/30\n",
            "320/320 [==============================] - 1s 2ms/step - loss: 2.3059 - accuracy: 0.0997 - val_loss: 2.3043 - val_accuracy: 0.0978\n",
            "Epoch 4/30\n",
            "320/320 [==============================] - 1s 2ms/step - loss: 2.3039 - accuracy: 0.1000 - val_loss: 2.3043 - val_accuracy: 0.0978\n",
            "Epoch 5/30\n",
            "320/320 [==============================] - 1s 2ms/step - loss: 2.3035 - accuracy: 0.0998 - val_loss: 2.3043 - val_accuracy: 0.0978\n",
            "Epoch 6/30\n",
            "320/320 [==============================] - 1s 2ms/step - loss: 2.3031 - accuracy: 0.0998 - val_loss: 2.3043 - val_accuracy: 0.0966\n",
            "Epoch 7/30\n",
            "320/320 [==============================] - 1s 2ms/step - loss: 2.3026 - accuracy: 0.1006 - val_loss: 2.3043 - val_accuracy: 0.0966\n",
            "Epoch 8/30\n",
            "320/320 [==============================] - 1s 2ms/step - loss: 2.3022 - accuracy: 0.1011 - val_loss: 2.3040 - val_accuracy: 0.0968\n",
            "Epoch 9/30\n",
            "320/320 [==============================] - 1s 2ms/step - loss: 2.3017 - accuracy: 0.1005 - val_loss: 2.3032 - val_accuracy: 0.0971\n",
            "Epoch 10/30\n",
            "320/320 [==============================] - 1s 2ms/step - loss: 2.3012 - accuracy: 0.1020 - val_loss: 2.2973 - val_accuracy: 0.1006\n",
            "Epoch 11/30\n",
            "320/320 [==============================] - 1s 2ms/step - loss: 2.2969 - accuracy: 0.1045 - val_loss: 2.2946 - val_accuracy: 0.1010\n",
            "Epoch 12/30\n",
            "320/320 [==============================] - 1s 2ms/step - loss: 2.2927 - accuracy: 0.1076 - val_loss: 2.2957 - val_accuracy: 0.1006\n",
            "Epoch 13/30\n",
            "320/320 [==============================] - 1s 2ms/step - loss: 2.2785 - accuracy: 0.1141 - val_loss: 2.2776 - val_accuracy: 0.1183\n",
            "Epoch 14/30\n",
            "320/320 [==============================] - 1s 2ms/step - loss: 2.2597 - accuracy: 0.1250 - val_loss: 2.2612 - val_accuracy: 0.1229\n",
            "Epoch 15/30\n",
            "320/320 [==============================] - 1s 2ms/step - loss: 2.2461 - accuracy: 0.1307 - val_loss: 2.2502 - val_accuracy: 0.1271\n",
            "Epoch 16/30\n",
            "320/320 [==============================] - 1s 2ms/step - loss: 2.2301 - accuracy: 0.1377 - val_loss: 2.2253 - val_accuracy: 0.1378\n",
            "Epoch 17/30\n",
            "320/320 [==============================] - 1s 2ms/step - loss: 2.2187 - accuracy: 0.1427 - val_loss: 2.2268 - val_accuracy: 0.1356\n",
            "Epoch 18/30\n",
            "320/320 [==============================] - 1s 2ms/step - loss: 2.2079 - accuracy: 0.1471 - val_loss: 2.2092 - val_accuracy: 0.1427\n",
            "Epoch 19/30\n",
            "320/320 [==============================] - 1s 2ms/step - loss: 2.1981 - accuracy: 0.1509 - val_loss: 2.2016 - val_accuracy: 0.1453\n",
            "Epoch 20/30\n",
            "320/320 [==============================] - 1s 2ms/step - loss: 2.1882 - accuracy: 0.1547 - val_loss: 2.1920 - val_accuracy: 0.1490\n",
            "Epoch 21/30\n",
            "320/320 [==============================] - 1s 2ms/step - loss: 2.1826 - accuracy: 0.1563 - val_loss: 2.1825 - val_accuracy: 0.1506\n",
            "Epoch 22/30\n",
            "320/320 [==============================] - 1s 2ms/step - loss: 2.1747 - accuracy: 0.1592 - val_loss: 2.1812 - val_accuracy: 0.1523\n",
            "Epoch 23/30\n",
            "320/320 [==============================] - 1s 2ms/step - loss: 2.1738 - accuracy: 0.1589 - val_loss: 2.1851 - val_accuracy: 0.1488\n",
            "Epoch 24/30\n",
            "320/320 [==============================] - 1s 2ms/step - loss: 2.1747 - accuracy: 0.1587 - val_loss: 2.1749 - val_accuracy: 0.1538\n",
            "Epoch 25/30\n",
            "320/320 [==============================] - 1s 2ms/step - loss: 2.1661 - accuracy: 0.1610 - val_loss: 2.2170 - val_accuracy: 0.1540\n",
            "Epoch 26/30\n",
            "320/320 [==============================] - 1s 2ms/step - loss: 2.1567 - accuracy: 0.1691 - val_loss: 2.0952 - val_accuracy: 0.2084\n",
            "Epoch 27/30\n",
            "320/320 [==============================] - 1s 2ms/step - loss: 2.0569 - accuracy: 0.2168 - val_loss: 2.0583 - val_accuracy: 0.2139\n",
            "Epoch 28/30\n",
            "320/320 [==============================] - 1s 2ms/step - loss: 1.9904 - accuracy: 0.2382 - val_loss: 1.9617 - val_accuracy: 0.2398\n",
            "Epoch 29/30\n",
            "320/320 [==============================] - 1s 2ms/step - loss: 1.9217 - accuracy: 0.2562 - val_loss: 1.9130 - val_accuracy: 0.2529\n",
            "Epoch 30/30\n",
            "320/320 [==============================] - 1s 2ms/step - loss: 1.8871 - accuracy: 0.2558 - val_loss: 1.8870 - val_accuracy: 0.2441\n"
          ],
          "name": "stdout"
        }
      ]
    },
    {
      "cell_type": "code",
      "metadata": {
        "id": "ABBZOG3Zo6ja",
        "colab_type": "code",
        "colab": {
          "base_uri": "https://localhost:8080/",
          "height": 1000
        },
        "outputId": "9db26b86-29cb-475c-9b6a-bbf5fd8fed5d"
      },
      "source": [
        "model = create_model()\n",
        "bt_medium2 = model.fit(X_train,\n",
        "          y_train,\n",
        "          epochs=30,\n",
        "          batch_size=150,\n",
        "          validation_data=(X_test, y_test))"
      ],
      "execution_count": 15,
      "outputs": [
        {
          "output_type": "stream",
          "text": [
            "Epoch 1/30\n",
            "534/534 [==============================] - 1s 2ms/step - loss: 565.3075 - accuracy: 0.0996 - val_loss: 2.3026 - val_accuracy: 0.0978\n",
            "Epoch 2/30\n",
            "534/534 [==============================] - 1s 2ms/step - loss: 3.3575 - accuracy: 0.0982 - val_loss: 2.3026 - val_accuracy: 0.0978\n",
            "Epoch 3/30\n",
            "534/534 [==============================] - 1s 2ms/step - loss: 2.3034 - accuracy: 0.0989 - val_loss: 2.3027 - val_accuracy: 0.0978\n",
            "Epoch 4/30\n",
            "534/534 [==============================] - 1s 2ms/step - loss: 2.3031 - accuracy: 0.1002 - val_loss: 2.3027 - val_accuracy: 0.0966\n",
            "Epoch 5/30\n",
            "534/534 [==============================] - 1s 2ms/step - loss: 2.3029 - accuracy: 0.1002 - val_loss: 2.3027 - val_accuracy: 0.0966\n",
            "Epoch 6/30\n",
            "534/534 [==============================] - 1s 3ms/step - loss: 2.3028 - accuracy: 0.1008 - val_loss: 2.3027 - val_accuracy: 0.0966\n",
            "Epoch 7/30\n",
            "534/534 [==============================] - 1s 3ms/step - loss: 2.3027 - accuracy: 0.0987 - val_loss: 2.3027 - val_accuracy: 0.0966\n",
            "Epoch 8/30\n",
            "534/534 [==============================] - 1s 2ms/step - loss: 2.3027 - accuracy: 0.1009 - val_loss: 2.3027 - val_accuracy: 0.0966\n",
            "Epoch 9/30\n",
            "534/534 [==============================] - 1s 2ms/step - loss: 2.3026 - accuracy: 0.1008 - val_loss: 2.3027 - val_accuracy: 0.0966\n",
            "Epoch 10/30\n",
            "534/534 [==============================] - 1s 2ms/step - loss: 2.3026 - accuracy: 0.1005 - val_loss: 2.3027 - val_accuracy: 0.0966\n",
            "Epoch 11/30\n",
            "534/534 [==============================] - 1s 2ms/step - loss: 2.3026 - accuracy: 0.0993 - val_loss: 2.3027 - val_accuracy: 0.0966\n",
            "Epoch 12/30\n",
            "534/534 [==============================] - 1s 2ms/step - loss: 2.3026 - accuracy: 0.1004 - val_loss: 2.3027 - val_accuracy: 0.0966\n",
            "Epoch 13/30\n",
            "534/534 [==============================] - 1s 2ms/step - loss: 2.3025 - accuracy: 0.0991 - val_loss: 2.3027 - val_accuracy: 0.0966\n",
            "Epoch 14/30\n",
            "534/534 [==============================] - 1s 2ms/step - loss: 2.3025 - accuracy: 0.1000 - val_loss: 2.3027 - val_accuracy: 0.0966\n",
            "Epoch 15/30\n",
            "534/534 [==============================] - 1s 2ms/step - loss: 2.3025 - accuracy: 0.0998 - val_loss: 2.3027 - val_accuracy: 0.0966\n",
            "Epoch 16/30\n",
            "534/534 [==============================] - 1s 2ms/step - loss: 2.3025 - accuracy: 0.1002 - val_loss: 2.3027 - val_accuracy: 0.0966\n",
            "Epoch 17/30\n",
            "534/534 [==============================] - 1s 2ms/step - loss: 2.3025 - accuracy: 0.0998 - val_loss: 2.3027 - val_accuracy: 0.0966\n",
            "Epoch 18/30\n",
            "534/534 [==============================] - 1s 2ms/step - loss: 2.3025 - accuracy: 0.0999 - val_loss: 2.3027 - val_accuracy: 0.0966\n",
            "Epoch 19/30\n",
            "534/534 [==============================] - 1s 2ms/step - loss: 2.3025 - accuracy: 0.1009 - val_loss: 2.3027 - val_accuracy: 0.0966\n",
            "Epoch 20/30\n",
            "534/534 [==============================] - 1s 3ms/step - loss: 2.3025 - accuracy: 0.0999 - val_loss: 2.3027 - val_accuracy: 0.0966\n",
            "Epoch 21/30\n",
            "534/534 [==============================] - 1s 2ms/step - loss: 2.3025 - accuracy: 0.1001 - val_loss: 2.3027 - val_accuracy: 0.0966\n",
            "Epoch 22/30\n",
            "534/534 [==============================] - 1s 2ms/step - loss: 2.3025 - accuracy: 0.1006 - val_loss: 2.3027 - val_accuracy: 0.0966\n",
            "Epoch 23/30\n",
            "534/534 [==============================] - 1s 2ms/step - loss: 2.3025 - accuracy: 0.1001 - val_loss: 2.3027 - val_accuracy: 0.0966\n",
            "Epoch 24/30\n",
            "534/534 [==============================] - 1s 3ms/step - loss: 2.3025 - accuracy: 0.0997 - val_loss: 2.3027 - val_accuracy: 0.0966\n",
            "Epoch 25/30\n",
            "534/534 [==============================] - 1s 2ms/step - loss: 2.3025 - accuracy: 0.1005 - val_loss: 2.3027 - val_accuracy: 0.0966\n",
            "Epoch 26/30\n",
            "534/534 [==============================] - 1s 2ms/step - loss: 2.3025 - accuracy: 0.0994 - val_loss: 2.3027 - val_accuracy: 0.0966\n",
            "Epoch 27/30\n",
            "534/534 [==============================] - 1s 2ms/step - loss: 2.3025 - accuracy: 0.0998 - val_loss: 2.3027 - val_accuracy: 0.0966\n",
            "Epoch 28/30\n",
            "534/534 [==============================] - 1s 2ms/step - loss: 2.3025 - accuracy: 0.0998 - val_loss: 2.3027 - val_accuracy: 0.0966\n",
            "Epoch 29/30\n",
            "534/534 [==============================] - 1s 3ms/step - loss: 2.3025 - accuracy: 0.1001 - val_loss: 2.3027 - val_accuracy: 0.0966\n",
            "Epoch 30/30\n",
            "534/534 [==============================] - 1s 2ms/step - loss: 2.3025 - accuracy: 0.1001 - val_loss: 2.3027 - val_accuracy: 0.0966\n"
          ],
          "name": "stdout"
        }
      ]
    },
    {
      "cell_type": "code",
      "metadata": {
        "id": "NSOvEJ5GpCKy",
        "colab_type": "code",
        "colab": {
          "base_uri": "https://localhost:8080/",
          "height": 1000
        },
        "outputId": "624e45b9-5f5c-48d7-915b-0e84d31d749c"
      },
      "source": [
        "model = create_model()\n",
        "bt_huge = model.fit(X_train,\n",
        "          y_train,\n",
        "          epochs=30,\n",
        "          batch_size=1000,\n",
        "          validation_data=(X_test, y_test))"
      ],
      "execution_count": 16,
      "outputs": [
        {
          "output_type": "stream",
          "text": [
            "Epoch 1/30\n",
            "80/80 [==============================] - 0s 4ms/step - loss: 16.4944 - accuracy: 0.1013 - val_loss: 2.3026 - val_accuracy: 0.0966\n",
            "Epoch 2/30\n",
            "80/80 [==============================] - 0s 3ms/step - loss: 2.3028 - accuracy: 0.1007 - val_loss: 2.3026 - val_accuracy: 0.0966\n",
            "Epoch 3/30\n",
            "80/80 [==============================] - 0s 3ms/step - loss: 2.3028 - accuracy: 0.1005 - val_loss: 2.3026 - val_accuracy: 0.0966\n",
            "Epoch 4/30\n",
            "80/80 [==============================] - 0s 3ms/step - loss: 2.3028 - accuracy: 0.1008 - val_loss: 2.3026 - val_accuracy: 0.0966\n",
            "Epoch 5/30\n",
            "80/80 [==============================] - 0s 3ms/step - loss: 2.3027 - accuracy: 0.1008 - val_loss: 2.3026 - val_accuracy: 0.0966\n",
            "Epoch 6/30\n",
            "80/80 [==============================] - 0s 3ms/step - loss: 2.3027 - accuracy: 0.1008 - val_loss: 2.3026 - val_accuracy: 0.0966\n",
            "Epoch 7/30\n",
            "80/80 [==============================] - 0s 2ms/step - loss: 2.3027 - accuracy: 0.1008 - val_loss: 2.3026 - val_accuracy: 0.0966\n",
            "Epoch 8/30\n",
            "80/80 [==============================] - 0s 2ms/step - loss: 2.3027 - accuracy: 0.1008 - val_loss: 2.3027 - val_accuracy: 0.0966\n",
            "Epoch 9/30\n",
            "80/80 [==============================] - 0s 2ms/step - loss: 2.3027 - accuracy: 0.1008 - val_loss: 2.3027 - val_accuracy: 0.0966\n",
            "Epoch 10/30\n",
            "80/80 [==============================] - 0s 3ms/step - loss: 2.3027 - accuracy: 0.1008 - val_loss: 2.3027 - val_accuracy: 0.0966\n",
            "Epoch 11/30\n",
            "80/80 [==============================] - 0s 3ms/step - loss: 2.3026 - accuracy: 0.1008 - val_loss: 2.3027 - val_accuracy: 0.0966\n",
            "Epoch 12/30\n",
            "80/80 [==============================] - 0s 3ms/step - loss: 2.3026 - accuracy: 0.1008 - val_loss: 2.3027 - val_accuracy: 0.0966\n",
            "Epoch 13/30\n",
            "80/80 [==============================] - 0s 2ms/step - loss: 2.3026 - accuracy: 0.1008 - val_loss: 2.3027 - val_accuracy: 0.0966\n",
            "Epoch 14/30\n",
            "80/80 [==============================] - 0s 3ms/step - loss: 2.3026 - accuracy: 0.1008 - val_loss: 2.3027 - val_accuracy: 0.0966\n",
            "Epoch 15/30\n",
            "80/80 [==============================] - 0s 3ms/step - loss: 2.3026 - accuracy: 0.1008 - val_loss: 2.3027 - val_accuracy: 0.0966\n",
            "Epoch 16/30\n",
            "80/80 [==============================] - 0s 3ms/step - loss: 2.3026 - accuracy: 0.1008 - val_loss: 2.3027 - val_accuracy: 0.0966\n",
            "Epoch 17/30\n",
            "80/80 [==============================] - 0s 2ms/step - loss: 2.3026 - accuracy: 0.1008 - val_loss: 2.3027 - val_accuracy: 0.0966\n",
            "Epoch 18/30\n",
            "80/80 [==============================] - 0s 2ms/step - loss: 2.3026 - accuracy: 0.1008 - val_loss: 2.3027 - val_accuracy: 0.0966\n",
            "Epoch 19/30\n",
            "80/80 [==============================] - 0s 2ms/step - loss: 2.3026 - accuracy: 0.1008 - val_loss: 2.3027 - val_accuracy: 0.0966\n",
            "Epoch 20/30\n",
            "80/80 [==============================] - 0s 3ms/step - loss: 2.3026 - accuracy: 0.1008 - val_loss: 2.3027 - val_accuracy: 0.0966\n",
            "Epoch 21/30\n",
            "80/80 [==============================] - 0s 3ms/step - loss: 2.3026 - accuracy: 0.1008 - val_loss: 2.3027 - val_accuracy: 0.0966\n",
            "Epoch 22/30\n",
            "80/80 [==============================] - 0s 2ms/step - loss: 2.3026 - accuracy: 0.1008 - val_loss: 2.3027 - val_accuracy: 0.0966\n",
            "Epoch 23/30\n",
            "80/80 [==============================] - 0s 2ms/step - loss: 2.3026 - accuracy: 0.1008 - val_loss: 2.3027 - val_accuracy: 0.0966\n",
            "Epoch 24/30\n",
            "80/80 [==============================] - 0s 2ms/step - loss: 2.3026 - accuracy: 0.1008 - val_loss: 2.3027 - val_accuracy: 0.0966\n",
            "Epoch 25/30\n",
            "80/80 [==============================] - 0s 2ms/step - loss: 2.3026 - accuracy: 0.1008 - val_loss: 2.3027 - val_accuracy: 0.0966\n",
            "Epoch 26/30\n",
            "80/80 [==============================] - 0s 2ms/step - loss: 2.3026 - accuracy: 0.1008 - val_loss: 2.3027 - val_accuracy: 0.0966\n",
            "Epoch 27/30\n",
            "80/80 [==============================] - 0s 3ms/step - loss: 2.3026 - accuracy: 0.1008 - val_loss: 2.3027 - val_accuracy: 0.0966\n",
            "Epoch 28/30\n",
            "80/80 [==============================] - 0s 3ms/step - loss: 2.3026 - accuracy: 0.1008 - val_loss: 2.3027 - val_accuracy: 0.0966\n",
            "Epoch 29/30\n",
            "80/80 [==============================] - 0s 3ms/step - loss: 2.3026 - accuracy: 0.1008 - val_loss: 2.3027 - val_accuracy: 0.0966\n",
            "Epoch 30/30\n",
            "80/80 [==============================] - 0s 3ms/step - loss: 2.3026 - accuracy: 0.1008 - val_loss: 2.3027 - val_accuracy: 0.0966\n"
          ],
          "name": "stdout"
        }
      ]
    },
    {
      "cell_type": "markdown",
      "metadata": {
        "id": "pJtxkOrDpHZD",
        "colab_type": "text"
      },
      "source": [
        "Visualization of Results"
      ]
    },
    {
      "cell_type": "code",
      "metadata": {
        "id": "2HDN3dMYqioT",
        "colab_type": "code",
        "colab": {
          "base_uri": "https://localhost:8080/",
          "height": 71
        },
        "outputId": "c5631e88-16c6-4900-bd9a-0b465201dd58"
      },
      "source": [
        "import pandas as pd\n",
        "import seaborn as sns"
      ],
      "execution_count": 17,
      "outputs": [
        {
          "output_type": "stream",
          "text": [
            "/usr/local/lib/python3.6/dist-packages/statsmodels/tools/_testing.py:19: FutureWarning: pandas.util.testing is deprecated. Use the functions in the public API at pandas.testing instead.\n",
            "  import pandas.util.testing as tm\n"
          ],
          "name": "stderr"
        }
      ]
    },
    {
      "cell_type": "code",
      "metadata": {
        "id": "OF0OQVQ5pPEB",
        "colab_type": "code",
        "colab": {
          "base_uri": "https://localhost:8080/",
          "height": 204
        },
        "outputId": "84691c77-ba9c-4887-d07b-5f91bfd41dbb"
      },
      "source": [
        "batch_sizes = []\n",
        "\n",
        "for exp, result in zip([bt_default, bt_small, bt_large, bt_medium, bt_medium2, bt_huge], [\"32_\", \"8_\", \"500_\", \"250_\", \"150_\", \"1000_\"]):\n",
        "  df = pd.DataFrame.from_dict(exp.history)\n",
        "  df['epoch'] = df.index.values\n",
        "  df['Batch Size'] = result\n",
        "  batch_sizes.append(df)\n",
        "\n",
        "df = pd.concat(batch_sizes)\n",
        "df['Batch Size'] = df['Batch Size'].astype('str')\n",
        "df.head()"
      ],
      "execution_count": 18,
      "outputs": [
        {
          "output_type": "execute_result",
          "data": {
            "text/html": [
              "<div>\n",
              "<style scoped>\n",
              "    .dataframe tbody tr th:only-of-type {\n",
              "        vertical-align: middle;\n",
              "    }\n",
              "\n",
              "    .dataframe tbody tr th {\n",
              "        vertical-align: top;\n",
              "    }\n",
              "\n",
              "    .dataframe thead th {\n",
              "        text-align: right;\n",
              "    }\n",
              "</style>\n",
              "<table border=\"1\" class=\"dataframe\">\n",
              "  <thead>\n",
              "    <tr style=\"text-align: right;\">\n",
              "      <th></th>\n",
              "      <th>loss</th>\n",
              "      <th>accuracy</th>\n",
              "      <th>val_loss</th>\n",
              "      <th>val_accuracy</th>\n",
              "      <th>epoch</th>\n",
              "      <th>Batch Size</th>\n",
              "    </tr>\n",
              "  </thead>\n",
              "  <tbody>\n",
              "    <tr>\n",
              "      <th>0</th>\n",
              "      <td>2.972741</td>\n",
              "      <td>0.099487</td>\n",
              "      <td>2.305208</td>\n",
              "      <td>0.09660</td>\n",
              "      <td>0</td>\n",
              "      <td>32_</td>\n",
              "    </tr>\n",
              "    <tr>\n",
              "      <th>1</th>\n",
              "      <td>2.303943</td>\n",
              "      <td>0.099875</td>\n",
              "      <td>2.302815</td>\n",
              "      <td>0.09910</td>\n",
              "      <td>1</td>\n",
              "      <td>32_</td>\n",
              "    </tr>\n",
              "    <tr>\n",
              "      <th>2</th>\n",
              "      <td>2.302646</td>\n",
              "      <td>0.099050</td>\n",
              "      <td>2.302797</td>\n",
              "      <td>0.09855</td>\n",
              "      <td>2</td>\n",
              "      <td>32_</td>\n",
              "    </tr>\n",
              "    <tr>\n",
              "      <th>3</th>\n",
              "      <td>2.302650</td>\n",
              "      <td>0.100437</td>\n",
              "      <td>2.302760</td>\n",
              "      <td>0.10085</td>\n",
              "      <td>3</td>\n",
              "      <td>32_</td>\n",
              "    </tr>\n",
              "    <tr>\n",
              "      <th>4</th>\n",
              "      <td>2.302663</td>\n",
              "      <td>0.098800</td>\n",
              "      <td>2.302790</td>\n",
              "      <td>0.09660</td>\n",
              "      <td>4</td>\n",
              "      <td>32_</td>\n",
              "    </tr>\n",
              "  </tbody>\n",
              "</table>\n",
              "</div>"
            ],
            "text/plain": [
              "       loss  accuracy  val_loss  val_accuracy  epoch Batch Size\n",
              "0  2.972741  0.099487  2.305208       0.09660      0        32_\n",
              "1  2.303943  0.099875  2.302815       0.09910      1        32_\n",
              "2  2.302646  0.099050  2.302797       0.09855      2        32_\n",
              "3  2.302650  0.100437  2.302760       0.10085      3        32_\n",
              "4  2.302663  0.098800  2.302790       0.09660      4        32_"
            ]
          },
          "metadata": {
            "tags": []
          },
          "execution_count": 18
        }
      ]
    },
    {
      "cell_type": "code",
      "metadata": {
        "id": "V_V9XWHZqWFj",
        "colab_type": "code",
        "colab": {
          "base_uri": "https://localhost:8080/",
          "height": 279
        },
        "outputId": "479a7241-673a-48e2-b346-ea359b5399e5"
      },
      "source": [
        "sns.lineplot(x='epoch', y='val_accuracy', hue='Batch Size', data=df);"
      ],
      "execution_count": 19,
      "outputs": [
        {
          "output_type": "display_data",
          "data": {
            "image/png": "[encoded data removed]",
            "text/plain": [
              "<Figure size 432x288 with 1 Axes>"
            ]
          },
          "metadata": {
            "tags": [],
            "needs_background": "light"
          }
        }
      ]
    },
    {
      "cell_type": "markdown",
      "metadata": {
        "id": "Om-X8-ctmruw",
        "colab_type": "text"
      },
      "source": [
        "Based on the above visulization, the model with batch size of 250 has the best performance. The best accuracy is about 25%. Compared with the default model (model from assignment 1), the accuracy rate has big improvement. \n",
        "\n",
        "Model with batch size of 8 , 150 and 1000, the smallest size and the biggest size basically have the same accuracy rate, all very low. "
      ]
    },
    {
      "cell_type": "markdown",
      "metadata": {
        "colab_type": "text",
        "id": "8b-r70o8p2Dm"
      },
      "source": [
        "### Experiment with Learning Rate\n",
        "* Run 5 experiments with various learning rate magnitudes: 1, .1, .01, .001, .0001.\n",
        "* Use the \"best\" batch size from the previous experiment\n",
        "* Visualize the results\n",
        "* Write up an analysis of the experiments and select the \"best\" performing model among your experiments. Make sure to compare against the previous experiments and your model's performance yesterday. "
      ]
    },
    {
      "cell_type": "code",
      "metadata": {
        "id": "_SA144xx8Luf",
        "colab_type": "code",
        "colab": {}
      },
      "source": [
        "def create_model_lr(lr):\n",
        "  opt = SGD(learning_rate=lr)\n",
        "  model = Sequential([\n",
        "                      Dense(units=32, activation='relu',input_dim=784),\n",
        "                      Dense(units=20, activation='relu'),\n",
        "                      Dense(units=10, activation='softmax')\n",
        "  ])\n",
        "  model.compile(optimizer=opt,\n",
        "                loss='sparse_categorical_crossentropy',\n",
        "                metrics=['accuracy'])\n",
        "  return model"
      ],
      "execution_count": 20,
      "outputs": []
    },
    {
      "cell_type": "code",
      "metadata": {
        "id": "G2OS9PojoEEk",
        "colab_type": "code",
        "colab": {
          "base_uri": "https://localhost:8080/",
          "height": 1000
        },
        "outputId": "628d516e-909f-43e1-cfb7-cf8b9a19f7e4"
      },
      "source": [
        "model_lr_1 = create_model_lr(1)\n",
        "lr_1 = model_lr_1.fit(X_train,\n",
        "          y_train,\n",
        "          epochs=30,\n",
        "          batch_size=250,\n",
        "          validation_data=(X_test, y_test))"
      ],
      "execution_count": 21,
      "outputs": [
        {
          "output_type": "stream",
          "text": [
            "Epoch 1/30\n",
            "320/320 [==============================] - 1s 2ms/step - loss: 322258.0625 - accuracy: 0.1005 - val_loss: 2.3032 - val_accuracy: 0.0991\n",
            "Epoch 2/30\n",
            "320/320 [==============================] - 1s 2ms/step - loss: 2.3036 - accuracy: 0.1008 - val_loss: 2.3036 - val_accuracy: 0.0978\n",
            "Epoch 3/30\n",
            "320/320 [==============================] - 1s 2ms/step - loss: 2.3035 - accuracy: 0.0991 - val_loss: 2.3033 - val_accuracy: 0.0966\n",
            "Epoch 4/30\n",
            "320/320 [==============================] - 1s 2ms/step - loss: 2.3036 - accuracy: 0.0997 - val_loss: 2.3036 - val_accuracy: 0.1009\n",
            "Epoch 5/30\n",
            "320/320 [==============================] - 1s 2ms/step - loss: 2.3035 - accuracy: 0.1002 - val_loss: 2.3028 - val_accuracy: 0.0991\n",
            "Epoch 6/30\n",
            "320/320 [==============================] - 1s 2ms/step - loss: 2.3035 - accuracy: 0.0985 - val_loss: 2.3039 - val_accuracy: 0.0985\n",
            "Epoch 7/30\n",
            "320/320 [==============================] - 1s 2ms/step - loss: 2.3037 - accuracy: 0.0971 - val_loss: 2.3033 - val_accuracy: 0.1031\n",
            "Epoch 8/30\n",
            "320/320 [==============================] - 1s 2ms/step - loss: 2.3036 - accuracy: 0.1006 - val_loss: 2.3035 - val_accuracy: 0.0966\n",
            "Epoch 9/30\n",
            "320/320 [==============================] - 1s 2ms/step - loss: 2.3036 - accuracy: 0.1019 - val_loss: 2.3032 - val_accuracy: 0.1015\n",
            "Epoch 10/30\n",
            "320/320 [==============================] - 1s 2ms/step - loss: 2.3036 - accuracy: 0.1004 - val_loss: 2.3036 - val_accuracy: 0.0985\n",
            "Epoch 11/30\n",
            "320/320 [==============================] - 1s 2ms/step - loss: 2.3035 - accuracy: 0.0995 - val_loss: 2.3049 - val_accuracy: 0.1015\n",
            "Epoch 12/30\n",
            "320/320 [==============================] - 1s 2ms/step - loss: 2.3037 - accuracy: 0.0991 - val_loss: 2.3028 - val_accuracy: 0.0991\n",
            "Epoch 13/30\n",
            "320/320 [==============================] - 1s 2ms/step - loss: 2.3037 - accuracy: 0.0997 - val_loss: 2.3030 - val_accuracy: 0.1009\n",
            "Epoch 14/30\n",
            "320/320 [==============================] - 1s 2ms/step - loss: 2.3035 - accuracy: 0.0991 - val_loss: 2.3031 - val_accuracy: 0.1009\n",
            "Epoch 15/30\n",
            "320/320 [==============================] - 1s 2ms/step - loss: 2.3035 - accuracy: 0.1011 - val_loss: 2.3043 - val_accuracy: 0.0966\n",
            "Epoch 16/30\n",
            "320/320 [==============================] - 1s 2ms/step - loss: 2.3036 - accuracy: 0.0998 - val_loss: 2.3043 - val_accuracy: 0.1015\n",
            "Epoch 17/30\n",
            "320/320 [==============================] - 1s 2ms/step - loss: 2.3036 - accuracy: 0.0997 - val_loss: 2.3044 - val_accuracy: 0.0985\n",
            "Epoch 18/30\n",
            "320/320 [==============================] - 1s 2ms/step - loss: 2.3037 - accuracy: 0.1004 - val_loss: 2.3035 - val_accuracy: 0.1015\n",
            "Epoch 19/30\n",
            "320/320 [==============================] - 1s 2ms/step - loss: 2.3034 - accuracy: 0.0997 - val_loss: 2.3040 - val_accuracy: 0.1009\n",
            "Epoch 20/30\n",
            "320/320 [==============================] - 1s 2ms/step - loss: 2.3035 - accuracy: 0.1006 - val_loss: 2.3036 - val_accuracy: 0.1015\n",
            "Epoch 21/30\n",
            "320/320 [==============================] - 1s 2ms/step - loss: 2.3035 - accuracy: 0.0999 - val_loss: 2.3035 - val_accuracy: 0.1015\n",
            "Epoch 22/30\n",
            "320/320 [==============================] - 1s 2ms/step - loss: 2.3034 - accuracy: 0.1003 - val_loss: 2.3036 - val_accuracy: 0.0966\n",
            "Epoch 23/30\n",
            "320/320 [==============================] - 1s 2ms/step - loss: 2.3036 - accuracy: 0.1010 - val_loss: 2.3033 - val_accuracy: 0.1009\n",
            "Epoch 24/30\n",
            "320/320 [==============================] - 1s 2ms/step - loss: 2.3037 - accuracy: 0.0990 - val_loss: 2.3033 - val_accuracy: 0.0991\n",
            "Epoch 25/30\n",
            "320/320 [==============================] - 1s 2ms/step - loss: 2.3035 - accuracy: 0.1010 - val_loss: 2.3031 - val_accuracy: 0.1031\n",
            "Epoch 26/30\n",
            "320/320 [==============================] - 1s 2ms/step - loss: 2.3035 - accuracy: 0.1000 - val_loss: 2.3028 - val_accuracy: 0.0991\n",
            "Epoch 27/30\n",
            "320/320 [==============================] - 1s 2ms/step - loss: 2.3034 - accuracy: 0.1016 - val_loss: 2.3047 - val_accuracy: 0.0985\n",
            "Epoch 28/30\n",
            "320/320 [==============================] - 1s 2ms/step - loss: 2.3035 - accuracy: 0.1000 - val_loss: 2.3030 - val_accuracy: 0.0966\n",
            "Epoch 29/30\n",
            "320/320 [==============================] - 1s 2ms/step - loss: 2.3034 - accuracy: 0.1017 - val_loss: 2.3034 - val_accuracy: 0.1015\n",
            "Epoch 30/30\n",
            "320/320 [==============================] - 1s 2ms/step - loss: 2.3036 - accuracy: 0.1015 - val_loss: 2.3039 - val_accuracy: 0.0991\n"
          ],
          "name": "stdout"
        }
      ]
    },
    {
      "cell_type": "code",
      "metadata": {
        "id": "LfKVpYZyo3iz",
        "colab_type": "code",
        "colab": {
          "base_uri": "https://localhost:8080/",
          "height": 1000
        },
        "outputId": "546ec51c-0df2-430d-e169-9d6ff6ec22fb"
      },
      "source": [
        "model_lr_01 = create_model_lr(0.1)\n",
        "lr_01 = model_lr_01.fit(X_train,\n",
        "          y_train,\n",
        "          epochs=30,\n",
        "          batch_size=250,\n",
        "          validation_data=(X_test, y_test))"
      ],
      "execution_count": 22,
      "outputs": [
        {
          "output_type": "stream",
          "text": [
            "Epoch 1/30\n",
            "320/320 [==============================] - 1s 2ms/step - loss: 485148.0938 - accuracy: 0.0999 - val_loss: 2.3027 - val_accuracy: 0.1009\n",
            "Epoch 2/30\n",
            "320/320 [==============================] - 1s 2ms/step - loss: 2.3027 - accuracy: 0.0998 - val_loss: 2.3027 - val_accuracy: 0.0978\n",
            "Epoch 3/30\n",
            "320/320 [==============================] - 1s 2ms/step - loss: 2.3027 - accuracy: 0.0995 - val_loss: 2.3027 - val_accuracy: 0.0966\n",
            "Epoch 4/30\n",
            "320/320 [==============================] - 1s 2ms/step - loss: 2.3027 - accuracy: 0.0993 - val_loss: 2.3028 - val_accuracy: 0.0991\n",
            "Epoch 5/30\n",
            "320/320 [==============================] - 1s 2ms/step - loss: 2.3027 - accuracy: 0.0981 - val_loss: 2.3028 - val_accuracy: 0.0991\n",
            "Epoch 6/30\n",
            "320/320 [==============================] - 1s 2ms/step - loss: 2.3027 - accuracy: 0.1001 - val_loss: 2.3028 - val_accuracy: 0.0985\n",
            "Epoch 7/30\n",
            "320/320 [==============================] - 1s 2ms/step - loss: 2.3027 - accuracy: 0.0994 - val_loss: 2.3027 - val_accuracy: 0.0966\n",
            "Epoch 8/30\n",
            "320/320 [==============================] - 1s 2ms/step - loss: 2.3027 - accuracy: 0.0993 - val_loss: 2.3028 - val_accuracy: 0.0966\n",
            "Epoch 9/30\n",
            "320/320 [==============================] - 1s 2ms/step - loss: 2.3027 - accuracy: 0.0990 - val_loss: 2.3028 - val_accuracy: 0.0966\n",
            "Epoch 10/30\n",
            "320/320 [==============================] - 1s 2ms/step - loss: 2.3027 - accuracy: 0.0979 - val_loss: 2.3028 - val_accuracy: 0.0966\n",
            "Epoch 11/30\n",
            "320/320 [==============================] - 1s 2ms/step - loss: 2.3027 - accuracy: 0.0994 - val_loss: 2.3027 - val_accuracy: 0.0985\n",
            "Epoch 12/30\n",
            "320/320 [==============================] - 1s 2ms/step - loss: 2.3027 - accuracy: 0.0983 - val_loss: 2.3027 - val_accuracy: 0.0966\n",
            "Epoch 13/30\n",
            "320/320 [==============================] - 1s 2ms/step - loss: 2.3027 - accuracy: 0.1006 - val_loss: 2.3027 - val_accuracy: 0.0978\n",
            "Epoch 14/30\n",
            "320/320 [==============================] - 1s 2ms/step - loss: 2.3027 - accuracy: 0.0998 - val_loss: 2.3028 - val_accuracy: 0.1015\n",
            "Epoch 15/30\n",
            "320/320 [==============================] - 1s 2ms/step - loss: 2.3027 - accuracy: 0.0982 - val_loss: 2.3028 - val_accuracy: 0.0991\n",
            "Epoch 16/30\n",
            "320/320 [==============================] - 1s 2ms/step - loss: 2.3027 - accuracy: 0.0994 - val_loss: 2.3027 - val_accuracy: 0.0985\n",
            "Epoch 17/30\n",
            "320/320 [==============================] - 1s 2ms/step - loss: 2.3027 - accuracy: 0.1003 - val_loss: 2.3027 - val_accuracy: 0.1015\n",
            "Epoch 18/30\n",
            "320/320 [==============================] - 1s 2ms/step - loss: 2.3027 - accuracy: 0.0998 - val_loss: 2.3027 - val_accuracy: 0.0978\n",
            "Epoch 19/30\n",
            "320/320 [==============================] - 1s 2ms/step - loss: 2.3027 - accuracy: 0.0999 - val_loss: 2.3027 - val_accuracy: 0.0966\n",
            "Epoch 20/30\n",
            "320/320 [==============================] - 1s 2ms/step - loss: 2.3027 - accuracy: 0.0983 - val_loss: 2.3028 - val_accuracy: 0.0978\n",
            "Epoch 21/30\n",
            "320/320 [==============================] - 1s 2ms/step - loss: 2.3027 - accuracy: 0.0986 - val_loss: 2.3028 - val_accuracy: 0.0978\n",
            "Epoch 22/30\n",
            "320/320 [==============================] - 1s 2ms/step - loss: 2.3027 - accuracy: 0.0989 - val_loss: 2.3027 - val_accuracy: 0.0978\n",
            "Epoch 23/30\n",
            "320/320 [==============================] - 1s 2ms/step - loss: 2.3027 - accuracy: 0.0992 - val_loss: 2.3027 - val_accuracy: 0.0966\n",
            "Epoch 24/30\n",
            "320/320 [==============================] - 1s 2ms/step - loss: 2.3027 - accuracy: 0.1009 - val_loss: 2.3028 - val_accuracy: 0.0978\n",
            "Epoch 25/30\n",
            "320/320 [==============================] - 1s 2ms/step - loss: 2.3027 - accuracy: 0.1010 - val_loss: 2.3029 - val_accuracy: 0.0966\n",
            "Epoch 26/30\n",
            "320/320 [==============================] - 1s 2ms/step - loss: 2.3027 - accuracy: 0.0984 - val_loss: 2.3027 - val_accuracy: 0.0991\n",
            "Epoch 27/30\n",
            "320/320 [==============================] - 1s 2ms/step - loss: 2.3027 - accuracy: 0.0991 - val_loss: 2.3026 - val_accuracy: 0.1009\n",
            "Epoch 28/30\n",
            "320/320 [==============================] - 1s 2ms/step - loss: 2.3027 - accuracy: 0.0999 - val_loss: 2.3027 - val_accuracy: 0.0985\n",
            "Epoch 29/30\n",
            "320/320 [==============================] - 1s 2ms/step - loss: 2.3027 - accuracy: 0.0986 - val_loss: 2.3027 - val_accuracy: 0.1015\n",
            "Epoch 30/30\n",
            "320/320 [==============================] - 1s 2ms/step - loss: 2.3026 - accuracy: 0.1005 - val_loss: 2.3028 - val_accuracy: 0.0978\n"
          ],
          "name": "stdout"
        }
      ]
    },
    {
      "cell_type": "code",
      "metadata": {
        "id": "dZwCBTgco9gM",
        "colab_type": "code",
        "colab": {
          "base_uri": "https://localhost:8080/",
          "height": 1000
        },
        "outputId": "4aacde17-5c65-46ef-b645-02f2ad78dc77"
      },
      "source": [
        "model_lr_001 = create_model_lr(0.01)\n",
        "lr_001 = model_lr_001.fit(X_train,\n",
        "          y_train,\n",
        "          epochs=30,\n",
        "          batch_size=250,\n",
        "          validation_data=(X_test, y_test))"
      ],
      "execution_count": 25,
      "outputs": [
        {
          "output_type": "stream",
          "text": [
            "Epoch 1/30\n",
            "320/320 [==============================] - 1s 2ms/step - loss: 46.1218 - accuracy: 0.1001 - val_loss: 2.3076 - val_accuracy: 0.0966\n",
            "Epoch 2/30\n",
            "320/320 [==============================] - 1s 2ms/step - loss: 2.3228 - accuracy: 0.0993 - val_loss: 2.3027 - val_accuracy: 0.0966\n",
            "Epoch 3/30\n",
            "320/320 [==============================] - 1s 2ms/step - loss: 2.3114 - accuracy: 0.1008 - val_loss: 2.3027 - val_accuracy: 0.0966\n",
            "Epoch 4/30\n",
            "320/320 [==============================] - 1s 2ms/step - loss: 2.3068 - accuracy: 0.1008 - val_loss: 2.3027 - val_accuracy: 0.0966\n",
            "Epoch 5/30\n",
            "320/320 [==============================] - 1s 2ms/step - loss: 2.3051 - accuracy: 0.1009 - val_loss: 2.3027 - val_accuracy: 0.0966\n",
            "Epoch 6/30\n",
            "320/320 [==============================] - 1s 2ms/step - loss: 2.3042 - accuracy: 0.0995 - val_loss: 2.3027 - val_accuracy: 0.0966\n",
            "Epoch 7/30\n",
            "320/320 [==============================] - 1s 2ms/step - loss: 2.3039 - accuracy: 0.1008 - val_loss: 2.3027 - val_accuracy: 0.0966\n",
            "Epoch 8/30\n",
            "320/320 [==============================] - 1s 2ms/step - loss: 2.3037 - accuracy: 0.1004 - val_loss: 2.3027 - val_accuracy: 0.0966\n",
            "Epoch 9/30\n",
            "320/320 [==============================] - 1s 2ms/step - loss: 2.3040 - accuracy: 0.1000 - val_loss: 2.3027 - val_accuracy: 0.0966\n",
            "Epoch 10/30\n",
            "320/320 [==============================] - 1s 2ms/step - loss: 2.3037 - accuracy: 0.1008 - val_loss: 2.3027 - val_accuracy: 0.0966\n",
            "Epoch 11/30\n",
            "320/320 [==============================] - 1s 2ms/step - loss: 2.3033 - accuracy: 0.1003 - val_loss: 2.3027 - val_accuracy: 0.0966\n",
            "Epoch 12/30\n",
            "320/320 [==============================] - 1s 2ms/step - loss: 2.3032 - accuracy: 0.1008 - val_loss: 2.3027 - val_accuracy: 0.0966\n",
            "Epoch 13/30\n",
            "320/320 [==============================] - 1s 2ms/step - loss: 2.3030 - accuracy: 0.1000 - val_loss: 2.3027 - val_accuracy: 0.0966\n",
            "Epoch 14/30\n",
            "320/320 [==============================] - 1s 2ms/step - loss: 2.3030 - accuracy: 0.1002 - val_loss: 2.3027 - val_accuracy: 0.0966\n",
            "Epoch 15/30\n",
            "320/320 [==============================] - 1s 2ms/step - loss: 2.3029 - accuracy: 0.1003 - val_loss: 2.3027 - val_accuracy: 0.0966\n",
            "Epoch 16/30\n",
            "320/320 [==============================] - 1s 2ms/step - loss: 2.3028 - accuracy: 0.1007 - val_loss: 2.3027 - val_accuracy: 0.0966\n",
            "Epoch 17/30\n",
            "320/320 [==============================] - 1s 2ms/step - loss: 2.3028 - accuracy: 0.1004 - val_loss: 2.3027 - val_accuracy: 0.0966\n",
            "Epoch 18/30\n",
            "320/320 [==============================] - 1s 2ms/step - loss: 2.3027 - accuracy: 0.1008 - val_loss: 2.3027 - val_accuracy: 0.0966\n",
            "Epoch 19/30\n",
            "320/320 [==============================] - 1s 2ms/step - loss: 2.3027 - accuracy: 0.1003 - val_loss: 2.3027 - val_accuracy: 0.0966\n",
            "Epoch 20/30\n",
            "320/320 [==============================] - 1s 2ms/step - loss: 2.3026 - accuracy: 0.1009 - val_loss: 2.3027 - val_accuracy: 0.0966\n",
            "Epoch 21/30\n",
            "320/320 [==============================] - 1s 3ms/step - loss: 2.3026 - accuracy: 0.1009 - val_loss: 2.3027 - val_accuracy: 0.0966\n",
            "Epoch 22/30\n",
            "320/320 [==============================] - 1s 2ms/step - loss: 2.3026 - accuracy: 0.1006 - val_loss: 2.3027 - val_accuracy: 0.0966\n",
            "Epoch 23/30\n",
            "320/320 [==============================] - 1s 2ms/step - loss: 2.3026 - accuracy: 0.1000 - val_loss: 2.3027 - val_accuracy: 0.0966\n",
            "Epoch 24/30\n",
            "320/320 [==============================] - 1s 2ms/step - loss: 2.3025 - accuracy: 0.1006 - val_loss: 2.3027 - val_accuracy: 0.0966\n",
            "Epoch 25/30\n",
            "320/320 [==============================] - 1s 3ms/step - loss: 2.3025 - accuracy: 0.1009 - val_loss: 2.3027 - val_accuracy: 0.0966\n",
            "Epoch 26/30\n",
            "320/320 [==============================] - 1s 3ms/step - loss: 2.3025 - accuracy: 0.0997 - val_loss: 2.3027 - val_accuracy: 0.0966\n",
            "Epoch 27/30\n",
            "320/320 [==============================] - 1s 3ms/step - loss: 2.3025 - accuracy: 0.1009 - val_loss: 2.3027 - val_accuracy: 0.0966\n",
            "Epoch 28/30\n",
            "320/320 [==============================] - 1s 2ms/step - loss: 2.3025 - accuracy: 0.1009 - val_loss: 2.3027 - val_accuracy: 0.0966\n",
            "Epoch 29/30\n",
            "320/320 [==============================] - 1s 2ms/step - loss: 2.3025 - accuracy: 0.1004 - val_loss: 2.3027 - val_accuracy: 0.0966\n",
            "Epoch 30/30\n",
            "320/320 [==============================] - 1s 2ms/step - loss: 2.3025 - accuracy: 0.1009 - val_loss: 2.3027 - val_accuracy: 0.0966\n"
          ],
          "name": "stdout"
        }
      ]
    },
    {
      "cell_type": "code",
      "metadata": {
        "id": "mCahRDKdpHrN",
        "colab_type": "code",
        "colab": {
          "base_uri": "https://localhost:8080/",
          "height": 1000
        },
        "outputId": "4f46504c-80e6-43cc-f433-c13c1628f54f"
      },
      "source": [
        "model_lr_0001 = create_model_lr(0.001)\n",
        "lr_0001 = model_lr_0001.fit(X_train,\n",
        "          y_train,\n",
        "          epochs=30,\n",
        "          batch_size=250,\n",
        "          validation_data=(X_test, y_test))"
      ],
      "execution_count": 24,
      "outputs": [
        {
          "output_type": "stream",
          "text": [
            "Epoch 1/30\n",
            "320/320 [==============================] - 1s 3ms/step - loss: 3.1714 - accuracy: 0.1042 - val_loss: 2.3057 - val_accuracy: 0.1020\n",
            "Epoch 2/30\n",
            "320/320 [==============================] - 1s 2ms/step - loss: 2.2911 - accuracy: 0.1186 - val_loss: 2.2605 - val_accuracy: 0.1378\n",
            "Epoch 3/30\n",
            "320/320 [==============================] - 1s 2ms/step - loss: 2.2157 - accuracy: 0.1606 - val_loss: 2.1650 - val_accuracy: 0.1784\n",
            "Epoch 4/30\n",
            "320/320 [==============================] - 1s 2ms/step - loss: 2.1478 - accuracy: 0.1861 - val_loss: 2.1315 - val_accuracy: 0.1884\n",
            "Epoch 5/30\n",
            "320/320 [==============================] - 1s 2ms/step - loss: 2.1190 - accuracy: 0.1953 - val_loss: 2.1125 - val_accuracy: 0.1959\n",
            "Epoch 6/30\n",
            "320/320 [==============================] - 1s 2ms/step - loss: 2.0955 - accuracy: 0.2076 - val_loss: 2.0886 - val_accuracy: 0.2105\n",
            "Epoch 7/30\n",
            "320/320 [==============================] - 1s 2ms/step - loss: 2.0716 - accuracy: 0.2203 - val_loss: 2.0675 - val_accuracy: 0.2219\n",
            "Epoch 8/30\n",
            "320/320 [==============================] - 1s 2ms/step - loss: 2.0472 - accuracy: 0.2331 - val_loss: 2.0437 - val_accuracy: 0.2372\n",
            "Epoch 9/30\n",
            "320/320 [==============================] - 1s 2ms/step - loss: 2.0248 - accuracy: 0.2408 - val_loss: 2.0229 - val_accuracy: 0.2422\n",
            "Epoch 10/30\n",
            "320/320 [==============================] - 1s 2ms/step - loss: 2.0042 - accuracy: 0.2469 - val_loss: 2.0044 - val_accuracy: 0.2466\n",
            "Epoch 11/30\n",
            "320/320 [==============================] - 1s 3ms/step - loss: 1.9841 - accuracy: 0.2516 - val_loss: 1.9871 - val_accuracy: 0.2518\n",
            "Epoch 12/30\n",
            "320/320 [==============================] - 1s 2ms/step - loss: 1.9655 - accuracy: 0.2551 - val_loss: 1.9684 - val_accuracy: 0.2575\n",
            "Epoch 13/30\n",
            "320/320 [==============================] - 1s 2ms/step - loss: 1.9483 - accuracy: 0.2593 - val_loss: 1.9520 - val_accuracy: 0.2615\n",
            "Epoch 14/30\n",
            "320/320 [==============================] - 1s 3ms/step - loss: 1.9309 - accuracy: 0.2639 - val_loss: 1.9349 - val_accuracy: 0.2634\n",
            "Epoch 15/30\n",
            "320/320 [==============================] - 1s 2ms/step - loss: 1.9142 - accuracy: 0.2673 - val_loss: 1.9201 - val_accuracy: 0.2649\n",
            "Epoch 16/30\n",
            "320/320 [==============================] - 1s 2ms/step - loss: 1.8973 - accuracy: 0.2732 - val_loss: 1.9022 - val_accuracy: 0.2698\n",
            "Epoch 17/30\n",
            "320/320 [==============================] - 1s 2ms/step - loss: 1.8796 - accuracy: 0.2819 - val_loss: 1.8831 - val_accuracy: 0.2837\n",
            "Epoch 18/30\n",
            "320/320 [==============================] - 1s 2ms/step - loss: 1.8624 - accuracy: 0.2884 - val_loss: 1.8645 - val_accuracy: 0.2882\n",
            "Epoch 19/30\n",
            "320/320 [==============================] - 1s 2ms/step - loss: 1.8456 - accuracy: 0.2961 - val_loss: 1.8474 - val_accuracy: 0.2930\n",
            "Epoch 20/30\n",
            "320/320 [==============================] - 1s 2ms/step - loss: 1.8322 - accuracy: 0.3013 - val_loss: 1.8361 - val_accuracy: 0.2968\n",
            "Epoch 21/30\n",
            "320/320 [==============================] - 1s 2ms/step - loss: 1.8212 - accuracy: 0.3067 - val_loss: 1.8264 - val_accuracy: 0.3034\n",
            "Epoch 22/30\n",
            "320/320 [==============================] - 1s 2ms/step - loss: 1.8115 - accuracy: 0.3106 - val_loss: 1.8139 - val_accuracy: 0.3070\n",
            "Epoch 23/30\n",
            "320/320 [==============================] - 1s 2ms/step - loss: 1.8017 - accuracy: 0.3153 - val_loss: 1.8059 - val_accuracy: 0.3105\n",
            "Epoch 24/30\n",
            "320/320 [==============================] - 1s 2ms/step - loss: 1.7925 - accuracy: 0.3192 - val_loss: 1.7961 - val_accuracy: 0.3199\n",
            "Epoch 25/30\n",
            "320/320 [==============================] - 1s 2ms/step - loss: 1.7835 - accuracy: 0.3256 - val_loss: 1.7861 - val_accuracy: 0.3266\n",
            "Epoch 26/30\n",
            "320/320 [==============================] - 1s 2ms/step - loss: 1.7729 - accuracy: 0.3310 - val_loss: 1.7729 - val_accuracy: 0.3297\n",
            "Epoch 27/30\n",
            "320/320 [==============================] - 1s 2ms/step - loss: 1.7620 - accuracy: 0.3379 - val_loss: 1.7586 - val_accuracy: 0.3392\n",
            "Epoch 28/30\n",
            "320/320 [==============================] - 1s 2ms/step - loss: 1.7504 - accuracy: 0.3451 - val_loss: 1.7576 - val_accuracy: 0.3455\n",
            "Epoch 29/30\n",
            "320/320 [==============================] - 1s 2ms/step - loss: 1.7390 - accuracy: 0.3519 - val_loss: 1.7352 - val_accuracy: 0.3614\n",
            "Epoch 30/30\n",
            "320/320 [==============================] - 1s 2ms/step - loss: 1.7266 - accuracy: 0.3586 - val_loss: 1.7400 - val_accuracy: 0.3392\n"
          ],
          "name": "stdout"
        }
      ]
    },
    {
      "cell_type": "code",
      "metadata": {
        "id": "2EPhfdhTpPzG",
        "colab_type": "code",
        "colab": {
          "base_uri": "https://localhost:8080/",
          "height": 1000
        },
        "outputId": "add60742-ebb4-4d08-909e-5d16fc047a25"
      },
      "source": [
        "model_lr_00001 = create_model_lr(0.0001)\n",
        "lr_00001 = model_lr_00001.fit(X_train,\n",
        "          y_train,\n",
        "          epochs=30,\n",
        "          batch_size=250,\n",
        "          validation_data=(X_test, y_test))"
      ],
      "execution_count": 26,
      "outputs": [
        {
          "output_type": "stream",
          "text": [
            "Epoch 1/30\n",
            "320/320 [==============================] - 1s 3ms/step - loss: 11.4997 - accuracy: 0.1660 - val_loss: 3.3160 - val_accuracy: 0.1688\n",
            "Epoch 2/30\n",
            "320/320 [==============================] - 1s 2ms/step - loss: 2.8677 - accuracy: 0.1588 - val_loss: 2.5675 - val_accuracy: 0.1481\n",
            "Epoch 3/30\n",
            "320/320 [==============================] - 1s 2ms/step - loss: 2.4879 - accuracy: 0.1638 - val_loss: 2.3849 - val_accuracy: 0.1843\n",
            "Epoch 4/30\n",
            "320/320 [==============================] - 1s 2ms/step - loss: 2.3581 - accuracy: 0.1888 - val_loss: 2.2955 - val_accuracy: 0.1984\n",
            "Epoch 5/30\n",
            "320/320 [==============================] - 1s 2ms/step - loss: 2.2884 - accuracy: 0.2008 - val_loss: 2.2410 - val_accuracy: 0.2063\n",
            "Epoch 6/30\n",
            "320/320 [==============================] - 1s 2ms/step - loss: 2.2421 - accuracy: 0.2147 - val_loss: 2.2024 - val_accuracy: 0.2205\n",
            "Epoch 7/30\n",
            "320/320 [==============================] - 1s 2ms/step - loss: 2.2067 - accuracy: 0.2291 - val_loss: 2.1698 - val_accuracy: 0.2296\n",
            "Epoch 8/30\n",
            "320/320 [==============================] - 1s 2ms/step - loss: 2.1756 - accuracy: 0.2386 - val_loss: 2.1420 - val_accuracy: 0.2395\n",
            "Epoch 9/30\n",
            "320/320 [==============================] - 1s 2ms/step - loss: 2.1477 - accuracy: 0.2486 - val_loss: 2.1165 - val_accuracy: 0.2495\n",
            "Epoch 10/30\n",
            "320/320 [==============================] - 1s 2ms/step - loss: 2.1215 - accuracy: 0.2599 - val_loss: 2.0904 - val_accuracy: 0.2620\n",
            "Epoch 11/30\n",
            "320/320 [==============================] - 1s 2ms/step - loss: 2.0957 - accuracy: 0.2709 - val_loss: 2.0645 - val_accuracy: 0.2731\n",
            "Epoch 12/30\n",
            "320/320 [==============================] - 1s 2ms/step - loss: 2.0702 - accuracy: 0.2817 - val_loss: 2.0402 - val_accuracy: 0.2846\n",
            "Epoch 13/30\n",
            "320/320 [==============================] - 1s 2ms/step - loss: 2.0461 - accuracy: 0.2923 - val_loss: 2.0176 - val_accuracy: 0.2937\n",
            "Epoch 14/30\n",
            "320/320 [==============================] - 1s 2ms/step - loss: 2.0228 - accuracy: 0.3031 - val_loss: 1.9975 - val_accuracy: 0.3024\n",
            "Epoch 15/30\n",
            "320/320 [==============================] - 1s 2ms/step - loss: 2.0000 - accuracy: 0.3112 - val_loss: 1.9792 - val_accuracy: 0.3097\n",
            "Epoch 16/30\n",
            "320/320 [==============================] - 1s 2ms/step - loss: 1.9801 - accuracy: 0.3178 - val_loss: 1.9606 - val_accuracy: 0.3155\n",
            "Epoch 17/30\n",
            "320/320 [==============================] - 1s 2ms/step - loss: 1.9614 - accuracy: 0.3240 - val_loss: 1.9430 - val_accuracy: 0.3228\n",
            "Epoch 18/30\n",
            "320/320 [==============================] - 1s 2ms/step - loss: 1.9441 - accuracy: 0.3306 - val_loss: 1.9270 - val_accuracy: 0.3278\n",
            "Epoch 19/30\n",
            "320/320 [==============================] - 1s 2ms/step - loss: 1.9280 - accuracy: 0.3357 - val_loss: 1.9122 - val_accuracy: 0.3342\n",
            "Epoch 20/30\n",
            "320/320 [==============================] - 1s 2ms/step - loss: 1.9133 - accuracy: 0.3402 - val_loss: 1.8986 - val_accuracy: 0.3375\n",
            "Epoch 21/30\n",
            "320/320 [==============================] - 1s 2ms/step - loss: 1.8996 - accuracy: 0.3448 - val_loss: 1.8857 - val_accuracy: 0.3419\n",
            "Epoch 22/30\n",
            "320/320 [==============================] - 1s 2ms/step - loss: 1.8858 - accuracy: 0.3509 - val_loss: 1.8740 - val_accuracy: 0.3461\n",
            "Epoch 23/30\n",
            "320/320 [==============================] - 1s 2ms/step - loss: 1.8719 - accuracy: 0.3561 - val_loss: 1.8629 - val_accuracy: 0.3505\n",
            "Epoch 24/30\n",
            "320/320 [==============================] - 1s 2ms/step - loss: 1.8586 - accuracy: 0.3609 - val_loss: 1.8515 - val_accuracy: 0.3555\n",
            "Epoch 25/30\n",
            "320/320 [==============================] - 1s 2ms/step - loss: 1.8460 - accuracy: 0.3663 - val_loss: 1.8407 - val_accuracy: 0.3599\n",
            "Epoch 26/30\n",
            "320/320 [==============================] - 1s 2ms/step - loss: 1.8340 - accuracy: 0.3708 - val_loss: 1.8305 - val_accuracy: 0.3645\n",
            "Epoch 27/30\n",
            "320/320 [==============================] - 1s 2ms/step - loss: 1.8232 - accuracy: 0.3746 - val_loss: 1.8209 - val_accuracy: 0.3679\n",
            "Epoch 28/30\n",
            "320/320 [==============================] - 1s 2ms/step - loss: 1.8131 - accuracy: 0.3785 - val_loss: 1.8124 - val_accuracy: 0.3711\n",
            "Epoch 29/30\n",
            "320/320 [==============================] - 1s 2ms/step - loss: 1.8036 - accuracy: 0.3816 - val_loss: 1.8047 - val_accuracy: 0.3735\n",
            "Epoch 30/30\n",
            "320/320 [==============================] - 1s 2ms/step - loss: 1.7951 - accuracy: 0.3847 - val_loss: 1.7972 - val_accuracy: 0.3753\n"
          ],
          "name": "stdout"
        }
      ]
    },
    {
      "cell_type": "code",
      "metadata": {
        "id": "jg4qhmgnKbJz",
        "colab_type": "code",
        "colab": {
          "base_uri": "https://localhost:8080/",
          "height": 204
        },
        "outputId": "c3bf6c11-c3fd-4b93-cd9c-1e0a6365dbd8"
      },
      "source": [
        "test = pd.DataFrame.from_records(lr_1.history)\n",
        "test.head()"
      ],
      "execution_count": 54,
      "outputs": [
        {
          "output_type": "execute_result",
          "data": {
            "text/html": [
              "<div>\n",
              "<style scoped>\n",
              "    .dataframe tbody tr th:only-of-type {\n",
              "        vertical-align: middle;\n",
              "    }\n",
              "\n",
              "    .dataframe tbody tr th {\n",
              "        vertical-align: top;\n",
              "    }\n",
              "\n",
              "    .dataframe thead th {\n",
              "        text-align: right;\n",
              "    }\n",
              "</style>\n",
              "<table border=\"1\" class=\"dataframe\">\n",
              "  <thead>\n",
              "    <tr style=\"text-align: right;\">\n",
              "      <th></th>\n",
              "      <th>accuracy</th>\n",
              "      <th>loss</th>\n",
              "      <th>val_accuracy</th>\n",
              "      <th>val_loss</th>\n",
              "    </tr>\n",
              "  </thead>\n",
              "  <tbody>\n",
              "    <tr>\n",
              "      <th>0</th>\n",
              "      <td>0.100488</td>\n",
              "      <td>322258.062500</td>\n",
              "      <td>0.09910</td>\n",
              "      <td>2.303169</td>\n",
              "    </tr>\n",
              "    <tr>\n",
              "      <th>1</th>\n",
              "      <td>0.100775</td>\n",
              "      <td>2.303611</td>\n",
              "      <td>0.09780</td>\n",
              "      <td>2.303603</td>\n",
              "    </tr>\n",
              "    <tr>\n",
              "      <th>2</th>\n",
              "      <td>0.099113</td>\n",
              "      <td>2.303515</td>\n",
              "      <td>0.09660</td>\n",
              "      <td>2.303324</td>\n",
              "    </tr>\n",
              "    <tr>\n",
              "      <th>3</th>\n",
              "      <td>0.099750</td>\n",
              "      <td>2.303580</td>\n",
              "      <td>0.10085</td>\n",
              "      <td>2.303632</td>\n",
              "    </tr>\n",
              "    <tr>\n",
              "      <th>4</th>\n",
              "      <td>0.100200</td>\n",
              "      <td>2.303493</td>\n",
              "      <td>0.09910</td>\n",
              "      <td>2.302751</td>\n",
              "    </tr>\n",
              "  </tbody>\n",
              "</table>\n",
              "</div>"
            ],
            "text/plain": [
              "   accuracy           loss  val_accuracy  val_loss\n",
              "0  0.100488  322258.062500       0.09910  2.303169\n",
              "1  0.100775       2.303611       0.09780  2.303603\n",
              "2  0.099113       2.303515       0.09660  2.303324\n",
              "3  0.099750       2.303580       0.10085  2.303632\n",
              "4  0.100200       2.303493       0.09910  2.302751"
            ]
          },
          "metadata": {
            "tags": []
          },
          "execution_count": 54
        }
      ]
    },
    {
      "cell_type": "code",
      "metadata": {
        "id": "UnVVEBOIqsMN",
        "colab_type": "code",
        "colab": {
          "base_uri": "https://localhost:8080/",
          "height": 359
        },
        "outputId": "da3b4e2b-1815-4f94-8bcd-845e2f552903"
      },
      "source": [
        "batch_sizes = []\n",
        "for exp, result in zip([lr_1, lr_01, lr_001, lr_0001, lr_00001], [\"1\",\"0.1_\",\"0.01_\", \"0.001_\", \"0.0001_\"]):\n",
        "    df = pd.DataFrame.from_dict(exp.history)\n",
        "    df['epoch'] = df.index.values\n",
        "    df['Learning Rate'] = result\n",
        "    batch_sizes.append(df)\n",
        "\n",
        "df = pd.concat(batch_sizes)\n",
        "df['Learning Rate'] = df['Learning Rate'].astype('str')\n",
        "df.tail(10)"
      ],
      "execution_count": 32,
      "outputs": [
        {
          "output_type": "execute_result",
          "data": {
            "text/html": [
              "<div>\n",
              "<style scoped>\n",
              "    .dataframe tbody tr th:only-of-type {\n",
              "        vertical-align: middle;\n",
              "    }\n",
              "\n",
              "    .dataframe tbody tr th {\n",
              "        vertical-align: top;\n",
              "    }\n",
              "\n",
              "    .dataframe thead th {\n",
              "        text-align: right;\n",
              "    }\n",
              "</style>\n",
              "<table border=\"1\" class=\"dataframe\">\n",
              "  <thead>\n",
              "    <tr style=\"text-align: right;\">\n",
              "      <th></th>\n",
              "      <th>loss</th>\n",
              "      <th>accuracy</th>\n",
              "      <th>val_loss</th>\n",
              "      <th>val_accuracy</th>\n",
              "      <th>epoch</th>\n",
              "      <th>Learning Rate</th>\n",
              "    </tr>\n",
              "  </thead>\n",
              "  <tbody>\n",
              "    <tr>\n",
              "      <th>20</th>\n",
              "      <td>1.899624</td>\n",
              "      <td>0.344825</td>\n",
              "      <td>1.885744</td>\n",
              "      <td>0.34185</td>\n",
              "      <td>20</td>\n",
              "      <td>0.0001_</td>\n",
              "    </tr>\n",
              "    <tr>\n",
              "      <th>21</th>\n",
              "      <td>1.885818</td>\n",
              "      <td>0.350925</td>\n",
              "      <td>1.874027</td>\n",
              "      <td>0.34610</td>\n",
              "      <td>21</td>\n",
              "      <td>0.0001_</td>\n",
              "    </tr>\n",
              "    <tr>\n",
              "      <th>22</th>\n",
              "      <td>1.871947</td>\n",
              "      <td>0.356088</td>\n",
              "      <td>1.862853</td>\n",
              "      <td>0.35045</td>\n",
              "      <td>22</td>\n",
              "      <td>0.0001_</td>\n",
              "    </tr>\n",
              "    <tr>\n",
              "      <th>23</th>\n",
              "      <td>1.858593</td>\n",
              "      <td>0.360950</td>\n",
              "      <td>1.851503</td>\n",
              "      <td>0.35545</td>\n",
              "      <td>23</td>\n",
              "      <td>0.0001_</td>\n",
              "    </tr>\n",
              "    <tr>\n",
              "      <th>24</th>\n",
              "      <td>1.846038</td>\n",
              "      <td>0.366313</td>\n",
              "      <td>1.840721</td>\n",
              "      <td>0.35990</td>\n",
              "      <td>24</td>\n",
              "      <td>0.0001_</td>\n",
              "    </tr>\n",
              "    <tr>\n",
              "      <th>25</th>\n",
              "      <td>1.834044</td>\n",
              "      <td>0.370800</td>\n",
              "      <td>1.830507</td>\n",
              "      <td>0.36455</td>\n",
              "      <td>25</td>\n",
              "      <td>0.0001_</td>\n",
              "    </tr>\n",
              "    <tr>\n",
              "      <th>26</th>\n",
              "      <td>1.823206</td>\n",
              "      <td>0.374588</td>\n",
              "      <td>1.820887</td>\n",
              "      <td>0.36790</td>\n",
              "      <td>26</td>\n",
              "      <td>0.0001_</td>\n",
              "    </tr>\n",
              "    <tr>\n",
              "      <th>27</th>\n",
              "      <td>1.813129</td>\n",
              "      <td>0.378475</td>\n",
              "      <td>1.812389</td>\n",
              "      <td>0.37110</td>\n",
              "      <td>27</td>\n",
              "      <td>0.0001_</td>\n",
              "    </tr>\n",
              "    <tr>\n",
              "      <th>28</th>\n",
              "      <td>1.803625</td>\n",
              "      <td>0.381625</td>\n",
              "      <td>1.804720</td>\n",
              "      <td>0.37350</td>\n",
              "      <td>28</td>\n",
              "      <td>0.0001_</td>\n",
              "    </tr>\n",
              "    <tr>\n",
              "      <th>29</th>\n",
              "      <td>1.795063</td>\n",
              "      <td>0.384725</td>\n",
              "      <td>1.797154</td>\n",
              "      <td>0.37525</td>\n",
              "      <td>29</td>\n",
              "      <td>0.0001_</td>\n",
              "    </tr>\n",
              "  </tbody>\n",
              "</table>\n",
              "</div>"
            ],
            "text/plain": [
              "        loss  accuracy  val_loss  val_accuracy  epoch Learning Rate\n",
              "20  1.899624  0.344825  1.885744       0.34185     20       0.0001_\n",
              "21  1.885818  0.350925  1.874027       0.34610     21       0.0001_\n",
              "22  1.871947  0.356088  1.862853       0.35045     22       0.0001_\n",
              "23  1.858593  0.360950  1.851503       0.35545     23       0.0001_\n",
              "24  1.846038  0.366313  1.840721       0.35990     24       0.0001_\n",
              "25  1.834044  0.370800  1.830507       0.36455     25       0.0001_\n",
              "26  1.823206  0.374588  1.820887       0.36790     26       0.0001_\n",
              "27  1.813129  0.378475  1.812389       0.37110     27       0.0001_\n",
              "28  1.803625  0.381625  1.804720       0.37350     28       0.0001_\n",
              "29  1.795063  0.384725  1.797154       0.37525     29       0.0001_"
            ]
          },
          "metadata": {
            "tags": []
          },
          "execution_count": 32
        }
      ]
    },
    {
      "cell_type": "code",
      "metadata": {
        "id": "yvY9HP-cswvq",
        "colab_type": "code",
        "colab": {
          "base_uri": "https://localhost:8080/",
          "height": 279
        },
        "outputId": "df643f38-1e40-46a8-84a0-6636af7d0b5a"
      },
      "source": [
        "sns.lineplot(x='epoch', y='val_accuracy', hue='Learning Rate', data=df);"
      ],
      "execution_count": 33,
      "outputs": [
        {
          "output_type": "display_data",
          "data": {
            "image/png": "[encoded data removed]",
            "text/plain": [
              "<Figure size 432x288 with 1 Axes>"
            ]
          },
          "metadata": {
            "tags": [],
            "needs_background": "light"
          }
        }
      ]
    },
    {
      "cell_type": "markdown",
      "metadata": {
        "id": "tp0Hfvm-tET1",
        "colab_type": "text"
      },
      "source": [
        "The lowest learning rate 0.0001 has the best performance. Models with learning rate of 1, 0.1 and 0.01 have the almost same accuracy rate. "
      ]
    },
    {
      "cell_type": "markdown",
      "metadata": {
        "id": "gxMtSRhV9Q7I",
        "colab_type": "text"
      },
      "source": [
        "### Experiment with different Optimizers\n",
        "* Run 5 experiments with various optimizers available in TensorFlow. See list [here](https://www.tensorflow.org/api_docs/python/tf/keras/optimizers)\n",
        "* Visualize the results\n",
        "* Write up an analysis of the experiments and select the \"best\" performing model among your experiments. Make sure to compare against the previous experiments and your model's performance yesterday.\n",
        "* Repeat the experiment combining Learning Rate and different optimizers. Does the best performing model change? "
      ]
    },
    {
      "cell_type": "code",
      "metadata": {
        "id": "CCkECQby4tKI",
        "colab_type": "code",
        "colab": {}
      },
      "source": [
        "def create_model_optimizer(opt):\n",
        "  model = Sequential([\n",
        "                      Dense(32, activation='relu',input_dim=784),\n",
        "                      Dense(32, activation='relu'),\n",
        "                      Dense(10, activation='softmax')\n",
        "  ])\n",
        "  model.compile(optimizer=opt,\n",
        "                loss='sparse_categorical_crossentropy',\n",
        "                metrics=['accuracy'])\n",
        "  return model"
      ],
      "execution_count": 41,
      "outputs": []
    },
    {
      "cell_type": "code",
      "metadata": {
        "id": "GCIgE2Lwet7e",
        "colab_type": "code",
        "colab": {
          "base_uri": "https://localhost:8080/",
          "height": 1000
        },
        "outputId": "6bf7e001-543f-4d8b-ac4c-2c317f4d8095"
      },
      "source": [
        "model_adam = create_model_optimizer(tf.keras.optimizers.Adam(learning_rate=0.0001))\n",
        "adam = model_adam.fit(X_train,\n",
        "           y_train,\n",
        "           epochs=30,\n",
        "           batch_size=8,\n",
        "           validation_data=(X_test, y_test))"
      ],
      "execution_count": 55,
      "outputs": [
        {
          "output_type": "stream",
          "text": [
            "Epoch 1/30\n",
            "10000/10000 [==============================] - 22s 2ms/step - loss: 3.8701 - accuracy: 0.1997 - val_loss: 1.8947 - val_accuracy: 0.3119\n",
            "Epoch 2/30\n",
            "10000/10000 [==============================] - 20s 2ms/step - loss: 1.6767 - accuracy: 0.4198 - val_loss: 1.5179 - val_accuracy: 0.4800\n",
            "Epoch 3/30\n",
            "10000/10000 [==============================] - 20s 2ms/step - loss: 1.3979 - accuracy: 0.5270 - val_loss: 1.3130 - val_accuracy: 0.5809\n",
            "Epoch 4/30\n",
            "10000/10000 [==============================] - 19s 2ms/step - loss: 1.1959 - accuracy: 0.6151 - val_loss: 1.1377 - val_accuracy: 0.6381\n",
            "Epoch 5/30\n",
            "10000/10000 [==============================] - 20s 2ms/step - loss: 1.0635 - accuracy: 0.6597 - val_loss: 1.0536 - val_accuracy: 0.6602\n",
            "Epoch 6/30\n",
            "10000/10000 [==============================] - 20s 2ms/step - loss: 0.9743 - accuracy: 0.6862 - val_loss: 0.9799 - val_accuracy: 0.6956\n",
            "Epoch 7/30\n",
            "10000/10000 [==============================] - 20s 2ms/step - loss: 0.9020 - accuracy: 0.7111 - val_loss: 0.9367 - val_accuracy: 0.7145\n",
            "Epoch 8/30\n",
            "10000/10000 [==============================] - 21s 2ms/step - loss: 0.8421 - accuracy: 0.7336 - val_loss: 0.8750 - val_accuracy: 0.7379\n",
            "Epoch 9/30\n",
            "10000/10000 [==============================] - 20s 2ms/step - loss: 0.7927 - accuracy: 0.7525 - val_loss: 0.8236 - val_accuracy: 0.7530\n",
            "Epoch 10/30\n",
            "10000/10000 [==============================] - 19s 2ms/step - loss: 0.7487 - accuracy: 0.7676 - val_loss: 0.7910 - val_accuracy: 0.7649\n",
            "Epoch 11/30\n",
            "10000/10000 [==============================] - 20s 2ms/step - loss: 0.7126 - accuracy: 0.7803 - val_loss: 0.7617 - val_accuracy: 0.7756\n",
            "Epoch 12/30\n",
            "10000/10000 [==============================] - 20s 2ms/step - loss: 0.6797 - accuracy: 0.7919 - val_loss: 0.7333 - val_accuracy: 0.7859\n",
            "Epoch 13/30\n",
            "10000/10000 [==============================] - 21s 2ms/step - loss: 0.6553 - accuracy: 0.7999 - val_loss: 0.7175 - val_accuracy: 0.7899\n",
            "Epoch 14/30\n",
            "10000/10000 [==============================] - 20s 2ms/step - loss: 0.6313 - accuracy: 0.8084 - val_loss: 0.7089 - val_accuracy: 0.8025\n",
            "Epoch 15/30\n",
            "10000/10000 [==============================] - 20s 2ms/step - loss: 0.6142 - accuracy: 0.8166 - val_loss: 0.6963 - val_accuracy: 0.7988\n",
            "Epoch 16/30\n",
            "10000/10000 [==============================] - 21s 2ms/step - loss: 0.5978 - accuracy: 0.8214 - val_loss: 0.6741 - val_accuracy: 0.8083\n",
            "Epoch 17/30\n",
            "10000/10000 [==============================] - 20s 2ms/step - loss: 0.5849 - accuracy: 0.8258 - val_loss: 0.6947 - val_accuracy: 0.8037\n",
            "Epoch 18/30\n",
            "10000/10000 [==============================] - 20s 2ms/step - loss: 0.5738 - accuracy: 0.8286 - val_loss: 0.6790 - val_accuracy: 0.8073\n",
            "Epoch 19/30\n",
            "10000/10000 [==============================] - 20s 2ms/step - loss: 0.5637 - accuracy: 0.8329 - val_loss: 0.6672 - val_accuracy: 0.8135\n",
            "Epoch 20/30\n",
            "10000/10000 [==============================] - 20s 2ms/step - loss: 0.5551 - accuracy: 0.8360 - val_loss: 0.6602 - val_accuracy: 0.8150\n",
            "Epoch 21/30\n",
            "10000/10000 [==============================] - 19s 2ms/step - loss: 0.5475 - accuracy: 0.8378 - val_loss: 0.6590 - val_accuracy: 0.8181\n",
            "Epoch 22/30\n",
            "10000/10000 [==============================] - 20s 2ms/step - loss: 0.5395 - accuracy: 0.8408 - val_loss: 0.6638 - val_accuracy: 0.8123\n",
            "Epoch 23/30\n",
            "10000/10000 [==============================] - 20s 2ms/step - loss: 0.5326 - accuracy: 0.8432 - val_loss: 0.6728 - val_accuracy: 0.8166\n",
            "Epoch 24/30\n",
            "10000/10000 [==============================] - 20s 2ms/step - loss: 0.5271 - accuracy: 0.8433 - val_loss: 0.6662 - val_accuracy: 0.8202\n",
            "Epoch 25/30\n",
            "10000/10000 [==============================] - 20s 2ms/step - loss: 0.5206 - accuracy: 0.8465 - val_loss: 0.6669 - val_accuracy: 0.8169\n",
            "Epoch 26/30\n",
            "10000/10000 [==============================] - 20s 2ms/step - loss: 0.5162 - accuracy: 0.8482 - val_loss: 0.6614 - val_accuracy: 0.8187\n",
            "Epoch 27/30\n",
            "10000/10000 [==============================] - 20s 2ms/step - loss: 0.5117 - accuracy: 0.8484 - val_loss: 0.6825 - val_accuracy: 0.8117\n",
            "Epoch 28/30\n",
            "10000/10000 [==============================] - 20s 2ms/step - loss: 0.5073 - accuracy: 0.8497 - val_loss: 0.6647 - val_accuracy: 0.8224\n",
            "Epoch 29/30\n",
            "10000/10000 [==============================] - 20s 2ms/step - loss: 0.5022 - accuracy: 0.8512 - val_loss: 0.6745 - val_accuracy: 0.8168\n",
            "Epoch 30/30\n",
            "10000/10000 [==============================] - 20s 2ms/step - loss: 0.4989 - accuracy: 0.8520 - val_loss: 0.6688 - val_accuracy: 0.8196\n"
          ],
          "name": "stdout"
        }
      ]
    },
    {
      "cell_type": "code",
      "metadata": {
        "id": "IwjkYs7lQAqE",
        "colab_type": "code",
        "colab": {
          "base_uri": "https://localhost:8080/",
          "height": 1000
        },
        "outputId": "24056cef-bb8b-4ae7-87a0-5291c01860b7"
      },
      "source": [
        "model_adam2 = create_model_optimizer(tf.keras.optimizers.Adam(learning_rate=0.001))\n",
        "adam2 = model_adam2.fit(X_train,\n",
        "           y_train,\n",
        "           epochs=30,\n",
        "           batch_size=8,\n",
        "           validation_data=(X_test, y_test))"
      ],
      "execution_count": 56,
      "outputs": [
        {
          "output_type": "stream",
          "text": [
            "Epoch 1/30\n",
            "10000/10000 [==============================] - 22s 2ms/step - loss: 1.7462 - accuracy: 0.4615 - val_loss: 1.3885 - val_accuracy: 0.5210\n",
            "Epoch 2/30\n",
            "10000/10000 [==============================] - 22s 2ms/step - loss: 1.3364 - accuracy: 0.5252 - val_loss: 1.2729 - val_accuracy: 0.5655\n",
            "Epoch 3/30\n",
            "10000/10000 [==============================] - 22s 2ms/step - loss: 1.2164 - accuracy: 0.5666 - val_loss: 1.1824 - val_accuracy: 0.5818\n",
            "Epoch 4/30\n",
            "10000/10000 [==============================] - 22s 2ms/step - loss: 1.1462 - accuracy: 0.5888 - val_loss: 1.1280 - val_accuracy: 0.5982\n",
            "Epoch 5/30\n",
            "10000/10000 [==============================] - 22s 2ms/step - loss: 1.0896 - accuracy: 0.6179 - val_loss: 1.0715 - val_accuracy: 0.6316\n",
            "Epoch 6/30\n",
            "10000/10000 [==============================] - 22s 2ms/step - loss: 1.0436 - accuracy: 0.6368 - val_loss: 1.0262 - val_accuracy: 0.6435\n",
            "Epoch 7/30\n",
            "10000/10000 [==============================] - 22s 2ms/step - loss: 0.9991 - accuracy: 0.6534 - val_loss: 1.0131 - val_accuracy: 0.6447\n",
            "Epoch 8/30\n",
            "10000/10000 [==============================] - 23s 2ms/step - loss: 0.9617 - accuracy: 0.6768 - val_loss: 0.9736 - val_accuracy: 0.6993\n",
            "Epoch 9/30\n",
            "10000/10000 [==============================] - 22s 2ms/step - loss: 0.9065 - accuracy: 0.7053 - val_loss: 0.9188 - val_accuracy: 0.7090\n",
            "Epoch 10/30\n",
            "10000/10000 [==============================] - 24s 2ms/step - loss: 0.8884 - accuracy: 0.7146 - val_loss: 0.9094 - val_accuracy: 0.7161\n",
            "Epoch 11/30\n",
            "10000/10000 [==============================] - 22s 2ms/step - loss: 0.8776 - accuracy: 0.7184 - val_loss: 0.9425 - val_accuracy: 0.7045\n",
            "Epoch 12/30\n",
            "10000/10000 [==============================] - 23s 2ms/step - loss: 0.8728 - accuracy: 0.7201 - val_loss: 0.9148 - val_accuracy: 0.7110\n",
            "Epoch 13/30\n",
            "10000/10000 [==============================] - 23s 2ms/step - loss: 0.8674 - accuracy: 0.7199 - val_loss: 0.8958 - val_accuracy: 0.7077\n",
            "Epoch 14/30\n",
            "10000/10000 [==============================] - 22s 2ms/step - loss: 0.8631 - accuracy: 0.7203 - val_loss: 0.9094 - val_accuracy: 0.7078\n",
            "Epoch 15/30\n",
            "10000/10000 [==============================] - 22s 2ms/step - loss: 0.8614 - accuracy: 0.7205 - val_loss: 0.8775 - val_accuracy: 0.7149\n",
            "Epoch 16/30\n",
            "10000/10000 [==============================] - 22s 2ms/step - loss: 0.8515 - accuracy: 0.7263 - val_loss: 0.8927 - val_accuracy: 0.7165\n",
            "Epoch 17/30\n",
            "10000/10000 [==============================] - 22s 2ms/step - loss: 0.8550 - accuracy: 0.7227 - val_loss: 0.8830 - val_accuracy: 0.7185\n",
            "Epoch 18/30\n",
            "10000/10000 [==============================] - 22s 2ms/step - loss: 0.8438 - accuracy: 0.7344 - val_loss: 0.8892 - val_accuracy: 0.7235\n",
            "Epoch 19/30\n",
            "10000/10000 [==============================] - 22s 2ms/step - loss: 0.8474 - accuracy: 0.7307 - val_loss: 0.9542 - val_accuracy: 0.7005\n",
            "Epoch 20/30\n",
            "10000/10000 [==============================] - 22s 2ms/step - loss: 0.8431 - accuracy: 0.7318 - val_loss: 0.8729 - val_accuracy: 0.7225\n",
            "Epoch 21/30\n",
            "10000/10000 [==============================] - 21s 2ms/step - loss: 0.8319 - accuracy: 0.7375 - val_loss: 0.9140 - val_accuracy: 0.7207\n",
            "Epoch 22/30\n",
            "10000/10000 [==============================] - 21s 2ms/step - loss: 0.8333 - accuracy: 0.7315 - val_loss: 0.8647 - val_accuracy: 0.7208\n",
            "Epoch 23/30\n",
            "10000/10000 [==============================] - 21s 2ms/step - loss: 0.8294 - accuracy: 0.7335 - val_loss: 0.8693 - val_accuracy: 0.7265\n",
            "Epoch 24/30\n",
            "10000/10000 [==============================] - 22s 2ms/step - loss: 0.8274 - accuracy: 0.7363 - val_loss: 0.8887 - val_accuracy: 0.7187\n",
            "Epoch 25/30\n",
            "10000/10000 [==============================] - 21s 2ms/step - loss: 0.8222 - accuracy: 0.7383 - val_loss: 0.8761 - val_accuracy: 0.7176\n",
            "Epoch 26/30\n",
            "10000/10000 [==============================] - 20s 2ms/step - loss: 0.8198 - accuracy: 0.7359 - val_loss: 0.8637 - val_accuracy: 0.7216\n",
            "Epoch 27/30\n",
            "10000/10000 [==============================] - 21s 2ms/step - loss: 0.8069 - accuracy: 0.7464 - val_loss: 0.8500 - val_accuracy: 0.7475\n",
            "Epoch 28/30\n",
            "10000/10000 [==============================] - 21s 2ms/step - loss: 0.7863 - accuracy: 0.7560 - val_loss: 0.8942 - val_accuracy: 0.7368\n",
            "Epoch 29/30\n",
            "10000/10000 [==============================] - 21s 2ms/step - loss: 0.7767 - accuracy: 0.7612 - val_loss: 0.8328 - val_accuracy: 0.7537\n",
            "Epoch 30/30\n",
            "10000/10000 [==============================] - 21s 2ms/step - loss: 0.7684 - accuracy: 0.7656 - val_loss: 0.8361 - val_accuracy: 0.7551\n"
          ],
          "name": "stdout"
        }
      ]
    },
    {
      "cell_type": "code",
      "metadata": {
        "id": "koRJjpJl8uEv",
        "colab_type": "code",
        "colab": {
          "base_uri": "https://localhost:8080/",
          "height": 1000
        },
        "outputId": "a62633e5-b888-42c4-b2b9-0c90c4248513"
      },
      "source": [
        "model_adamax = create_model_optimizer(opt =tf.keras.optimizers.Adamax(learning_rate=0.1))\n",
        "adamax = model_adamax.fit(X_train,\n",
        "           y_train,\n",
        "           epochs=30,\n",
        "           batch_size=32,\n",
        "           validation_data=(X_test, y_test))"
      ],
      "execution_count": 57,
      "outputs": [
        {
          "output_type": "stream",
          "text": [
            "Epoch 1/30\n",
            "2500/2500 [==============================] - 5s 2ms/step - loss: 6.8034 - accuracy: 0.1014 - val_loss: 2.3062 - val_accuracy: 0.1009\n",
            "Epoch 2/30\n",
            "2500/2500 [==============================] - 6s 2ms/step - loss: 2.3070 - accuracy: 0.1008 - val_loss: 2.3119 - val_accuracy: 0.0985\n",
            "Epoch 3/30\n",
            "2500/2500 [==============================] - 5s 2ms/step - loss: 2.3072 - accuracy: 0.1007 - val_loss: 2.3044 - val_accuracy: 0.0985\n",
            "Epoch 4/30\n",
            "2500/2500 [==============================] - 5s 2ms/step - loss: 2.3071 - accuracy: 0.1008 - val_loss: 2.3058 - val_accuracy: 0.1026\n",
            "Epoch 5/30\n",
            "2500/2500 [==============================] - 5s 2ms/step - loss: 2.3069 - accuracy: 0.0997 - val_loss: 2.3053 - val_accuracy: 0.0966\n",
            "Epoch 6/30\n",
            "2500/2500 [==============================] - 5s 2ms/step - loss: 2.3073 - accuracy: 0.1010 - val_loss: 2.3070 - val_accuracy: 0.0985\n",
            "Epoch 7/30\n",
            "2500/2500 [==============================] - 5s 2ms/step - loss: 2.3069 - accuracy: 0.1000 - val_loss: 2.3083 - val_accuracy: 0.0966\n",
            "Epoch 8/30\n",
            "2500/2500 [==============================] - 5s 2ms/step - loss: 2.3071 - accuracy: 0.0983 - val_loss: 2.3090 - val_accuracy: 0.1015\n",
            "Epoch 9/30\n",
            "2500/2500 [==============================] - 5s 2ms/step - loss: 2.3069 - accuracy: 0.1016 - val_loss: 2.3092 - val_accuracy: 0.0985\n",
            "Epoch 10/30\n",
            "2500/2500 [==============================] - 5s 2ms/step - loss: 2.3069 - accuracy: 0.0994 - val_loss: 2.3050 - val_accuracy: 0.0985\n",
            "Epoch 11/30\n",
            "2500/2500 [==============================] - 5s 2ms/step - loss: 2.3070 - accuracy: 0.0979 - val_loss: 2.3035 - val_accuracy: 0.1026\n",
            "Epoch 12/30\n",
            "2500/2500 [==============================] - 5s 2ms/step - loss: 2.3073 - accuracy: 0.0985 - val_loss: 2.3061 - val_accuracy: 0.0985\n",
            "Epoch 13/30\n",
            "2500/2500 [==============================] - 5s 2ms/step - loss: 2.3066 - accuracy: 0.1004 - val_loss: 2.3037 - val_accuracy: 0.0966\n",
            "Epoch 14/30\n",
            "2500/2500 [==============================] - 5s 2ms/step - loss: 2.3070 - accuracy: 0.0998 - val_loss: 2.3065 - val_accuracy: 0.0985\n",
            "Epoch 15/30\n",
            "2500/2500 [==============================] - 5s 2ms/step - loss: 2.3067 - accuracy: 0.1019 - val_loss: 2.3049 - val_accuracy: 0.1009\n",
            "Epoch 16/30\n",
            "2500/2500 [==============================] - 5s 2ms/step - loss: 2.3069 - accuracy: 0.1000 - val_loss: 2.3104 - val_accuracy: 0.0985\n",
            "Epoch 17/30\n",
            "2500/2500 [==============================] - 5s 2ms/step - loss: 2.3071 - accuracy: 0.0990 - val_loss: 2.3041 - val_accuracy: 0.1026\n",
            "Epoch 18/30\n",
            "2500/2500 [==============================] - 5s 2ms/step - loss: 2.3071 - accuracy: 0.1006 - val_loss: 2.3069 - val_accuracy: 0.1026\n",
            "Epoch 19/30\n",
            "2500/2500 [==============================] - 5s 2ms/step - loss: 2.3071 - accuracy: 0.1004 - val_loss: 2.3053 - val_accuracy: 0.1031\n",
            "Epoch 20/30\n",
            "2500/2500 [==============================] - 5s 2ms/step - loss: 2.3070 - accuracy: 0.1004 - val_loss: 2.3062 - val_accuracy: 0.0991\n",
            "Epoch 21/30\n",
            "2500/2500 [==============================] - 6s 2ms/step - loss: 2.3073 - accuracy: 0.0987 - val_loss: 2.3088 - val_accuracy: 0.1031\n",
            "Epoch 22/30\n",
            "2500/2500 [==============================] - 6s 2ms/step - loss: 2.3071 - accuracy: 0.0989 - val_loss: 2.3076 - val_accuracy: 0.0978\n",
            "Epoch 23/30\n",
            "2500/2500 [==============================] - 5s 2ms/step - loss: 2.3073 - accuracy: 0.0987 - val_loss: 2.3077 - val_accuracy: 0.0966\n",
            "Epoch 24/30\n",
            "2500/2500 [==============================] - 5s 2ms/step - loss: 2.3070 - accuracy: 0.1005 - val_loss: 2.3046 - val_accuracy: 0.0991\n",
            "Epoch 25/30\n",
            "2500/2500 [==============================] - 5s 2ms/step - loss: 2.3071 - accuracy: 0.0979 - val_loss: 2.3088 - val_accuracy: 0.0985\n",
            "Epoch 26/30\n",
            "2500/2500 [==============================] - 5s 2ms/step - loss: 2.3071 - accuracy: 0.1002 - val_loss: 2.3052 - val_accuracy: 0.0966\n",
            "Epoch 27/30\n",
            "2500/2500 [==============================] - 5s 2ms/step - loss: 2.3070 - accuracy: 0.0988 - val_loss: 2.3037 - val_accuracy: 0.1009\n",
            "Epoch 28/30\n",
            "2500/2500 [==============================] - 5s 2ms/step - loss: 2.3069 - accuracy: 0.0998 - val_loss: 2.3056 - val_accuracy: 0.0978\n",
            "Epoch 29/30\n",
            "2500/2500 [==============================] - 5s 2ms/step - loss: 2.3067 - accuracy: 0.1004 - val_loss: 2.3050 - val_accuracy: 0.0985\n",
            "Epoch 30/30\n",
            "2500/2500 [==============================] - 5s 2ms/step - loss: 2.3072 - accuracy: 0.0996 - val_loss: 2.3046 - val_accuracy: 0.0966\n"
          ],
          "name": "stdout"
        }
      ]
    },
    {
      "cell_type": "code",
      "metadata": {
        "id": "npx0nIt0-Qlp",
        "colab_type": "code",
        "colab": {
          "base_uri": "https://localhost:8080/",
          "height": 1000
        },
        "outputId": "270a7168-c118-4106-cb11-aea7f808562c"
      },
      "source": [
        "model_adamax2 = create_model_optimizer(opt =tf.keras.optimizers.Adamax(learning_rate=0.01))\n",
        "adamax2 = model_adamax2.fit(X_train,\n",
        "           y_train,\n",
        "           epochs=30,\n",
        "           batch_size=32,\n",
        "           validation_data=(X_test, y_test))"
      ],
      "execution_count": 58,
      "outputs": [
        {
          "output_type": "stream",
          "text": [
            "Epoch 1/30\n",
            "2500/2500 [==============================] - 5s 2ms/step - loss: 2.3525 - accuracy: 0.3049 - val_loss: 1.6903 - val_accuracy: 0.3937\n",
            "Epoch 2/30\n",
            "2500/2500 [==============================] - 5s 2ms/step - loss: 1.5378 - accuracy: 0.4510 - val_loss: 1.4012 - val_accuracy: 0.4839\n",
            "Epoch 3/30\n",
            "2500/2500 [==============================] - 5s 2ms/step - loss: 1.2495 - accuracy: 0.5793 - val_loss: 1.1564 - val_accuracy: 0.6033\n",
            "Epoch 4/30\n",
            "2500/2500 [==============================] - 5s 2ms/step - loss: 1.1320 - accuracy: 0.6193 - val_loss: 1.1046 - val_accuracy: 0.6457\n",
            "Epoch 5/30\n",
            "2500/2500 [==============================] - 5s 2ms/step - loss: 1.0805 - accuracy: 0.6457 - val_loss: 1.0480 - val_accuracy: 0.6668\n",
            "Epoch 6/30\n",
            "2500/2500 [==============================] - 5s 2ms/step - loss: 1.0110 - accuracy: 0.6796 - val_loss: 1.0048 - val_accuracy: 0.6956\n",
            "Epoch 7/30\n",
            "2500/2500 [==============================] - 6s 2ms/step - loss: 0.9858 - accuracy: 0.6899 - val_loss: 0.9968 - val_accuracy: 0.6874\n",
            "Epoch 8/30\n",
            "2500/2500 [==============================] - 5s 2ms/step - loss: 0.9629 - accuracy: 0.6966 - val_loss: 1.0203 - val_accuracy: 0.6841\n",
            "Epoch 9/30\n",
            "2500/2500 [==============================] - 6s 2ms/step - loss: 0.9539 - accuracy: 0.7049 - val_loss: 1.0020 - val_accuracy: 0.6892\n",
            "Epoch 10/30\n",
            "2500/2500 [==============================] - 5s 2ms/step - loss: 0.9407 - accuracy: 0.7087 - val_loss: 0.9434 - val_accuracy: 0.7103\n",
            "Epoch 11/30\n",
            "2500/2500 [==============================] - 5s 2ms/step - loss: 0.9229 - accuracy: 0.7163 - val_loss: 0.9302 - val_accuracy: 0.7125\n",
            "Epoch 12/30\n",
            "2500/2500 [==============================] - 5s 2ms/step - loss: 0.9081 - accuracy: 0.7202 - val_loss: 0.9238 - val_accuracy: 0.7145\n",
            "Epoch 13/30\n",
            "2500/2500 [==============================] - 6s 2ms/step - loss: 0.9053 - accuracy: 0.7209 - val_loss: 0.9727 - val_accuracy: 0.6956\n",
            "Epoch 14/30\n",
            "2500/2500 [==============================] - 5s 2ms/step - loss: 0.9059 - accuracy: 0.7207 - val_loss: 0.9219 - val_accuracy: 0.7198\n",
            "Epoch 15/30\n",
            "2500/2500 [==============================] - 5s 2ms/step - loss: 0.8988 - accuracy: 0.7202 - val_loss: 0.9103 - val_accuracy: 0.7203\n",
            "Epoch 16/30\n",
            "2500/2500 [==============================] - 6s 2ms/step - loss: 0.8950 - accuracy: 0.7235 - val_loss: 0.9266 - val_accuracy: 0.7151\n",
            "Epoch 17/30\n",
            "2500/2500 [==============================] - 5s 2ms/step - loss: 0.8952 - accuracy: 0.7240 - val_loss: 0.9380 - val_accuracy: 0.7186\n",
            "Epoch 18/30\n",
            "2500/2500 [==============================] - 5s 2ms/step - loss: 0.8904 - accuracy: 0.7241 - val_loss: 0.9308 - val_accuracy: 0.7017\n",
            "Epoch 19/30\n",
            "2500/2500 [==============================] - 5s 2ms/step - loss: 0.8924 - accuracy: 0.7232 - val_loss: 0.9576 - val_accuracy: 0.7135\n",
            "Epoch 20/30\n",
            "2500/2500 [==============================] - 5s 2ms/step - loss: 0.8910 - accuracy: 0.7248 - val_loss: 0.9212 - val_accuracy: 0.7164\n",
            "Epoch 21/30\n",
            "2500/2500 [==============================] - 6s 2ms/step - loss: 0.8913 - accuracy: 0.7226 - val_loss: 0.9448 - val_accuracy: 0.7128\n",
            "Epoch 22/30\n",
            "2500/2500 [==============================] - 5s 2ms/step - loss: 0.8868 - accuracy: 0.7254 - val_loss: 0.9781 - val_accuracy: 0.7064\n",
            "Epoch 23/30\n",
            "2500/2500 [==============================] - 6s 2ms/step - loss: 0.8903 - accuracy: 0.7265 - val_loss: 0.9118 - val_accuracy: 0.7243\n",
            "Epoch 24/30\n",
            "2500/2500 [==============================] - 5s 2ms/step - loss: 0.8838 - accuracy: 0.7266 - val_loss: 0.9189 - val_accuracy: 0.7207\n",
            "Epoch 25/30\n",
            "2500/2500 [==============================] - 5s 2ms/step - loss: 0.8858 - accuracy: 0.7273 - val_loss: 0.9325 - val_accuracy: 0.7043\n",
            "Epoch 26/30\n",
            "2500/2500 [==============================] - 5s 2ms/step - loss: 0.8796 - accuracy: 0.7299 - val_loss: 0.9257 - val_accuracy: 0.7265\n",
            "Epoch 27/30\n",
            "2500/2500 [==============================] - 5s 2ms/step - loss: 0.8772 - accuracy: 0.7296 - val_loss: 0.9381 - val_accuracy: 0.7128\n",
            "Epoch 28/30\n",
            "2500/2500 [==============================] - 5s 2ms/step - loss: 0.8780 - accuracy: 0.7312 - val_loss: 0.9201 - val_accuracy: 0.7279\n",
            "Epoch 29/30\n",
            "2500/2500 [==============================] - 6s 2ms/step - loss: 0.8760 - accuracy: 0.7322 - val_loss: 0.9247 - val_accuracy: 0.7201\n",
            "Epoch 30/30\n",
            "2500/2500 [==============================] - 5s 2ms/step - loss: 0.8740 - accuracy: 0.7289 - val_loss: 0.9323 - val_accuracy: 0.7209\n"
          ],
          "name": "stdout"
        }
      ]
    },
    {
      "cell_type": "code",
      "metadata": {
        "id": "L6SPXJpB_G9P",
        "colab_type": "code",
        "colab": {
          "base_uri": "https://localhost:8080/",
          "height": 1000
        },
        "outputId": "2a9ab1e3-a544-4dba-ea4f-576c840923b0"
      },
      "source": [
        "model_adamax3 = create_model_optimizer(opt =tf.keras.optimizers.Adamax(learning_rate=0.1))\n",
        "adamax3 = model_adamax3.fit(X_train,\n",
        "           y_train,\n",
        "           epochs=30,\n",
        "           batch_size=32,\n",
        "           validation_data=(X_test, y_test))"
      ],
      "execution_count": 59,
      "outputs": [
        {
          "output_type": "stream",
          "text": [
            "Epoch 1/30\n",
            "2500/2500 [==============================] - 6s 2ms/step - loss: 5.4623 - accuracy: 0.2468 - val_loss: 1.7159 - val_accuracy: 0.3786\n",
            "Epoch 2/30\n",
            "2500/2500 [==============================] - 5s 2ms/step - loss: 1.7037 - accuracy: 0.3518 - val_loss: 1.7220 - val_accuracy: 0.3113\n",
            "Epoch 3/30\n",
            "2500/2500 [==============================] - 5s 2ms/step - loss: 1.5373 - accuracy: 0.4063 - val_loss: 1.4478 - val_accuracy: 0.4134\n",
            "Epoch 4/30\n",
            "2500/2500 [==============================] - 5s 2ms/step - loss: 1.5996 - accuracy: 0.3688 - val_loss: 1.6230 - val_accuracy: 0.3269\n",
            "Epoch 5/30\n",
            "2500/2500 [==============================] - 5s 2ms/step - loss: 1.6486 - accuracy: 0.3456 - val_loss: 1.6073 - val_accuracy: 0.3501\n",
            "Epoch 6/30\n",
            "2500/2500 [==============================] - 6s 2ms/step - loss: 1.6388 - accuracy: 0.3461 - val_loss: 1.6371 - val_accuracy: 0.3514\n",
            "Epoch 7/30\n",
            "2500/2500 [==============================] - 5s 2ms/step - loss: 1.6310 - accuracy: 0.3466 - val_loss: 1.5985 - val_accuracy: 0.3485\n",
            "Epoch 8/30\n",
            "2500/2500 [==============================] - 5s 2ms/step - loss: 1.7778 - accuracy: 0.2819 - val_loss: 1.6886 - val_accuracy: 0.3047\n",
            "Epoch 9/30\n",
            "2500/2500 [==============================] - 5s 2ms/step - loss: 1.7732 - accuracy: 0.2721 - val_loss: 1.7550 - val_accuracy: 0.2739\n",
            "Epoch 10/30\n",
            "2500/2500 [==============================] - 6s 2ms/step - loss: 1.8136 - accuracy: 0.2707 - val_loss: 1.8106 - val_accuracy: 0.2725\n",
            "Epoch 11/30\n",
            "2500/2500 [==============================] - 5s 2ms/step - loss: 1.7804 - accuracy: 0.2720 - val_loss: 1.7706 - val_accuracy: 0.2799\n",
            "Epoch 12/30\n",
            "2500/2500 [==============================] - 5s 2ms/step - loss: 1.7758 - accuracy: 0.2734 - val_loss: 1.8001 - val_accuracy: 0.2815\n",
            "Epoch 13/30\n",
            "2500/2500 [==============================] - 5s 2ms/step - loss: 1.8060 - accuracy: 0.2758 - val_loss: 1.9960 - val_accuracy: 0.1779\n",
            "Epoch 14/30\n",
            "2500/2500 [==============================] - 6s 2ms/step - loss: 2.0229 - accuracy: 0.1773 - val_loss: 1.9993 - val_accuracy: 0.1771\n",
            "Epoch 15/30\n",
            "2500/2500 [==============================] - 5s 2ms/step - loss: 2.0068 - accuracy: 0.1801 - val_loss: 2.0049 - val_accuracy: 0.1798\n",
            "Epoch 16/30\n",
            "2500/2500 [==============================] - 6s 2ms/step - loss: 1.9941 - accuracy: 0.1827 - val_loss: 1.9925 - val_accuracy: 0.1901\n",
            "Epoch 17/30\n",
            "2500/2500 [==============================] - 5s 2ms/step - loss: 1.9877 - accuracy: 0.1842 - val_loss: 1.9762 - val_accuracy: 0.1857\n",
            "Epoch 18/30\n",
            "2500/2500 [==============================] - 5s 2ms/step - loss: 1.9975 - accuracy: 0.1843 - val_loss: 2.0199 - val_accuracy: 0.1815\n",
            "Epoch 19/30\n",
            "2500/2500 [==============================] - 5s 2ms/step - loss: 2.0653 - accuracy: 0.1853 - val_loss: 1.9794 - val_accuracy: 0.1907\n",
            "Epoch 20/30\n",
            "2500/2500 [==============================] - 5s 2ms/step - loss: 1.9833 - accuracy: 0.1848 - val_loss: 1.9755 - val_accuracy: 0.1883\n",
            "Epoch 21/30\n",
            "2500/2500 [==============================] - 5s 2ms/step - loss: 1.9843 - accuracy: 0.1865 - val_loss: 1.9799 - val_accuracy: 0.1882\n",
            "Epoch 22/30\n",
            "2500/2500 [==============================] - 5s 2ms/step - loss: 1.9800 - accuracy: 0.1834 - val_loss: 1.9740 - val_accuracy: 0.1811\n",
            "Epoch 23/30\n",
            "2500/2500 [==============================] - 5s 2ms/step - loss: 1.9771 - accuracy: 0.1855 - val_loss: 1.9700 - val_accuracy: 0.1891\n",
            "Epoch 24/30\n",
            "2500/2500 [==============================] - 5s 2ms/step - loss: 1.9863 - accuracy: 0.1859 - val_loss: 1.9968 - val_accuracy: 0.1820\n",
            "Epoch 25/30\n",
            "2500/2500 [==============================] - 5s 2ms/step - loss: 1.9883 - accuracy: 0.1869 - val_loss: 1.9720 - val_accuracy: 0.1890\n",
            "Epoch 26/30\n",
            "2500/2500 [==============================] - 5s 2ms/step - loss: 1.9777 - accuracy: 0.1869 - val_loss: 1.9791 - val_accuracy: 0.1880\n",
            "Epoch 27/30\n",
            "2500/2500 [==============================] - 6s 2ms/step - loss: 1.9805 - accuracy: 0.1864 - val_loss: 1.9746 - val_accuracy: 0.1769\n",
            "Epoch 28/30\n",
            "2500/2500 [==============================] - 6s 2ms/step - loss: 1.9805 - accuracy: 0.1874 - val_loss: 1.9746 - val_accuracy: 0.1900\n",
            "Epoch 29/30\n",
            "2500/2500 [==============================] - 5s 2ms/step - loss: 2.1164 - accuracy: 0.1872 - val_loss: 1.9809 - val_accuracy: 0.1798\n",
            "Epoch 30/30\n",
            "2500/2500 [==============================] - 6s 2ms/step - loss: 1.9819 - accuracy: 0.1849 - val_loss: 1.9736 - val_accuracy: 0.1859\n"
          ],
          "name": "stdout"
        }
      ]
    },
    {
      "cell_type": "code",
      "metadata": {
        "id": "JKrtRbl53z_W",
        "colab_type": "code",
        "colab": {
          "base_uri": "https://localhost:8080/",
          "height": 1000
        },
        "outputId": "2b523c73-2740-4200-d7cd-297136278ca3"
      },
      "source": [
        "model_ftrl = create_model_optimizer(opt = tf.keras.optimizers.Ftrl(learning_rate=0.001))\n",
        "ftrl = model_ftrl.fit(X_train,\n",
        "           y_train,\n",
        "           epochs=30,\n",
        "           batch_size=32,\n",
        "           validation_data=(X_test, y_test))"
      ],
      "execution_count": 60,
      "outputs": [
        {
          "output_type": "stream",
          "text": [
            "Epoch 1/30\n",
            "2500/2500 [==============================] - 5s 2ms/step - loss: 3.9980 - accuracy: 0.2880 - val_loss: 1.9546 - val_accuracy: 0.3377\n",
            "Epoch 2/30\n",
            "2500/2500 [==============================] - 5s 2ms/step - loss: 1.8242 - accuracy: 0.3701 - val_loss: 1.7360 - val_accuracy: 0.4006\n",
            "Epoch 3/30\n",
            "2500/2500 [==============================] - 5s 2ms/step - loss: 1.6648 - accuracy: 0.4300 - val_loss: 1.6127 - val_accuracy: 0.4552\n",
            "Epoch 4/30\n",
            "2500/2500 [==============================] - 5s 2ms/step - loss: 1.5644 - accuracy: 0.4702 - val_loss: 1.5292 - val_accuracy: 0.4913\n",
            "Epoch 5/30\n",
            "2500/2500 [==============================] - 5s 2ms/step - loss: 1.4918 - accuracy: 0.5019 - val_loss: 1.4642 - val_accuracy: 0.5184\n",
            "Epoch 6/30\n",
            "2500/2500 [==============================] - 5s 2ms/step - loss: 1.4303 - accuracy: 0.5269 - val_loss: 1.4103 - val_accuracy: 0.5378\n",
            "Epoch 7/30\n",
            "2500/2500 [==============================] - 5s 2ms/step - loss: 1.3774 - accuracy: 0.5457 - val_loss: 1.3665 - val_accuracy: 0.5541\n",
            "Epoch 8/30\n",
            "2500/2500 [==============================] - 5s 2ms/step - loss: 1.3345 - accuracy: 0.5589 - val_loss: 1.3304 - val_accuracy: 0.5685\n",
            "Epoch 9/30\n",
            "2500/2500 [==============================] - 5s 2ms/step - loss: 1.2976 - accuracy: 0.5722 - val_loss: 1.2967 - val_accuracy: 0.5784\n",
            "Epoch 10/30\n",
            "2500/2500 [==============================] - 5s 2ms/step - loss: 1.2657 - accuracy: 0.5818 - val_loss: 1.2667 - val_accuracy: 0.5846\n",
            "Epoch 11/30\n",
            "2500/2500 [==============================] - 5s 2ms/step - loss: 1.2353 - accuracy: 0.5891 - val_loss: 1.2396 - val_accuracy: 0.5910\n",
            "Epoch 12/30\n",
            "2500/2500 [==============================] - 5s 2ms/step - loss: 1.2105 - accuracy: 0.5956 - val_loss: 1.2187 - val_accuracy: 0.5988\n",
            "Epoch 13/30\n",
            "2500/2500 [==============================] - 5s 2ms/step - loss: 1.1900 - accuracy: 0.6045 - val_loss: 1.1999 - val_accuracy: 0.6059\n",
            "Epoch 14/30\n",
            "2500/2500 [==============================] - 6s 2ms/step - loss: 1.1721 - accuracy: 0.6159 - val_loss: 1.1844 - val_accuracy: 0.6134\n",
            "Epoch 15/30\n",
            "2500/2500 [==============================] - 5s 2ms/step - loss: 1.1560 - accuracy: 0.6213 - val_loss: 1.1696 - val_accuracy: 0.6184\n",
            "Epoch 16/30\n",
            "2500/2500 [==============================] - 5s 2ms/step - loss: 1.1413 - accuracy: 0.6259 - val_loss: 1.1558 - val_accuracy: 0.6227\n",
            "Epoch 17/30\n",
            "2500/2500 [==============================] - 5s 2ms/step - loss: 1.1278 - accuracy: 0.6299 - val_loss: 1.1432 - val_accuracy: 0.6269\n",
            "Epoch 18/30\n",
            "2500/2500 [==============================] - 5s 2ms/step - loss: 1.1155 - accuracy: 0.6343 - val_loss: 1.1320 - val_accuracy: 0.6306\n",
            "Epoch 19/30\n",
            "2500/2500 [==============================] - 5s 2ms/step - loss: 1.1038 - accuracy: 0.6379 - val_loss: 1.1213 - val_accuracy: 0.6338\n",
            "Epoch 20/30\n",
            "2500/2500 [==============================] - 5s 2ms/step - loss: 1.0930 - accuracy: 0.6410 - val_loss: 1.1107 - val_accuracy: 0.6372\n",
            "Epoch 21/30\n",
            "2500/2500 [==============================] - 5s 2ms/step - loss: 1.0831 - accuracy: 0.6440 - val_loss: 1.1016 - val_accuracy: 0.6401\n",
            "Epoch 22/30\n",
            "2500/2500 [==============================] - 5s 2ms/step - loss: 1.0737 - accuracy: 0.6473 - val_loss: 1.0928 - val_accuracy: 0.6428\n",
            "Epoch 23/30\n",
            "2500/2500 [==============================] - 5s 2ms/step - loss: 1.0649 - accuracy: 0.6498 - val_loss: 1.0848 - val_accuracy: 0.6459\n",
            "Epoch 24/30\n",
            "2500/2500 [==============================] - 5s 2ms/step - loss: 1.0566 - accuracy: 0.6522 - val_loss: 1.0775 - val_accuracy: 0.6480\n",
            "Epoch 25/30\n",
            "2500/2500 [==============================] - 5s 2ms/step - loss: 1.0490 - accuracy: 0.6549 - val_loss: 1.0709 - val_accuracy: 0.6501\n",
            "Epoch 26/30\n",
            "2500/2500 [==============================] - 5s 2ms/step - loss: 1.0418 - accuracy: 0.6571 - val_loss: 1.0641 - val_accuracy: 0.6518\n",
            "Epoch 27/30\n",
            "2500/2500 [==============================] - 5s 2ms/step - loss: 1.0350 - accuracy: 0.6590 - val_loss: 1.0580 - val_accuracy: 0.6544\n",
            "Epoch 28/30\n",
            "2500/2500 [==============================] - 5s 2ms/step - loss: 1.0287 - accuracy: 0.6610 - val_loss: 1.0524 - val_accuracy: 0.6562\n",
            "Epoch 29/30\n",
            "2500/2500 [==============================] - 5s 2ms/step - loss: 1.0228 - accuracy: 0.6637 - val_loss: 1.0470 - val_accuracy: 0.6571\n",
            "Epoch 30/30\n",
            "2500/2500 [==============================] - 5s 2ms/step - loss: 1.0172 - accuracy: 0.6650 - val_loss: 1.0420 - val_accuracy: 0.6583\n"
          ],
          "name": "stdout"
        }
      ]
    },
    {
      "cell_type": "code",
      "metadata": {
        "id": "ozMWTu9w7kGW",
        "colab_type": "code",
        "colab": {
          "base_uri": "https://localhost:8080/",
          "height": 1000
        },
        "outputId": "5e532446-6151-4293-ab07-afae8723a3af"
      },
      "source": [
        "model_Adadelta = create_model_optimizer(opt = tf.keras.optimizers.Adadelta(learning_rate=0.01))\n",
        "adadelta = model_Adadelta.fit(X_train,\n",
        "           y_train,\n",
        "           epochs=30,\n",
        "           batch_size=32,\n",
        "           validation_data=(X_test, y_test))"
      ],
      "execution_count": 61,
      "outputs": [
        {
          "output_type": "stream",
          "text": [
            "Epoch 1/30\n",
            "2500/2500 [==============================] - 5s 2ms/step - loss: 34.3878 - accuracy: 0.1534 - val_loss: 7.0229 - val_accuracy: 0.2106\n",
            "Epoch 2/30\n",
            "2500/2500 [==============================] - 5s 2ms/step - loss: 4.1023 - accuracy: 0.2061 - val_loss: 2.9447 - val_accuracy: 0.1997\n",
            "Epoch 3/30\n",
            "2500/2500 [==============================] - 5s 2ms/step - loss: 2.6436 - accuracy: 0.2117 - val_loss: 2.4491 - val_accuracy: 0.2377\n",
            "Epoch 4/30\n",
            "2500/2500 [==============================] - 5s 2ms/step - loss: 2.3430 - accuracy: 0.2443 - val_loss: 2.2632 - val_accuracy: 0.2591\n",
            "Epoch 5/30\n",
            "2500/2500 [==============================] - 5s 2ms/step - loss: 2.2085 - accuracy: 0.2652 - val_loss: 2.1621 - val_accuracy: 0.2758\n",
            "Epoch 6/30\n",
            "2500/2500 [==============================] - 5s 2ms/step - loss: 2.1228 - accuracy: 0.2828 - val_loss: 2.0910 - val_accuracy: 0.2904\n",
            "Epoch 7/30\n",
            "2500/2500 [==============================] - 5s 2ms/step - loss: 2.0580 - accuracy: 0.2986 - val_loss: 2.0346 - val_accuracy: 0.3065\n",
            "Epoch 8/30\n",
            "2500/2500 [==============================] - 5s 2ms/step - loss: 2.0041 - accuracy: 0.3153 - val_loss: 1.9870 - val_accuracy: 0.3210\n",
            "Epoch 9/30\n",
            "2500/2500 [==============================] - 5s 2ms/step - loss: 1.9562 - accuracy: 0.3300 - val_loss: 1.9444 - val_accuracy: 0.3349\n",
            "Epoch 10/30\n",
            "2500/2500 [==============================] - 5s 2ms/step - loss: 1.9147 - accuracy: 0.3442 - val_loss: 1.9050 - val_accuracy: 0.3480\n",
            "Epoch 11/30\n",
            "2500/2500 [==============================] - 5s 2ms/step - loss: 1.8771 - accuracy: 0.3558 - val_loss: 1.8704 - val_accuracy: 0.3601\n",
            "Epoch 12/30\n",
            "2500/2500 [==============================] - 5s 2ms/step - loss: 1.8430 - accuracy: 0.3675 - val_loss: 1.8384 - val_accuracy: 0.3726\n",
            "Epoch 13/30\n",
            "2500/2500 [==============================] - 5s 2ms/step - loss: 1.8105 - accuracy: 0.3796 - val_loss: 1.8084 - val_accuracy: 0.3830\n",
            "Epoch 14/30\n",
            "2500/2500 [==============================] - 5s 2ms/step - loss: 1.7801 - accuracy: 0.3905 - val_loss: 1.7781 - val_accuracy: 0.3940\n",
            "Epoch 15/30\n",
            "2500/2500 [==============================] - 5s 2ms/step - loss: 1.7496 - accuracy: 0.4002 - val_loss: 1.7479 - val_accuracy: 0.4044\n",
            "Epoch 16/30\n",
            "2500/2500 [==============================] - 5s 2ms/step - loss: 1.7193 - accuracy: 0.4110 - val_loss: 1.7175 - val_accuracy: 0.4169\n",
            "Epoch 17/30\n",
            "2500/2500 [==============================] - 5s 2ms/step - loss: 1.6906 - accuracy: 0.4214 - val_loss: 1.6916 - val_accuracy: 0.4263\n",
            "Epoch 18/30\n",
            "2500/2500 [==============================] - 5s 2ms/step - loss: 1.6660 - accuracy: 0.4310 - val_loss: 1.6704 - val_accuracy: 0.4333\n",
            "Epoch 19/30\n",
            "2500/2500 [==============================] - 5s 2ms/step - loss: 1.6443 - accuracy: 0.4391 - val_loss: 1.6512 - val_accuracy: 0.4388\n",
            "Epoch 20/30\n",
            "2500/2500 [==============================] - 5s 2ms/step - loss: 1.6243 - accuracy: 0.4462 - val_loss: 1.6348 - val_accuracy: 0.4466\n",
            "Epoch 21/30\n",
            "2500/2500 [==============================] - 5s 2ms/step - loss: 1.6064 - accuracy: 0.4538 - val_loss: 1.6185 - val_accuracy: 0.4550\n",
            "Epoch 22/30\n",
            "2500/2500 [==============================] - 5s 2ms/step - loss: 1.5892 - accuracy: 0.4595 - val_loss: 1.6041 - val_accuracy: 0.4611\n",
            "Epoch 23/30\n",
            "2500/2500 [==============================] - 6s 2ms/step - loss: 1.5733 - accuracy: 0.4651 - val_loss: 1.5906 - val_accuracy: 0.4668\n",
            "Epoch 24/30\n",
            "2500/2500 [==============================] - 6s 2ms/step - loss: 1.5581 - accuracy: 0.4707 - val_loss: 1.5769 - val_accuracy: 0.4746\n",
            "Epoch 25/30\n",
            "2500/2500 [==============================] - 5s 2ms/step - loss: 1.5444 - accuracy: 0.4777 - val_loss: 1.5634 - val_accuracy: 0.4796\n",
            "Epoch 26/30\n",
            "2500/2500 [==============================] - 5s 2ms/step - loss: 1.5301 - accuracy: 0.4822 - val_loss: 1.5513 - val_accuracy: 0.4852\n",
            "Epoch 27/30\n",
            "2500/2500 [==============================] - 5s 2ms/step - loss: 1.5172 - accuracy: 0.4879 - val_loss: 1.5391 - val_accuracy: 0.4906\n",
            "Epoch 28/30\n",
            "2500/2500 [==============================] - 5s 2ms/step - loss: 1.5038 - accuracy: 0.4929 - val_loss: 1.5271 - val_accuracy: 0.4963\n",
            "Epoch 29/30\n",
            "2500/2500 [==============================] - 5s 2ms/step - loss: 1.4912 - accuracy: 0.4987 - val_loss: 1.5159 - val_accuracy: 0.5015\n",
            "Epoch 30/30\n",
            "2500/2500 [==============================] - 5s 2ms/step - loss: 1.4789 - accuracy: 0.5045 - val_loss: 1.5053 - val_accuracy: 0.5039\n"
          ],
          "name": "stdout"
        }
      ]
    },
    {
      "cell_type": "code",
      "metadata": {
        "id": "AzxNrd9c46vG",
        "colab_type": "code",
        "colab": {
          "base_uri": "https://localhost:8080/",
          "height": 1000
        },
        "outputId": "3501f66a-80f6-44c2-eddd-705690b11b09"
      },
      "source": [
        "model_RMSprop = create_model_optimizer(opt = tf.keras.optimizers.RMSprop(learning_rate=0.001))\n",
        "rmsprop = model_RMSprop.fit(X_train,\n",
        "           y_train,\n",
        "           epochs=30,\n",
        "           batch_size=32,\n",
        "           validation_data=(X_test, y_test))"
      ],
      "execution_count": 62,
      "outputs": [
        {
          "output_type": "stream",
          "text": [
            "Epoch 1/30\n",
            "2500/2500 [==============================] - 6s 2ms/step - loss: 1.8343 - accuracy: 0.5268 - val_loss: 1.2103 - val_accuracy: 0.6392\n",
            "Epoch 2/30\n",
            "2500/2500 [==============================] - 6s 2ms/step - loss: 1.1262 - accuracy: 0.6528 - val_loss: 1.0780 - val_accuracy: 0.6995\n",
            "Epoch 3/30\n",
            "2500/2500 [==============================] - 6s 2ms/step - loss: 0.9754 - accuracy: 0.7069 - val_loss: 0.9878 - val_accuracy: 0.7143\n",
            "Epoch 4/30\n",
            "2500/2500 [==============================] - 6s 2ms/step - loss: 0.9254 - accuracy: 0.7233 - val_loss: 0.9672 - val_accuracy: 0.7288\n",
            "Epoch 5/30\n",
            "2500/2500 [==============================] - 6s 2ms/step - loss: 0.8870 - accuracy: 0.7319 - val_loss: 0.8987 - val_accuracy: 0.7321\n",
            "Epoch 6/30\n",
            "2500/2500 [==============================] - 6s 2ms/step - loss: 0.8784 - accuracy: 0.7388 - val_loss: 0.8968 - val_accuracy: 0.7301\n",
            "Epoch 7/30\n",
            "2500/2500 [==============================] - 6s 2ms/step - loss: 0.8582 - accuracy: 0.7519 - val_loss: 0.9154 - val_accuracy: 0.7642\n",
            "Epoch 8/30\n",
            "2500/2500 [==============================] - 6s 2ms/step - loss: 0.8340 - accuracy: 0.7709 - val_loss: 0.9081 - val_accuracy: 0.7672\n",
            "Epoch 9/30\n",
            "2500/2500 [==============================] - 6s 2ms/step - loss: 0.8261 - accuracy: 0.7784 - val_loss: 0.9354 - val_accuracy: 0.7656\n",
            "Epoch 10/30\n",
            "2500/2500 [==============================] - 6s 2ms/step - loss: 0.8234 - accuracy: 0.7862 - val_loss: 0.8838 - val_accuracy: 0.7781\n",
            "Epoch 11/30\n",
            "2500/2500 [==============================] - 6s 2ms/step - loss: 0.8234 - accuracy: 0.7872 - val_loss: 0.8679 - val_accuracy: 0.7706\n",
            "Epoch 12/30\n",
            "2500/2500 [==============================] - 6s 2ms/step - loss: 0.8197 - accuracy: 0.7891 - val_loss: 0.9418 - val_accuracy: 0.7818\n",
            "Epoch 13/30\n",
            "2500/2500 [==============================] - 6s 2ms/step - loss: 0.8157 - accuracy: 0.7897 - val_loss: 0.9103 - val_accuracy: 0.7742\n",
            "Epoch 14/30\n",
            "2500/2500 [==============================] - 5s 2ms/step - loss: 0.8209 - accuracy: 0.7893 - val_loss: 0.9369 - val_accuracy: 0.7830\n",
            "Epoch 15/30\n",
            "2500/2500 [==============================] - 6s 2ms/step - loss: 0.8097 - accuracy: 0.7914 - val_loss: 0.9797 - val_accuracy: 0.7882\n",
            "Epoch 16/30\n",
            "2500/2500 [==============================] - 6s 2ms/step - loss: 0.8114 - accuracy: 0.7921 - val_loss: 0.9117 - val_accuracy: 0.7765\n",
            "Epoch 17/30\n",
            "2500/2500 [==============================] - 6s 2ms/step - loss: 0.7931 - accuracy: 0.7947 - val_loss: 0.8864 - val_accuracy: 0.7868\n",
            "Epoch 18/30\n",
            "2500/2500 [==============================] - 6s 2ms/step - loss: 0.7933 - accuracy: 0.7962 - val_loss: 1.0289 - val_accuracy: 0.7933\n",
            "Epoch 19/30\n",
            "2500/2500 [==============================] - 5s 2ms/step - loss: 0.7774 - accuracy: 0.7974 - val_loss: 0.8890 - val_accuracy: 0.7861\n",
            "Epoch 20/30\n",
            "2500/2500 [==============================] - 6s 2ms/step - loss: 0.7588 - accuracy: 0.7987 - val_loss: 1.1520 - val_accuracy: 0.7674\n",
            "Epoch 21/30\n",
            "2500/2500 [==============================] - 6s 2ms/step - loss: 0.7780 - accuracy: 0.7971 - val_loss: 0.8749 - val_accuracy: 0.7739\n",
            "Epoch 22/30\n",
            "2500/2500 [==============================] - 6s 2ms/step - loss: 0.7823 - accuracy: 0.7974 - val_loss: 0.8493 - val_accuracy: 0.7825\n",
            "Epoch 23/30\n",
            "2500/2500 [==============================] - 6s 2ms/step - loss: 0.7867 - accuracy: 0.7940 - val_loss: 0.9221 - val_accuracy: 0.7814\n",
            "Epoch 24/30\n",
            "2500/2500 [==============================] - 6s 2ms/step - loss: 0.8070 - accuracy: 0.7925 - val_loss: 0.8943 - val_accuracy: 0.7911\n",
            "Epoch 25/30\n",
            "2500/2500 [==============================] - 6s 2ms/step - loss: 0.8230 - accuracy: 0.7935 - val_loss: 0.9242 - val_accuracy: 0.7819\n",
            "Epoch 26/30\n",
            "2500/2500 [==============================] - 6s 2ms/step - loss: 0.8347 - accuracy: 0.7919 - val_loss: 1.0057 - val_accuracy: 0.7797\n",
            "Epoch 27/30\n",
            "2500/2500 [==============================] - 6s 2ms/step - loss: 0.8449 - accuracy: 0.7906 - val_loss: 1.0188 - val_accuracy: 0.7817\n",
            "Epoch 28/30\n",
            "2500/2500 [==============================] - 6s 2ms/step - loss: 0.8333 - accuracy: 0.7925 - val_loss: 1.1100 - val_accuracy: 0.7760\n",
            "Epoch 29/30\n",
            "2500/2500 [==============================] - 6s 2ms/step - loss: 0.8374 - accuracy: 0.7902 - val_loss: 0.9981 - val_accuracy: 0.7775\n",
            "Epoch 30/30\n",
            "2500/2500 [==============================] - 6s 2ms/step - loss: 0.8467 - accuracy: 0.7904 - val_loss: 1.1207 - val_accuracy: 0.7754\n"
          ],
          "name": "stdout"
        }
      ]
    },
    {
      "cell_type": "code",
      "metadata": {
        "id": "HiYNwtsQBrG4",
        "colab_type": "code",
        "colab": {
          "base_uri": "https://localhost:8080/",
          "height": 1000
        },
        "outputId": "f1530649-0f4e-4308-e014-dd85cc8d830f"
      },
      "source": [
        "model_RMSprop2 = create_model_optimizer(opt = tf.keras.optimizers.RMSprop(learning_rate=0.01))\n",
        "rmsprop2 = model_RMSprop2.fit(X_train,\n",
        "           y_train,\n",
        "           epochs=30,\n",
        "           batch_size=32,\n",
        "           validation_data=(X_test, y_test))"
      ],
      "execution_count": 63,
      "outputs": [
        {
          "output_type": "stream",
          "text": [
            "Epoch 1/30\n",
            "2500/2500 [==============================] - 7s 3ms/step - loss: 3.2986 - accuracy: 0.1592 - val_loss: 2.0342 - val_accuracy: 0.1704\n",
            "Epoch 2/30\n",
            "2500/2500 [==============================] - 6s 2ms/step - loss: 2.0087 - accuracy: 0.1917 - val_loss: 1.9801 - val_accuracy: 0.1933\n",
            "Epoch 3/30\n",
            "2500/2500 [==============================] - 6s 2ms/step - loss: 2.0352 - accuracy: 0.1920 - val_loss: 2.0043 - val_accuracy: 0.1784\n",
            "Epoch 4/30\n",
            "2500/2500 [==============================] - 6s 2ms/step - loss: 2.0091 - accuracy: 0.1852 - val_loss: 2.0749 - val_accuracy: 0.1812\n",
            "Epoch 5/30\n",
            "2500/2500 [==============================] - 5s 2ms/step - loss: 2.0158 - accuracy: 0.1855 - val_loss: 1.9717 - val_accuracy: 0.1924\n",
            "Epoch 6/30\n",
            "2500/2500 [==============================] - 6s 2ms/step - loss: 1.9946 - accuracy: 0.1851 - val_loss: 2.0001 - val_accuracy: 0.1907\n",
            "Epoch 7/30\n",
            "2500/2500 [==============================] - 6s 2ms/step - loss: 2.0160 - accuracy: 0.1830 - val_loss: 1.9967 - val_accuracy: 0.1822\n",
            "Epoch 8/30\n",
            "2500/2500 [==============================] - 6s 2ms/step - loss: 1.9910 - accuracy: 0.1852 - val_loss: 1.9820 - val_accuracy: 0.1855\n",
            "Epoch 9/30\n",
            "2500/2500 [==============================] - 6s 2ms/step - loss: 1.9805 - accuracy: 0.1858 - val_loss: 1.9711 - val_accuracy: 0.1900\n",
            "Epoch 10/30\n",
            "2500/2500 [==============================] - 6s 2ms/step - loss: 1.9903 - accuracy: 0.1895 - val_loss: 2.0316 - val_accuracy: 0.1942\n",
            "Epoch 11/30\n",
            "2500/2500 [==============================] - 6s 2ms/step - loss: 1.9967 - accuracy: 0.1905 - val_loss: 1.9891 - val_accuracy: 0.1875\n",
            "Epoch 12/30\n",
            "2500/2500 [==============================] - 6s 2ms/step - loss: 1.9945 - accuracy: 0.1911 - val_loss: 1.9909 - val_accuracy: 0.1943\n",
            "Epoch 13/30\n",
            "2500/2500 [==============================] - 6s 2ms/step - loss: 1.9894 - accuracy: 0.1899 - val_loss: 2.0099 - val_accuracy: 0.1936\n",
            "Epoch 14/30\n",
            "2500/2500 [==============================] - 6s 2ms/step - loss: 1.9788 - accuracy: 0.1888 - val_loss: 1.9682 - val_accuracy: 0.1919\n",
            "Epoch 15/30\n",
            "2500/2500 [==============================] - 6s 2ms/step - loss: 1.9752 - accuracy: 0.1880 - val_loss: 1.9729 - val_accuracy: 0.1878\n",
            "Epoch 16/30\n",
            "2500/2500 [==============================] - 6s 2ms/step - loss: 1.9786 - accuracy: 0.1895 - val_loss: 1.9606 - val_accuracy: 0.1906\n",
            "Epoch 17/30\n",
            "2500/2500 [==============================] - 6s 2ms/step - loss: 2.0407 - accuracy: 0.1841 - val_loss: 2.0573 - val_accuracy: 0.1867\n",
            "Epoch 18/30\n",
            "2500/2500 [==============================] - 5s 2ms/step - loss: 2.0023 - accuracy: 0.1903 - val_loss: 1.9676 - val_accuracy: 0.1913\n",
            "Epoch 19/30\n",
            "2500/2500 [==============================] - 5s 2ms/step - loss: 1.9752 - accuracy: 0.1908 - val_loss: 1.9863 - val_accuracy: 0.1911\n",
            "Epoch 20/30\n",
            "2500/2500 [==============================] - 6s 2ms/step - loss: 1.9634 - accuracy: 0.1927 - val_loss: 1.9423 - val_accuracy: 0.1931\n",
            "Epoch 21/30\n",
            "2500/2500 [==============================] - 6s 2ms/step - loss: 1.9555 - accuracy: 0.1918 - val_loss: 1.9627 - val_accuracy: 0.1815\n",
            "Epoch 22/30\n",
            "2500/2500 [==============================] - 6s 2ms/step - loss: 1.9563 - accuracy: 0.1898 - val_loss: 1.9580 - val_accuracy: 0.1910\n",
            "Epoch 23/30\n",
            "2500/2500 [==============================] - 6s 2ms/step - loss: 1.9563 - accuracy: 0.1930 - val_loss: 1.9564 - val_accuracy: 0.1933\n",
            "Epoch 24/30\n",
            "2500/2500 [==============================] - 6s 2ms/step - loss: 1.9538 - accuracy: 0.1940 - val_loss: 1.9461 - val_accuracy: 0.1960\n",
            "Epoch 25/30\n",
            "2500/2500 [==============================] - 6s 2ms/step - loss: 1.9491 - accuracy: 0.1909 - val_loss: 1.9462 - val_accuracy: 0.1951\n",
            "Epoch 26/30\n",
            "2500/2500 [==============================] - 6s 2ms/step - loss: 1.9425 - accuracy: 0.1925 - val_loss: 1.9424 - val_accuracy: 0.1913\n",
            "Epoch 27/30\n",
            "2500/2500 [==============================] - 6s 3ms/step - loss: 1.9412 - accuracy: 0.1875 - val_loss: 1.9348 - val_accuracy: 0.1892\n",
            "Epoch 28/30\n",
            "2500/2500 [==============================] - 6s 3ms/step - loss: 1.9386 - accuracy: 0.1901 - val_loss: 1.9346 - val_accuracy: 0.1952\n",
            "Epoch 29/30\n",
            "2500/2500 [==============================] - 6s 2ms/step - loss: 1.9390 - accuracy: 0.1903 - val_loss: 1.9361 - val_accuracy: 0.1930\n",
            "Epoch 30/30\n",
            "2500/2500 [==============================] - 6s 2ms/step - loss: 1.9392 - accuracy: 0.1905 - val_loss: 1.9345 - val_accuracy: 0.1931\n"
          ],
          "name": "stdout"
        }
      ]
    },
    {
      "cell_type": "code",
      "metadata": {
        "id": "3RxwY937aMKs",
        "colab_type": "code",
        "colab": {}
      },
      "source": [
        "df_adam = pd.DataFrame.from_records(adam.history)\n",
        "df_adam['epoch'] = df_adam.index.values\n",
        "df_adam['model'] = 'adam'"
      ],
      "execution_count": 87,
      "outputs": []
    },
    {
      "cell_type": "code",
      "metadata": {
        "id": "3zs2hEUbb6-Z",
        "colab_type": "code",
        "colab": {}
      },
      "source": [
        "df_adam2 = pd.DataFrame.from_records(adam2.history)\n",
        "df_adam2['epoch'] = df_adam2.index.values\n",
        "df_adam2['model'] = 'adam2'"
      ],
      "execution_count": 86,
      "outputs": []
    },
    {
      "cell_type": "code",
      "metadata": {
        "id": "PjKwDxGGeqoB",
        "colab_type": "code",
        "colab": {}
      },
      "source": [
        "df_ftrl = pd.DataFrame.from_records(ftrl.history)\n",
        "df_ftrl['epoch'] = df_ftrl.index.values\n",
        "df_ftrl['model'] = 'ftrl'"
      ],
      "execution_count": 91,
      "outputs": []
    },
    {
      "cell_type": "code",
      "metadata": {
        "id": "crredEPMe0QU",
        "colab_type": "code",
        "colab": {}
      },
      "source": [
        "df_adamax = pd.DataFrame.from_records(adamax.history)\n",
        "df_adamax['epoch'] = df_adamax.index.values\n",
        "df_adamax['model'] = 'adamax'"
      ],
      "execution_count": 92,
      "outputs": []
    },
    {
      "cell_type": "code",
      "metadata": {
        "id": "IyRM0HtsfE6k",
        "colab_type": "code",
        "colab": {}
      },
      "source": [
        "df_adamax2 = pd.DataFrame.from_records(adamax2.history)\n",
        "df_adamax2['epoch'] = df_adamax2.index.values\n",
        "df_adamax2['model'] = 'adamax2'"
      ],
      "execution_count": 93,
      "outputs": []
    },
    {
      "cell_type": "code",
      "metadata": {
        "id": "1WVDOJHifJmb",
        "colab_type": "code",
        "colab": {}
      },
      "source": [
        "df_adamax3 = pd.DataFrame.from_records(adamax3.history)\n",
        "df_adamax3['epoch'] = df_adamax3.index.values\n",
        "df_adamax3['model'] = 'adamax3'"
      ],
      "execution_count": 94,
      "outputs": []
    },
    {
      "cell_type": "code",
      "metadata": {
        "id": "2jjZB0HneUJA",
        "colab_type": "code",
        "colab": {}
      },
      "source": [
        "df_adadelta = pd.DataFrame.from_records(adadelta.history)\n",
        "df_adadelta['epoch'] = df_adadelta.index.values\n",
        "df_adadelta['model'] = 'adadelta'"
      ],
      "execution_count": 90,
      "outputs": []
    },
    {
      "cell_type": "code",
      "metadata": {
        "id": "O_atbFUBdTRh",
        "colab_type": "code",
        "colab": {}
      },
      "source": [
        "df_rmsprop = pd.DataFrame.from_records(rmsprop.history)\n",
        "df_rmsprop['epoch'] = df_rmsprop.index.values\n",
        "df_rmsprop['model'] = 'rmsprop'"
      ],
      "execution_count": 89,
      "outputs": []
    },
    {
      "cell_type": "code",
      "metadata": {
        "id": "aJP6UmcfdEdp",
        "colab_type": "code",
        "colab": {}
      },
      "source": [
        "df_rmsprop2 = pd.DataFrame.from_records(rmsprop2.history)\n",
        "df_rmsprop2['epoch'] = df_rmsprop2.index.values\n",
        "df_rmsprop2['model'] = 'rmsprop2'"
      ],
      "execution_count": 88,
      "outputs": []
    },
    {
      "cell_type": "code",
      "metadata": {
        "id": "o0YU3wg9cGwp",
        "colab_type": "code",
        "colab": {}
      },
      "source": [
        "df_total = pd.concat([df_adam, df_adam2, df_ftrl, df_adamax, df_adamax2, df_adamax3, df_adadelta, df_rmsprop, df_rmsprop2])"
      ],
      "execution_count": 95,
      "outputs": []
    },
    {
      "cell_type": "code",
      "metadata": {
        "id": "VzLK1CT4Iszo",
        "colab_type": "code",
        "colab": {
          "base_uri": "https://localhost:8080/",
          "height": 279
        },
        "outputId": "96313d2c-2c29-43b2-8512-f97561cdecc9"
      },
      "source": [
        "sns.lineplot(x='epoch', y='val_accuracy', hue='model', data=df_total);"
      ],
      "execution_count": 96,
      "outputs": [
        {
          "output_type": "display_data",
          "data": {
            "image/png": "[encoded data removed]",
            "text/plain": [
              "<Figure size 432x288 with 1 Axes>"
            ]
          },
          "metadata": {
            "tags": [],
            "needs_background": "light"
          }
        }
      ]
    },
    {
      "cell_type": "markdown",
      "metadata": {
        "id": "6rryLxsN_koW",
        "colab_type": "text"
      },
      "source": [
        "1. The 'adam' optimizer with learning rate of 0.0001 has the best performance. \n",
        "2. The accuracy rate of 'adamax' optimizer with different learning rates has big difference. The model with learning rate of 0.01 has accuracy rate of more than 70%, however, models with learning rate of 0.1 and 0.001 has really bad accuracy rate. So accuracy rate of this optimizer can be influenced by learning rate obviously. \n",
        "3. The accuracy rate of 'rmsprop' optimizer with different learning rates has big difference. The model with 0.001 has accuracy rate of more than 70%, however, models with learning rate of 0.1 has really bad accuracy rate."
      ]
    },
    {
      "cell_type": "markdown",
      "metadata": {
        "id": "ydAqeY9S8uHA",
        "colab_type": "text"
      },
      "source": [
        "### Additional Written Tasks\n",
        "\n",
        "1. Describe the process of backpropagation in your own words: \n",
        "```\n",
        "Your answer goes here.\n",
        "```\n",
        "\n"
      ]
    },
    {
      "cell_type": "markdown",
      "metadata": {
        "id": "x8zSBnHECcJ7",
        "colab_type": "text"
      },
      "source": [
        "Backpropagation is a algorithm allowing us to adjust weights of all layers from right to left. \n",
        "\n",
        "For a neural network model, the first step is to select weights for inputs randomly. \n",
        "Secondly, the output for every neuron from the input layer, to the hidden layers, and the output layer are calculated.\n",
        "Thirdly, to calculate the error in the outputs using formular like this 'error = 1/2(actual ouput - desired output)^2'.\n",
        "Fourthly, the ultimate goal is to minimize the error function in the third step, so we travel back from the output layer to the hidden layer to adjust the weights to make the error decreased. Keep repeating the process until the desired output is achieved. This backward approach is called backpropagation. "
      ]
    },
    {
      "cell_type": "markdown",
      "metadata": {
        "colab_type": "text",
        "id": "FwlRJSfBlCvy"
      },
      "source": [
        "## Stretch Goals: \n",
        "\n",
        "- Implement GridSearch on anyone of the experiments\n",
        "- On the learning rate experiments, implement [EarlyStopping](https://www.tensorflow.org/api_docs/python/tf/keras/callbacks/EarlyStopping)\n",
        "- Review material on the math behind gradient descent: \n",
        "\n",
        "  - Gradient Descent\n",
        "    - Gradient Descent, Step-by-Step  by StatQuest w/ Josh Starmer. This will help you understand the gradient descent based optimization that happens underneath the hood of neural networks. It uses a non-neural network example, which I believe is a gentler introduction. You will hear me refer to this technique as \"vanilla\" gradient descent. \n",
        "    - Stochastic Gradient Descent, Clearly Explained!!! by StatQuest w/ Josh Starmer. This builds on the techniques in the previous video.  This technique is the one that is actually implemented inside modern 'nets. \n",
        "These are great resources to help you understand tomorrow's material at a deeper level. I highly recommend watching these ahead of tomorrow.\n",
        "\n",
        "  - Background Math\n",
        "    - Dot products and duality by 3Blue1Brown. Explains the core linear algebra operation happening in today's perceptron.\n",
        "The paradox of the derivative by 3Blue1Brown. Does a great job explaining a derivative. \n",
        "    - Visualizing the chain rule and product rule by 3Blue1Brown. Explains the black magic that happens within Stochastic Gradient Descent. \n",
        "These math resources are very much optional. They can be very heady, but I encourage you to explore. Your understanding of neural networks will greatly increase if you understand this math background.\n",
        "\n",
        "\n"
      ]
    }
  ]
}